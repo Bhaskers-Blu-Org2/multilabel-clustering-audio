{
 "cells": [
  {
   "cell_type": "code",
   "execution_count": 1,
   "metadata": {},
   "outputs": [],
   "source": [
    "import jams\n",
    "import numpy as np\n",
    "import scipy\n",
    "import h5py\n",
    "import sklearn\n",
    "#import librosa\n",
    "import os\n",
    "import glob\n",
    "#import matplotlib.pyplot as plt\n",
    "#import sklearn.neural_network\n",
    "#import sklearn.ensemble\n",
    "import pickle\n",
    "import random\n",
    "\n",
    "import sklearn.linear_model"
   ]
  },
  {
   "cell_type": "markdown",
   "metadata": {},
   "source": [
    "# Compute statistics group 1"
   ]
  },
  {
   "cell_type": "markdown",
   "metadata": {},
   "source": [
    "## TRAIN"
   ]
  },
  {
   "cell_type": "markdown",
   "metadata": {},
   "source": [
    "### Positive"
   ]
  },
  {
   "cell_type": "code",
   "execution_count": 2,
   "metadata": {},
   "outputs": [],
   "source": [
    "with open(os.path.join(\"/Volumes/Ana Elisa/Ana Elisa's MacBook Pro/Documents/NYU_PHD/UrbanSound8/soundscapes/train_\" + str(1) + \"/\"+'pos_train_sel_features.txt'),'rb') as f:\n",
    "        train_pos_1 = pickle.load(f)\n",
    "        \n",
    "        \n",
    "        "
   ]
  },
  {
   "cell_type": "code",
   "execution_count": 4,
   "metadata": {},
   "outputs": [
    {
     "data": {
      "text/plain": [
       "900"
      ]
     },
     "execution_count": 4,
     "metadata": {},
     "output_type": "execute_result"
    }
   ],
   "source": [
    "len(train_pos_1)"
   ]
  },
  {
   "cell_type": "code",
   "execution_count": 10,
   "metadata": {},
   "outputs": [
    {
     "data": {
      "text/plain": [
       "array([[154,  13, 165, ...,   0,   0, 255],\n",
       "       [155,  14, 164, ...,   0,   0, 255],\n",
       "       [153,   7, 163, ...,   0,   1, 255],\n",
       "       ...,\n",
       "       [153,  19, 159, ...,   4,  24, 255],\n",
       "       [154,  22, 129, ...,   0, 190, 255],\n",
       "       [153,  22, 150, ...,   0,  88, 255]], dtype=uint8)"
      ]
     },
     "execution_count": 10,
     "metadata": {},
     "output_type": "execute_result"
    }
   ],
   "source": [
    "train_pos_1[1][0]"
   ]
  },
  {
   "cell_type": "code",
   "execution_count": 13,
   "metadata": {},
   "outputs": [],
   "source": [
    "train_means_pos_1 = np.zeros((len(train_pos_1),train_pos_1[0][0].shape[1]))\n",
    "train_std_pos_1 = np.zeros((len(train_pos_1),train_pos_1[0][0].shape[1]))\n",
    "train_median_pos_1 = np.zeros((len(train_pos_1),train_pos_1[0][0].shape[1]))\n",
    "train_kurtosis_pos_1 = np.zeros((len(train_pos_1),train_pos_1[0][0].shape[1]))\n",
    "train_min_pos_1 = np.zeros((len(train_pos_1),train_pos_1[0][0].shape[1]))\n",
    "train_max_pos_1 = np.zeros((len(train_pos_1),train_pos_1[0][0].shape[1]))\n",
    "train_skew_pos_1 = np.zeros((len(train_pos_1),train_pos_1[0][0].shape[1]))\n",
    "\n",
    "for i in range(len(train_pos_1)):\n",
    "    train_means_pos_1[i] = np.mean(train_pos_1[i][0], 0)\n",
    "    train_std_pos_1[i] = np.std(train_pos_1[i][0], 0)\n",
    "    train_median_pos_1[i] = np.median(train_pos_1[i][0], 0)\n",
    "    train_kurtosis_pos_1[i] = scipy.stats.kurtosis(train_pos_1[i][0], 0)\n",
    "    train_skew_pos_1[i] = scipy.stats.skew(train_pos_1[i][0], 0)\n",
    "    train_min_pos_1[i] = np.amin(train_pos_1[i][0], 0)\n",
    "    train_max_pos_1[i] = np.amax(train_pos_1[i][0], 0)"
   ]
  },
  {
   "cell_type": "code",
   "execution_count": 19,
   "metadata": {},
   "outputs": [
    {
     "name": "stdout",
     "output_type": "stream",
     "text": [
      "(900, 128)\n",
      "(128,)\n",
      "(128,)\n",
      "(128,)\n",
      "(128,)\n",
      "(128,)\n",
      "(128,)\n"
     ]
    }
   ],
   "source": [
    "print (train_means_pos_1.shape)\n",
    "print (train_std_pos_1[1].shape)\n",
    "print (train_median_pos_1[1].shape)\n",
    "print (train_min_pos_1[1].shape)\n",
    "print (train_max_pos_1[1].shape)\n",
    "print (train_kurtosis_pos_1[1].shape)\n",
    "print (train_skew_pos_1[1].shape)"
   ]
  },
  {
   "cell_type": "code",
   "execution_count": 20,
   "metadata": {},
   "outputs": [],
   "source": [
    "train_features_pos_1 = np.concatenate((train_means_pos_1,train_std_pos_1, train_median_pos_1, train_min_pos_1, train_max_pos_1, train_kurtosis_pos_1, train_skew_pos_1),axis=1)"
   ]
  },
  {
   "cell_type": "code",
   "execution_count": 21,
   "metadata": {},
   "outputs": [
    {
     "data": {
      "text/plain": [
       "(900, 896)"
      ]
     },
     "execution_count": 21,
     "metadata": {},
     "output_type": "execute_result"
    }
   ],
   "source": [
    "train_features_pos_1.shape"
   ]
  },
  {
   "cell_type": "code",
   "execution_count": 311,
   "metadata": {},
   "outputs": [],
   "source": [
    "features_i = []\n",
    "\n",
    "for i in range(train_features_pos_1.shape[0]):\n",
    "    features = []\n",
    "    features.append(train_features_pos_1[i])\n",
    "    features.append(train_pos_1[i][1])\n",
    "    features.append(train_pos_1[i][2])\n",
    "    \n",
    "    features_i.append(features)"
   ]
  },
  {
   "cell_type": "code",
   "execution_count": 318,
   "metadata": {},
   "outputs": [
    {
     "data": {
      "text/plain": [
       "(896,)"
      ]
     },
     "execution_count": 318,
     "metadata": {},
     "output_type": "execute_result"
    }
   ],
   "source": [
    "features_i[899][0].shape"
   ]
  },
  {
   "cell_type": "code",
   "execution_count": 319,
   "metadata": {},
   "outputs": [],
   "source": [
    "with open(os.path.join(\"/Volumes/Ana Elisa/Ana Elisa's MacBook Pro/Documents/NYU_PHD/UrbanSound8/soundscapes/train_1/\"+'pos_train_stats_features.txt'),'wb') as f:\n",
    "    pickle.dump(features_i, f)\n",
    "    "
   ]
  },
  {
   "cell_type": "code",
   "execution_count": 320,
   "metadata": {},
   "outputs": [],
   "source": [
    "with open(os.path.join(\"/Volumes/Ana Elisa/Ana Elisa's MacBook Pro/Documents/NYU_PHD/UrbanSound8/soundscapes/train_\" + str(1) + \"/\"+'pos_train_stats_features.txt'),'rb') as f:\n",
    "        features_pos_train = pickle.load(f)\n",
    "        "
   ]
  },
  {
   "cell_type": "code",
   "execution_count": 322,
   "metadata": {},
   "outputs": [
    {
     "data": {
      "text/plain": [
       "900"
      ]
     },
     "execution_count": 322,
     "metadata": {},
     "output_type": "execute_result"
    }
   ],
   "source": [
    "len(features_pos_train)"
   ]
  },
  {
   "cell_type": "markdown",
   "metadata": {},
   "source": [
    "### Negative"
   ]
  },
  {
   "cell_type": "code",
   "execution_count": 22,
   "metadata": {},
   "outputs": [],
   "source": [
    "with open(os.path.join(\"/Volumes/Ana Elisa/Ana Elisa's MacBook Pro/Documents/NYU_PHD/UrbanSound8/soundscapes/train_\" + str(1) + \"/\"+'neg_train_sel_features.txt'),'rb') as f:\n",
    "        train_neg_1 = pickle.load(f)\n",
    "        \n",
    "        \n",
    "        "
   ]
  },
  {
   "cell_type": "code",
   "execution_count": 23,
   "metadata": {},
   "outputs": [
    {
     "data": {
      "text/plain": [
       "900"
      ]
     },
     "execution_count": 23,
     "metadata": {},
     "output_type": "execute_result"
    }
   ],
   "source": [
    "len(train_neg_1)"
   ]
  },
  {
   "cell_type": "code",
   "execution_count": 24,
   "metadata": {},
   "outputs": [
    {
     "data": {
      "text/plain": [
       "array([[153,  10, 161, ...,   0,  15, 255],\n",
       "       [154,  11, 161, ...,   0,  39, 255],\n",
       "       [154,  10, 163, ...,   0,  22, 255],\n",
       "       ...,\n",
       "       [177,  47, 177, ..., 230, 106, 255],\n",
       "       [179,  50, 200, ..., 229,  16, 255],\n",
       "       [176,  50, 179, ..., 200, 125, 255]], dtype=uint8)"
      ]
     },
     "execution_count": 24,
     "metadata": {},
     "output_type": "execute_result"
    }
   ],
   "source": [
    "train_neg_1[1][0]"
   ]
  },
  {
   "cell_type": "code",
   "execution_count": 25,
   "metadata": {},
   "outputs": [],
   "source": [
    "train_means_neg_1 = np.zeros((len(train_neg_1),train_neg_1[0][0].shape[1]))\n",
    "train_std_neg_1 = np.zeros((len(train_neg_1),train_neg_1[0][0].shape[1]))\n",
    "train_median_neg_1 = np.zeros((len(train_neg_1),train_neg_1[0][0].shape[1]))\n",
    "train_kurtosis_neg_1 = np.zeros((len(train_neg_1),train_neg_1[0][0].shape[1]))\n",
    "train_min_neg_1 = np.zeros((len(train_neg_1),train_neg_1[0][0].shape[1]))\n",
    "train_max_neg_1 = np.zeros((len(train_neg_1),train_neg_1[0][0].shape[1]))\n",
    "train_skew_neg_1 = np.zeros((len(train_neg_1),train_neg_1[0][0].shape[1]))\n",
    "\n",
    "for i in range(len(train_neg_1)):\n",
    "    train_means_neg_1[i] = np.mean(train_neg_1[i][0], 0)\n",
    "    train_std_neg_1[i] = np.std(train_neg_1[i][0], 0)\n",
    "    train_median_neg_1[i] = np.median(train_neg_1[i][0], 0)\n",
    "    train_kurtosis_neg_1[i] = scipy.stats.kurtosis(train_neg_1[i][0], 0)\n",
    "    train_skew_neg_1[i] = scipy.stats.skew(train_neg_1[i][0], 0)\n",
    "    train_min_neg_1[i] = np.amin(train_neg_1[i][0], 0)\n",
    "    train_max_neg_1[i] = np.amax(train_neg_1[i][0], 0)"
   ]
  },
  {
   "cell_type": "code",
   "execution_count": 26,
   "metadata": {},
   "outputs": [
    {
     "name": "stdout",
     "output_type": "stream",
     "text": [
      "(900, 128)\n",
      "(128,)\n",
      "(128,)\n",
      "(128,)\n",
      "(128,)\n",
      "(128,)\n",
      "(128,)\n"
     ]
    }
   ],
   "source": [
    "print (train_means_neg_1.shape)\n",
    "print (train_std_neg_1[1].shape)\n",
    "print (train_median_neg_1[1].shape)\n",
    "print (train_min_neg_1[1].shape)\n",
    "print (train_max_neg_1[1].shape)\n",
    "print (train_kurtosis_neg_1[1].shape)\n",
    "print (train_skew_neg_1[1].shape)"
   ]
  },
  {
   "cell_type": "code",
   "execution_count": 27,
   "metadata": {},
   "outputs": [],
   "source": [
    "train_features_neg_1 = np.concatenate((train_means_neg_1,train_std_neg_1, train_median_neg_1, train_min_neg_1, train_max_neg_1, train_kurtosis_neg_1, train_skew_neg_1),axis=1)\n"
   ]
  },
  {
   "cell_type": "code",
   "execution_count": 28,
   "metadata": {},
   "outputs": [
    {
     "data": {
      "text/plain": [
       "(900, 896)"
      ]
     },
     "execution_count": 28,
     "metadata": {},
     "output_type": "execute_result"
    }
   ],
   "source": [
    "train_features_neg_1.shape"
   ]
  },
  {
   "cell_type": "code",
   "execution_count": 323,
   "metadata": {},
   "outputs": [],
   "source": [
    "features_i = []\n",
    "\n",
    "for i in range(train_features_neg_1.shape[0]):\n",
    "    features = []\n",
    "    features.append(train_features_neg_1[i])\n",
    "    features.append(train_neg_1[i][1])\n",
    "    features.append(train_neg_1[i][2])\n",
    "    \n",
    "    features_i.append(features)"
   ]
  },
  {
   "cell_type": "code",
   "execution_count": 324,
   "metadata": {},
   "outputs": [
    {
     "data": {
      "text/plain": [
       "(896,)"
      ]
     },
     "execution_count": 324,
     "metadata": {},
     "output_type": "execute_result"
    }
   ],
   "source": [
    "features_i[899][0].shape"
   ]
  },
  {
   "cell_type": "code",
   "execution_count": 325,
   "metadata": {},
   "outputs": [],
   "source": [
    "with open(os.path.join(\"/Volumes/Ana Elisa/Ana Elisa's MacBook Pro/Documents/NYU_PHD/UrbanSound8/soundscapes/train_1/\"+'neg_train_stats_features.txt'),'wb') as f:\n",
    "    pickle.dump(features_i, f)\n",
    "    "
   ]
  },
  {
   "cell_type": "code",
   "execution_count": 326,
   "metadata": {},
   "outputs": [],
   "source": [
    "with open(os.path.join(\"/Volumes/Ana Elisa/Ana Elisa's MacBook Pro/Documents/NYU_PHD/UrbanSound8/soundscapes/train_\" + str(1) + \"/\"+'neg_train_stats_features.txt'),'rb') as f:\n",
    "        features_neg_train = pickle.load(f)\n",
    "        "
   ]
  },
  {
   "cell_type": "code",
   "execution_count": 327,
   "metadata": {},
   "outputs": [
    {
     "data": {
      "text/plain": [
       "900"
      ]
     },
     "execution_count": 327,
     "metadata": {},
     "output_type": "execute_result"
    }
   ],
   "source": [
    "len(features_neg_train)"
   ]
  },
  {
   "cell_type": "code",
   "execution_count": null,
   "metadata": {},
   "outputs": [],
   "source": []
  },
  {
   "cell_type": "markdown",
   "metadata": {},
   "source": [
    "## TEST"
   ]
  },
  {
   "cell_type": "markdown",
   "metadata": {},
   "source": [
    "### Positive"
   ]
  },
  {
   "cell_type": "code",
   "execution_count": 30,
   "metadata": {},
   "outputs": [],
   "source": [
    "with open(os.path.join(\"/Volumes/Ana Elisa/Ana Elisa's MacBook Pro/Documents/NYU_PHD/UrbanSound8/soundscapes/test_\" + str(1) + \"/\"+'pos_test_sel_features.txt'),'rb') as f:\n",
    "        test_pos_1 = pickle.load(f)\n",
    "        \n",
    "        \n",
    "        "
   ]
  },
  {
   "cell_type": "code",
   "execution_count": 31,
   "metadata": {},
   "outputs": [
    {
     "data": {
      "text/plain": [
       "290"
      ]
     },
     "execution_count": 31,
     "metadata": {},
     "output_type": "execute_result"
    }
   ],
   "source": [
    "len(test_pos_1)"
   ]
  },
  {
   "cell_type": "code",
   "execution_count": 32,
   "metadata": {},
   "outputs": [
    {
     "data": {
      "text/plain": [
       "array([[154,  11, 171, ...,   0,  43, 255],\n",
       "       [153,  12, 183, ...,   0,   0, 255],\n",
       "       [154,  19, 144, ..., 250, 241, 255],\n",
       "       ...,\n",
       "       [157,  31, 121, ...,   0,  41, 255],\n",
       "       [154,  30, 121, ...,   0,   0, 255],\n",
       "       [148,  29, 116, ...,   0,   0, 255]], dtype=uint8)"
      ]
     },
     "execution_count": 32,
     "metadata": {},
     "output_type": "execute_result"
    }
   ],
   "source": [
    "test_pos_1[1][0]"
   ]
  },
  {
   "cell_type": "code",
   "execution_count": 34,
   "metadata": {},
   "outputs": [],
   "source": [
    "test_means_pos_1 = np.zeros((len(test_pos_1),test_pos_1[0][0].shape[1]))\n",
    "test_std_pos_1 = np.zeros((len(test_pos_1),test_pos_1[0][0].shape[1]))\n",
    "test_median_pos_1 = np.zeros((len(test_pos_1),test_pos_1[0][0].shape[1]))\n",
    "test_kurtosis_pos_1 = np.zeros((len(test_pos_1),test_pos_1[0][0].shape[1]))\n",
    "test_min_pos_1 = np.zeros((len(test_pos_1),test_pos_1[0][0].shape[1]))\n",
    "test_max_pos_1 = np.zeros((len(test_pos_1),test_pos_1[0][0].shape[1]))\n",
    "test_skew_pos_1 = np.zeros((len(test_pos_1),test_pos_1[0][0].shape[1]))\n",
    "\n",
    "for i in range(len(test_pos_1)):\n",
    "    test_means_pos_1[i] = np.mean(test_pos_1[i][0], 0)\n",
    "    test_std_pos_1[i] = np.std(test_pos_1[i][0], 0)\n",
    "    test_median_pos_1[i] = np.median(test_pos_1[i][0], 0)\n",
    "    test_kurtosis_pos_1[i] = scipy.stats.kurtosis(test_pos_1[i][0], 0)\n",
    "    test_skew_pos_1[i] = scipy.stats.skew(test_pos_1[i][0], 0)\n",
    "    test_min_pos_1[i] = np.amin(test_pos_1[i][0], 0)\n",
    "    test_max_pos_1[i] = np.amax(test_pos_1[i][0], 0)"
   ]
  },
  {
   "cell_type": "code",
   "execution_count": 35,
   "metadata": {},
   "outputs": [
    {
     "name": "stdout",
     "output_type": "stream",
     "text": [
      "(290, 128)\n",
      "(128,)\n",
      "(128,)\n",
      "(128,)\n",
      "(128,)\n",
      "(128,)\n",
      "(128,)\n"
     ]
    }
   ],
   "source": [
    "print (test_means_pos_1.shape)\n",
    "print (test_std_pos_1[1].shape)\n",
    "print (test_median_pos_1[1].shape)\n",
    "print (test_min_pos_1[1].shape)\n",
    "print (test_max_pos_1[1].shape)\n",
    "print (test_kurtosis_pos_1[1].shape)\n",
    "print (test_skew_pos_1[1].shape)"
   ]
  },
  {
   "cell_type": "code",
   "execution_count": 36,
   "metadata": {},
   "outputs": [],
   "source": [
    "test_features_pos_1 = np.concatenate((test_means_pos_1,test_std_pos_1, test_median_pos_1, test_min_pos_1, test_max_pos_1, test_kurtosis_pos_1, test_skew_pos_1),axis=1)\n"
   ]
  },
  {
   "cell_type": "code",
   "execution_count": 37,
   "metadata": {},
   "outputs": [
    {
     "data": {
      "text/plain": [
       "(290, 896)"
      ]
     },
     "execution_count": 37,
     "metadata": {},
     "output_type": "execute_result"
    }
   ],
   "source": [
    "test_features_pos_1.shape"
   ]
  },
  {
   "cell_type": "code",
   "execution_count": 328,
   "metadata": {},
   "outputs": [],
   "source": [
    "features_i = []\n",
    "\n",
    "for i in range(test_features_pos_1.shape[0]):\n",
    "    features = []\n",
    "    features.append(test_features_pos_1[i])\n",
    "    features.append(test_pos_1[i][1])\n",
    "    features.append(test_pos_1[i][2])\n",
    "    \n",
    "    features_i.append(features)"
   ]
  },
  {
   "cell_type": "code",
   "execution_count": 330,
   "metadata": {},
   "outputs": [
    {
     "data": {
      "text/plain": [
       "(896,)"
      ]
     },
     "execution_count": 330,
     "metadata": {},
     "output_type": "execute_result"
    }
   ],
   "source": [
    "features_i[289][0].shape"
   ]
  },
  {
   "cell_type": "code",
   "execution_count": 331,
   "metadata": {},
   "outputs": [],
   "source": [
    "with open(os.path.join(\"/Volumes/Ana Elisa/Ana Elisa's MacBook Pro/Documents/NYU_PHD/UrbanSound8/soundscapes/test_1/\"+'pos_test_stats_features.txt'),'wb') as f:\n",
    "    pickle.dump(features_i, f)\n",
    "    "
   ]
  },
  {
   "cell_type": "code",
   "execution_count": 332,
   "metadata": {},
   "outputs": [],
   "source": [
    "with open(os.path.join(\"/Volumes/Ana Elisa/Ana Elisa's MacBook Pro/Documents/NYU_PHD/UrbanSound8/soundscapes/test_\" + str(1) + \"/\"+'pos_test_stats_features.txt'),'rb') as f:\n",
    "        features_pos_test = pickle.load(f)\n",
    "        "
   ]
  },
  {
   "cell_type": "code",
   "execution_count": 333,
   "metadata": {},
   "outputs": [
    {
     "data": {
      "text/plain": [
       "290"
      ]
     },
     "execution_count": 333,
     "metadata": {},
     "output_type": "execute_result"
    }
   ],
   "source": [
    "len(features_pos_test)"
   ]
  },
  {
   "cell_type": "code",
   "execution_count": null,
   "metadata": {},
   "outputs": [],
   "source": []
  },
  {
   "cell_type": "markdown",
   "metadata": {},
   "source": [
    "### Negative"
   ]
  },
  {
   "cell_type": "code",
   "execution_count": 38,
   "metadata": {},
   "outputs": [],
   "source": [
    "with open(os.path.join(\"/Volumes/Ana Elisa/Ana Elisa's MacBook Pro/Documents/NYU_PHD/UrbanSound8/soundscapes/test_\" + str(1) + \"/\"+'neg_test_sel_features.txt'),'rb') as f:\n",
    "        test_neg_1 = pickle.load(f)\n",
    "        \n",
    "        \n",
    "        "
   ]
  },
  {
   "cell_type": "code",
   "execution_count": 39,
   "metadata": {},
   "outputs": [
    {
     "data": {
      "text/plain": [
       "290"
      ]
     },
     "execution_count": 39,
     "metadata": {},
     "output_type": "execute_result"
    }
   ],
   "source": [
    "len(test_neg_1)"
   ]
  },
  {
   "cell_type": "code",
   "execution_count": 40,
   "metadata": {},
   "outputs": [
    {
     "data": {
      "text/plain": [
       "array([[153,  21, 164, ...,  19,  15, 255],\n",
       "       [153,  17, 148, ..., 145,  14, 255],\n",
       "       [155,  24, 167, ..., 178,  86, 255],\n",
       "       ...,\n",
       "       [152,  23, 110, ...,  98,   0, 255],\n",
       "       [150,  21, 104, ..., 141,  52, 255],\n",
       "       [148,  18,  99, ...,   9,  49, 255]], dtype=uint8)"
      ]
     },
     "execution_count": 40,
     "metadata": {},
     "output_type": "execute_result"
    }
   ],
   "source": [
    "test_neg_1[1][0]"
   ]
  },
  {
   "cell_type": "code",
   "execution_count": 41,
   "metadata": {},
   "outputs": [],
   "source": [
    "test_means_neg_1 = np.zeros((len(test_neg_1),test_neg_1[0][0].shape[1]))\n",
    "test_std_neg_1 = np.zeros((len(test_neg_1),test_neg_1[0][0].shape[1]))\n",
    "test_median_neg_1 = np.zeros((len(test_neg_1),test_neg_1[0][0].shape[1]))\n",
    "test_kurtosis_neg_1 = np.zeros((len(test_neg_1),test_neg_1[0][0].shape[1]))\n",
    "test_min_neg_1 = np.zeros((len(test_neg_1),test_neg_1[0][0].shape[1]))\n",
    "test_max_neg_1 = np.zeros((len(test_neg_1),test_neg_1[0][0].shape[1]))\n",
    "test_skew_neg_1 = np.zeros((len(test_neg_1),test_neg_1[0][0].shape[1]))\n",
    "\n",
    "for i in range(len(test_neg_1)):\n",
    "    test_means_neg_1[i] = np.mean(test_neg_1[i][0], 0)\n",
    "    test_std_neg_1[i] = np.std(test_neg_1[i][0], 0)\n",
    "    test_median_neg_1[i] = np.median(test_neg_1[i][0], 0)\n",
    "    test_kurtosis_neg_1[i] = scipy.stats.kurtosis(test_neg_1[i][0], 0)\n",
    "    test_skew_neg_1[i] = scipy.stats.skew(test_neg_1[i][0], 0)\n",
    "    test_min_neg_1[i] = np.amin(test_neg_1[i][0], 0)\n",
    "    test_max_neg_1[i] = np.amax(test_neg_1[i][0], 0)"
   ]
  },
  {
   "cell_type": "code",
   "execution_count": 42,
   "metadata": {},
   "outputs": [
    {
     "name": "stdout",
     "output_type": "stream",
     "text": [
      "(290, 128)\n",
      "(128,)\n",
      "(128,)\n",
      "(128,)\n",
      "(128,)\n",
      "(128,)\n",
      "(128,)\n"
     ]
    }
   ],
   "source": [
    "print (test_means_neg_1.shape)\n",
    "print (test_std_neg_1[1].shape)\n",
    "print (test_median_neg_1[1].shape)\n",
    "print (test_min_neg_1[1].shape)\n",
    "print (test_max_neg_1[1].shape)\n",
    "print (test_kurtosis_neg_1[1].shape)\n",
    "print (test_skew_neg_1[1].shape)"
   ]
  },
  {
   "cell_type": "code",
   "execution_count": 43,
   "metadata": {},
   "outputs": [],
   "source": [
    "test_features_neg_1 = np.concatenate((test_means_neg_1,test_std_neg_1, test_median_neg_1, test_min_neg_1, test_max_neg_1, test_kurtosis_neg_1, test_skew_neg_1),axis=1)\n"
   ]
  },
  {
   "cell_type": "code",
   "execution_count": 44,
   "metadata": {},
   "outputs": [
    {
     "data": {
      "text/plain": [
       "(290, 896)"
      ]
     },
     "execution_count": 44,
     "metadata": {},
     "output_type": "execute_result"
    }
   ],
   "source": [
    "test_features_neg_1.shape"
   ]
  },
  {
   "cell_type": "code",
   "execution_count": 334,
   "metadata": {},
   "outputs": [],
   "source": [
    "features_i = []\n",
    "\n",
    "for i in range(test_features_neg_1.shape[0]):\n",
    "    features = []\n",
    "    features.append(test_features_neg_1[i])\n",
    "    features.append(test_neg_1[i][1])\n",
    "    features.append(test_neg_1[i][2])\n",
    "    \n",
    "    features_i.append(features)"
   ]
  },
  {
   "cell_type": "code",
   "execution_count": 335,
   "metadata": {},
   "outputs": [
    {
     "data": {
      "text/plain": [
       "(896,)"
      ]
     },
     "execution_count": 335,
     "metadata": {},
     "output_type": "execute_result"
    }
   ],
   "source": [
    "features_i[289][0].shape"
   ]
  },
  {
   "cell_type": "code",
   "execution_count": 336,
   "metadata": {},
   "outputs": [],
   "source": [
    "with open(os.path.join(\"/Volumes/Ana Elisa/Ana Elisa's MacBook Pro/Documents/NYU_PHD/UrbanSound8/soundscapes/test_1/\"+'neg_test_stats_features.txt'),'wb') as f:\n",
    "    pickle.dump(features_i, f)\n",
    "    "
   ]
  },
  {
   "cell_type": "code",
   "execution_count": 337,
   "metadata": {},
   "outputs": [],
   "source": [
    "with open(os.path.join(\"/Volumes/Ana Elisa/Ana Elisa's MacBook Pro/Documents/NYU_PHD/UrbanSound8/soundscapes/test_\" + str(1) + \"/\"+'neg_test_stats_features.txt'),'rb') as f:\n",
    "        features_neg_test = pickle.load(f)\n",
    "        "
   ]
  },
  {
   "cell_type": "code",
   "execution_count": 338,
   "metadata": {},
   "outputs": [
    {
     "data": {
      "text/plain": [
       "290"
      ]
     },
     "execution_count": 338,
     "metadata": {},
     "output_type": "execute_result"
    }
   ],
   "source": [
    "len(features_neg_test)"
   ]
  },
  {
   "cell_type": "code",
   "execution_count": null,
   "metadata": {},
   "outputs": [],
   "source": []
  },
  {
   "cell_type": "markdown",
   "metadata": {},
   "source": [
    "# Compute statistics group 2"
   ]
  },
  {
   "cell_type": "markdown",
   "metadata": {},
   "source": [
    "## TRAIN"
   ]
  },
  {
   "cell_type": "markdown",
   "metadata": {},
   "source": [
    "### Positive"
   ]
  },
  {
   "cell_type": "code",
   "execution_count": 45,
   "metadata": {},
   "outputs": [],
   "source": [
    "with open(os.path.join(\"/Volumes/Ana Elisa/Ana Elisa's MacBook Pro/Documents/NYU_PHD/UrbanSound8/soundscapes/train_\" + str(2) + \"/\"+'pos_train_sel_features.txt'),'rb') as f:\n",
    "        train_pos_2 = pickle.load(f)\n",
    "        \n",
    "        \n",
    "        "
   ]
  },
  {
   "cell_type": "code",
   "execution_count": 46,
   "metadata": {},
   "outputs": [
    {
     "data": {
      "text/plain": [
       "900"
      ]
     },
     "execution_count": 46,
     "metadata": {},
     "output_type": "execute_result"
    }
   ],
   "source": [
    "len(train_pos_2)"
   ]
  },
  {
   "cell_type": "code",
   "execution_count": 47,
   "metadata": {},
   "outputs": [
    {
     "data": {
      "text/plain": [
       "array([[163,  16, 148, ..., 141, 255, 255],\n",
       "       [165,  15, 137, ..., 133, 255, 255],\n",
       "       [160,  28, 152, ..., 146,  70, 255],\n",
       "       ...,\n",
       "       [164,  36, 200, ..., 158,   0, 255],\n",
       "       [171,  40, 197, ..., 198,   0, 255],\n",
       "       [169,  45, 209, ..., 116, 223, 255]], dtype=uint8)"
      ]
     },
     "execution_count": 47,
     "metadata": {},
     "output_type": "execute_result"
    }
   ],
   "source": [
    "train_pos_2[1][0]"
   ]
  },
  {
   "cell_type": "code",
   "execution_count": 48,
   "metadata": {},
   "outputs": [],
   "source": [
    "train_means_pos_2 = np.zeros((len(train_pos_2),train_pos_2[0][0].shape[1]))\n",
    "train_std_pos_2 = np.zeros((len(train_pos_2),train_pos_2[0][0].shape[1]))\n",
    "train_median_pos_2 = np.zeros((len(train_pos_2),train_pos_2[0][0].shape[1]))\n",
    "train_kurtosis_pos_2 = np.zeros((len(train_pos_2),train_pos_2[0][0].shape[1]))\n",
    "train_min_pos_2 = np.zeros((len(train_pos_2),train_pos_2[0][0].shape[1]))\n",
    "train_max_pos_2 = np.zeros((len(train_pos_2),train_pos_2[0][0].shape[1]))\n",
    "train_skew_pos_2 = np.zeros((len(train_pos_2),train_pos_2[0][0].shape[1]))\n",
    "\n",
    "for i in range(len(train_pos_2)):\n",
    "    train_means_pos_2[i] = np.mean(train_pos_2[i][0], 0)\n",
    "    train_std_pos_2[i] = np.std(train_pos_2[i][0], 0)\n",
    "    train_median_pos_2[i] = np.median(train_pos_2[i][0], 0)\n",
    "    train_kurtosis_pos_2[i] = scipy.stats.kurtosis(train_pos_2[i][0], 0)\n",
    "    train_skew_pos_2[i] = scipy.stats.skew(train_pos_2[i][0], 0)\n",
    "    train_min_pos_2[i] = np.amin(train_pos_2[i][0], 0)\n",
    "    train_max_pos_2[i] = np.amax(train_pos_2[i][0], 0)"
   ]
  },
  {
   "cell_type": "code",
   "execution_count": 49,
   "metadata": {},
   "outputs": [
    {
     "name": "stdout",
     "output_type": "stream",
     "text": [
      "(900, 128)\n",
      "(128,)\n",
      "(128,)\n",
      "(128,)\n",
      "(128,)\n",
      "(128,)\n",
      "(128,)\n"
     ]
    }
   ],
   "source": [
    "print (train_means_pos_2.shape)\n",
    "print (train_std_pos_2[1].shape)\n",
    "print (train_median_pos_2[1].shape)\n",
    "print (train_min_pos_2[1].shape)\n",
    "print (train_max_pos_2[1].shape)\n",
    "print (train_kurtosis_pos_2[1].shape)\n",
    "print (train_skew_pos_2[1].shape)"
   ]
  },
  {
   "cell_type": "code",
   "execution_count": 50,
   "metadata": {},
   "outputs": [],
   "source": [
    "train_features_pos_2 = np.concatenate((train_means_pos_2,train_std_pos_2, train_median_pos_2, train_min_pos_2, train_max_pos_2, train_kurtosis_pos_2, train_skew_pos_2),axis=1)\n"
   ]
  },
  {
   "cell_type": "code",
   "execution_count": 51,
   "metadata": {},
   "outputs": [
    {
     "data": {
      "text/plain": [
       "(900, 896)"
      ]
     },
     "execution_count": 51,
     "metadata": {},
     "output_type": "execute_result"
    }
   ],
   "source": [
    "train_features_pos_2.shape"
   ]
  },
  {
   "cell_type": "markdown",
   "metadata": {},
   "source": [
    "### Negative"
   ]
  },
  {
   "cell_type": "code",
   "execution_count": 52,
   "metadata": {},
   "outputs": [],
   "source": [
    "with open(os.path.join(\"/Volumes/Ana Elisa/Ana Elisa's MacBook Pro/Documents/NYU_PHD/UrbanSound8/soundscapes/train_\" + str(2) + \"/\"+'neg_train_sel_features.txt'),'rb') as f:\n",
    "        train_neg_2 = pickle.load(f)\n",
    "        \n",
    "        \n",
    "        "
   ]
  },
  {
   "cell_type": "code",
   "execution_count": 53,
   "metadata": {},
   "outputs": [
    {
     "data": {
      "text/plain": [
       "900"
      ]
     },
     "execution_count": 53,
     "metadata": {},
     "output_type": "execute_result"
    }
   ],
   "source": [
    "len(train_neg_2)"
   ]
  },
  {
   "cell_type": "code",
   "execution_count": 54,
   "metadata": {},
   "outputs": [
    {
     "data": {
      "text/plain": [
       "array([[153,   7, 164, ...,   0,   6, 255],\n",
       "       [153,   9, 164, ...,   0,  46, 255],\n",
       "       [153,   6, 164, ...,   0,  11, 255],\n",
       "       ...,\n",
       "       [156,  28, 160, ...,  48,   0, 255],\n",
       "       [152,  15, 158, ..., 120,   0, 255],\n",
       "       [151,   6, 168, ...,   0,   3, 255]], dtype=uint8)"
      ]
     },
     "execution_count": 54,
     "metadata": {},
     "output_type": "execute_result"
    }
   ],
   "source": [
    "train_neg_2[1][0]"
   ]
  },
  {
   "cell_type": "code",
   "execution_count": 55,
   "metadata": {},
   "outputs": [],
   "source": [
    "train_means_neg_2 = np.zeros((len(train_neg_2),train_neg_2[0][0].shape[1]))\n",
    "train_std_neg_2 = np.zeros((len(train_neg_2),train_neg_2[0][0].shape[1]))\n",
    "train_median_neg_2 = np.zeros((len(train_neg_2),train_neg_2[0][0].shape[1]))\n",
    "train_kurtosis_neg_2 = np.zeros((len(train_neg_2),train_neg_2[0][0].shape[1]))\n",
    "train_min_neg_2 = np.zeros((len(train_neg_2),train_neg_2[0][0].shape[1]))\n",
    "train_max_neg_2 = np.zeros((len(train_neg_2),train_neg_2[0][0].shape[1]))\n",
    "train_skew_neg_2 = np.zeros((len(train_neg_2),train_neg_2[0][0].shape[1]))\n",
    "\n",
    "for i in range(len(train_neg_2)):\n",
    "    train_means_neg_2[i] = np.mean(train_neg_2[i][0], 0)\n",
    "    train_std_neg_2[i] = np.std(train_neg_2[i][0], 0)\n",
    "    train_median_neg_2[i] = np.median(train_neg_2[i][0], 0)\n",
    "    train_kurtosis_neg_2[i] = scipy.stats.kurtosis(train_neg_2[i][0], 0)\n",
    "    train_skew_neg_2[i] = scipy.stats.skew(train_neg_2[i][0], 0)\n",
    "    train_min_neg_2[i] = np.amin(train_neg_2[i][0], 0)\n",
    "    train_max_neg_2[i] = np.amax(train_neg_2[i][0], 0)"
   ]
  },
  {
   "cell_type": "code",
   "execution_count": 56,
   "metadata": {},
   "outputs": [
    {
     "name": "stdout",
     "output_type": "stream",
     "text": [
      "(900, 128)\n",
      "(128,)\n",
      "(128,)\n",
      "(128,)\n",
      "(128,)\n",
      "(128,)\n",
      "(128,)\n"
     ]
    }
   ],
   "source": [
    "print (train_means_neg_2.shape)\n",
    "print (train_std_neg_2[1].shape)\n",
    "print (train_median_neg_2[1].shape)\n",
    "print (train_min_neg_2[1].shape)\n",
    "print (train_max_neg_2[1].shape)\n",
    "print (train_kurtosis_neg_2[1].shape)\n",
    "print (train_skew_neg_2[1].shape)"
   ]
  },
  {
   "cell_type": "code",
   "execution_count": 57,
   "metadata": {},
   "outputs": [],
   "source": [
    "train_features_neg_2 = np.concatenate((train_means_neg_2,train_std_neg_2, train_median_neg_2, train_min_neg_2, train_max_neg_2, train_kurtosis_neg_2, train_skew_neg_2),axis=1)\n"
   ]
  },
  {
   "cell_type": "code",
   "execution_count": 58,
   "metadata": {},
   "outputs": [
    {
     "data": {
      "text/plain": [
       "(900, 896)"
      ]
     },
     "execution_count": 58,
     "metadata": {},
     "output_type": "execute_result"
    }
   ],
   "source": [
    "train_features_neg_2.shape"
   ]
  },
  {
   "cell_type": "markdown",
   "metadata": {},
   "source": [
    "## TEST"
   ]
  },
  {
   "cell_type": "markdown",
   "metadata": {},
   "source": [
    "### Positive"
   ]
  },
  {
   "cell_type": "code",
   "execution_count": 59,
   "metadata": {},
   "outputs": [],
   "source": [
    "with open(os.path.join(\"/Volumes/Ana Elisa/Ana Elisa's MacBook Pro/Documents/NYU_PHD/UrbanSound8/soundscapes/test_\" + str(2) + \"/\"+'pos_test_sel_features.txt'),'rb') as f:\n",
    "        test_pos_2 = pickle.load(f)\n",
    "        \n",
    "        \n",
    "        "
   ]
  },
  {
   "cell_type": "code",
   "execution_count": 60,
   "metadata": {},
   "outputs": [
    {
     "data": {
      "text/plain": [
       "290"
      ]
     },
     "execution_count": 60,
     "metadata": {},
     "output_type": "execute_result"
    }
   ],
   "source": [
    "len(test_pos_2)"
   ]
  },
  {
   "cell_type": "code",
   "execution_count": 61,
   "metadata": {},
   "outputs": [
    {
     "data": {
      "text/plain": [
       "array([[153,   7, 163, ...,   0,  11, 255],\n",
       "       [166,  17, 171, ...,  78, 126, 255],\n",
       "       [166,  32, 184, ..., 247, 111, 255],\n",
       "       ...,\n",
       "       [153,  20, 163, ...,   0, 238, 255],\n",
       "       [153,  21, 135, ...,   0, 184, 255],\n",
       "       [152,  10, 145, ...,  20, 255, 255]], dtype=uint8)"
      ]
     },
     "execution_count": 61,
     "metadata": {},
     "output_type": "execute_result"
    }
   ],
   "source": [
    "test_pos_2[1][0]"
   ]
  },
  {
   "cell_type": "code",
   "execution_count": 62,
   "metadata": {},
   "outputs": [],
   "source": [
    "test_means_pos_2 = np.zeros((len(test_pos_2),test_pos_2[0][0].shape[1]))\n",
    "test_std_pos_2 = np.zeros((len(test_pos_2),test_pos_2[0][0].shape[1]))\n",
    "test_median_pos_2 = np.zeros((len(test_pos_2),test_pos_2[0][0].shape[1]))\n",
    "test_kurtosis_pos_2 = np.zeros((len(test_pos_2),test_pos_2[0][0].shape[1]))\n",
    "test_min_pos_2 = np.zeros((len(test_pos_2),test_pos_2[0][0].shape[1]))\n",
    "test_max_pos_2 = np.zeros((len(test_pos_2),test_pos_2[0][0].shape[1]))\n",
    "test_skew_pos_2 = np.zeros((len(test_pos_2),test_pos_2[0][0].shape[1]))\n",
    "\n",
    "for i in range(len(test_pos_2)):\n",
    "    test_means_pos_2[i] = np.mean(test_pos_2[i][0], 0)\n",
    "    test_std_pos_2[i] = np.std(test_pos_2[i][0], 0)\n",
    "    test_median_pos_2[i] = np.median(test_pos_2[i][0], 0)\n",
    "    test_kurtosis_pos_2[i] = scipy.stats.kurtosis(test_pos_2[i][0], 0)\n",
    "    test_skew_pos_2[i] = scipy.stats.skew(test_pos_2[i][0], 0)\n",
    "    test_min_pos_2[i] = np.amin(test_pos_2[i][0], 0)\n",
    "    test_max_pos_2[i] = np.amax(test_pos_2[i][0], 0)"
   ]
  },
  {
   "cell_type": "code",
   "execution_count": 63,
   "metadata": {},
   "outputs": [
    {
     "name": "stdout",
     "output_type": "stream",
     "text": [
      "(290, 128)\n",
      "(128,)\n",
      "(128,)\n",
      "(128,)\n",
      "(128,)\n",
      "(128,)\n",
      "(128,)\n"
     ]
    }
   ],
   "source": [
    "print (test_means_pos_2.shape)\n",
    "print (test_std_pos_2[1].shape)\n",
    "print (test_median_pos_2[1].shape)\n",
    "print (test_min_pos_2[1].shape)\n",
    "print (test_max_pos_2[1].shape)\n",
    "print (test_kurtosis_pos_2[1].shape)\n",
    "print (test_skew_pos_2[1].shape)"
   ]
  },
  {
   "cell_type": "code",
   "execution_count": 64,
   "metadata": {},
   "outputs": [],
   "source": [
    "test_features_pos_2 = np.concatenate((test_means_pos_2,test_std_pos_2, test_median_pos_2, test_min_pos_2, test_max_pos_2, test_kurtosis_pos_2, test_skew_pos_2),axis=1)\n"
   ]
  },
  {
   "cell_type": "code",
   "execution_count": 65,
   "metadata": {},
   "outputs": [
    {
     "data": {
      "text/plain": [
       "(290, 896)"
      ]
     },
     "execution_count": 65,
     "metadata": {},
     "output_type": "execute_result"
    }
   ],
   "source": [
    "test_features_pos_2.shape"
   ]
  },
  {
   "cell_type": "markdown",
   "metadata": {},
   "source": [
    "### Negative"
   ]
  },
  {
   "cell_type": "code",
   "execution_count": 66,
   "metadata": {},
   "outputs": [],
   "source": [
    "with open(os.path.join(\"/Volumes/Ana Elisa/Ana Elisa's MacBook Pro/Documents/NYU_PHD/UrbanSound8/soundscapes/test_\" + str(2) + \"/\"+'neg_test_sel_features.txt'),'rb') as f:\n",
    "        test_neg_2 = pickle.load(f)\n",
    "        \n",
    "        \n",
    "        "
   ]
  },
  {
   "cell_type": "code",
   "execution_count": 67,
   "metadata": {},
   "outputs": [
    {
     "data": {
      "text/plain": [
       "290"
      ]
     },
     "execution_count": 67,
     "metadata": {},
     "output_type": "execute_result"
    }
   ],
   "source": [
    "len(test_neg_2)"
   ]
  },
  {
   "cell_type": "code",
   "execution_count": 68,
   "metadata": {},
   "outputs": [
    {
     "data": {
      "text/plain": [
       "array([[152,   5, 162, ...,   0,  14, 255],\n",
       "       [153,   6, 162, ...,   0,  66, 255],\n",
       "       [161,  12, 168, ..., 255, 248, 255],\n",
       "       ...,\n",
       "       [156,  21, 135, ..., 218, 255, 255],\n",
       "       [155,  22, 138, ..., 251, 255, 255],\n",
       "       [153,  19, 145, ..., 255, 255, 255]], dtype=uint8)"
      ]
     },
     "execution_count": 68,
     "metadata": {},
     "output_type": "execute_result"
    }
   ],
   "source": [
    "test_neg_2[1][0]"
   ]
  },
  {
   "cell_type": "code",
   "execution_count": 69,
   "metadata": {},
   "outputs": [],
   "source": [
    "test_means_neg_2 = np.zeros((len(test_neg_2),test_neg_2[0][0].shape[1]))\n",
    "test_std_neg_2 = np.zeros((len(test_neg_2),test_neg_2[0][0].shape[1]))\n",
    "test_median_neg_2 = np.zeros((len(test_neg_2),test_neg_2[0][0].shape[1]))\n",
    "test_kurtosis_neg_2 = np.zeros((len(test_neg_2),test_neg_2[0][0].shape[1]))\n",
    "test_min_neg_2 = np.zeros((len(test_neg_2),test_neg_2[0][0].shape[1]))\n",
    "test_max_neg_2 = np.zeros((len(test_neg_2),test_neg_2[0][0].shape[1]))\n",
    "test_skew_neg_2 = np.zeros((len(test_neg_2),test_neg_2[0][0].shape[1]))\n",
    "\n",
    "for i in range(len(test_neg_2)):\n",
    "    test_means_neg_2[i] = np.mean(test_neg_2[i][0], 0)\n",
    "    test_std_neg_2[i] = np.std(test_neg_2[i][0], 0)\n",
    "    test_median_neg_2[i] = np.median(test_neg_2[i][0], 0)\n",
    "    test_kurtosis_neg_2[i] = scipy.stats.kurtosis(test_neg_2[i][0], 0)\n",
    "    test_skew_neg_2[i] = scipy.stats.skew(test_neg_2[i][0], 0)\n",
    "    test_min_neg_2[i] = np.amin(test_neg_2[i][0], 0)\n",
    "    test_max_neg_2[i] = np.amax(test_neg_2[i][0], 0)"
   ]
  },
  {
   "cell_type": "code",
   "execution_count": 70,
   "metadata": {},
   "outputs": [
    {
     "name": "stdout",
     "output_type": "stream",
     "text": [
      "(290, 128)\n",
      "(128,)\n",
      "(128,)\n",
      "(128,)\n",
      "(128,)\n",
      "(128,)\n",
      "(128,)\n"
     ]
    }
   ],
   "source": [
    "print (test_means_neg_2.shape)\n",
    "print (test_std_neg_2[1].shape)\n",
    "print (test_median_neg_2[1].shape)\n",
    "print (test_min_neg_2[1].shape)\n",
    "print (test_max_neg_2[1].shape)\n",
    "print (test_kurtosis_neg_2[1].shape)\n",
    "print (test_skew_neg_2[1].shape)"
   ]
  },
  {
   "cell_type": "code",
   "execution_count": 71,
   "metadata": {},
   "outputs": [],
   "source": [
    "test_features_neg_2 = np.concatenate((test_means_neg_2,test_std_neg_2, test_median_neg_2, test_min_neg_2, test_max_neg_2, test_kurtosis_neg_2, test_skew_neg_2),axis=1)\n"
   ]
  },
  {
   "cell_type": "code",
   "execution_count": 72,
   "metadata": {},
   "outputs": [
    {
     "data": {
      "text/plain": [
       "(290, 896)"
      ]
     },
     "execution_count": 72,
     "metadata": {},
     "output_type": "execute_result"
    }
   ],
   "source": [
    "test_features_neg_2.shape"
   ]
  },
  {
   "cell_type": "markdown",
   "metadata": {},
   "source": [
    "# Compute statistics group 3"
   ]
  },
  {
   "cell_type": "markdown",
   "metadata": {},
   "source": [
    "## TRAIN"
   ]
  },
  {
   "cell_type": "markdown",
   "metadata": {},
   "source": [
    "### Positive"
   ]
  },
  {
   "cell_type": "code",
   "execution_count": 73,
   "metadata": {},
   "outputs": [],
   "source": [
    "with open(os.path.join(\"/Volumes/Ana Elisa/Ana Elisa's MacBook Pro/Documents/NYU_PHD/UrbanSound8/soundscapes/train_\" + str(3) + \"/\"+'pos_train_sel_features.txt'),'rb') as f:\n",
    "        train_pos_3 = pickle.load(f)\n",
    "        \n",
    "        \n",
    "        "
   ]
  },
  {
   "cell_type": "code",
   "execution_count": 74,
   "metadata": {},
   "outputs": [
    {
     "data": {
      "text/plain": [
       "900"
      ]
     },
     "execution_count": 74,
     "metadata": {},
     "output_type": "execute_result"
    }
   ],
   "source": [
    "len(train_pos_3)"
   ]
  },
  {
   "cell_type": "code",
   "execution_count": 75,
   "metadata": {},
   "outputs": [
    {
     "data": {
      "text/plain": [
       "array([[153,  10, 162, ...,   0,  15, 255],\n",
       "       [154,  11, 162, ...,   0,  38, 255],\n",
       "       [162,  19, 164, ...,  80, 107, 255],\n",
       "       ...,\n",
       "       [177,  49, 196, ..., 232, 144, 255],\n",
       "       [177,  49, 198, ..., 138, 255, 255],\n",
       "       [185,  54, 218, ...,  42,  73, 255]], dtype=uint8)"
      ]
     },
     "execution_count": 75,
     "metadata": {},
     "output_type": "execute_result"
    }
   ],
   "source": [
    "train_pos_3[1][0]"
   ]
  },
  {
   "cell_type": "code",
   "execution_count": 76,
   "metadata": {},
   "outputs": [],
   "source": [
    "train_means_pos_3 = np.zeros((len(train_pos_3),train_pos_3[0][0].shape[1]))\n",
    "train_std_pos_3 = np.zeros((len(train_pos_3),train_pos_3[0][0].shape[1]))\n",
    "train_median_pos_3 = np.zeros((len(train_pos_3),train_pos_3[0][0].shape[1]))\n",
    "train_kurtosis_pos_3 = np.zeros((len(train_pos_3),train_pos_3[0][0].shape[1]))\n",
    "train_min_pos_3 = np.zeros((len(train_pos_3),train_pos_3[0][0].shape[1]))\n",
    "train_max_pos_3 = np.zeros((len(train_pos_3),train_pos_3[0][0].shape[1]))\n",
    "train_skew_pos_3 = np.zeros((len(train_pos_3),train_pos_3[0][0].shape[1]))\n",
    "\n",
    "for i in range(len(train_pos_3)):\n",
    "    train_means_pos_3[i] = np.mean(train_pos_3[i][0], 0)\n",
    "    train_std_pos_3[i] = np.std(train_pos_3[i][0], 0)\n",
    "    train_median_pos_3[i] = np.median(train_pos_3[i][0], 0)\n",
    "    train_kurtosis_pos_3[i] = scipy.stats.kurtosis(train_pos_3[i][0], 0)\n",
    "    train_skew_pos_3[i] = scipy.stats.skew(train_pos_3[i][0], 0)\n",
    "    train_min_pos_3[i] = np.amin(train_pos_3[i][0], 0)\n",
    "    train_max_pos_3[i] = np.amax(train_pos_3[i][0], 0)"
   ]
  },
  {
   "cell_type": "code",
   "execution_count": 77,
   "metadata": {},
   "outputs": [
    {
     "name": "stdout",
     "output_type": "stream",
     "text": [
      "(900, 128)\n",
      "(128,)\n",
      "(128,)\n",
      "(128,)\n",
      "(128,)\n",
      "(128,)\n",
      "(128,)\n"
     ]
    }
   ],
   "source": [
    "print (train_means_pos_3.shape)\n",
    "print (train_std_pos_3[1].shape)\n",
    "print (train_median_pos_3[1].shape)\n",
    "print (train_min_pos_3[1].shape)\n",
    "print (train_max_pos_3[1].shape)\n",
    "print (train_kurtosis_pos_3[1].shape)\n",
    "print (train_skew_pos_3[1].shape)"
   ]
  },
  {
   "cell_type": "code",
   "execution_count": 78,
   "metadata": {},
   "outputs": [],
   "source": [
    "train_features_pos_3 = np.concatenate((train_means_pos_3,train_std_pos_3, train_median_pos_3, train_min_pos_3, train_max_pos_3, train_kurtosis_pos_3, train_skew_pos_3),axis=1)\n"
   ]
  },
  {
   "cell_type": "code",
   "execution_count": 79,
   "metadata": {},
   "outputs": [
    {
     "data": {
      "text/plain": [
       "(900, 896)"
      ]
     },
     "execution_count": 79,
     "metadata": {},
     "output_type": "execute_result"
    }
   ],
   "source": [
    "train_features_pos_3.shape"
   ]
  },
  {
   "cell_type": "markdown",
   "metadata": {},
   "source": [
    "### Negative"
   ]
  },
  {
   "cell_type": "code",
   "execution_count": 80,
   "metadata": {},
   "outputs": [],
   "source": [
    "with open(os.path.join(\"/Volumes/Ana Elisa/Ana Elisa's MacBook Pro/Documents/NYU_PHD/UrbanSound8/soundscapes/train_\" + str(3) + \"/\"+'neg_train_sel_features.txt'),'rb') as f:\n",
    "        train_neg_3 = pickle.load(f)\n",
    "        \n",
    "        \n",
    "        "
   ]
  },
  {
   "cell_type": "code",
   "execution_count": 81,
   "metadata": {},
   "outputs": [
    {
     "data": {
      "text/plain": [
       "900"
      ]
     },
     "execution_count": 81,
     "metadata": {},
     "output_type": "execute_result"
    }
   ],
   "source": [
    "len(train_neg_3)"
   ]
  },
  {
   "cell_type": "code",
   "execution_count": 82,
   "metadata": {},
   "outputs": [
    {
     "data": {
      "text/plain": [
       "array([[153,   8, 164, ...,   0,   4, 255],\n",
       "       [154,  10, 164, ...,   0,  39, 255],\n",
       "       [153,   7, 164, ...,   0,   8, 255],\n",
       "       ...,\n",
       "       [172,  44, 200, ..., 255, 176, 255],\n",
       "       [173,  49, 212, ..., 240, 204, 255],\n",
       "       [172,  52, 200, ...,  62, 255, 255]], dtype=uint8)"
      ]
     },
     "execution_count": 82,
     "metadata": {},
     "output_type": "execute_result"
    }
   ],
   "source": [
    "train_neg_3[1][0]"
   ]
  },
  {
   "cell_type": "code",
   "execution_count": 83,
   "metadata": {},
   "outputs": [],
   "source": [
    "train_means_neg_3 = np.zeros((len(train_neg_3),train_neg_3[0][0].shape[1]))\n",
    "train_std_neg_3 = np.zeros((len(train_neg_3),train_neg_3[0][0].shape[1]))\n",
    "train_median_neg_3 = np.zeros((len(train_neg_3),train_neg_3[0][0].shape[1]))\n",
    "train_kurtosis_neg_3 = np.zeros((len(train_neg_3),train_neg_3[0][0].shape[1]))\n",
    "train_min_neg_3 = np.zeros((len(train_neg_3),train_neg_3[0][0].shape[1]))\n",
    "train_max_neg_3 = np.zeros((len(train_neg_3),train_neg_3[0][0].shape[1]))\n",
    "train_skew_neg_3 = np.zeros((len(train_neg_3),train_neg_3[0][0].shape[1]))\n",
    "\n",
    "for i in range(len(train_neg_3)):\n",
    "    train_means_neg_3[i] = np.mean(train_neg_3[i][0], 0)\n",
    "    train_std_neg_3[i] = np.std(train_neg_3[i][0], 0)\n",
    "    train_median_neg_3[i] = np.median(train_neg_3[i][0], 0)\n",
    "    train_kurtosis_neg_3[i] = scipy.stats.kurtosis(train_neg_3[i][0], 0)\n",
    "    train_skew_neg_3[i] = scipy.stats.skew(train_neg_3[i][0], 0)\n",
    "    train_min_neg_3[i] = np.amin(train_neg_3[i][0], 0)\n",
    "    train_max_neg_3[i] = np.amax(train_neg_3[i][0], 0)"
   ]
  },
  {
   "cell_type": "code",
   "execution_count": 84,
   "metadata": {},
   "outputs": [
    {
     "name": "stdout",
     "output_type": "stream",
     "text": [
      "(900, 128)\n",
      "(128,)\n",
      "(128,)\n",
      "(128,)\n",
      "(128,)\n",
      "(128,)\n",
      "(128,)\n"
     ]
    }
   ],
   "source": [
    "print (train_means_neg_3.shape)\n",
    "print (train_std_neg_3[1].shape)\n",
    "print (train_median_neg_3[1].shape)\n",
    "print (train_min_neg_3[1].shape)\n",
    "print (train_max_neg_3[1].shape)\n",
    "print (train_kurtosis_neg_3[1].shape)\n",
    "print (train_skew_neg_3[1].shape)"
   ]
  },
  {
   "cell_type": "code",
   "execution_count": 85,
   "metadata": {},
   "outputs": [],
   "source": [
    "train_features_neg_3 = np.concatenate((train_means_neg_3,train_std_neg_3, train_median_neg_3, train_min_neg_3, train_max_neg_3, train_kurtosis_neg_3, train_skew_neg_3),axis=1)\n"
   ]
  },
  {
   "cell_type": "code",
   "execution_count": 86,
   "metadata": {},
   "outputs": [
    {
     "data": {
      "text/plain": [
       "(900, 896)"
      ]
     },
     "execution_count": 86,
     "metadata": {},
     "output_type": "execute_result"
    }
   ],
   "source": [
    "train_features_neg_3.shape"
   ]
  },
  {
   "cell_type": "markdown",
   "metadata": {},
   "source": [
    "## TEST"
   ]
  },
  {
   "cell_type": "markdown",
   "metadata": {},
   "source": [
    "### Positive"
   ]
  },
  {
   "cell_type": "code",
   "execution_count": 87,
   "metadata": {},
   "outputs": [],
   "source": [
    "with open(os.path.join(\"/Volumes/Ana Elisa/Ana Elisa's MacBook Pro/Documents/NYU_PHD/UrbanSound8/soundscapes/test_\" + str(3) + \"/\"+'pos_test_sel_features.txt'),'rb') as f:\n",
    "        test_pos_3 = pickle.load(f)\n",
    "        \n",
    "        \n",
    "        "
   ]
  },
  {
   "cell_type": "code",
   "execution_count": 88,
   "metadata": {},
   "outputs": [
    {
     "data": {
      "text/plain": [
       "290"
      ]
     },
     "execution_count": 88,
     "metadata": {},
     "output_type": "execute_result"
    }
   ],
   "source": [
    "len(test_pos_3)"
   ]
  },
  {
   "cell_type": "code",
   "execution_count": 89,
   "metadata": {},
   "outputs": [
    {
     "data": {
      "text/plain": [
       "array([[153,  10, 161, ...,   0,  18, 255],\n",
       "       [154,  11, 161, ...,   0,  37, 255],\n",
       "       [154,  11, 162, ...,   0,  32, 255],\n",
       "       ...,\n",
       "       [164,  33, 152, ..., 152,  41, 255],\n",
       "       [164,  35, 159, ..., 220, 249, 255],\n",
       "       [157,  35, 145, ..., 208, 230, 255]], dtype=uint8)"
      ]
     },
     "execution_count": 89,
     "metadata": {},
     "output_type": "execute_result"
    }
   ],
   "source": [
    "test_pos_3[1][0]"
   ]
  },
  {
   "cell_type": "code",
   "execution_count": 90,
   "metadata": {},
   "outputs": [],
   "source": [
    "test_means_pos_3 = np.zeros((len(test_pos_3),test_pos_3[0][0].shape[1]))\n",
    "test_std_pos_3 = np.zeros((len(test_pos_3),test_pos_3[0][0].shape[1]))\n",
    "test_median_pos_3 = np.zeros((len(test_pos_3),test_pos_3[0][0].shape[1]))\n",
    "test_kurtosis_pos_3 = np.zeros((len(test_pos_3),test_pos_3[0][0].shape[1]))\n",
    "test_min_pos_3 = np.zeros((len(test_pos_3),test_pos_3[0][0].shape[1]))\n",
    "test_max_pos_3 = np.zeros((len(test_pos_3),test_pos_3[0][0].shape[1]))\n",
    "test_skew_pos_3 = np.zeros((len(test_pos_3),test_pos_3[0][0].shape[1]))\n",
    "\n",
    "for i in range(len(test_pos_3)):\n",
    "    test_means_pos_3[i] = np.mean(test_pos_3[i][0], 0)\n",
    "    test_std_pos_3[i] = np.std(test_pos_3[i][0], 0)\n",
    "    test_median_pos_3[i] = np.median(test_pos_3[i][0], 0)\n",
    "    test_kurtosis_pos_3[i] = scipy.stats.kurtosis(test_pos_3[i][0], 0)\n",
    "    test_skew_pos_3[i] = scipy.stats.skew(test_pos_3[i][0], 0)\n",
    "    test_min_pos_3[i] = np.amin(test_pos_3[i][0], 0)\n",
    "    test_max_pos_3[i] = np.amax(test_pos_3[i][0], 0)"
   ]
  },
  {
   "cell_type": "code",
   "execution_count": 91,
   "metadata": {},
   "outputs": [
    {
     "name": "stdout",
     "output_type": "stream",
     "text": [
      "(290, 128)\n",
      "(128,)\n",
      "(128,)\n",
      "(128,)\n",
      "(128,)\n",
      "(128,)\n",
      "(128,)\n"
     ]
    }
   ],
   "source": [
    "print (test_means_pos_3.shape)\n",
    "print (test_std_pos_3[1].shape)\n",
    "print (test_median_pos_3[1].shape)\n",
    "print (test_min_pos_3[1].shape)\n",
    "print (test_max_pos_3[1].shape)\n",
    "print (test_kurtosis_pos_3[1].shape)\n",
    "print (test_skew_pos_3[1].shape)"
   ]
  },
  {
   "cell_type": "code",
   "execution_count": 92,
   "metadata": {},
   "outputs": [],
   "source": [
    "test_features_pos_3 = np.concatenate((test_means_pos_3,test_std_pos_3, test_median_pos_3, test_min_pos_3, test_max_pos_3, test_kurtosis_pos_3, test_skew_pos_3),axis=1)\n"
   ]
  },
  {
   "cell_type": "code",
   "execution_count": 93,
   "metadata": {},
   "outputs": [
    {
     "data": {
      "text/plain": [
       "(290, 896)"
      ]
     },
     "execution_count": 93,
     "metadata": {},
     "output_type": "execute_result"
    }
   ],
   "source": [
    "test_features_pos_3.shape"
   ]
  },
  {
   "cell_type": "markdown",
   "metadata": {},
   "source": [
    "### Negative"
   ]
  },
  {
   "cell_type": "code",
   "execution_count": 94,
   "metadata": {},
   "outputs": [],
   "source": [
    "with open(os.path.join(\"/Volumes/Ana Elisa/Ana Elisa's MacBook Pro/Documents/NYU_PHD/UrbanSound8/soundscapes/test_\" + str(3) + \"/\"+'neg_test_sel_features.txt'),'rb') as f:\n",
    "        test_neg_3 = pickle.load(f)\n",
    "        \n",
    "        \n",
    "        "
   ]
  },
  {
   "cell_type": "code",
   "execution_count": 95,
   "metadata": {},
   "outputs": [
    {
     "data": {
      "text/plain": [
       "290"
      ]
     },
     "execution_count": 95,
     "metadata": {},
     "output_type": "execute_result"
    }
   ],
   "source": [
    "len(test_neg_3)"
   ]
  },
  {
   "cell_type": "code",
   "execution_count": 96,
   "metadata": {},
   "outputs": [
    {
     "data": {
      "text/plain": [
       "array([[153,  10, 162, ...,   0,  15, 255],\n",
       "       [159,  15, 181, ...,   3,  83, 255],\n",
       "       [154,  15, 165, ...,  47, 180, 255],\n",
       "       ...,\n",
       "       [157,  21, 158, ..., 239, 255, 255],\n",
       "       [158,  19, 152, ..., 198, 255, 255],\n",
       "       [154,  17, 145, ..., 178, 255, 255]], dtype=uint8)"
      ]
     },
     "execution_count": 96,
     "metadata": {},
     "output_type": "execute_result"
    }
   ],
   "source": [
    "test_neg_3[1][0]"
   ]
  },
  {
   "cell_type": "code",
   "execution_count": 97,
   "metadata": {},
   "outputs": [],
   "source": [
    "test_means_neg_3 = np.zeros((len(test_neg_3),test_neg_3[0][0].shape[1]))\n",
    "test_std_neg_3 = np.zeros((len(test_neg_3),test_neg_3[0][0].shape[1]))\n",
    "test_median_neg_3 = np.zeros((len(test_neg_3),test_neg_3[0][0].shape[1]))\n",
    "test_kurtosis_neg_3 = np.zeros((len(test_neg_3),test_neg_3[0][0].shape[1]))\n",
    "test_min_neg_3 = np.zeros((len(test_neg_3),test_neg_3[0][0].shape[1]))\n",
    "test_max_neg_3 = np.zeros((len(test_neg_3),test_neg_3[0][0].shape[1]))\n",
    "test_skew_neg_3 = np.zeros((len(test_neg_3),test_neg_3[0][0].shape[1]))\n",
    "\n",
    "for i in range(len(test_neg_3)):\n",
    "    test_means_neg_3[i] = np.mean(test_neg_3[i][0], 0)\n",
    "    test_std_neg_3[i] = np.std(test_neg_3[i][0], 0)\n",
    "    test_median_neg_3[i] = np.median(test_neg_3[i][0], 0)\n",
    "    test_kurtosis_neg_3[i] = scipy.stats.kurtosis(test_neg_3[i][0], 0)\n",
    "    test_skew_neg_3[i] = scipy.stats.skew(test_neg_3[i][0], 0)\n",
    "    test_min_neg_3[i] = np.amin(test_neg_3[i][0], 0)\n",
    "    test_max_neg_3[i] = np.amax(test_neg_3[i][0], 0)"
   ]
  },
  {
   "cell_type": "code",
   "execution_count": 98,
   "metadata": {},
   "outputs": [
    {
     "name": "stdout",
     "output_type": "stream",
     "text": [
      "(290, 128)\n",
      "(128,)\n",
      "(128,)\n",
      "(128,)\n",
      "(128,)\n",
      "(128,)\n",
      "(128,)\n"
     ]
    }
   ],
   "source": [
    "print (test_means_neg_3.shape)\n",
    "print (test_std_neg_3[1].shape)\n",
    "print (test_median_neg_3[1].shape)\n",
    "print (test_min_neg_3[1].shape)\n",
    "print (test_max_neg_3[1].shape)\n",
    "print (test_kurtosis_neg_3[1].shape)\n",
    "print (test_skew_neg_3[1].shape)"
   ]
  },
  {
   "cell_type": "code",
   "execution_count": 99,
   "metadata": {},
   "outputs": [],
   "source": [
    "test_features_neg_3 = np.concatenate((test_means_neg_3,test_std_neg_3, test_median_neg_3, test_min_neg_3, test_max_neg_3, test_kurtosis_neg_3, test_skew_neg_3),axis=1)\n"
   ]
  },
  {
   "cell_type": "code",
   "execution_count": 100,
   "metadata": {},
   "outputs": [
    {
     "data": {
      "text/plain": [
       "(290, 896)"
      ]
     },
     "execution_count": 100,
     "metadata": {},
     "output_type": "execute_result"
    }
   ],
   "source": [
    "test_features_neg_3.shape"
   ]
  },
  {
   "cell_type": "markdown",
   "metadata": {},
   "source": [
    "# Compute statistics group 4"
   ]
  },
  {
   "cell_type": "markdown",
   "metadata": {},
   "source": [
    "## TRAIN"
   ]
  },
  {
   "cell_type": "markdown",
   "metadata": {},
   "source": [
    "### Positive"
   ]
  },
  {
   "cell_type": "code",
   "execution_count": 101,
   "metadata": {},
   "outputs": [],
   "source": [
    "with open(os.path.join(\"/Volumes/Ana Elisa/Ana Elisa's MacBook Pro/Documents/NYU_PHD/UrbanSound8/soundscapes/train_\" + str(4) + \"/\"+'pos_train_sel_features.txt'),'rb') as f:\n",
    "        train_pos_4 = pickle.load(f)\n",
    "        \n",
    "        \n",
    "        "
   ]
  },
  {
   "cell_type": "code",
   "execution_count": 102,
   "metadata": {},
   "outputs": [
    {
     "data": {
      "text/plain": [
       "900"
      ]
     },
     "execution_count": 102,
     "metadata": {},
     "output_type": "execute_result"
    }
   ],
   "source": [
    "len(train_pos_4)"
   ]
  },
  {
   "cell_type": "code",
   "execution_count": 103,
   "metadata": {},
   "outputs": [
    {
     "data": {
      "text/plain": [
       "array([[153,   7, 164, ...,   0,   9, 255],\n",
       "       [153,   9, 163, ...,   0,  49, 255],\n",
       "       [152,   5, 169, ...,   0,   2, 255],\n",
       "       ...,\n",
       "       [154,  27, 127, ..., 255, 113, 255],\n",
       "       [153,  27, 126, ..., 217,  26, 255],\n",
       "       [160,  33, 150, ..., 255, 132, 255]], dtype=uint8)"
      ]
     },
     "execution_count": 103,
     "metadata": {},
     "output_type": "execute_result"
    }
   ],
   "source": [
    "train_pos_4[1][0]"
   ]
  },
  {
   "cell_type": "code",
   "execution_count": 104,
   "metadata": {},
   "outputs": [],
   "source": [
    "train_means_pos_4 = np.zeros((len(train_pos_4),train_pos_4[0][0].shape[1]))\n",
    "train_std_pos_4 = np.zeros((len(train_pos_4),train_pos_4[0][0].shape[1]))\n",
    "train_median_pos_4 = np.zeros((len(train_pos_4),train_pos_4[0][0].shape[1]))\n",
    "train_kurtosis_pos_4 = np.zeros((len(train_pos_4),train_pos_4[0][0].shape[1]))\n",
    "train_min_pos_4 = np.zeros((len(train_pos_4),train_pos_4[0][0].shape[1]))\n",
    "train_max_pos_4 = np.zeros((len(train_pos_4),train_pos_4[0][0].shape[1]))\n",
    "train_skew_pos_4 = np.zeros((len(train_pos_4),train_pos_4[0][0].shape[1]))\n",
    "\n",
    "for i in range(len(train_pos_4)):\n",
    "    train_means_pos_4[i] = np.mean(train_pos_4[i][0], 0)\n",
    "    train_std_pos_4[i] = np.std(train_pos_4[i][0], 0)\n",
    "    train_median_pos_4[i] = np.median(train_pos_4[i][0], 0)\n",
    "    train_kurtosis_pos_4[i] = scipy.stats.kurtosis(train_pos_4[i][0], 0)\n",
    "    train_skew_pos_4[i] = scipy.stats.skew(train_pos_4[i][0], 0)\n",
    "    train_min_pos_4[i] = np.amin(train_pos_4[i][0], 0)\n",
    "    train_max_pos_4[i] = np.amax(train_pos_4[i][0], 0)"
   ]
  },
  {
   "cell_type": "code",
   "execution_count": 105,
   "metadata": {},
   "outputs": [
    {
     "name": "stdout",
     "output_type": "stream",
     "text": [
      "(900, 128)\n",
      "(128,)\n",
      "(128,)\n",
      "(128,)\n",
      "(128,)\n",
      "(128,)\n",
      "(128,)\n"
     ]
    }
   ],
   "source": [
    "print (train_means_pos_4.shape)\n",
    "print (train_std_pos_4[1].shape)\n",
    "print (train_median_pos_4[1].shape)\n",
    "print (train_min_pos_4[1].shape)\n",
    "print (train_max_pos_4[1].shape)\n",
    "print (train_kurtosis_pos_4[1].shape)\n",
    "print (train_skew_pos_4[1].shape)"
   ]
  },
  {
   "cell_type": "code",
   "execution_count": 106,
   "metadata": {},
   "outputs": [],
   "source": [
    "train_features_pos_4 = np.concatenate((train_means_pos_4,train_std_pos_4, train_median_pos_4, train_min_pos_4, train_max_pos_4, train_kurtosis_pos_4, train_skew_pos_4),axis=1)\n"
   ]
  },
  {
   "cell_type": "code",
   "execution_count": 107,
   "metadata": {},
   "outputs": [
    {
     "data": {
      "text/plain": [
       "(900, 896)"
      ]
     },
     "execution_count": 107,
     "metadata": {},
     "output_type": "execute_result"
    }
   ],
   "source": [
    "train_features_pos_4.shape"
   ]
  },
  {
   "cell_type": "markdown",
   "metadata": {},
   "source": [
    "### Negative"
   ]
  },
  {
   "cell_type": "code",
   "execution_count": 108,
   "metadata": {},
   "outputs": [],
   "source": [
    "with open(os.path.join(\"/Volumes/Ana Elisa/Ana Elisa's MacBook Pro/Documents/NYU_PHD/UrbanSound8/soundscapes/train_\" + str(4) + \"/\"+'neg_train_sel_features.txt'),'rb') as f:\n",
    "        train_neg_4 = pickle.load(f)\n",
    "        \n",
    "        \n",
    "        "
   ]
  },
  {
   "cell_type": "code",
   "execution_count": 109,
   "metadata": {},
   "outputs": [
    {
     "data": {
      "text/plain": [
       "900"
      ]
     },
     "execution_count": 109,
     "metadata": {},
     "output_type": "execute_result"
    }
   ],
   "source": [
    "len(train_neg_4)"
   ]
  },
  {
   "cell_type": "code",
   "execution_count": 110,
   "metadata": {},
   "outputs": [
    {
     "data": {
      "text/plain": [
       "array([[153,  10, 161, ...,   0,  18, 255],\n",
       "       [154,  11, 161, ...,   0,  37, 255],\n",
       "       [154,  11, 162, ...,   0,  29, 255],\n",
       "       ...,\n",
       "       [159,  39, 146, ...,  30, 126, 255],\n",
       "       [168,  49, 174, ..., 253,  69, 255],\n",
       "       [174,  48, 181, ..., 217,  62, 255]], dtype=uint8)"
      ]
     },
     "execution_count": 110,
     "metadata": {},
     "output_type": "execute_result"
    }
   ],
   "source": [
    "train_neg_4[1][0]"
   ]
  },
  {
   "cell_type": "code",
   "execution_count": 111,
   "metadata": {},
   "outputs": [],
   "source": [
    "train_means_neg_4 = np.zeros((len(train_neg_3),train_neg_3[0][0].shape[1]))\n",
    "train_std_neg_4 = np.zeros((len(train_neg_3),train_neg_3[0][0].shape[1]))\n",
    "train_median_neg_4 = np.zeros((len(train_neg_3),train_neg_3[0][0].shape[1]))\n",
    "train_kurtosis_neg_4 = np.zeros((len(train_neg_3),train_neg_3[0][0].shape[1]))\n",
    "train_min_neg_4 = np.zeros((len(train_neg_3),train_neg_3[0][0].shape[1]))\n",
    "train_max_neg_4 = np.zeros((len(train_neg_3),train_neg_3[0][0].shape[1]))\n",
    "train_skew_neg_4 = np.zeros((len(train_neg_3),train_neg_3[0][0].shape[1]))\n",
    "\n",
    "for i in range(len(train_neg_4)):\n",
    "    train_means_neg_4[i] = np.mean(train_neg_4[i][0], 0)\n",
    "    train_std_neg_4[i] = np.std(train_neg_4[i][0], 0)\n",
    "    train_median_neg_4[i] = np.median(train_neg_4[i][0], 0)\n",
    "    train_kurtosis_neg_4[i] = scipy.stats.kurtosis(train_neg_4[i][0], 0)\n",
    "    train_skew_neg_4[i] = scipy.stats.skew(train_neg_4[i][0], 0)\n",
    "    train_min_neg_4[i] = np.amin(train_neg_4[i][0], 0)\n",
    "    train_max_neg_4[i] = np.amax(train_neg_4[i][0], 0)"
   ]
  },
  {
   "cell_type": "code",
   "execution_count": 112,
   "metadata": {},
   "outputs": [
    {
     "name": "stdout",
     "output_type": "stream",
     "text": [
      "(900, 128)\n",
      "(128,)\n",
      "(128,)\n",
      "(128,)\n",
      "(128,)\n",
      "(128,)\n",
      "(128,)\n"
     ]
    }
   ],
   "source": [
    "print (train_means_neg_4.shape)\n",
    "print (train_std_neg_4[1].shape)\n",
    "print (train_median_neg_4[1].shape)\n",
    "print (train_min_neg_4[1].shape)\n",
    "print (train_max_neg_4[1].shape)\n",
    "print (train_kurtosis_neg_4[1].shape)\n",
    "print (train_skew_neg_4[1].shape)"
   ]
  },
  {
   "cell_type": "code",
   "execution_count": 113,
   "metadata": {},
   "outputs": [],
   "source": [
    "train_features_neg_4 = np.concatenate((train_means_neg_4,train_std_neg_4, train_median_neg_4, train_min_neg_4, train_max_neg_4, train_kurtosis_neg_4, train_skew_neg_4),axis=1)\n"
   ]
  },
  {
   "cell_type": "code",
   "execution_count": 114,
   "metadata": {},
   "outputs": [
    {
     "data": {
      "text/plain": [
       "(900, 896)"
      ]
     },
     "execution_count": 114,
     "metadata": {},
     "output_type": "execute_result"
    }
   ],
   "source": [
    "train_features_neg_4.shape"
   ]
  },
  {
   "cell_type": "markdown",
   "metadata": {},
   "source": [
    "## TEST"
   ]
  },
  {
   "cell_type": "markdown",
   "metadata": {},
   "source": [
    "### Positive"
   ]
  },
  {
   "cell_type": "code",
   "execution_count": 115,
   "metadata": {},
   "outputs": [],
   "source": [
    "with open(os.path.join(\"/Volumes/Ana Elisa/Ana Elisa's MacBook Pro/Documents/NYU_PHD/UrbanSound8/soundscapes/test_\" + str(4) + \"/\"+'pos_test_sel_features.txt'),'rb') as f:\n",
    "        test_pos_4 = pickle.load(f)\n",
    "        \n",
    "        \n",
    "        "
   ]
  },
  {
   "cell_type": "code",
   "execution_count": 116,
   "metadata": {},
   "outputs": [
    {
     "data": {
      "text/plain": [
       "290"
      ]
     },
     "execution_count": 116,
     "metadata": {},
     "output_type": "execute_result"
    }
   ],
   "source": [
    "len(test_pos_4)"
   ]
  },
  {
   "cell_type": "code",
   "execution_count": 117,
   "metadata": {},
   "outputs": [
    {
     "data": {
      "text/plain": [
       "array([[160,  15, 185, ..., 205, 102, 255],\n",
       "       [158,  17, 181, ..., 235, 124, 255],\n",
       "       [158,  20, 171, ..., 255, 180, 255],\n",
       "       ...,\n",
       "       [148,  21, 130, ...,   0,   0, 255],\n",
       "       [149,  25, 132, ...,   0,   0, 255],\n",
       "       [151,  23, 148, ...,   0,  30, 255]], dtype=uint8)"
      ]
     },
     "execution_count": 117,
     "metadata": {},
     "output_type": "execute_result"
    }
   ],
   "source": [
    "test_pos_4[1][0]"
   ]
  },
  {
   "cell_type": "code",
   "execution_count": 118,
   "metadata": {},
   "outputs": [],
   "source": [
    "test_means_pos_4 = np.zeros((len(test_pos_4),test_pos_4[0][0].shape[1]))\n",
    "test_std_pos_4 = np.zeros((len(test_pos_4),test_pos_4[0][0].shape[1]))\n",
    "test_median_pos_4 = np.zeros((len(test_pos_4),test_pos_4[0][0].shape[1]))\n",
    "test_kurtosis_pos_4 = np.zeros((len(test_pos_4),test_pos_4[0][0].shape[1]))\n",
    "test_min_pos_4 = np.zeros((len(test_pos_4),test_pos_4[0][0].shape[1]))\n",
    "test_max_pos_4 = np.zeros((len(test_pos_4),test_pos_4[0][0].shape[1]))\n",
    "test_skew_pos_4 = np.zeros((len(test_pos_4),test_pos_4[0][0].shape[1]))\n",
    "\n",
    "for i in range(len(test_pos_4)):\n",
    "    test_means_pos_4[i] = np.mean(test_pos_4[i][0], 0)\n",
    "    test_std_pos_4[i] = np.std(test_pos_4[i][0], 0)\n",
    "    test_median_pos_4[i] = np.median(test_pos_4[i][0], 0)\n",
    "    test_kurtosis_pos_4[i] = scipy.stats.kurtosis(test_pos_4[i][0], 0)\n",
    "    test_skew_pos_4[i] = scipy.stats.skew(test_pos_4[i][0], 0)\n",
    "    test_min_pos_4[i] = np.amin(test_pos_4[i][0], 0)\n",
    "    test_max_pos_4[i] = np.amax(test_pos_4[i][0], 0)"
   ]
  },
  {
   "cell_type": "code",
   "execution_count": 119,
   "metadata": {},
   "outputs": [
    {
     "name": "stdout",
     "output_type": "stream",
     "text": [
      "(290, 128)\n",
      "(128,)\n",
      "(128,)\n",
      "(128,)\n",
      "(128,)\n",
      "(128,)\n",
      "(128,)\n"
     ]
    }
   ],
   "source": [
    "print (test_means_pos_4.shape)\n",
    "print (test_std_pos_4[1].shape)\n",
    "print (test_median_pos_4[1].shape)\n",
    "print (test_min_pos_4[1].shape)\n",
    "print (test_max_pos_4[1].shape)\n",
    "print (test_kurtosis_pos_4[1].shape)\n",
    "print (test_skew_pos_4[1].shape)"
   ]
  },
  {
   "cell_type": "code",
   "execution_count": 120,
   "metadata": {},
   "outputs": [],
   "source": [
    "test_features_pos_4 = np.concatenate((test_means_pos_4,test_std_pos_4, test_median_pos_4, test_min_pos_4, test_max_pos_4, test_kurtosis_pos_4, test_skew_pos_4),axis=1)\n"
   ]
  },
  {
   "cell_type": "code",
   "execution_count": 121,
   "metadata": {},
   "outputs": [
    {
     "data": {
      "text/plain": [
       "(290, 896)"
      ]
     },
     "execution_count": 121,
     "metadata": {},
     "output_type": "execute_result"
    }
   ],
   "source": [
    "test_features_pos_4.shape"
   ]
  },
  {
   "cell_type": "markdown",
   "metadata": {},
   "source": [
    "### Negative"
   ]
  },
  {
   "cell_type": "code",
   "execution_count": 122,
   "metadata": {},
   "outputs": [],
   "source": [
    "with open(os.path.join(\"/Volumes/Ana Elisa/Ana Elisa's MacBook Pro/Documents/NYU_PHD/UrbanSound8/soundscapes/test_\" + str(4) + \"/\"+'neg_test_sel_features.txt'),'rb') as f:\n",
    "        test_neg_4 = pickle.load(f)\n",
    "        \n",
    "        \n",
    "        "
   ]
  },
  {
   "cell_type": "code",
   "execution_count": 123,
   "metadata": {},
   "outputs": [
    {
     "data": {
      "text/plain": [
       "290"
      ]
     },
     "execution_count": 123,
     "metadata": {},
     "output_type": "execute_result"
    }
   ],
   "source": [
    "len(test_neg_4)"
   ]
  },
  {
   "cell_type": "code",
   "execution_count": 124,
   "metadata": {},
   "outputs": [
    {
     "data": {
      "text/plain": [
       "array([[153,   7, 164, ...,   0,   7, 255],\n",
       "       [153,   9, 163, ...,   0,  48, 255],\n",
       "       [153,   6, 164, ...,   0,   5, 255],\n",
       "       ...,\n",
       "       [156,  30, 150, ..., 151, 221, 255],\n",
       "       [159,  36, 164, ..., 190,  91, 255],\n",
       "       [156,  30, 148, ..., 223, 236, 255]], dtype=uint8)"
      ]
     },
     "execution_count": 124,
     "metadata": {},
     "output_type": "execute_result"
    }
   ],
   "source": [
    "test_neg_4[1][0]"
   ]
  },
  {
   "cell_type": "code",
   "execution_count": 125,
   "metadata": {},
   "outputs": [],
   "source": [
    "test_means_neg_4 = np.zeros((len(test_neg_4),test_neg_4[0][0].shape[1]))\n",
    "test_std_neg_4 = np.zeros((len(test_neg_4),test_neg_4[0][0].shape[1]))\n",
    "test_median_neg_4 = np.zeros((len(test_neg_4),test_neg_4[0][0].shape[1]))\n",
    "test_kurtosis_neg_4 = np.zeros((len(test_neg_4),test_neg_4[0][0].shape[1]))\n",
    "test_min_neg_4 = np.zeros((len(test_neg_4),test_neg_4[0][0].shape[1]))\n",
    "test_max_neg_4 = np.zeros((len(test_neg_4),test_neg_4[0][0].shape[1]))\n",
    "test_skew_neg_4 = np.zeros((len(test_neg_4),test_neg_4[0][0].shape[1]))\n",
    "\n",
    "for i in range(len(test_neg_4)):\n",
    "    test_means_neg_4[i] = np.mean(test_neg_4[i][0], 0)\n",
    "    test_std_neg_4[i] = np.std(test_neg_4[i][0], 0)\n",
    "    test_median_neg_4[i] = np.median(test_neg_4[i][0], 0)\n",
    "    test_kurtosis_neg_4[i] = scipy.stats.kurtosis(test_neg_4[i][0], 0)\n",
    "    test_skew_neg_4[i] = scipy.stats.skew(test_neg_4[i][0], 0)\n",
    "    test_min_neg_4[i] = np.amin(test_neg_4[i][0], 0)\n",
    "    test_max_neg_4[i] = np.amax(test_neg_4[i][0], 0)"
   ]
  },
  {
   "cell_type": "code",
   "execution_count": 126,
   "metadata": {},
   "outputs": [
    {
     "name": "stdout",
     "output_type": "stream",
     "text": [
      "(290, 128)\n",
      "(128,)\n",
      "(128,)\n",
      "(128,)\n",
      "(128,)\n",
      "(128,)\n",
      "(128,)\n"
     ]
    }
   ],
   "source": [
    "print (test_means_neg_4.shape)\n",
    "print (test_std_neg_4[1].shape)\n",
    "print (test_median_neg_4[1].shape)\n",
    "print (test_min_neg_4[1].shape)\n",
    "print (test_max_neg_4[1].shape)\n",
    "print (test_kurtosis_neg_4[1].shape)\n",
    "print (test_skew_neg_4[1].shape)"
   ]
  },
  {
   "cell_type": "code",
   "execution_count": 127,
   "metadata": {},
   "outputs": [],
   "source": [
    "test_features_neg_4 = np.concatenate((test_means_neg_4,test_std_neg_4, test_median_neg_4, test_min_neg_4, test_max_neg_4, test_kurtosis_neg_4, test_skew_neg_4),axis=1)\n"
   ]
  },
  {
   "cell_type": "code",
   "execution_count": 129,
   "metadata": {},
   "outputs": [
    {
     "data": {
      "text/plain": [
       "(290, 896)"
      ]
     },
     "execution_count": 129,
     "metadata": {},
     "output_type": "execute_result"
    }
   ],
   "source": [
    "test_features_neg_4.shape"
   ]
  },
  {
   "cell_type": "markdown",
   "metadata": {},
   "source": [
    "# Compute statistics group 5"
   ]
  },
  {
   "cell_type": "markdown",
   "metadata": {},
   "source": [
    "## TRAIN"
   ]
  },
  {
   "cell_type": "markdown",
   "metadata": {},
   "source": [
    "### Positive"
   ]
  },
  {
   "cell_type": "code",
   "execution_count": 130,
   "metadata": {},
   "outputs": [],
   "source": [
    "with open(os.path.join(\"/Volumes/Ana Elisa/Ana Elisa's MacBook Pro/Documents/NYU_PHD/UrbanSound8/soundscapes/train_\" + str(5) + \"/\"+'pos_train_sel_features.txt'),'rb') as f:\n",
    "        train_pos_5 = pickle.load(f)\n",
    "        \n",
    "        \n",
    "        "
   ]
  },
  {
   "cell_type": "code",
   "execution_count": 131,
   "metadata": {},
   "outputs": [
    {
     "data": {
      "text/plain": [
       "900"
      ]
     },
     "execution_count": 131,
     "metadata": {},
     "output_type": "execute_result"
    }
   ],
   "source": [
    "len(train_pos_5)"
   ]
  },
  {
   "cell_type": "code",
   "execution_count": 132,
   "metadata": {},
   "outputs": [
    {
     "data": {
      "text/plain": [
       "array([[184,  50, 211, ..., 117,   0, 255],\n",
       "       [188,  52, 227, ...,  75,   0, 255],\n",
       "       [179,  39, 198, ...,  35,   0, 255],\n",
       "       ...,\n",
       "       [168,  30, 174, ..., 142, 143, 255],\n",
       "       [158,  29, 159, ...,  65, 142, 255],\n",
       "       [153,  21, 159, ...,   8, 255, 255]], dtype=uint8)"
      ]
     },
     "execution_count": 132,
     "metadata": {},
     "output_type": "execute_result"
    }
   ],
   "source": [
    "train_pos_5[1][0]"
   ]
  },
  {
   "cell_type": "code",
   "execution_count": 133,
   "metadata": {},
   "outputs": [],
   "source": [
    "train_means_pos_5 = np.zeros((len(train_pos_5),train_pos_5[0][0].shape[1]))\n",
    "train_std_pos_5 = np.zeros((len(train_pos_5),train_pos_5[0][0].shape[1]))\n",
    "train_median_pos_5 = np.zeros((len(train_pos_5),train_pos_5[0][0].shape[1]))\n",
    "train_kurtosis_pos_5 = np.zeros((len(train_pos_5),train_pos_5[0][0].shape[1]))\n",
    "train_min_pos_5 = np.zeros((len(train_pos_5),train_pos_5[0][0].shape[1]))\n",
    "train_max_pos_5 = np.zeros((len(train_pos_5),train_pos_5[0][0].shape[1]))\n",
    "train_skew_pos_5 = np.zeros((len(train_pos_5),train_pos_5[0][0].shape[1]))\n",
    "\n",
    "for i in range(len(train_pos_5)):\n",
    "    train_means_pos_5[i] = np.mean(train_pos_5[i][0], 0)\n",
    "    train_std_pos_5[i] = np.std(train_pos_5[i][0], 0)\n",
    "    train_median_pos_5[i] = np.median(train_pos_5[i][0], 0)\n",
    "    train_kurtosis_pos_5[i] = scipy.stats.kurtosis(train_pos_5[i][0], 0)\n",
    "    train_skew_pos_5[i] = scipy.stats.skew(train_pos_5[i][0], 0)\n",
    "    train_min_pos_5[i] = np.amin(train_pos_5[i][0], 0)\n",
    "    train_max_pos_5[i] = np.amax(train_pos_5[i][0], 0)"
   ]
  },
  {
   "cell_type": "code",
   "execution_count": 134,
   "metadata": {},
   "outputs": [
    {
     "name": "stdout",
     "output_type": "stream",
     "text": [
      "(900, 128)\n",
      "(128,)\n",
      "(128,)\n",
      "(128,)\n",
      "(128,)\n",
      "(128,)\n",
      "(128,)\n"
     ]
    }
   ],
   "source": [
    "print (train_means_pos_5.shape)\n",
    "print (train_std_pos_5[1].shape)\n",
    "print (train_median_pos_5[1].shape)\n",
    "print (train_min_pos_5[1].shape)\n",
    "print (train_max_pos_5[1].shape)\n",
    "print (train_kurtosis_pos_5[1].shape)\n",
    "print (train_skew_pos_5[1].shape)"
   ]
  },
  {
   "cell_type": "code",
   "execution_count": 135,
   "metadata": {},
   "outputs": [],
   "source": [
    "train_features_pos_5 = np.concatenate((train_means_pos_5,train_std_pos_5, train_median_pos_5, train_min_pos_5, train_max_pos_5, train_kurtosis_pos_5, train_skew_pos_5),axis=1)\n"
   ]
  },
  {
   "cell_type": "code",
   "execution_count": 136,
   "metadata": {},
   "outputs": [
    {
     "data": {
      "text/plain": [
       "(900, 896)"
      ]
     },
     "execution_count": 136,
     "metadata": {},
     "output_type": "execute_result"
    }
   ],
   "source": [
    "train_features_pos_5.shape"
   ]
  },
  {
   "cell_type": "markdown",
   "metadata": {},
   "source": [
    "### Negative"
   ]
  },
  {
   "cell_type": "code",
   "execution_count": 137,
   "metadata": {},
   "outputs": [],
   "source": [
    "with open(os.path.join(\"/Volumes/Ana Elisa/Ana Elisa's MacBook Pro/Documents/NYU_PHD/UrbanSound8/soundscapes/train_\" + str(5) + \"/\"+'neg_train_sel_features.txt'),'rb') as f:\n",
    "        train_neg_5 = pickle.load(f)\n",
    "        \n",
    "        \n",
    "        "
   ]
  },
  {
   "cell_type": "code",
   "execution_count": 138,
   "metadata": {},
   "outputs": [
    {
     "data": {
      "text/plain": [
       "900"
      ]
     },
     "execution_count": 138,
     "metadata": {},
     "output_type": "execute_result"
    }
   ],
   "source": [
    "len(train_neg_5)"
   ]
  },
  {
   "cell_type": "code",
   "execution_count": 141,
   "metadata": {},
   "outputs": [
    {
     "data": {
      "text/plain": [
       "array([[153,   8, 163, ...,   0,  11, 255],\n",
       "       [154,  10, 163, ...,   0,  39, 255],\n",
       "       [153,   7, 164, ...,   0,  11, 255],\n",
       "       ...,\n",
       "       [150,  22, 152, ...,  11, 255, 255],\n",
       "       [148,  24, 149, ...,   0, 255, 255],\n",
       "       [151,  32, 146, ...,  33, 255, 255]], dtype=uint8)"
      ]
     },
     "execution_count": 141,
     "metadata": {},
     "output_type": "execute_result"
    }
   ],
   "source": [
    "train_neg_5[1][0]"
   ]
  },
  {
   "cell_type": "code",
   "execution_count": 142,
   "metadata": {},
   "outputs": [],
   "source": [
    "train_means_neg_5 = np.zeros((len(train_neg_5),train_neg_5[0][0].shape[1]))\n",
    "train_std_neg_5 = np.zeros((len(train_neg_5),train_neg_5[0][0].shape[1]))\n",
    "train_median_neg_5 = np.zeros((len(train_neg_5),train_neg_5[0][0].shape[1]))\n",
    "train_kurtosis_neg_5 = np.zeros((len(train_neg_5),train_neg_5[0][0].shape[1]))\n",
    "train_min_neg_5 = np.zeros((len(train_neg_5),train_neg_5[0][0].shape[1]))\n",
    "train_max_neg_5 = np.zeros((len(train_neg_5),train_neg_5[0][0].shape[1]))\n",
    "train_skew_neg_5 = np.zeros((len(train_neg_5),train_neg_5[0][0].shape[1]))\n",
    "\n",
    "for i in range(len(train_neg_5)):\n",
    "    train_means_neg_5[i] = np.mean(train_neg_5[i][0], 0)\n",
    "    train_std_neg_5[i] = np.std(train_neg_5[i][0], 0)\n",
    "    train_median_neg_5[i] = np.median(train_neg_5[i][0], 0)\n",
    "    train_kurtosis_neg_5[i] = scipy.stats.kurtosis(train_neg_5[i][0], 0)\n",
    "    train_skew_neg_5[i] = scipy.stats.skew(train_neg_5[i][0], 0)\n",
    "    train_min_neg_5[i] = np.amin(train_neg_5[i][0], 0)\n",
    "    train_max_neg_5[i] = np.amax(train_neg_5[i][0], 0)"
   ]
  },
  {
   "cell_type": "code",
   "execution_count": 143,
   "metadata": {},
   "outputs": [
    {
     "name": "stdout",
     "output_type": "stream",
     "text": [
      "(900, 128)\n",
      "(128,)\n",
      "(128,)\n",
      "(128,)\n",
      "(128,)\n",
      "(128,)\n",
      "(128,)\n"
     ]
    }
   ],
   "source": [
    "print (train_means_neg_5.shape)\n",
    "print (train_std_neg_5[1].shape)\n",
    "print (train_median_neg_5[1].shape)\n",
    "print (train_min_neg_5[1].shape)\n",
    "print (train_max_neg_5[1].shape)\n",
    "print (train_kurtosis_neg_5[1].shape)\n",
    "print (train_skew_neg_5[1].shape)"
   ]
  },
  {
   "cell_type": "code",
   "execution_count": 144,
   "metadata": {},
   "outputs": [],
   "source": [
    "train_features_neg_5 = np.concatenate((train_means_neg_5,train_std_neg_5, train_median_neg_5, train_min_neg_5, train_max_neg_5, train_kurtosis_neg_5, train_skew_neg_5),axis=1)\n"
   ]
  },
  {
   "cell_type": "code",
   "execution_count": 145,
   "metadata": {},
   "outputs": [
    {
     "data": {
      "text/plain": [
       "(900, 896)"
      ]
     },
     "execution_count": 145,
     "metadata": {},
     "output_type": "execute_result"
    }
   ],
   "source": [
    "train_features_neg_5.shape"
   ]
  },
  {
   "cell_type": "markdown",
   "metadata": {},
   "source": [
    "## TEST"
   ]
  },
  {
   "cell_type": "markdown",
   "metadata": {},
   "source": [
    "### Positive"
   ]
  },
  {
   "cell_type": "code",
   "execution_count": 146,
   "metadata": {},
   "outputs": [],
   "source": [
    "with open(os.path.join(\"/Volumes/Ana Elisa/Ana Elisa's MacBook Pro/Documents/NYU_PHD/UrbanSound8/soundscapes/test_\" + str(5) + \"/\"+'pos_test_sel_features.txt'),'rb') as f:\n",
    "        test_pos_5 = pickle.load(f)\n",
    "        \n",
    "        \n",
    "        "
   ]
  },
  {
   "cell_type": "code",
   "execution_count": 147,
   "metadata": {},
   "outputs": [
    {
     "data": {
      "text/plain": [
       "290"
      ]
     },
     "execution_count": 147,
     "metadata": {},
     "output_type": "execute_result"
    }
   ],
   "source": [
    "len(test_pos_5)"
   ]
  },
  {
   "cell_type": "code",
   "execution_count": 148,
   "metadata": {},
   "outputs": [
    {
     "data": {
      "text/plain": [
       "array([[156,  13, 181, ...,  39,  24, 255],\n",
       "       [158,  17, 177, ..., 173, 127, 255],\n",
       "       [163,  33, 179, ..., 148, 185, 255],\n",
       "       ...,\n",
       "       [155,  18, 141, ...,  28,  20, 255],\n",
       "       [161,  22, 159, ...,   0,  66, 255],\n",
       "       [156,  25, 157, ..., 209,  78, 255]], dtype=uint8)"
      ]
     },
     "execution_count": 148,
     "metadata": {},
     "output_type": "execute_result"
    }
   ],
   "source": [
    "test_pos_5[1][0]"
   ]
  },
  {
   "cell_type": "code",
   "execution_count": 150,
   "metadata": {},
   "outputs": [],
   "source": [
    "test_means_pos_5 = np.zeros((len(test_pos_5),test_pos_5[0][0].shape[1]))\n",
    "test_std_pos_5 = np.zeros((len(test_pos_5),test_pos_4[0][0].shape[1]))\n",
    "test_median_pos_5 = np.zeros((len(test_pos_5),test_pos_5[0][0].shape[1]))\n",
    "test_kurtosis_pos_5 = np.zeros((len(test_pos_5),test_pos_5[0][0].shape[1]))\n",
    "test_min_pos_5 = np.zeros((len(test_pos_5),test_pos_5[0][0].shape[1]))\n",
    "test_max_pos_5 = np.zeros((len(test_pos_5),test_pos_5[0][0].shape[1]))\n",
    "test_skew_pos_5 = np.zeros((len(test_pos_5),test_pos_5[0][0].shape[1]))\n",
    "\n",
    "for i in range(len(test_pos_5)):\n",
    "    test_means_pos_5[i] = np.mean(test_pos_5[i][0], 0)\n",
    "    test_std_pos_5[i] = np.std(test_pos_5[i][0], 0)\n",
    "    test_median_pos_5[i] = np.median(test_pos_5[i][0], 0)\n",
    "    test_kurtosis_pos_5[i] = scipy.stats.kurtosis(test_pos_5[i][0], 0)\n",
    "    test_skew_pos_5[i] = scipy.stats.skew(test_pos_5[i][0], 0)\n",
    "    test_min_pos_5[i] = np.amin(test_pos_5[i][0], 0)\n",
    "    test_max_pos_5[i] = np.amax(test_pos_5[i][0], 0)"
   ]
  },
  {
   "cell_type": "code",
   "execution_count": 151,
   "metadata": {},
   "outputs": [
    {
     "name": "stdout",
     "output_type": "stream",
     "text": [
      "(290, 128)\n",
      "(128,)\n",
      "(128,)\n",
      "(128,)\n",
      "(128,)\n",
      "(128,)\n",
      "(128,)\n"
     ]
    }
   ],
   "source": [
    "print (test_means_pos_5.shape)\n",
    "print (test_std_pos_5[1].shape)\n",
    "print (test_median_pos_5[1].shape)\n",
    "print (test_min_pos_5[1].shape)\n",
    "print (test_max_pos_5[1].shape)\n",
    "print (test_kurtosis_pos_5[1].shape)\n",
    "print (test_skew_pos_5[1].shape)"
   ]
  },
  {
   "cell_type": "code",
   "execution_count": 152,
   "metadata": {},
   "outputs": [],
   "source": [
    "test_features_pos_5 = np.concatenate((test_means_pos_5,test_std_pos_5, test_median_pos_5, test_min_pos_5, test_max_pos_5, test_kurtosis_pos_5, test_skew_pos_5),axis=1)\n"
   ]
  },
  {
   "cell_type": "code",
   "execution_count": 153,
   "metadata": {},
   "outputs": [
    {
     "data": {
      "text/plain": [
       "(290, 896)"
      ]
     },
     "execution_count": 153,
     "metadata": {},
     "output_type": "execute_result"
    }
   ],
   "source": [
    "test_features_pos_5.shape"
   ]
  },
  {
   "cell_type": "markdown",
   "metadata": {},
   "source": [
    "### Negative"
   ]
  },
  {
   "cell_type": "code",
   "execution_count": 154,
   "metadata": {},
   "outputs": [],
   "source": [
    "with open(os.path.join(\"/Volumes/Ana Elisa/Ana Elisa's MacBook Pro/Documents/NYU_PHD/UrbanSound8/soundscapes/test_\" + str(5) + \"/\"+'neg_test_sel_features.txt'),'rb') as f:\n",
    "        test_neg_5 = pickle.load(f)\n",
    "        \n",
    "        \n",
    "        "
   ]
  },
  {
   "cell_type": "code",
   "execution_count": 155,
   "metadata": {},
   "outputs": [
    {
     "data": {
      "text/plain": [
       "290"
      ]
     },
     "execution_count": 155,
     "metadata": {},
     "output_type": "execute_result"
    }
   ],
   "source": [
    "len(test_neg_5)"
   ]
  },
  {
   "cell_type": "code",
   "execution_count": 156,
   "metadata": {},
   "outputs": [
    {
     "data": {
      "text/plain": [
       "array([[153,  11, 167, ...,   0,  88, 255],\n",
       "       [157,  18, 160, ..., 101, 202, 255],\n",
       "       [166,  38, 171, ..., 104, 194, 255],\n",
       "       ...,\n",
       "       [153,   5, 160, ...,   0,   8, 255],\n",
       "       [153,  11, 165, ...,   0,   0, 255],\n",
       "       [152,   9, 164, ...,  11,   6, 255]], dtype=uint8)"
      ]
     },
     "execution_count": 156,
     "metadata": {},
     "output_type": "execute_result"
    }
   ],
   "source": [
    "test_neg_5[1][0]"
   ]
  },
  {
   "cell_type": "code",
   "execution_count": 157,
   "metadata": {},
   "outputs": [],
   "source": [
    "test_means_neg_5 = np.zeros((len(test_neg_5),test_neg_5[0][0].shape[1]))\n",
    "test_std_neg_5 = np.zeros((len(test_neg_5),test_neg_5[0][0].shape[1]))\n",
    "test_median_neg_5 = np.zeros((len(test_neg_5),test_neg_5[0][0].shape[1]))\n",
    "test_kurtosis_neg_5 = np.zeros((len(test_neg_5),test_neg_5[0][0].shape[1]))\n",
    "test_min_neg_5 = np.zeros((len(test_neg_5),test_neg_5[0][0].shape[1]))\n",
    "test_max_neg_5 = np.zeros((len(test_neg_5),test_neg_5[0][0].shape[1]))\n",
    "test_skew_neg_5 = np.zeros((len(test_neg_5),test_neg_5[0][0].shape[1]))\n",
    "\n",
    "for i in range(len(test_neg_5)):\n",
    "    test_means_neg_5[i] = np.mean(test_neg_5[i][0], 0)\n",
    "    test_std_neg_5[i] = np.std(test_neg_5[i][0], 0)\n",
    "    test_median_neg_5[i] = np.median(test_neg_5[i][0], 0)\n",
    "    test_kurtosis_neg_5[i] = scipy.stats.kurtosis(test_neg_5[i][0], 0)\n",
    "    test_skew_neg_5[i] = scipy.stats.skew(test_neg_5[i][0], 0)\n",
    "    test_min_neg_5[i] = np.amin(test_neg_5[i][0], 0)\n",
    "    test_max_neg_5[i] = np.amax(test_neg_5[i][0], 0)"
   ]
  },
  {
   "cell_type": "code",
   "execution_count": 158,
   "metadata": {},
   "outputs": [
    {
     "name": "stdout",
     "output_type": "stream",
     "text": [
      "(290, 128)\n",
      "(128,)\n",
      "(128,)\n",
      "(128,)\n",
      "(128,)\n",
      "(128,)\n",
      "(128,)\n"
     ]
    }
   ],
   "source": [
    "print (test_means_neg_5.shape)\n",
    "print (test_std_neg_5[1].shape)\n",
    "print (test_median_neg_5[1].shape)\n",
    "print (test_min_neg_5[1].shape)\n",
    "print (test_max_neg_5[1].shape)\n",
    "print (test_kurtosis_neg_5[1].shape)\n",
    "print (test_skew_neg_5[1].shape)"
   ]
  },
  {
   "cell_type": "code",
   "execution_count": 159,
   "metadata": {},
   "outputs": [],
   "source": [
    "test_features_neg_5 = np.concatenate((test_means_neg_5,test_std_neg_5, test_median_neg_5, test_min_neg_5, test_max_neg_5, test_kurtosis_neg_5, test_skew_neg_5),axis=1)\n"
   ]
  },
  {
   "cell_type": "code",
   "execution_count": 160,
   "metadata": {},
   "outputs": [
    {
     "data": {
      "text/plain": [
       "(290, 896)"
      ]
     },
     "execution_count": 160,
     "metadata": {},
     "output_type": "execute_result"
    }
   ],
   "source": [
    "test_features_neg_5.shape"
   ]
  },
  {
   "cell_type": "markdown",
   "metadata": {},
   "source": [
    "# Compute statistics group 6"
   ]
  },
  {
   "cell_type": "markdown",
   "metadata": {},
   "source": [
    "## TRAIN"
   ]
  },
  {
   "cell_type": "markdown",
   "metadata": {},
   "source": [
    "### Positive"
   ]
  },
  {
   "cell_type": "code",
   "execution_count": 161,
   "metadata": {},
   "outputs": [],
   "source": [
    "with open(os.path.join(\"/Volumes/Ana Elisa/Ana Elisa's MacBook Pro/Documents/NYU_PHD/UrbanSound8/soundscapes/train_\" + str(6) + \"/\"+'pos_train_sel_features.txt'),'rb') as f:\n",
    "        train_pos_6 = pickle.load(f)\n",
    "        \n",
    "        \n",
    "        "
   ]
  },
  {
   "cell_type": "code",
   "execution_count": 162,
   "metadata": {},
   "outputs": [
    {
     "data": {
      "text/plain": [
       "900"
      ]
     },
     "execution_count": 162,
     "metadata": {},
     "output_type": "execute_result"
    }
   ],
   "source": [
    "len(train_pos_6)"
   ]
  },
  {
   "cell_type": "code",
   "execution_count": 163,
   "metadata": {},
   "outputs": [
    {
     "data": {
      "text/plain": [
       "array([[152,   5, 162, ...,   0,  14, 255],\n",
       "       [153,   7, 162, ...,   0,  64, 255],\n",
       "       [153,   8, 179, ...,  35,  90, 255],\n",
       "       ...,\n",
       "       [158,  37, 159, ..., 164, 230, 255],\n",
       "       [165,  40, 162, ..., 120, 250, 255],\n",
       "       [165,  47, 170, ...,  18, 204, 255]], dtype=uint8)"
      ]
     },
     "execution_count": 163,
     "metadata": {},
     "output_type": "execute_result"
    }
   ],
   "source": [
    "train_pos_6[1][0]"
   ]
  },
  {
   "cell_type": "code",
   "execution_count": 164,
   "metadata": {},
   "outputs": [],
   "source": [
    "train_means_pos_6 = np.zeros((len(train_pos_5),train_pos_5[0][0].shape[1]))\n",
    "train_std_pos_6 = np.zeros((len(train_pos_5),train_pos_5[0][0].shape[1]))\n",
    "train_median_pos_6 = np.zeros((len(train_pos_5),train_pos_5[0][0].shape[1]))\n",
    "train_kurtosis_pos_6 = np.zeros((len(train_pos_5),train_pos_5[0][0].shape[1]))\n",
    "train_min_pos_6 = np.zeros((len(train_pos_5),train_pos_5[0][0].shape[1]))\n",
    "train_max_pos_6 = np.zeros((len(train_pos_5),train_pos_5[0][0].shape[1]))\n",
    "train_skew_pos_6 = np.zeros((len(train_pos_5),train_pos_5[0][0].shape[1]))\n",
    "\n",
    "for i in range(len(train_pos_6)):\n",
    "    train_means_pos_6[i] = np.mean(train_pos_6[i][0], 0)\n",
    "    train_std_pos_6[i] = np.std(train_pos_6[i][0], 0)\n",
    "    train_median_pos_6[i] = np.median(train_pos_6[i][0], 0)\n",
    "    train_kurtosis_pos_6[i] = scipy.stats.kurtosis(train_pos_6[i][0], 0)\n",
    "    train_skew_pos_6[i] = scipy.stats.skew(train_pos_6[i][0], 0)\n",
    "    train_min_pos_6[i] = np.amin(train_pos_6[i][0], 0)\n",
    "    train_max_pos_6[i] = np.amax(train_pos_6[i][0], 0)"
   ]
  },
  {
   "cell_type": "code",
   "execution_count": 165,
   "metadata": {},
   "outputs": [
    {
     "name": "stdout",
     "output_type": "stream",
     "text": [
      "(900, 128)\n",
      "(128,)\n",
      "(128,)\n",
      "(128,)\n",
      "(128,)\n",
      "(128,)\n",
      "(128,)\n"
     ]
    }
   ],
   "source": [
    "print (train_means_pos_6.shape)\n",
    "print (train_std_pos_6[1].shape)\n",
    "print (train_median_pos_6[1].shape)\n",
    "print (train_min_pos_6[1].shape)\n",
    "print (train_max_pos_6[1].shape)\n",
    "print (train_kurtosis_pos_6[1].shape)\n",
    "print (train_skew_pos_6[1].shape)"
   ]
  },
  {
   "cell_type": "code",
   "execution_count": 166,
   "metadata": {},
   "outputs": [],
   "source": [
    "train_features_pos_6 = np.concatenate((train_means_pos_6,train_std_pos_6, train_median_pos_6, train_min_pos_6, train_max_pos_6, train_kurtosis_pos_6, train_skew_pos_6),axis=1)\n"
   ]
  },
  {
   "cell_type": "code",
   "execution_count": 167,
   "metadata": {},
   "outputs": [
    {
     "data": {
      "text/plain": [
       "(900, 896)"
      ]
     },
     "execution_count": 167,
     "metadata": {},
     "output_type": "execute_result"
    }
   ],
   "source": [
    "train_features_pos_6.shape"
   ]
  },
  {
   "cell_type": "markdown",
   "metadata": {},
   "source": [
    "### Negative"
   ]
  },
  {
   "cell_type": "code",
   "execution_count": 168,
   "metadata": {},
   "outputs": [],
   "source": [
    "with open(os.path.join(\"/Volumes/Ana Elisa/Ana Elisa's MacBook Pro/Documents/NYU_PHD/UrbanSound8/soundscapes/train_\" + str(6) + \"/\"+'neg_train_sel_features.txt'),'rb') as f:\n",
    "        train_neg_6 = pickle.load(f)\n",
    "        \n",
    "        \n",
    "        "
   ]
  },
  {
   "cell_type": "code",
   "execution_count": 169,
   "metadata": {},
   "outputs": [
    {
     "data": {
      "text/plain": [
       "900"
      ]
     },
     "execution_count": 169,
     "metadata": {},
     "output_type": "execute_result"
    }
   ],
   "source": [
    "len(train_neg_6)"
   ]
  },
  {
   "cell_type": "code",
   "execution_count": 170,
   "metadata": {},
   "outputs": [
    {
     "data": {
      "text/plain": [
       "array([[153,   8, 164, ...,   0,   5, 255],\n",
       "       [152,   2, 170, ...,  80,  30, 255],\n",
       "       [158,  18, 146, ...,  40, 255, 255],\n",
       "       ...,\n",
       "       [160,  22, 167, ..., 173,   6, 255],\n",
       "       [168,  23, 155, ..., 144,   0, 255],\n",
       "       [170,  20, 142, ..., 108,  35, 255]], dtype=uint8)"
      ]
     },
     "execution_count": 170,
     "metadata": {},
     "output_type": "execute_result"
    }
   ],
   "source": [
    "train_neg_6[1][0]"
   ]
  },
  {
   "cell_type": "code",
   "execution_count": 171,
   "metadata": {},
   "outputs": [],
   "source": [
    "train_means_neg_6 = np.zeros((len(train_neg_5),train_neg_5[0][0].shape[1]))\n",
    "train_std_neg_6 = np.zeros((len(train_neg_5),train_neg_5[0][0].shape[1]))\n",
    "train_median_neg_6 = np.zeros((len(train_neg_5),train_neg_5[0][0].shape[1]))\n",
    "train_kurtosis_neg_6 = np.zeros((len(train_neg_5),train_neg_5[0][0].shape[1]))\n",
    "train_min_neg_6 = np.zeros((len(train_neg_5),train_neg_5[0][0].shape[1]))\n",
    "train_max_neg_6 = np.zeros((len(train_neg_5),train_neg_5[0][0].shape[1]))\n",
    "train_skew_neg_6 = np.zeros((len(train_neg_5),train_neg_5[0][0].shape[1]))\n",
    "\n",
    "for i in range(len(train_neg_6)):\n",
    "    train_means_neg_6[i] = np.mean(train_neg_6[i][0], 0)\n",
    "    train_std_neg_6[i] = np.std(train_neg_6[i][0], 0)\n",
    "    train_median_neg_6[i] = np.median(train_neg_6[i][0], 0)\n",
    "    train_kurtosis_neg_6[i] = scipy.stats.kurtosis(train_neg_6[i][0], 0)\n",
    "    train_skew_neg_6[i] = scipy.stats.skew(train_neg_6[i][0], 0)\n",
    "    train_min_neg_6[i] = np.amin(train_neg_6[i][0], 0)\n",
    "    train_max_neg_6[i] = np.amax(train_neg_6[i][0], 0)"
   ]
  },
  {
   "cell_type": "code",
   "execution_count": 172,
   "metadata": {},
   "outputs": [
    {
     "name": "stdout",
     "output_type": "stream",
     "text": [
      "(900, 128)\n",
      "(128,)\n",
      "(128,)\n",
      "(128,)\n",
      "(128,)\n",
      "(128,)\n",
      "(128,)\n"
     ]
    }
   ],
   "source": [
    "print (train_means_neg_6.shape)\n",
    "print (train_std_neg_6[1].shape)\n",
    "print (train_median_neg_6[1].shape)\n",
    "print (train_min_neg_6[1].shape)\n",
    "print (train_max_neg_6[1].shape)\n",
    "print (train_kurtosis_neg_6[1].shape)\n",
    "print (train_skew_neg_6[1].shape)"
   ]
  },
  {
   "cell_type": "code",
   "execution_count": 173,
   "metadata": {},
   "outputs": [],
   "source": [
    "train_features_neg_6 = np.concatenate((train_means_neg_6,train_std_neg_6, train_median_neg_6, train_min_neg_6, train_max_neg_6, train_kurtosis_neg_6, train_skew_neg_6),axis=1)\n"
   ]
  },
  {
   "cell_type": "code",
   "execution_count": 174,
   "metadata": {},
   "outputs": [
    {
     "data": {
      "text/plain": [
       "(900, 896)"
      ]
     },
     "execution_count": 174,
     "metadata": {},
     "output_type": "execute_result"
    }
   ],
   "source": [
    "train_features_neg_6.shape"
   ]
  },
  {
   "cell_type": "markdown",
   "metadata": {},
   "source": [
    "## TEST"
   ]
  },
  {
   "cell_type": "markdown",
   "metadata": {},
   "source": [
    "### Positive"
   ]
  },
  {
   "cell_type": "code",
   "execution_count": 175,
   "metadata": {},
   "outputs": [],
   "source": [
    "with open(os.path.join(\"/Volumes/Ana Elisa/Ana Elisa's MacBook Pro/Documents/NYU_PHD/UrbanSound8/soundscapes/test_\" + str(6) + \"/\"+'pos_test_sel_features.txt'),'rb') as f:\n",
    "        test_pos_6 = pickle.load(f)\n",
    "        \n",
    "        \n",
    "        "
   ]
  },
  {
   "cell_type": "code",
   "execution_count": 176,
   "metadata": {},
   "outputs": [
    {
     "data": {
      "text/plain": [
       "290"
      ]
     },
     "execution_count": 176,
     "metadata": {},
     "output_type": "execute_result"
    }
   ],
   "source": [
    "len(test_pos_6)"
   ]
  },
  {
   "cell_type": "code",
   "execution_count": 177,
   "metadata": {},
   "outputs": [
    {
     "data": {
      "text/plain": [
       "array([[153,   8, 164, ...,   0,   4, 255],\n",
       "       [156,   5, 176, ...,  58,  14, 255],\n",
       "       [165,  25, 190, ..., 179,   0, 255],\n",
       "       ...,\n",
       "       [155,  33, 146, ..., 100, 252, 255],\n",
       "       [151,  33, 137, ...,   3, 189, 255],\n",
       "       [154,  39, 125, ...,   0, 255, 255]], dtype=uint8)"
      ]
     },
     "execution_count": 177,
     "metadata": {},
     "output_type": "execute_result"
    }
   ],
   "source": [
    "test_pos_6[1][0]"
   ]
  },
  {
   "cell_type": "code",
   "execution_count": 178,
   "metadata": {},
   "outputs": [],
   "source": [
    "test_means_pos_6 = np.zeros((len(test_pos_5),test_pos_5[0][0].shape[1]))\n",
    "test_std_pos_6 = np.zeros((len(test_pos_5),test_pos_5[0][0].shape[1]))\n",
    "test_median_pos_6 = np.zeros((len(test_pos_5),test_pos_5[0][0].shape[1]))\n",
    "test_kurtosis_pos_6 = np.zeros((len(test_pos_5),test_pos_5[0][0].shape[1]))\n",
    "test_min_pos_6 = np.zeros((len(test_pos_5),test_pos_5[0][0].shape[1]))\n",
    "test_max_pos_6 = np.zeros((len(test_pos_5),test_pos_5[0][0].shape[1]))\n",
    "test_skew_pos_6 = np.zeros((len(test_pos_5),test_pos_5[0][0].shape[1]))\n",
    "\n",
    "for i in range(len(test_pos_6)):\n",
    "    test_means_pos_6[i] = np.mean(test_pos_6[i][0], 0)\n",
    "    test_std_pos_6[i] = np.std(test_pos_6[i][0], 0)\n",
    "    test_median_pos_6[i] = np.median(test_pos_6[i][0], 0)\n",
    "    test_kurtosis_pos_6[i] = scipy.stats.kurtosis(test_pos_6[i][0], 0)\n",
    "    test_skew_pos_6[i] = scipy.stats.skew(test_pos_6[i][0], 0)\n",
    "    test_min_pos_6[i] = np.amin(test_pos_6[i][0], 0)\n",
    "    test_max_pos_6[i] = np.amax(test_pos_6[i][0], 0)"
   ]
  },
  {
   "cell_type": "code",
   "execution_count": 179,
   "metadata": {},
   "outputs": [
    {
     "name": "stdout",
     "output_type": "stream",
     "text": [
      "(290, 128)\n",
      "(128,)\n",
      "(128,)\n",
      "(128,)\n",
      "(128,)\n",
      "(128,)\n",
      "(128,)\n"
     ]
    }
   ],
   "source": [
    "print (test_means_pos_6.shape)\n",
    "print (test_std_pos_6[1].shape)\n",
    "print (test_median_pos_6[1].shape)\n",
    "print (test_min_pos_6[1].shape)\n",
    "print (test_max_pos_6[1].shape)\n",
    "print (test_kurtosis_pos_6[1].shape)\n",
    "print (test_skew_pos_6[1].shape)"
   ]
  },
  {
   "cell_type": "code",
   "execution_count": 180,
   "metadata": {},
   "outputs": [],
   "source": [
    "test_features_pos_6 = np.concatenate((test_means_pos_6,test_std_pos_6, test_median_pos_6, test_min_pos_6, test_max_pos_6, test_kurtosis_pos_6, test_skew_pos_6),axis=1)\n"
   ]
  },
  {
   "cell_type": "code",
   "execution_count": 181,
   "metadata": {},
   "outputs": [
    {
     "data": {
      "text/plain": [
       "(290, 896)"
      ]
     },
     "execution_count": 181,
     "metadata": {},
     "output_type": "execute_result"
    }
   ],
   "source": [
    "test_features_pos_6.shape"
   ]
  },
  {
   "cell_type": "markdown",
   "metadata": {},
   "source": [
    "### Negative"
   ]
  },
  {
   "cell_type": "code",
   "execution_count": 182,
   "metadata": {},
   "outputs": [],
   "source": [
    "with open(os.path.join(\"/Volumes/Ana Elisa/Ana Elisa's MacBook Pro/Documents/NYU_PHD/UrbanSound8/soundscapes/test_\" + str(6) + \"/\"+'neg_test_sel_features.txt'),'rb') as f:\n",
    "        test_neg_6 = pickle.load(f)\n",
    "        \n",
    "        \n",
    "        "
   ]
  },
  {
   "cell_type": "code",
   "execution_count": 183,
   "metadata": {},
   "outputs": [
    {
     "data": {
      "text/plain": [
       "290"
      ]
     },
     "execution_count": 183,
     "metadata": {},
     "output_type": "execute_result"
    }
   ],
   "source": [
    "len(test_neg_6)"
   ]
  },
  {
   "cell_type": "code",
   "execution_count": 184,
   "metadata": {},
   "outputs": [
    {
     "data": {
      "text/plain": [
       "array([[155,   8, 149, ...,  98, 255, 255],\n",
       "       [153,  11, 147, ...,  53, 255, 255],\n",
       "       [152,  10, 151, ...,  92, 142, 255],\n",
       "       ...,\n",
       "       [150,  25, 111, ..., 103,   0, 255],\n",
       "       [153,  33, 133, ...,   0,   0, 255],\n",
       "       [152,  22, 154, ..., 125,  66, 255]], dtype=uint8)"
      ]
     },
     "execution_count": 184,
     "metadata": {},
     "output_type": "execute_result"
    }
   ],
   "source": [
    "test_neg_6[1][0]"
   ]
  },
  {
   "cell_type": "code",
   "execution_count": 185,
   "metadata": {},
   "outputs": [],
   "source": [
    "test_means_neg_6 = np.zeros((len(test_neg_5),test_neg_5[0][0].shape[1]))\n",
    "test_std_neg_6 = np.zeros((len(test_neg_5),test_neg_5[0][0].shape[1]))\n",
    "test_median_neg_6 = np.zeros((len(test_neg_5),test_neg_5[0][0].shape[1]))\n",
    "test_kurtosis_neg_6 = np.zeros((len(test_neg_5),test_neg_5[0][0].shape[1]))\n",
    "test_min_neg_6 = np.zeros((len(test_neg_5),test_neg_5[0][0].shape[1]))\n",
    "test_max_neg_6 = np.zeros((len(test_neg_5),test_neg_5[0][0].shape[1]))\n",
    "test_skew_neg_6 = np.zeros((len(test_neg_5),test_neg_5[0][0].shape[1]))\n",
    "\n",
    "for i in range(len(test_neg_6)):\n",
    "    test_means_neg_6[i] = np.mean(test_neg_6[i][0], 0)\n",
    "    test_std_neg_6[i] = np.std(test_neg_6[i][0], 0)\n",
    "    test_median_neg_6[i] = np.median(test_neg_6[i][0], 0)\n",
    "    test_kurtosis_neg_6[i] = scipy.stats.kurtosis(test_neg_6[i][0], 0)\n",
    "    test_skew_neg_6[i] = scipy.stats.skew(test_neg_6[i][0], 0)\n",
    "    test_min_neg_6[i] = np.amin(test_neg_6[i][0], 0)\n",
    "    test_max_neg_6[i] = np.amax(test_neg_6[i][0], 0)"
   ]
  },
  {
   "cell_type": "code",
   "execution_count": 186,
   "metadata": {},
   "outputs": [
    {
     "name": "stdout",
     "output_type": "stream",
     "text": [
      "(290, 128)\n",
      "(128,)\n",
      "(128,)\n",
      "(128,)\n",
      "(128,)\n",
      "(128,)\n",
      "(128,)\n"
     ]
    }
   ],
   "source": [
    "print (test_means_neg_6.shape)\n",
    "print (test_std_neg_6[1].shape)\n",
    "print (test_median_neg_6[1].shape)\n",
    "print (test_min_neg_6[1].shape)\n",
    "print (test_max_neg_6[1].shape)\n",
    "print (test_kurtosis_neg_6[1].shape)\n",
    "print (test_skew_neg_6[1].shape)"
   ]
  },
  {
   "cell_type": "code",
   "execution_count": 187,
   "metadata": {},
   "outputs": [],
   "source": [
    "test_features_neg_6 = np.concatenate((test_means_neg_6,test_std_neg_6, test_median_neg_6, test_min_neg_6, test_max_neg_6, test_kurtosis_neg_6, test_skew_neg_6),axis=1)\n"
   ]
  },
  {
   "cell_type": "code",
   "execution_count": 188,
   "metadata": {},
   "outputs": [
    {
     "data": {
      "text/plain": [
       "(290, 896)"
      ]
     },
     "execution_count": 188,
     "metadata": {},
     "output_type": "execute_result"
    }
   ],
   "source": [
    "test_features_neg_6.shape"
   ]
  },
  {
   "cell_type": "markdown",
   "metadata": {},
   "source": [
    "# Compute statistics group 7"
   ]
  },
  {
   "cell_type": "markdown",
   "metadata": {},
   "source": [
    "## TRAIN"
   ]
  },
  {
   "cell_type": "markdown",
   "metadata": {},
   "source": [
    "### Positive"
   ]
  },
  {
   "cell_type": "code",
   "execution_count": 189,
   "metadata": {},
   "outputs": [],
   "source": [
    "with open(os.path.join(\"/Volumes/Ana Elisa/Ana Elisa's MacBook Pro/Documents/NYU_PHD/UrbanSound8/soundscapes/train_\" + str(7) + \"/\"+'pos_train_sel_features.txt'),'rb') as f:\n",
    "        train_pos_7 = pickle.load(f)\n",
    "        \n",
    "        \n",
    "        "
   ]
  },
  {
   "cell_type": "code",
   "execution_count": 190,
   "metadata": {},
   "outputs": [
    {
     "data": {
      "text/plain": [
       "900"
      ]
     },
     "execution_count": 190,
     "metadata": {},
     "output_type": "execute_result"
    }
   ],
   "source": [
    "len(train_pos_7)"
   ]
  },
  {
   "cell_type": "code",
   "execution_count": 191,
   "metadata": {},
   "outputs": [
    {
     "data": {
      "text/plain": [
       "array([[154,  10, 165, ...,  11,  22, 255],\n",
       "       [152,   5, 138, ..., 103,  87, 255],\n",
       "       [153,  15, 146, ..., 196, 215, 255],\n",
       "       ...,\n",
       "       [151,  26, 117, ..., 136, 125, 255],\n",
       "       [150,  26, 126, ..., 158, 164, 255],\n",
       "       [158,  35, 156, ..., 156, 131, 255]], dtype=uint8)"
      ]
     },
     "execution_count": 191,
     "metadata": {},
     "output_type": "execute_result"
    }
   ],
   "source": [
    "train_pos_7[1][0]"
   ]
  },
  {
   "cell_type": "code",
   "execution_count": 192,
   "metadata": {},
   "outputs": [],
   "source": [
    "train_means_pos_7 = np.zeros((len(train_pos_5),train_pos_5[0][0].shape[1]))\n",
    "train_std_pos_7 = np.zeros((len(train_pos_5),train_pos_5[0][0].shape[1]))\n",
    "train_median_pos_7 = np.zeros((len(train_pos_5),train_pos_5[0][0].shape[1]))\n",
    "train_kurtosis_pos_7 = np.zeros((len(train_pos_5),train_pos_5[0][0].shape[1]))\n",
    "train_min_pos_7 = np.zeros((len(train_pos_5),train_pos_5[0][0].shape[1]))\n",
    "train_max_pos_7 = np.zeros((len(train_pos_5),train_pos_5[0][0].shape[1]))\n",
    "train_skew_pos_7 = np.zeros((len(train_pos_5),train_pos_5[0][0].shape[1]))\n",
    "\n",
    "for i in range(len(train_pos_7)):\n",
    "    train_means_pos_7[i] = np.mean(train_pos_7[i][0], 0)\n",
    "    train_std_pos_7[i] = np.std(train_pos_7[i][0], 0)\n",
    "    train_median_pos_7[i] = np.median(train_pos_7[i][0], 0)\n",
    "    train_kurtosis_pos_7[i] = scipy.stats.kurtosis(train_pos_7[i][0], 0)\n",
    "    train_skew_pos_7[i] = scipy.stats.skew(train_pos_7[i][0], 0)\n",
    "    train_min_pos_7[i] = np.amin(train_pos_7[i][0], 0)\n",
    "    train_max_pos_7[i] = np.amax(train_pos_7[i][0], 0)"
   ]
  },
  {
   "cell_type": "code",
   "execution_count": 193,
   "metadata": {},
   "outputs": [
    {
     "name": "stdout",
     "output_type": "stream",
     "text": [
      "(900, 128)\n",
      "(128,)\n",
      "(128,)\n",
      "(128,)\n",
      "(128,)\n",
      "(128,)\n",
      "(128,)\n"
     ]
    }
   ],
   "source": [
    "print (train_means_pos_7.shape)\n",
    "print (train_std_pos_7[1].shape)\n",
    "print (train_median_pos_7[1].shape)\n",
    "print (train_min_pos_7[1].shape)\n",
    "print (train_max_pos_7[1].shape)\n",
    "print (train_kurtosis_pos_7[1].shape)\n",
    "print (train_skew_pos_7[1].shape)"
   ]
  },
  {
   "cell_type": "code",
   "execution_count": 194,
   "metadata": {},
   "outputs": [],
   "source": [
    "train_features_pos_7 = np.concatenate((train_means_pos_7,train_std_pos_7, train_median_pos_7, train_min_pos_7, train_max_pos_7, train_kurtosis_pos_7, train_skew_pos_7),axis=1)\n"
   ]
  },
  {
   "cell_type": "code",
   "execution_count": 195,
   "metadata": {},
   "outputs": [
    {
     "data": {
      "text/plain": [
       "(900, 896)"
      ]
     },
     "execution_count": 195,
     "metadata": {},
     "output_type": "execute_result"
    }
   ],
   "source": [
    "train_features_pos_7.shape"
   ]
  },
  {
   "cell_type": "markdown",
   "metadata": {},
   "source": [
    "### Negative"
   ]
  },
  {
   "cell_type": "code",
   "execution_count": 196,
   "metadata": {},
   "outputs": [],
   "source": [
    "with open(os.path.join(\"/Volumes/Ana Elisa/Ana Elisa's MacBook Pro/Documents/NYU_PHD/UrbanSound8/soundscapes/train_\" + str(7) + \"/\"+'neg_train_sel_features.txt'),'rb') as f:\n",
    "        train_neg_7 = pickle.load(f)\n",
    "        \n",
    "        \n",
    "        "
   ]
  },
  {
   "cell_type": "code",
   "execution_count": 197,
   "metadata": {},
   "outputs": [
    {
     "data": {
      "text/plain": [
       "900"
      ]
     },
     "execution_count": 197,
     "metadata": {},
     "output_type": "execute_result"
    }
   ],
   "source": [
    "len(train_neg_7)"
   ]
  },
  {
   "cell_type": "code",
   "execution_count": 198,
   "metadata": {},
   "outputs": [
    {
     "data": {
      "text/plain": [
       "array([[161,  15, 182, ..., 153,  92, 255],\n",
       "       [159,  23, 157, ..., 255, 255, 255],\n",
       "       [168,  38, 162, ..., 255, 154, 255],\n",
       "       ...,\n",
       "       [173,  37, 204, ..., 134, 163, 255],\n",
       "       [167,  27, 180, ..., 255,  43, 255],\n",
       "       [165,  26, 168, ..., 255,   0, 255]], dtype=uint8)"
      ]
     },
     "execution_count": 198,
     "metadata": {},
     "output_type": "execute_result"
    }
   ],
   "source": [
    "train_neg_7[1][0]"
   ]
  },
  {
   "cell_type": "code",
   "execution_count": 199,
   "metadata": {},
   "outputs": [],
   "source": [
    "train_means_neg_7 = np.zeros((len(train_neg_5),train_neg_5[0][0].shape[1]))\n",
    "train_std_neg_7 = np.zeros((len(train_neg_5),train_neg_5[0][0].shape[1]))\n",
    "train_median_neg_7 = np.zeros((len(train_neg_5),train_neg_5[0][0].shape[1]))\n",
    "train_kurtosis_neg_7 = np.zeros((len(train_neg_5),train_neg_5[0][0].shape[1]))\n",
    "train_min_neg_7 = np.zeros((len(train_neg_5),train_neg_5[0][0].shape[1]))\n",
    "train_max_neg_7 = np.zeros((len(train_neg_5),train_neg_5[0][0].shape[1]))\n",
    "train_skew_neg_7 = np.zeros((len(train_neg_5),train_neg_5[0][0].shape[1]))\n",
    "\n",
    "for i in range(len(train_neg_7)):\n",
    "    train_means_neg_7[i] = np.mean(train_neg_7[i][0], 0)\n",
    "    train_std_neg_7[i] = np.std(train_neg_7[i][0], 0)\n",
    "    train_median_neg_7[i] = np.median(train_neg_7[i][0], 0)\n",
    "    train_kurtosis_neg_7[i] = scipy.stats.kurtosis(train_neg_7[i][0], 0)\n",
    "    train_skew_neg_7[i] = scipy.stats.skew(train_neg_7[i][0], 0)\n",
    "    train_min_neg_7[i] = np.amin(train_neg_7[i][0], 0)\n",
    "    train_max_neg_7[i] = np.amax(train_neg_7[i][0], 0)"
   ]
  },
  {
   "cell_type": "code",
   "execution_count": 200,
   "metadata": {},
   "outputs": [
    {
     "name": "stdout",
     "output_type": "stream",
     "text": [
      "(900, 128)\n",
      "(128,)\n",
      "(128,)\n",
      "(128,)\n",
      "(128,)\n",
      "(128,)\n",
      "(128,)\n"
     ]
    }
   ],
   "source": [
    "print (train_means_neg_7.shape)\n",
    "print (train_std_neg_7[1].shape)\n",
    "print (train_median_neg_7[1].shape)\n",
    "print (train_min_neg_7[1].shape)\n",
    "print (train_max_neg_7[1].shape)\n",
    "print (train_kurtosis_neg_7[1].shape)\n",
    "print (train_skew_neg_7[1].shape)"
   ]
  },
  {
   "cell_type": "code",
   "execution_count": 201,
   "metadata": {},
   "outputs": [],
   "source": [
    "train_features_neg_7 = np.concatenate((train_means_neg_7,train_std_neg_7, train_median_neg_7, train_min_neg_7, train_max_neg_7, train_kurtosis_neg_7, train_skew_neg_7),axis=1)\n"
   ]
  },
  {
   "cell_type": "code",
   "execution_count": 202,
   "metadata": {},
   "outputs": [
    {
     "data": {
      "text/plain": [
       "(900, 896)"
      ]
     },
     "execution_count": 202,
     "metadata": {},
     "output_type": "execute_result"
    }
   ],
   "source": [
    "train_features_neg_7.shape"
   ]
  },
  {
   "cell_type": "markdown",
   "metadata": {},
   "source": [
    "## TEST"
   ]
  },
  {
   "cell_type": "markdown",
   "metadata": {},
   "source": [
    "### Positive"
   ]
  },
  {
   "cell_type": "code",
   "execution_count": 203,
   "metadata": {},
   "outputs": [],
   "source": [
    "with open(os.path.join(\"/Volumes/Ana Elisa/Ana Elisa's MacBook Pro/Documents/NYU_PHD/UrbanSound8/soundscapes/test_\" + str(7) + \"/\"+'pos_test_sel_features.txt'),'rb') as f:\n",
    "        test_pos_7 = pickle.load(f)\n",
    "        \n",
    "        \n",
    "        "
   ]
  },
  {
   "cell_type": "code",
   "execution_count": 204,
   "metadata": {},
   "outputs": [
    {
     "data": {
      "text/plain": [
       "290"
      ]
     },
     "execution_count": 204,
     "metadata": {},
     "output_type": "execute_result"
    }
   ],
   "source": [
    "len(test_pos_7)"
   ]
  },
  {
   "cell_type": "code",
   "execution_count": 205,
   "metadata": {},
   "outputs": [
    {
     "data": {
      "text/plain": [
       "array([[153,   9, 162, ...,   0,  14, 255],\n",
       "       [154,  11, 162, ...,   0,  38, 255],\n",
       "       [153,   8, 163, ...,   0,  13, 255],\n",
       "       ...,\n",
       "       [150,  12, 132, ...,  17,  53, 255],\n",
       "       [150,  14, 155, ...,  25,  64, 255],\n",
       "       [148,   7, 152, ...,   2,  74, 255]], dtype=uint8)"
      ]
     },
     "execution_count": 205,
     "metadata": {},
     "output_type": "execute_result"
    }
   ],
   "source": [
    "test_pos_7[1][0]"
   ]
  },
  {
   "cell_type": "code",
   "execution_count": 206,
   "metadata": {},
   "outputs": [],
   "source": [
    "test_means_pos_7 = np.zeros((len(test_pos_5),test_pos_5[0][0].shape[1]))\n",
    "test_std_pos_7 = np.zeros((len(test_pos_5),test_pos_5[0][0].shape[1]))\n",
    "test_median_pos_7 = np.zeros((len(test_pos_5),test_pos_5[0][0].shape[1]))\n",
    "test_kurtosis_pos_7 = np.zeros((len(test_pos_5),test_pos_5[0][0].shape[1]))\n",
    "test_min_pos_7 = np.zeros((len(test_pos_5),test_pos_5[0][0].shape[1]))\n",
    "test_max_pos_7 = np.zeros((len(test_pos_5),test_pos_5[0][0].shape[1]))\n",
    "test_skew_pos_7 = np.zeros((len(test_pos_5),test_pos_5[0][0].shape[1]))\n",
    "\n",
    "for i in range(len(test_pos_7)):\n",
    "    test_means_pos_7[i] = np.mean(test_pos_7[i][0], 0)\n",
    "    test_std_pos_7[i] = np.std(test_pos_7[i][0], 0)\n",
    "    test_median_pos_7[i] = np.median(test_pos_7[i][0], 0)\n",
    "    test_kurtosis_pos_7[i] = scipy.stats.kurtosis(test_pos_7[i][0], 0)\n",
    "    test_skew_pos_7[i] = scipy.stats.skew(test_pos_7[i][0], 0)\n",
    "    test_min_pos_7[i] = np.amin(test_pos_7[i][0], 0)\n",
    "    test_max_pos_7[i] = np.amax(test_pos_7[i][0], 0)"
   ]
  },
  {
   "cell_type": "code",
   "execution_count": 207,
   "metadata": {},
   "outputs": [
    {
     "name": "stdout",
     "output_type": "stream",
     "text": [
      "(290, 128)\n",
      "(128,)\n",
      "(128,)\n",
      "(128,)\n",
      "(128,)\n",
      "(128,)\n",
      "(128,)\n"
     ]
    }
   ],
   "source": [
    "print (test_means_pos_7.shape)\n",
    "print (test_std_pos_7[1].shape)\n",
    "print (test_median_pos_7[1].shape)\n",
    "print (test_min_pos_7[1].shape)\n",
    "print (test_max_pos_7[1].shape)\n",
    "print (test_kurtosis_pos_7[1].shape)\n",
    "print (test_skew_pos_7[1].shape)"
   ]
  },
  {
   "cell_type": "code",
   "execution_count": 208,
   "metadata": {},
   "outputs": [],
   "source": [
    "test_features_pos_7 = np.concatenate((test_means_pos_7,test_std_pos_7, test_median_pos_7, test_min_pos_7, test_max_pos_7, test_kurtosis_pos_7, test_skew_pos_7),axis=1)\n"
   ]
  },
  {
   "cell_type": "code",
   "execution_count": 209,
   "metadata": {},
   "outputs": [
    {
     "data": {
      "text/plain": [
       "(290, 896)"
      ]
     },
     "execution_count": 209,
     "metadata": {},
     "output_type": "execute_result"
    }
   ],
   "source": [
    "test_features_pos_7.shape"
   ]
  },
  {
   "cell_type": "markdown",
   "metadata": {},
   "source": [
    "### Negative"
   ]
  },
  {
   "cell_type": "code",
   "execution_count": 210,
   "metadata": {},
   "outputs": [],
   "source": [
    "with open(os.path.join(\"/Volumes/Ana Elisa/Ana Elisa's MacBook Pro/Documents/NYU_PHD/UrbanSound8/soundscapes/test_\" + str(7) + \"/\"+'neg_test_sel_features.txt'),'rb') as f:\n",
    "        test_neg_7 = pickle.load(f)\n",
    "        \n",
    "        \n",
    "        "
   ]
  },
  {
   "cell_type": "code",
   "execution_count": 211,
   "metadata": {},
   "outputs": [
    {
     "data": {
      "text/plain": [
       "290"
      ]
     },
     "execution_count": 211,
     "metadata": {},
     "output_type": "execute_result"
    }
   ],
   "source": [
    "len(test_neg_7)"
   ]
  },
  {
   "cell_type": "code",
   "execution_count": 212,
   "metadata": {},
   "outputs": [
    {
     "data": {
      "text/plain": [
       "array([[153,  10, 161, ...,   0,  15, 255],\n",
       "       [153,   6, 167, ...,  40,  62, 255],\n",
       "       [157,  13, 154, ...,  85, 255, 255],\n",
       "       ...,\n",
       "       [155,  26, 148, ..., 186,   0, 255],\n",
       "       [154,  29, 147, ..., 227,  87, 255],\n",
       "       [149,  28, 117, ...,  63,   0, 255]], dtype=uint8)"
      ]
     },
     "execution_count": 212,
     "metadata": {},
     "output_type": "execute_result"
    }
   ],
   "source": [
    "test_neg_7[1][0]"
   ]
  },
  {
   "cell_type": "code",
   "execution_count": 213,
   "metadata": {},
   "outputs": [],
   "source": [
    "test_means_neg_7 = np.zeros((len(test_neg_5),test_neg_5[0][0].shape[1]))\n",
    "test_std_neg_7 = np.zeros((len(test_neg_5),test_neg_5[0][0].shape[1]))\n",
    "test_median_neg_7 = np.zeros((len(test_neg_5),test_neg_5[0][0].shape[1]))\n",
    "test_kurtosis_neg_7 = np.zeros((len(test_neg_5),test_neg_5[0][0].shape[1]))\n",
    "test_min_neg_7 = np.zeros((len(test_neg_5),test_neg_5[0][0].shape[1]))\n",
    "test_max_neg_7 = np.zeros((len(test_neg_5),test_neg_5[0][0].shape[1]))\n",
    "test_skew_neg_7 = np.zeros((len(test_neg_5),test_neg_5[0][0].shape[1]))\n",
    "\n",
    "for i in range(len(test_neg_7)):\n",
    "    test_means_neg_7[i] = np.mean(test_neg_7[i][0], 0)\n",
    "    test_std_neg_7[i] = np.std(test_neg_7[i][0], 0)\n",
    "    test_median_neg_7[i] = np.median(test_neg_7[i][0], 0)\n",
    "    test_kurtosis_neg_7[i] = scipy.stats.kurtosis(test_neg_7[i][0], 0)\n",
    "    test_skew_neg_7[i] = scipy.stats.skew(test_neg_7[i][0], 0)\n",
    "    test_min_neg_7[i] = np.amin(test_neg_7[i][0], 0)\n",
    "    test_max_neg_7[i] = np.amax(test_neg_7[i][0], 0)"
   ]
  },
  {
   "cell_type": "code",
   "execution_count": 214,
   "metadata": {},
   "outputs": [
    {
     "name": "stdout",
     "output_type": "stream",
     "text": [
      "(290, 128)\n",
      "(128,)\n",
      "(128,)\n",
      "(128,)\n",
      "(128,)\n",
      "(128,)\n",
      "(128,)\n"
     ]
    }
   ],
   "source": [
    "print (test_means_neg_7.shape)\n",
    "print (test_std_neg_7[1].shape)\n",
    "print (test_median_neg_7[1].shape)\n",
    "print (test_min_neg_7[1].shape)\n",
    "print (test_max_neg_7[1].shape)\n",
    "print (test_kurtosis_neg_7[1].shape)\n",
    "print (test_skew_neg_7[1].shape)"
   ]
  },
  {
   "cell_type": "code",
   "execution_count": 215,
   "metadata": {},
   "outputs": [],
   "source": [
    "test_features_neg_7 = np.concatenate((test_means_neg_7,test_std_neg_7, test_median_neg_7, test_min_neg_7, test_max_neg_7, test_kurtosis_neg_7, test_skew_neg_7),axis=1)\n"
   ]
  },
  {
   "cell_type": "code",
   "execution_count": 216,
   "metadata": {},
   "outputs": [
    {
     "data": {
      "text/plain": [
       "(290, 896)"
      ]
     },
     "execution_count": 216,
     "metadata": {},
     "output_type": "execute_result"
    }
   ],
   "source": [
    "test_features_neg_7.shape"
   ]
  },
  {
   "cell_type": "markdown",
   "metadata": {},
   "source": [
    "# Compute statistics group 8"
   ]
  },
  {
   "cell_type": "markdown",
   "metadata": {},
   "source": [
    "## TRAIN"
   ]
  },
  {
   "cell_type": "markdown",
   "metadata": {},
   "source": [
    "### Positive"
   ]
  },
  {
   "cell_type": "code",
   "execution_count": 217,
   "metadata": {},
   "outputs": [],
   "source": [
    "with open(os.path.join(\"/Volumes/Ana Elisa/Ana Elisa's MacBook Pro/Documents/NYU_PHD/UrbanSound8/soundscapes/train_\" + str(8) + \"/\"+'pos_train_sel_features.txt'),'rb') as f:\n",
    "        train_pos_8 = pickle.load(f)\n",
    "        \n",
    "        \n",
    "        "
   ]
  },
  {
   "cell_type": "code",
   "execution_count": 218,
   "metadata": {},
   "outputs": [
    {
     "data": {
      "text/plain": [
       "900"
      ]
     },
     "execution_count": 218,
     "metadata": {},
     "output_type": "execute_result"
    }
   ],
   "source": [
    "len(train_pos_8)"
   ]
  },
  {
   "cell_type": "code",
   "execution_count": 219,
   "metadata": {},
   "outputs": [
    {
     "data": {
      "text/plain": [
       "array([[152,   6, 163, ...,   0,  13, 255],\n",
       "       [153,   7, 162, ...,   0,  57, 255],\n",
       "       [160,  15, 177, ..., 130, 139, 255],\n",
       "       ...,\n",
       "       [154,  25, 149, ..., 182,  31, 255],\n",
       "       [155,  23, 155, ..., 211, 224, 255],\n",
       "       [157,  30, 154, ..., 217, 173, 255]], dtype=uint8)"
      ]
     },
     "execution_count": 219,
     "metadata": {},
     "output_type": "execute_result"
    }
   ],
   "source": [
    "train_pos_8[1][0]"
   ]
  },
  {
   "cell_type": "code",
   "execution_count": 220,
   "metadata": {},
   "outputs": [],
   "source": [
    "train_means_pos_8 = np.zeros((len(train_pos_5),train_pos_5[0][0].shape[1]))\n",
    "train_std_pos_8 = np.zeros((len(train_pos_5),train_pos_5[0][0].shape[1]))\n",
    "train_median_pos_8 = np.zeros((len(train_pos_5),train_pos_5[0][0].shape[1]))\n",
    "train_kurtosis_pos_8 = np.zeros((len(train_pos_5),train_pos_5[0][0].shape[1]))\n",
    "train_min_pos_8 = np.zeros((len(train_pos_5),train_pos_5[0][0].shape[1]))\n",
    "train_max_pos_8 = np.zeros((len(train_pos_5),train_pos_5[0][0].shape[1]))\n",
    "train_skew_pos_8 = np.zeros((len(train_pos_5),train_pos_5[0][0].shape[1]))\n",
    "\n",
    "for i in range(len(train_pos_8)):\n",
    "    train_means_pos_8[i] = np.mean(train_pos_8[i][0], 0)\n",
    "    train_std_pos_8[i] = np.std(train_pos_8[i][0], 0)\n",
    "    train_median_pos_8[i] = np.median(train_pos_8[i][0], 0)\n",
    "    train_kurtosis_pos_8[i] = scipy.stats.kurtosis(train_pos_8[i][0], 0)\n",
    "    train_skew_pos_8[i] = scipy.stats.skew(train_pos_8[i][0], 0)\n",
    "    train_min_pos_8[i] = np.amin(train_pos_8[i][0], 0)\n",
    "    train_max_pos_8[i] = np.amax(train_pos_8[i][0], 0)"
   ]
  },
  {
   "cell_type": "code",
   "execution_count": 221,
   "metadata": {},
   "outputs": [
    {
     "name": "stdout",
     "output_type": "stream",
     "text": [
      "(900, 128)\n",
      "(128,)\n",
      "(128,)\n",
      "(128,)\n",
      "(128,)\n",
      "(128,)\n",
      "(128,)\n"
     ]
    }
   ],
   "source": [
    "print (train_means_pos_8.shape)\n",
    "print (train_std_pos_8[1].shape)\n",
    "print (train_median_pos_8[1].shape)\n",
    "print (train_min_pos_8[1].shape)\n",
    "print (train_max_pos_8[1].shape)\n",
    "print (train_kurtosis_pos_8[1].shape)\n",
    "print (train_skew_pos_8[1].shape)"
   ]
  },
  {
   "cell_type": "code",
   "execution_count": 222,
   "metadata": {},
   "outputs": [],
   "source": [
    "train_features_pos_8 = np.concatenate((train_means_pos_8,train_std_pos_8, train_median_pos_8, train_min_pos_8, train_max_pos_8, train_kurtosis_pos_8, train_skew_pos_8),axis=1)\n"
   ]
  },
  {
   "cell_type": "code",
   "execution_count": 223,
   "metadata": {},
   "outputs": [
    {
     "data": {
      "text/plain": [
       "(900, 896)"
      ]
     },
     "execution_count": 223,
     "metadata": {},
     "output_type": "execute_result"
    }
   ],
   "source": [
    "train_features_pos_8.shape"
   ]
  },
  {
   "cell_type": "markdown",
   "metadata": {},
   "source": [
    "### Negative"
   ]
  },
  {
   "cell_type": "code",
   "execution_count": 224,
   "metadata": {},
   "outputs": [],
   "source": [
    "with open(os.path.join(\"/Volumes/Ana Elisa/Ana Elisa's MacBook Pro/Documents/NYU_PHD/UrbanSound8/soundscapes/train_\" + str(8) + \"/\"+'neg_train_sel_features.txt'),'rb') as f:\n",
    "        train_neg_8 = pickle.load(f)\n",
    "        \n",
    "        \n",
    "        "
   ]
  },
  {
   "cell_type": "code",
   "execution_count": 225,
   "metadata": {},
   "outputs": [
    {
     "data": {
      "text/plain": [
       "900"
      ]
     },
     "execution_count": 225,
     "metadata": {},
     "output_type": "execute_result"
    }
   ],
   "source": [
    "len(train_neg_8)"
   ]
  },
  {
   "cell_type": "code",
   "execution_count": 226,
   "metadata": {},
   "outputs": [
    {
     "data": {
      "text/plain": [
       "array([[153,   7, 164, ...,   0,  10, 255],\n",
       "       [151,  14, 169, ...,  53,   0, 255],\n",
       "       [175,  32, 207, ..., 178, 172, 255],\n",
       "       ...,\n",
       "       [153,   6, 162, ...,   0,   0, 255],\n",
       "       [153,  10, 165, ...,   0,   0, 255],\n",
       "       [152,   7, 165, ...,   8,   9, 255]], dtype=uint8)"
      ]
     },
     "execution_count": 226,
     "metadata": {},
     "output_type": "execute_result"
    }
   ],
   "source": [
    "train_neg_8[1][0]"
   ]
  },
  {
   "cell_type": "code",
   "execution_count": 227,
   "metadata": {},
   "outputs": [],
   "source": [
    "train_means_neg_8 = np.zeros((len(train_neg_5),train_neg_5[0][0].shape[1]))\n",
    "train_std_neg_8 = np.zeros((len(train_neg_5),train_neg_5[0][0].shape[1]))\n",
    "train_median_neg_8 = np.zeros((len(train_neg_5),train_neg_5[0][0].shape[1]))\n",
    "train_kurtosis_neg_8 = np.zeros((len(train_neg_5),train_neg_5[0][0].shape[1]))\n",
    "train_min_neg_8 = np.zeros((len(train_neg_5),train_neg_5[0][0].shape[1]))\n",
    "train_max_neg_8 = np.zeros((len(train_neg_5),train_neg_5[0][0].shape[1]))\n",
    "train_skew_neg_8 = np.zeros((len(train_neg_5),train_neg_5[0][0].shape[1]))\n",
    "\n",
    "for i in range(len(train_neg_8)):\n",
    "    train_means_neg_8[i] = np.mean(train_neg_8[i][0], 0)\n",
    "    train_std_neg_8[i] = np.std(train_neg_8[i][0], 0)\n",
    "    train_median_neg_8[i] = np.median(train_neg_8[i][0], 0)\n",
    "    train_kurtosis_neg_8[i] = scipy.stats.kurtosis(train_neg_8[i][0], 0)\n",
    "    train_skew_neg_8[i] = scipy.stats.skew(train_neg_8[i][0], 0)\n",
    "    train_min_neg_8[i] = np.amin(train_neg_8[i][0], 0)\n",
    "    train_max_neg_8[i] = np.amax(train_neg_8[i][0], 0)"
   ]
  },
  {
   "cell_type": "code",
   "execution_count": 228,
   "metadata": {},
   "outputs": [
    {
     "name": "stdout",
     "output_type": "stream",
     "text": [
      "(900, 128)\n",
      "(128,)\n",
      "(128,)\n",
      "(128,)\n",
      "(128,)\n",
      "(128,)\n",
      "(128,)\n"
     ]
    }
   ],
   "source": [
    "print (train_means_neg_8.shape)\n",
    "print (train_std_neg_8[1].shape)\n",
    "print (train_median_neg_8[1].shape)\n",
    "print (train_min_neg_8[1].shape)\n",
    "print (train_max_neg_8[1].shape)\n",
    "print (train_kurtosis_neg_8[1].shape)\n",
    "print (train_skew_neg_8[1].shape)"
   ]
  },
  {
   "cell_type": "code",
   "execution_count": 229,
   "metadata": {},
   "outputs": [],
   "source": [
    "train_features_neg_8 = np.concatenate((train_means_neg_8,train_std_neg_8, train_median_neg_8, train_min_neg_8, train_max_neg_8, train_kurtosis_neg_8, train_skew_neg_8),axis=1)\n"
   ]
  },
  {
   "cell_type": "code",
   "execution_count": 230,
   "metadata": {},
   "outputs": [
    {
     "data": {
      "text/plain": [
       "(900, 896)"
      ]
     },
     "execution_count": 230,
     "metadata": {},
     "output_type": "execute_result"
    }
   ],
   "source": [
    "train_features_neg_8.shape"
   ]
  },
  {
   "cell_type": "markdown",
   "metadata": {},
   "source": [
    "## TEST"
   ]
  },
  {
   "cell_type": "markdown",
   "metadata": {},
   "source": [
    "### Positive"
   ]
  },
  {
   "cell_type": "code",
   "execution_count": 231,
   "metadata": {},
   "outputs": [],
   "source": [
    "with open(os.path.join(\"/Volumes/Ana Elisa/Ana Elisa's MacBook Pro/Documents/NYU_PHD/UrbanSound8/soundscapes/test_\" + str(8) + \"/\"+'pos_test_sel_features.txt'),'rb') as f:\n",
    "        test_pos_8 = pickle.load(f)\n",
    "        \n",
    "        \n",
    "        "
   ]
  },
  {
   "cell_type": "code",
   "execution_count": 232,
   "metadata": {},
   "outputs": [
    {
     "data": {
      "text/plain": [
       "290"
      ]
     },
     "execution_count": 232,
     "metadata": {},
     "output_type": "execute_result"
    }
   ],
   "source": [
    "len(test_pos_8)"
   ]
  },
  {
   "cell_type": "code",
   "execution_count": 233,
   "metadata": {},
   "outputs": [
    {
     "data": {
      "text/plain": [
       "array([[158,  15, 156, ..., 128,  72, 255],\n",
       "       [156,  18, 161, ...,  68, 122, 255],\n",
       "       [154,  30, 141, ...,  62,  95, 255],\n",
       "       ...,\n",
       "       [150,  22, 114, ...,  28,   0, 255],\n",
       "       [148,  23, 115, ...,   0,   0, 255],\n",
       "       [150,  23, 121, ...,   0,   0, 255]], dtype=uint8)"
      ]
     },
     "execution_count": 233,
     "metadata": {},
     "output_type": "execute_result"
    }
   ],
   "source": [
    "test_pos_8[1][0]"
   ]
  },
  {
   "cell_type": "code",
   "execution_count": 234,
   "metadata": {},
   "outputs": [],
   "source": [
    "test_means_pos_8 = np.zeros((len(test_pos_5),test_pos_5[0][0].shape[1]))\n",
    "test_std_pos_8 = np.zeros((len(test_pos_5),test_pos_5[0][0].shape[1]))\n",
    "test_median_pos_8 = np.zeros((len(test_pos_5),test_pos_5[0][0].shape[1]))\n",
    "test_kurtosis_pos_8 = np.zeros((len(test_pos_5),test_pos_5[0][0].shape[1]))\n",
    "test_min_pos_8 = np.zeros((len(test_pos_5),test_pos_5[0][0].shape[1]))\n",
    "test_max_pos_8 = np.zeros((len(test_pos_5),test_pos_5[0][0].shape[1]))\n",
    "test_skew_pos_8 = np.zeros((len(test_pos_5),test_pos_5[0][0].shape[1]))\n",
    "\n",
    "for i in range(len(test_pos_8)):\n",
    "    test_means_pos_8[i] = np.mean(test_pos_8[i][0], 0)\n",
    "    test_std_pos_8[i] = np.std(test_pos_8[i][0], 0)\n",
    "    test_median_pos_8[i] = np.median(test_pos_8[i][0], 0)\n",
    "    test_kurtosis_pos_8[i] = scipy.stats.kurtosis(test_pos_8[i][0], 0)\n",
    "    test_skew_pos_8[i] = scipy.stats.skew(test_pos_8[i][0], 0)\n",
    "    test_min_pos_8[i] = np.amin(test_pos_8[i][0], 0)\n",
    "    test_max_pos_8[i] = np.amax(test_pos_8[i][0], 0)"
   ]
  },
  {
   "cell_type": "code",
   "execution_count": 235,
   "metadata": {},
   "outputs": [
    {
     "name": "stdout",
     "output_type": "stream",
     "text": [
      "(290, 128)\n",
      "(128,)\n",
      "(128,)\n",
      "(128,)\n",
      "(128,)\n",
      "(128,)\n",
      "(128,)\n"
     ]
    }
   ],
   "source": [
    "print (test_means_pos_8.shape)\n",
    "print (test_std_pos_8[1].shape)\n",
    "print (test_median_pos_8[1].shape)\n",
    "print (test_min_pos_8[1].shape)\n",
    "print (test_max_pos_8[1].shape)\n",
    "print (test_kurtosis_pos_8[1].shape)\n",
    "print (test_skew_pos_8[1].shape)"
   ]
  },
  {
   "cell_type": "code",
   "execution_count": 236,
   "metadata": {},
   "outputs": [],
   "source": [
    "test_features_pos_8 = np.concatenate((test_means_pos_8,test_std_pos_8, test_median_pos_8, test_min_pos_8, test_max_pos_8, test_kurtosis_pos_8, test_skew_pos_8),axis=1)\n"
   ]
  },
  {
   "cell_type": "code",
   "execution_count": 237,
   "metadata": {},
   "outputs": [
    {
     "data": {
      "text/plain": [
       "(290, 896)"
      ]
     },
     "execution_count": 237,
     "metadata": {},
     "output_type": "execute_result"
    }
   ],
   "source": [
    "test_features_pos_8.shape"
   ]
  },
  {
   "cell_type": "markdown",
   "metadata": {},
   "source": [
    "### Negative"
   ]
  },
  {
   "cell_type": "code",
   "execution_count": 238,
   "metadata": {},
   "outputs": [],
   "source": [
    "with open(os.path.join(\"/Volumes/Ana Elisa/Ana Elisa's MacBook Pro/Documents/NYU_PHD/UrbanSound8/soundscapes/test_\" + str(8) + \"/\"+'neg_test_sel_features.txt'),'rb') as f:\n",
    "        test_neg_8 = pickle.load(f)\n",
    "        \n",
    "        \n",
    "        "
   ]
  },
  {
   "cell_type": "code",
   "execution_count": 239,
   "metadata": {},
   "outputs": [
    {
     "data": {
      "text/plain": [
       "290"
      ]
     },
     "execution_count": 239,
     "metadata": {},
     "output_type": "execute_result"
    }
   ],
   "source": [
    "len(test_neg_8)"
   ]
  },
  {
   "cell_type": "code",
   "execution_count": 240,
   "metadata": {},
   "outputs": [
    {
     "data": {
      "text/plain": [
       "array([[153,  10, 162, ...,   0,  15, 255],\n",
       "       [154,  11, 161, ...,   0,  38, 255],\n",
       "       [153,   9, 163, ...,   0,  17, 255],\n",
       "       ...,\n",
       "       [156,  35, 161, ...,   0,   0, 255],\n",
       "       [157,  35, 164, ...,   0,   0, 255],\n",
       "       [158,  38, 164, ...,   0,   0, 255]], dtype=uint8)"
      ]
     },
     "execution_count": 240,
     "metadata": {},
     "output_type": "execute_result"
    }
   ],
   "source": [
    "test_neg_8[1][0]"
   ]
  },
  {
   "cell_type": "code",
   "execution_count": 241,
   "metadata": {},
   "outputs": [],
   "source": [
    "test_means_neg_8 = np.zeros((len(test_neg_5),test_neg_5[0][0].shape[1]))\n",
    "test_std_neg_8 = np.zeros((len(test_neg_5),test_neg_5[0][0].shape[1]))\n",
    "test_median_neg_8 = np.zeros((len(test_neg_5),test_neg_5[0][0].shape[1]))\n",
    "test_kurtosis_neg_8 = np.zeros((len(test_neg_5),test_neg_5[0][0].shape[1]))\n",
    "test_min_neg_8 = np.zeros((len(test_neg_5),test_neg_5[0][0].shape[1]))\n",
    "test_max_neg_8 = np.zeros((len(test_neg_5),test_neg_5[0][0].shape[1]))\n",
    "test_skew_neg_8 = np.zeros((len(test_neg_5),test_neg_5[0][0].shape[1]))\n",
    "\n",
    "for i in range(len(test_neg_8)):\n",
    "    test_means_neg_8[i] = np.mean(test_neg_8[i][0], 0)\n",
    "    test_std_neg_8[i] = np.std(test_neg_8[i][0], 0)\n",
    "    test_median_neg_8[i] = np.median(test_neg_8[i][0], 0)\n",
    "    test_kurtosis_neg_8[i] = scipy.stats.kurtosis(test_neg_8[i][0], 0)\n",
    "    test_skew_neg_8[i] = scipy.stats.skew(test_neg_8[i][0], 0)\n",
    "    test_min_neg_8[i] = np.amin(test_neg_8[i][0], 0)\n",
    "    test_max_neg_8[i] = np.amax(test_neg_8[i][0], 0)"
   ]
  },
  {
   "cell_type": "code",
   "execution_count": 242,
   "metadata": {},
   "outputs": [
    {
     "name": "stdout",
     "output_type": "stream",
     "text": [
      "(290, 128)\n",
      "(128,)\n",
      "(128,)\n",
      "(128,)\n",
      "(128,)\n",
      "(128,)\n",
      "(128,)\n"
     ]
    }
   ],
   "source": [
    "print (test_means_neg_8.shape)\n",
    "print (test_std_neg_8[1].shape)\n",
    "print (test_median_neg_8[1].shape)\n",
    "print (test_min_neg_8[1].shape)\n",
    "print (test_max_neg_8[1].shape)\n",
    "print (test_kurtosis_neg_8[1].shape)\n",
    "print (test_skew_neg_8[1].shape)"
   ]
  },
  {
   "cell_type": "code",
   "execution_count": 271,
   "metadata": {},
   "outputs": [],
   "source": [
    "test_features_neg_8 = np.concatenate((test_means_neg_8,test_std_neg_8, test_median_neg_8, test_min_neg_8, test_max_neg_8, test_kurtosis_neg_8, test_skew_neg_8),axis=1)\n"
   ]
  },
  {
   "cell_type": "code",
   "execution_count": 272,
   "metadata": {},
   "outputs": [
    {
     "data": {
      "text/plain": [
       "(290, 896)"
      ]
     },
     "execution_count": 272,
     "metadata": {},
     "output_type": "execute_result"
    }
   ],
   "source": [
    "test_features_neg_8.shape"
   ]
  },
  {
   "cell_type": "markdown",
   "metadata": {},
   "source": [
    "# Compute statistics group 9"
   ]
  },
  {
   "cell_type": "markdown",
   "metadata": {},
   "source": [
    "## TRAIN"
   ]
  },
  {
   "cell_type": "markdown",
   "metadata": {},
   "source": [
    "### Positive"
   ]
  },
  {
   "cell_type": "code",
   "execution_count": 245,
   "metadata": {},
   "outputs": [],
   "source": [
    "with open(os.path.join(\"/Volumes/Ana Elisa/Ana Elisa's MacBook Pro/Documents/NYU_PHD/UrbanSound8/soundscapes/train_\" + str(9) + \"/\"+'pos_train_sel_features.txt'),'rb') as f:\n",
    "        train_pos_9 = pickle.load(f)\n",
    "        \n",
    "        \n",
    "        "
   ]
  },
  {
   "cell_type": "code",
   "execution_count": 246,
   "metadata": {},
   "outputs": [
    {
     "data": {
      "text/plain": [
       "900"
      ]
     },
     "execution_count": 246,
     "metadata": {},
     "output_type": "execute_result"
    }
   ],
   "source": [
    "len(train_pos_9)"
   ]
  },
  {
   "cell_type": "code",
   "execution_count": 247,
   "metadata": {},
   "outputs": [
    {
     "data": {
      "text/plain": [
       "array([[153,  10, 161, ...,   0,  17, 255],\n",
       "       [155,  11, 153, ...,   0,  39, 255],\n",
       "       [152,  18, 162, ...,   0, 172, 255],\n",
       "       ...,\n",
       "       [149,  13, 171, ...,   0, 186, 255],\n",
       "       [156,  16, 165, ..., 115,   4, 255],\n",
       "       [154,  16, 172, ...,   0,  90, 255]], dtype=uint8)"
      ]
     },
     "execution_count": 247,
     "metadata": {},
     "output_type": "execute_result"
    }
   ],
   "source": [
    "train_pos_9[1][0]"
   ]
  },
  {
   "cell_type": "code",
   "execution_count": 248,
   "metadata": {},
   "outputs": [],
   "source": [
    "train_means_pos_9 = np.zeros((len(train_pos_5),train_pos_5[0][0].shape[1]))\n",
    "train_std_pos_9 = np.zeros((len(train_pos_5),train_pos_5[0][0].shape[1]))\n",
    "train_median_pos_9 = np.zeros((len(train_pos_5),train_pos_5[0][0].shape[1]))\n",
    "train_kurtosis_pos_9 = np.zeros((len(train_pos_5),train_pos_5[0][0].shape[1]))\n",
    "train_min_pos_9 = np.zeros((len(train_pos_5),train_pos_5[0][0].shape[1]))\n",
    "train_max_pos_9 = np.zeros((len(train_pos_5),train_pos_5[0][0].shape[1]))\n",
    "train_skew_pos_9 = np.zeros((len(train_pos_5),train_pos_5[0][0].shape[1]))\n",
    "\n",
    "for i in range(len(train_pos_9)):\n",
    "    train_means_pos_9[i] = np.mean(train_pos_9[i][0], 0)\n",
    "    train_std_pos_9[i] = np.std(train_pos_9[i][0], 0)\n",
    "    train_median_pos_9[i] = np.median(train_pos_9[i][0], 0)\n",
    "    train_kurtosis_pos_9[i] = scipy.stats.kurtosis(train_pos_9[i][0], 0)\n",
    "    train_skew_pos_9[i] = scipy.stats.skew(train_pos_9[i][0], 0)\n",
    "    train_min_pos_9[i] = np.amin(train_pos_9[i][0], 0)\n",
    "    train_max_pos_9[i] = np.amax(train_pos_9[i][0], 0)"
   ]
  },
  {
   "cell_type": "code",
   "execution_count": 249,
   "metadata": {},
   "outputs": [
    {
     "name": "stdout",
     "output_type": "stream",
     "text": [
      "(900, 128)\n",
      "(128,)\n",
      "(128,)\n",
      "(128,)\n",
      "(128,)\n",
      "(128,)\n",
      "(128,)\n"
     ]
    }
   ],
   "source": [
    "print (train_means_pos_9.shape)\n",
    "print (train_std_pos_9[1].shape)\n",
    "print (train_median_pos_9[1].shape)\n",
    "print (train_min_pos_9[1].shape)\n",
    "print (train_max_pos_9[1].shape)\n",
    "print (train_kurtosis_pos_9[1].shape)\n",
    "print (train_skew_pos_9[1].shape)"
   ]
  },
  {
   "cell_type": "code",
   "execution_count": 250,
   "metadata": {},
   "outputs": [],
   "source": [
    "train_features_pos_9 = np.concatenate((train_means_pos_9,train_std_pos_9, train_median_pos_9, train_min_pos_9, train_max_pos_9, train_kurtosis_pos_9, train_skew_pos_9),axis=1)\n"
   ]
  },
  {
   "cell_type": "code",
   "execution_count": 251,
   "metadata": {},
   "outputs": [
    {
     "data": {
      "text/plain": [
       "(900, 896)"
      ]
     },
     "execution_count": 251,
     "metadata": {},
     "output_type": "execute_result"
    }
   ],
   "source": [
    "train_features_pos_9.shape"
   ]
  },
  {
   "cell_type": "markdown",
   "metadata": {},
   "source": [
    "### Negative"
   ]
  },
  {
   "cell_type": "code",
   "execution_count": 252,
   "metadata": {},
   "outputs": [],
   "source": [
    "with open(os.path.join(\"/Volumes/Ana Elisa/Ana Elisa's MacBook Pro/Documents/NYU_PHD/UrbanSound8/soundscapes/train_\" + str(9) + \"/\"+'neg_train_sel_features.txt'),'rb') as f:\n",
    "        train_neg_9 = pickle.load(f)\n",
    "        \n",
    "        \n",
    "        "
   ]
  },
  {
   "cell_type": "code",
   "execution_count": 253,
   "metadata": {},
   "outputs": [
    {
     "data": {
      "text/plain": [
       "900"
      ]
     },
     "execution_count": 253,
     "metadata": {},
     "output_type": "execute_result"
    }
   ],
   "source": [
    "len(train_neg_9)"
   ]
  },
  {
   "cell_type": "code",
   "execution_count": 254,
   "metadata": {},
   "outputs": [
    {
     "data": {
      "text/plain": [
       "array([[152,   5, 162, ...,   0,  19, 255],\n",
       "       [152,  11, 163, ...,  44,  39, 255],\n",
       "       [148,   8, 140, ...,  74,  78, 255],\n",
       "       ...,\n",
       "       [158,  24, 143, ..., 255,  41, 255],\n",
       "       [153,  21, 131, ..., 253, 125, 255],\n",
       "       [155,  26, 137, ..., 148,  25, 255]], dtype=uint8)"
      ]
     },
     "execution_count": 254,
     "metadata": {},
     "output_type": "execute_result"
    }
   ],
   "source": [
    "train_neg_9[1][0]"
   ]
  },
  {
   "cell_type": "code",
   "execution_count": 255,
   "metadata": {},
   "outputs": [],
   "source": [
    "train_means_neg_9 = np.zeros((len(train_neg_5),train_neg_5[0][0].shape[1]))\n",
    "train_std_neg_9 = np.zeros((len(train_neg_5),train_neg_5[0][0].shape[1]))\n",
    "train_median_neg_9 = np.zeros((len(train_neg_5),train_neg_5[0][0].shape[1]))\n",
    "train_kurtosis_neg_9 = np.zeros((len(train_neg_5),train_neg_5[0][0].shape[1]))\n",
    "train_min_neg_9 = np.zeros((len(train_neg_5),train_neg_5[0][0].shape[1]))\n",
    "train_max_neg_9 = np.zeros((len(train_neg_5),train_neg_5[0][0].shape[1]))\n",
    "train_skew_neg_9 = np.zeros((len(train_neg_5),train_neg_5[0][0].shape[1]))\n",
    "\n",
    "for i in range(len(train_neg_9)):\n",
    "    train_means_neg_9[i] = np.mean(train_neg_9[i][0], 0)\n",
    "    train_std_neg_9[i] = np.std(train_neg_9[i][0], 0)\n",
    "    train_median_neg_9[i] = np.median(train_neg_9[i][0], 0)\n",
    "    train_kurtosis_neg_9[i] = scipy.stats.kurtosis(train_neg_9[i][0], 0)\n",
    "    train_skew_neg_9[i] = scipy.stats.skew(train_neg_9[i][0], 0)\n",
    "    train_min_neg_9[i] = np.amin(train_neg_9[i][0], 0)\n",
    "    train_max_neg_9[i] = np.amax(train_neg_9[i][0], 0)"
   ]
  },
  {
   "cell_type": "code",
   "execution_count": 256,
   "metadata": {},
   "outputs": [
    {
     "name": "stdout",
     "output_type": "stream",
     "text": [
      "(900, 128)\n",
      "(128,)\n",
      "(128,)\n",
      "(128,)\n",
      "(128,)\n",
      "(128,)\n",
      "(128,)\n"
     ]
    }
   ],
   "source": [
    "print (train_means_neg_9.shape)\n",
    "print (train_std_neg_9[1].shape)\n",
    "print (train_median_neg_9[1].shape)\n",
    "print (train_min_neg_9[1].shape)\n",
    "print (train_max_neg_9[1].shape)\n",
    "print (train_kurtosis_neg_9[1].shape)\n",
    "print (train_skew_neg_9[1].shape)"
   ]
  },
  {
   "cell_type": "code",
   "execution_count": 257,
   "metadata": {},
   "outputs": [],
   "source": [
    "train_features_neg_9 = np.concatenate((train_means_neg_9,train_std_neg_9, train_median_neg_9, train_min_neg_9, train_max_neg_9, train_kurtosis_neg_9, train_skew_neg_9),axis=1)\n"
   ]
  },
  {
   "cell_type": "code",
   "execution_count": 258,
   "metadata": {},
   "outputs": [
    {
     "data": {
      "text/plain": [
       "(900, 896)"
      ]
     },
     "execution_count": 258,
     "metadata": {},
     "output_type": "execute_result"
    }
   ],
   "source": [
    "train_features_neg_9.shape"
   ]
  },
  {
   "cell_type": "markdown",
   "metadata": {},
   "source": [
    "## TEST"
   ]
  },
  {
   "cell_type": "markdown",
   "metadata": {},
   "source": [
    "### Positive"
   ]
  },
  {
   "cell_type": "code",
   "execution_count": 259,
   "metadata": {},
   "outputs": [],
   "source": [
    "with open(os.path.join(\"/Volumes/Ana Elisa/Ana Elisa's MacBook Pro/Documents/NYU_PHD/UrbanSound8/soundscapes/test_\" + str(9) + \"/\"+'pos_test_sel_features.txt'),'rb') as f:\n",
    "        test_pos_9 = pickle.load(f)\n",
    "        \n",
    "        \n",
    "        "
   ]
  },
  {
   "cell_type": "code",
   "execution_count": 260,
   "metadata": {},
   "outputs": [
    {
     "data": {
      "text/plain": [
       "290"
      ]
     },
     "execution_count": 260,
     "metadata": {},
     "output_type": "execute_result"
    }
   ],
   "source": [
    "len(test_pos_9)"
   ]
  },
  {
   "cell_type": "code",
   "execution_count": 261,
   "metadata": {},
   "outputs": [
    {
     "data": {
      "text/plain": [
       "array([[150,   8, 142, ...,   0,  47, 255],\n",
       "       [149,  18, 144, ...,   0,  37, 255],\n",
       "       [151,  14, 142, ..., 111,  36, 255],\n",
       "       ...,\n",
       "       [163,  30, 151, ..., 255,  94, 255],\n",
       "       [178,  43, 175, ..., 255,   0, 255],\n",
       "       [173,  35, 174, ..., 255,   0, 255]], dtype=uint8)"
      ]
     },
     "execution_count": 261,
     "metadata": {},
     "output_type": "execute_result"
    }
   ],
   "source": [
    "test_pos_9[1][0]"
   ]
  },
  {
   "cell_type": "code",
   "execution_count": 262,
   "metadata": {},
   "outputs": [],
   "source": [
    "test_means_pos_9 = np.zeros((len(test_pos_5),test_pos_5[0][0].shape[1]))\n",
    "test_std_pos_9 = np.zeros((len(test_pos_5),test_pos_5[0][0].shape[1]))\n",
    "test_median_pos_9 = np.zeros((len(test_pos_5),test_pos_5[0][0].shape[1]))\n",
    "test_kurtosis_pos_9 = np.zeros((len(test_pos_5),test_pos_5[0][0].shape[1]))\n",
    "test_min_pos_9 = np.zeros((len(test_pos_5),test_pos_5[0][0].shape[1]))\n",
    "test_max_pos_9 = np.zeros((len(test_pos_5),test_pos_5[0][0].shape[1]))\n",
    "test_skew_pos_9 = np.zeros((len(test_pos_5),test_pos_5[0][0].shape[1]))\n",
    "\n",
    "for i in range(len(test_pos_9)):\n",
    "    test_means_pos_9[i] = np.mean(test_pos_9[i][0], 0)\n",
    "    test_std_pos_9[i] = np.std(test_pos_9[i][0], 0)\n",
    "    test_median_pos_9[i] = np.median(test_pos_9[i][0], 0)\n",
    "    test_kurtosis_pos_9[i] = scipy.stats.kurtosis(test_pos_9[i][0], 0)\n",
    "    test_skew_pos_9[i] = scipy.stats.skew(test_pos_9[i][0], 0)\n",
    "    test_min_pos_9[i] = np.amin(test_pos_9[i][0], 0)\n",
    "    test_max_pos_9[i] = np.amax(test_pos_9[i][0], 0)"
   ]
  },
  {
   "cell_type": "code",
   "execution_count": 263,
   "metadata": {},
   "outputs": [
    {
     "name": "stdout",
     "output_type": "stream",
     "text": [
      "(290, 128)\n",
      "(128,)\n",
      "(128,)\n",
      "(128,)\n",
      "(128,)\n",
      "(128,)\n",
      "(128,)\n"
     ]
    }
   ],
   "source": [
    "print (test_means_pos_9.shape)\n",
    "print (test_std_pos_9[1].shape)\n",
    "print (test_median_pos_9[1].shape)\n",
    "print (test_min_pos_9[1].shape)\n",
    "print (test_max_pos_9[1].shape)\n",
    "print (test_kurtosis_pos_9[1].shape)\n",
    "print (test_skew_pos_9[1].shape)"
   ]
  },
  {
   "cell_type": "code",
   "execution_count": 264,
   "metadata": {},
   "outputs": [],
   "source": [
    "test_features_pos_9 = np.concatenate((test_means_pos_9,test_std_pos_9, test_median_pos_9, test_min_pos_9, test_max_pos_9, test_kurtosis_pos_9, test_skew_pos_9),axis=1)\n"
   ]
  },
  {
   "cell_type": "code",
   "execution_count": 265,
   "metadata": {},
   "outputs": [
    {
     "data": {
      "text/plain": [
       "(290, 896)"
      ]
     },
     "execution_count": 265,
     "metadata": {},
     "output_type": "execute_result"
    }
   ],
   "source": [
    "test_features_pos_9.shape"
   ]
  },
  {
   "cell_type": "markdown",
   "metadata": {},
   "source": [
    "### Negative"
   ]
  },
  {
   "cell_type": "code",
   "execution_count": 266,
   "metadata": {},
   "outputs": [],
   "source": [
    "with open(os.path.join(\"/Volumes/Ana Elisa/Ana Elisa's MacBook Pro/Documents/NYU_PHD/UrbanSound8/soundscapes/test_\" + str(9) + \"/\"+'neg_test_sel_features.txt'),'rb') as f:\n",
    "        test_neg_9 = pickle.load(f)\n",
    "        \n",
    "        \n",
    "        "
   ]
  },
  {
   "cell_type": "code",
   "execution_count": 267,
   "metadata": {},
   "outputs": [
    {
     "data": {
      "text/plain": [
       "290"
      ]
     },
     "execution_count": 267,
     "metadata": {},
     "output_type": "execute_result"
    }
   ],
   "source": [
    "len(test_neg_9)"
   ]
  },
  {
   "cell_type": "code",
   "execution_count": 268,
   "metadata": {},
   "outputs": [
    {
     "data": {
      "text/plain": [
       "array([[153,   9, 162, ...,   0,  14, 255],\n",
       "       [154,  11, 162, ...,   0,  37, 255],\n",
       "       [153,   8, 163, ...,   0,  14, 255],\n",
       "       ...,\n",
       "       [152,  31, 150, ...,  46,  42, 255],\n",
       "       [153,  22, 144, ...,  57,  84, 255],\n",
       "       [164,  35, 185, ..., 108,  91, 255]], dtype=uint8)"
      ]
     },
     "execution_count": 268,
     "metadata": {},
     "output_type": "execute_result"
    }
   ],
   "source": [
    "test_neg_9[1][0]"
   ]
  },
  {
   "cell_type": "code",
   "execution_count": 269,
   "metadata": {},
   "outputs": [],
   "source": [
    "test_means_neg_9 = np.zeros((len(test_neg_5),test_neg_5[0][0].shape[1]))\n",
    "test_std_neg_9 = np.zeros((len(test_neg_5),test_neg_5[0][0].shape[1]))\n",
    "test_median_neg_9 = np.zeros((len(test_neg_5),test_neg_5[0][0].shape[1]))\n",
    "test_kurtosis_neg_9 = np.zeros((len(test_neg_5),test_neg_5[0][0].shape[1]))\n",
    "test_min_neg_9 = np.zeros((len(test_neg_5),test_neg_5[0][0].shape[1]))\n",
    "test_max_neg_9 = np.zeros((len(test_neg_5),test_neg_5[0][0].shape[1]))\n",
    "test_skew_neg_9 = np.zeros((len(test_neg_5),test_neg_5[0][0].shape[1]))\n",
    "\n",
    "for i in range(len(test_neg_9)):\n",
    "    test_means_neg_9[i] = np.mean(test_neg_9[i][0], 0)\n",
    "    test_std_neg_9[i] = np.std(test_neg_9[i][0], 0)\n",
    "    test_median_neg_9[i] = np.median(test_neg_9[i][0], 0)\n",
    "    test_kurtosis_neg_9[i] = scipy.stats.kurtosis(test_neg_9[i][0], 0)\n",
    "    test_skew_neg_9[i] = scipy.stats.skew(test_neg_9[i][0], 0)\n",
    "    test_min_neg_9[i] = np.amin(test_neg_9[i][0], 0)\n",
    "    test_max_neg_9[i] = np.amax(test_neg_9[i][0], 0)"
   ]
  },
  {
   "cell_type": "code",
   "execution_count": 270,
   "metadata": {},
   "outputs": [
    {
     "name": "stdout",
     "output_type": "stream",
     "text": [
      "(290, 128)\n",
      "(128,)\n",
      "(128,)\n",
      "(128,)\n",
      "(128,)\n",
      "(128,)\n",
      "(128,)\n"
     ]
    }
   ],
   "source": [
    "print (test_means_neg_9.shape)\n",
    "print (test_std_neg_9[1].shape)\n",
    "print (test_median_neg_9[1].shape)\n",
    "print (test_min_neg_9[1].shape)\n",
    "print (test_max_neg_9[1].shape)\n",
    "print (test_kurtosis_neg_9[1].shape)\n",
    "print (test_skew_neg_9[1].shape)"
   ]
  },
  {
   "cell_type": "code",
   "execution_count": 273,
   "metadata": {},
   "outputs": [],
   "source": [
    "test_features_neg_9 = np.concatenate((test_means_neg_9,test_std_neg_9, test_median_neg_9, test_min_neg_9, test_max_neg_9, test_kurtosis_neg_9, test_skew_neg_9),axis=1)\n"
   ]
  },
  {
   "cell_type": "code",
   "execution_count": 274,
   "metadata": {},
   "outputs": [
    {
     "data": {
      "text/plain": [
       "(290, 896)"
      ]
     },
     "execution_count": 274,
     "metadata": {},
     "output_type": "execute_result"
    }
   ],
   "source": [
    "test_features_neg_9.shape"
   ]
  },
  {
   "cell_type": "markdown",
   "metadata": {},
   "source": [
    "# Compute statistics group 10"
   ]
  },
  {
   "cell_type": "markdown",
   "metadata": {},
   "source": [
    "## TRAIN"
   ]
  },
  {
   "cell_type": "markdown",
   "metadata": {},
   "source": [
    "### Positive"
   ]
  },
  {
   "cell_type": "code",
   "execution_count": 275,
   "metadata": {},
   "outputs": [],
   "source": [
    "with open(os.path.join(\"/Volumes/Ana Elisa/Ana Elisa's MacBook Pro/Documents/NYU_PHD/UrbanSound8/soundscapes/train_\" + str(10) + \"/\"+'pos_train_sel_features.txt'),'rb') as f:\n",
    "        train_pos_10 = pickle.load(f)\n",
    "        \n",
    "        \n",
    "        "
   ]
  },
  {
   "cell_type": "code",
   "execution_count": 276,
   "metadata": {},
   "outputs": [
    {
     "data": {
      "text/plain": [
       "900"
      ]
     },
     "execution_count": 276,
     "metadata": {},
     "output_type": "execute_result"
    }
   ],
   "source": [
    "len(train_pos_10)"
   ]
  },
  {
   "cell_type": "code",
   "execution_count": 277,
   "metadata": {},
   "outputs": [
    {
     "data": {
      "text/plain": [
       "array([[153,   9, 162, ...,   0,  14, 255],\n",
       "       [154,  11, 162, ...,   0,  38, 255],\n",
       "       [156,  12, 159, ...,  45, 188, 255],\n",
       "       ...,\n",
       "       [149,  21, 157, ...,   0, 107, 255],\n",
       "       [157,  33, 157, ...,  26, 161, 255],\n",
       "       [159,  29, 167, ...,  60,  48, 255]], dtype=uint8)"
      ]
     },
     "execution_count": 277,
     "metadata": {},
     "output_type": "execute_result"
    }
   ],
   "source": [
    "train_pos_10[1][0]"
   ]
  },
  {
   "cell_type": "code",
   "execution_count": 278,
   "metadata": {},
   "outputs": [],
   "source": [
    "train_means_pos_10 = np.zeros((len(train_pos_5),train_pos_5[0][0].shape[1]))\n",
    "train_std_pos_10 = np.zeros((len(train_pos_5),train_pos_5[0][0].shape[1]))\n",
    "train_median_pos_10 = np.zeros((len(train_pos_5),train_pos_5[0][0].shape[1]))\n",
    "train_kurtosis_pos_10 = np.zeros((len(train_pos_5),train_pos_5[0][0].shape[1]))\n",
    "train_min_pos_10 = np.zeros((len(train_pos_5),train_pos_5[0][0].shape[1]))\n",
    "train_max_pos_10 = np.zeros((len(train_pos_5),train_pos_5[0][0].shape[1]))\n",
    "train_skew_pos_10 = np.zeros((len(train_pos_5),train_pos_5[0][0].shape[1]))\n",
    "\n",
    "for i in range(len(train_pos_10)):\n",
    "    train_means_pos_10[i] = np.mean(train_pos_10[i][0], 0)\n",
    "    train_std_pos_10[i] = np.std(train_pos_10[i][0], 0)\n",
    "    train_median_pos_10[i] = np.median(train_pos_10[i][0], 0)\n",
    "    train_kurtosis_pos_10[i] = scipy.stats.kurtosis(train_pos_10[i][0], 0)\n",
    "    train_skew_pos_10[i] = scipy.stats.skew(train_pos_10[i][0], 0)\n",
    "    train_min_pos_10[i] = np.amin(train_pos_10[i][0], 0)\n",
    "    train_max_pos_10[i] = np.amax(train_pos_10[i][0], 0)"
   ]
  },
  {
   "cell_type": "code",
   "execution_count": 279,
   "metadata": {},
   "outputs": [
    {
     "name": "stdout",
     "output_type": "stream",
     "text": [
      "(900, 128)\n",
      "(128,)\n",
      "(128,)\n",
      "(128,)\n",
      "(128,)\n",
      "(128,)\n",
      "(128,)\n"
     ]
    }
   ],
   "source": [
    "print (train_means_pos_10.shape)\n",
    "print (train_std_pos_10[1].shape)\n",
    "print (train_median_pos_10[1].shape)\n",
    "print (train_min_pos_10[1].shape)\n",
    "print (train_max_pos_10[1].shape)\n",
    "print (train_kurtosis_pos_10[1].shape)\n",
    "print (train_skew_pos_10[1].shape)"
   ]
  },
  {
   "cell_type": "code",
   "execution_count": 280,
   "metadata": {},
   "outputs": [],
   "source": [
    "train_features_pos_10 = np.concatenate((train_means_pos_10,train_std_pos_10, train_median_pos_10, train_min_pos_10, train_max_pos_10, train_kurtosis_pos_10, train_skew_pos_10),axis=1)\n"
   ]
  },
  {
   "cell_type": "code",
   "execution_count": 281,
   "metadata": {},
   "outputs": [
    {
     "data": {
      "text/plain": [
       "(900, 896)"
      ]
     },
     "execution_count": 281,
     "metadata": {},
     "output_type": "execute_result"
    }
   ],
   "source": [
    "train_features_pos_10.shape"
   ]
  },
  {
   "cell_type": "markdown",
   "metadata": {},
   "source": [
    "### Negative"
   ]
  },
  {
   "cell_type": "code",
   "execution_count": 282,
   "metadata": {},
   "outputs": [],
   "source": [
    "with open(os.path.join(\"/Volumes/Ana Elisa/Ana Elisa's MacBook Pro/Documents/NYU_PHD/UrbanSound8/soundscapes/train_\" + str(10) + \"/\"+'neg_train_sel_features.txt'),'rb') as f:\n",
    "        train_neg_10 = pickle.load(f)\n",
    "        \n",
    "        \n",
    "        "
   ]
  },
  {
   "cell_type": "code",
   "execution_count": 283,
   "metadata": {},
   "outputs": [
    {
     "data": {
      "text/plain": [
       "900"
      ]
     },
     "execution_count": 283,
     "metadata": {},
     "output_type": "execute_result"
    }
   ],
   "source": [
    "len(train_neg_10)"
   ]
  },
  {
   "cell_type": "code",
   "execution_count": 284,
   "metadata": {},
   "outputs": [
    {
     "data": {
      "text/plain": [
       "array([[153,  13, 160, ...,  31,  46, 255],\n",
       "       [149,  17, 154, ...,   0,  45, 255],\n",
       "       [155,  13, 167, ...,   0, 255, 255],\n",
       "       ...,\n",
       "       [153,  27, 129, ...,  38, 255, 255],\n",
       "       [148,  26, 132, ...,  50,  59, 255],\n",
       "       [138,  17,  97, ...,   0,   0, 255]], dtype=uint8)"
      ]
     },
     "execution_count": 284,
     "metadata": {},
     "output_type": "execute_result"
    }
   ],
   "source": [
    "train_neg_10[1][0]"
   ]
  },
  {
   "cell_type": "code",
   "execution_count": 285,
   "metadata": {},
   "outputs": [],
   "source": [
    "train_means_neg_10 = np.zeros((len(train_neg_10),train_neg_10[0][0].shape[1]))\n",
    "train_std_neg_10 = np.zeros((len(train_neg_10),train_neg_10[0][0].shape[1]))\n",
    "train_median_neg_10 = np.zeros((len(train_neg_10),train_neg_10[0][0].shape[1]))\n",
    "train_kurtosis_neg_10 = np.zeros((len(train_neg_10),train_neg_10[0][0].shape[1]))\n",
    "train_min_neg_10 = np.zeros((len(train_neg_10),train_neg_10[0][0].shape[1]))\n",
    "train_max_neg_10 = np.zeros((len(train_neg_10),train_neg_10[0][0].shape[1]))\n",
    "train_skew_neg_10 = np.zeros((len(train_neg_10),train_neg_10[0][0].shape[1]))\n",
    "\n",
    "for i in range(len(train_neg_10)):\n",
    "    train_means_neg_10[i] = np.mean(train_neg_10[i][0], 0)\n",
    "    train_std_neg_10[i] = np.std(train_neg_10[i][0], 0)\n",
    "    train_median_neg_10[i] = np.median(train_neg_10[i][0], 0)\n",
    "    train_kurtosis_neg_10[i] = scipy.stats.kurtosis(train_neg_10[i][0], 0)\n",
    "    train_skew_neg_10[i] = scipy.stats.skew(train_neg_10[i][0], 0)\n",
    "    train_min_neg_10[i] = np.amin(train_neg_10[i][0], 0)\n",
    "    train_max_neg_10[i] = np.amax(train_neg_10[i][0], 0)"
   ]
  },
  {
   "cell_type": "code",
   "execution_count": 286,
   "metadata": {},
   "outputs": [
    {
     "name": "stdout",
     "output_type": "stream",
     "text": [
      "(900, 128)\n",
      "(128,)\n",
      "(128,)\n",
      "(128,)\n",
      "(128,)\n",
      "(128,)\n",
      "(128,)\n"
     ]
    }
   ],
   "source": [
    "print (train_means_neg_10.shape)\n",
    "print (train_std_neg_10[1].shape)\n",
    "print (train_median_neg_10[1].shape)\n",
    "print (train_min_neg_10[1].shape)\n",
    "print (train_max_neg_10[1].shape)\n",
    "print (train_kurtosis_neg_10[1].shape)\n",
    "print (train_skew_neg_10[1].shape)"
   ]
  },
  {
   "cell_type": "code",
   "execution_count": 287,
   "metadata": {},
   "outputs": [],
   "source": [
    "train_features_neg_10 = np.concatenate((train_means_neg_10,train_std_neg_10, train_median_neg_10, train_min_neg_10, train_max_neg_10, train_kurtosis_neg_10, train_skew_neg_10),axis=1)\n"
   ]
  },
  {
   "cell_type": "code",
   "execution_count": 288,
   "metadata": {},
   "outputs": [
    {
     "data": {
      "text/plain": [
       "(900, 896)"
      ]
     },
     "execution_count": 288,
     "metadata": {},
     "output_type": "execute_result"
    }
   ],
   "source": [
    "train_features_neg_10.shape"
   ]
  },
  {
   "cell_type": "markdown",
   "metadata": {},
   "source": [
    "## TEST"
   ]
  },
  {
   "cell_type": "markdown",
   "metadata": {},
   "source": [
    "### Positive"
   ]
  },
  {
   "cell_type": "code",
   "execution_count": 289,
   "metadata": {},
   "outputs": [],
   "source": [
    "with open(os.path.join(\"/Volumes/Ana Elisa/Ana Elisa's MacBook Pro/Documents/NYU_PHD/UrbanSound8/soundscapes/test_\" + str(10) + \"/\"+'pos_test_sel_features.txt'),'rb') as f:\n",
    "        test_pos_10 = pickle.load(f)\n",
    "        \n",
    "        \n",
    "        "
   ]
  },
  {
   "cell_type": "code",
   "execution_count": 290,
   "metadata": {},
   "outputs": [
    {
     "data": {
      "text/plain": [
       "290"
      ]
     },
     "execution_count": 290,
     "metadata": {},
     "output_type": "execute_result"
    }
   ],
   "source": [
    "len(test_pos_10)"
   ]
  },
  {
   "cell_type": "code",
   "execution_count": 291,
   "metadata": {},
   "outputs": [
    {
     "data": {
      "text/plain": [
       "array([[153,   7, 163, ...,   0,  10, 255],\n",
       "       [153,   9, 164, ...,   0,  44, 255],\n",
       "       [153,   7, 165, ...,   0,  12, 255],\n",
       "       ...,\n",
       "       [153,  21, 123, ..., 216,  58, 255],\n",
       "       [149,  17, 135, ..., 160,   0, 255],\n",
       "       [156,  36, 167, ..., 149,  91, 255]], dtype=uint8)"
      ]
     },
     "execution_count": 291,
     "metadata": {},
     "output_type": "execute_result"
    }
   ],
   "source": [
    "test_pos_10[1][0]"
   ]
  },
  {
   "cell_type": "code",
   "execution_count": 292,
   "metadata": {},
   "outputs": [],
   "source": [
    "test_means_pos_10 = np.zeros((len(test_pos_5),test_pos_5[0][0].shape[1]))\n",
    "test_std_pos_10 = np.zeros((len(test_pos_5),test_pos_5[0][0].shape[1]))\n",
    "test_median_pos_10 = np.zeros((len(test_pos_5),test_pos_5[0][0].shape[1]))\n",
    "test_kurtosis_pos_10 = np.zeros((len(test_pos_5),test_pos_5[0][0].shape[1]))\n",
    "test_min_pos_10 = np.zeros((len(test_pos_5),test_pos_5[0][0].shape[1]))\n",
    "test_max_pos_10 = np.zeros((len(test_pos_5),test_pos_5[0][0].shape[1]))\n",
    "test_skew_pos_10 = np.zeros((len(test_pos_5),test_pos_5[0][0].shape[1]))\n",
    "\n",
    "for i in range(len(test_pos_10)):\n",
    "    test_means_pos_10[i] = np.mean(test_pos_10[i][0], 0)\n",
    "    test_std_pos_10[i] = np.std(test_pos_10[i][0], 0)\n",
    "    test_median_pos_10[i] = np.median(test_pos_10[i][0], 0)\n",
    "    test_kurtosis_pos_10[i] = scipy.stats.kurtosis(test_pos_10[i][0], 0)\n",
    "    test_skew_pos_10[i] = scipy.stats.skew(test_pos_10[i][0], 0)\n",
    "    test_min_pos_10[i] = np.amin(test_pos_10[i][0], 0)\n",
    "    test_max_pos_10[i] = np.amax(test_pos_10[i][0], 0)"
   ]
  },
  {
   "cell_type": "code",
   "execution_count": 293,
   "metadata": {},
   "outputs": [
    {
     "name": "stdout",
     "output_type": "stream",
     "text": [
      "(290, 128)\n",
      "(128,)\n",
      "(128,)\n",
      "(128,)\n",
      "(128,)\n",
      "(128,)\n",
      "(128,)\n"
     ]
    }
   ],
   "source": [
    "print (test_means_pos_10.shape)\n",
    "print (test_std_pos_10[1].shape)\n",
    "print (test_median_pos_10[1].shape)\n",
    "print (test_min_pos_10[1].shape)\n",
    "print (test_max_pos_10[1].shape)\n",
    "print (test_kurtosis_pos_10[1].shape)\n",
    "print (test_skew_pos_10[1].shape)"
   ]
  },
  {
   "cell_type": "code",
   "execution_count": 294,
   "metadata": {},
   "outputs": [],
   "source": [
    "test_features_pos_10 = np.concatenate((test_means_pos_10,test_std_pos_10, test_median_pos_10, test_min_pos_10, test_max_pos_10, test_kurtosis_pos_10, test_skew_pos_10),axis=1)\n"
   ]
  },
  {
   "cell_type": "code",
   "execution_count": 295,
   "metadata": {},
   "outputs": [
    {
     "data": {
      "text/plain": [
       "(290, 896)"
      ]
     },
     "execution_count": 295,
     "metadata": {},
     "output_type": "execute_result"
    }
   ],
   "source": [
    "test_features_pos_10.shape"
   ]
  },
  {
   "cell_type": "markdown",
   "metadata": {},
   "source": [
    "### Negative"
   ]
  },
  {
   "cell_type": "code",
   "execution_count": 296,
   "metadata": {},
   "outputs": [],
   "source": [
    "with open(os.path.join(\"/Volumes/Ana Elisa/Ana Elisa's MacBook Pro/Documents/NYU_PHD/UrbanSound8/soundscapes/test_\" + str(10) + \"/\"+'neg_test_sel_features.txt'),'rb') as f:\n",
    "        test_neg_10 = pickle.load(f)\n",
    "        \n",
    "        \n",
    "        "
   ]
  },
  {
   "cell_type": "code",
   "execution_count": 298,
   "metadata": {},
   "outputs": [
    {
     "data": {
      "text/plain": [
       "290"
      ]
     },
     "execution_count": 298,
     "metadata": {},
     "output_type": "execute_result"
    }
   ],
   "source": [
    "len(test_neg_10)"
   ]
  },
  {
   "cell_type": "code",
   "execution_count": 302,
   "metadata": {},
   "outputs": [
    {
     "data": {
      "text/plain": [
       "array([[154,  10, 159, ...,   0,  35, 255],\n",
       "       [155,  15, 158, ...,   0,  57, 255],\n",
       "       [154,  12, 161, ...,  11,  51, 255],\n",
       "       ...,\n",
       "       [163,  23, 191, ..., 234, 135, 255],\n",
       "       [153,  11, 179, ..., 212, 252, 255],\n",
       "       [155,  15, 172, ...,  97, 200, 255]], dtype=uint8)"
      ]
     },
     "execution_count": 302,
     "metadata": {},
     "output_type": "execute_result"
    }
   ],
   "source": [
    "test_neg_10[1][0]"
   ]
  },
  {
   "cell_type": "code",
   "execution_count": 300,
   "metadata": {},
   "outputs": [],
   "source": [
    "test_means_neg_10 = np.zeros((len(test_neg_5),test_neg_5[0][0].shape[1]))\n",
    "test_std_neg_10 = np.zeros((len(test_neg_5),test_neg_5[0][0].shape[1]))\n",
    "test_median_neg_10 = np.zeros((len(test_neg_5),test_neg_5[0][0].shape[1]))\n",
    "test_kurtosis_neg_10 = np.zeros((len(test_neg_5),test_neg_5[0][0].shape[1]))\n",
    "test_min_neg_10 = np.zeros((len(test_neg_5),test_neg_5[0][0].shape[1]))\n",
    "test_max_neg_10 = np.zeros((len(test_neg_5),test_neg_5[0][0].shape[1]))\n",
    "test_skew_neg_10 = np.zeros((len(test_neg_5),test_neg_5[0][0].shape[1]))\n",
    "\n",
    "for i in range(len(test_neg_10)):\n",
    "    test_means_neg_10[i] = np.mean(test_neg_10[i][0], 0)\n",
    "    test_std_neg_10[i] = np.std(test_neg_10[i][0], 0)\n",
    "    test_median_neg_10[i] = np.median(test_neg_10[i][0], 0)\n",
    "    test_kurtosis_neg_10[i] = scipy.stats.kurtosis(test_neg_10[i][0], 0)\n",
    "    test_skew_neg_10[i] = scipy.stats.skew(test_neg_10[i][0], 0)\n",
    "    test_min_neg_10[i] = np.amin(test_neg_10[i][0], 0)\n",
    "    test_max_neg_10[i] = np.amax(test_neg_10[i][0], 0)"
   ]
  },
  {
   "cell_type": "code",
   "execution_count": 303,
   "metadata": {},
   "outputs": [
    {
     "name": "stdout",
     "output_type": "stream",
     "text": [
      "(290, 128)\n",
      "(128,)\n",
      "(128,)\n",
      "(128,)\n",
      "(128,)\n",
      "(128,)\n",
      "(128,)\n"
     ]
    }
   ],
   "source": [
    "print (test_means_neg_10.shape)\n",
    "print (test_std_neg_10[1].shape)\n",
    "print (test_median_neg_10[1].shape)\n",
    "print (test_min_neg_10[1].shape)\n",
    "print (test_max_neg_10[1].shape)\n",
    "print (test_kurtosis_neg_10[1].shape)\n",
    "print (test_skew_neg_10[1].shape)"
   ]
  },
  {
   "cell_type": "code",
   "execution_count": 304,
   "metadata": {},
   "outputs": [],
   "source": [
    "test_features_neg_10 = np.concatenate((test_means_neg_10,test_std_neg_10, test_median_neg_10, test_min_neg_10, test_max_neg_10, test_kurtosis_neg_10, test_skew_neg_10),axis=1)\n"
   ]
  },
  {
   "cell_type": "code",
   "execution_count": 305,
   "metadata": {},
   "outputs": [
    {
     "data": {
      "text/plain": [
       "(290, 896)"
      ]
     },
     "execution_count": 305,
     "metadata": {},
     "output_type": "execute_result"
    }
   ],
   "source": [
    "test_features_neg_10.shape"
   ]
  },
  {
   "cell_type": "markdown",
   "metadata": {},
   "source": [
    "# Compute files with stats"
   ]
  },
  {
   "cell_type": "markdown",
   "metadata": {},
   "source": [
    "## Train"
   ]
  },
  {
   "cell_type": "markdown",
   "metadata": {},
   "source": [
    "### Positive"
   ]
  },
  {
   "cell_type": "code",
   "execution_count": 510,
   "metadata": {},
   "outputs": [],
   "source": [
    "features_i = []\n",
    "\n",
    "for i in range(train_features_pos_10.shape[0]):\n",
    "    features = []\n",
    "    features.append(train_features_pos_10[i])\n",
    "    features.append(train_pos_10[i][1])\n",
    "    features.append(train_pos_10[i][2])\n",
    "    \n",
    "    features_i.append(features)"
   ]
  },
  {
   "cell_type": "code",
   "execution_count": 511,
   "metadata": {},
   "outputs": [
    {
     "data": {
      "text/plain": [
       "(896,)"
      ]
     },
     "execution_count": 511,
     "metadata": {},
     "output_type": "execute_result"
    }
   ],
   "source": [
    "features_i[899][0].shape"
   ]
  },
  {
   "cell_type": "code",
   "execution_count": 512,
   "metadata": {},
   "outputs": [],
   "source": [
    "with open(os.path.join(\"/Volumes/Ana Elisa/Ana Elisa's MacBook Pro/Documents/NYU_PHD/UrbanSound8/soundscapes/train_10/\"+'pos_train_stats_features.txt'),'wb') as f:\n",
    "    pickle.dump(features_i, f)\n",
    "    "
   ]
  },
  {
   "cell_type": "code",
   "execution_count": 513,
   "metadata": {},
   "outputs": [],
   "source": [
    "with open(os.path.join(\"/Volumes/Ana Elisa/Ana Elisa's MacBook Pro/Documents/NYU_PHD/UrbanSound8/soundscapes/train_\" + str(10) + \"/\"+'pos_train_stats_features.txt'),'rb') as f:\n",
    "        features_pos_train = pickle.load(f)\n",
    "        "
   ]
  },
  {
   "cell_type": "code",
   "execution_count": 514,
   "metadata": {},
   "outputs": [
    {
     "data": {
      "text/plain": [
       "900"
      ]
     },
     "execution_count": 514,
     "metadata": {},
     "output_type": "execute_result"
    }
   ],
   "source": [
    "len(features_pos_train)"
   ]
  },
  {
   "cell_type": "markdown",
   "metadata": {},
   "source": [
    "### Negative"
   ]
  },
  {
   "cell_type": "code",
   "execution_count": 515,
   "metadata": {},
   "outputs": [],
   "source": [
    "features_i = []\n",
    "\n",
    "for i in range(train_features_neg_10.shape[0]):\n",
    "    features = []\n",
    "    features.append(train_features_neg_10[i])\n",
    "    features.append(train_neg_10[i][1])\n",
    "    features.append(train_neg_10[i][2])\n",
    "    \n",
    "    features_i.append(features)"
   ]
  },
  {
   "cell_type": "code",
   "execution_count": 516,
   "metadata": {},
   "outputs": [
    {
     "data": {
      "text/plain": [
       "(896,)"
      ]
     },
     "execution_count": 516,
     "metadata": {},
     "output_type": "execute_result"
    }
   ],
   "source": [
    "features_i[899][0].shape"
   ]
  },
  {
   "cell_type": "code",
   "execution_count": 517,
   "metadata": {},
   "outputs": [],
   "source": [
    "with open(os.path.join(\"/Volumes/Ana Elisa/Ana Elisa's MacBook Pro/Documents/NYU_PHD/UrbanSound8/soundscapes/train_10/\"+'neg_train_stats_features.txt'),'wb') as f:\n",
    "    pickle.dump(features_i, f)\n",
    "    "
   ]
  },
  {
   "cell_type": "code",
   "execution_count": 518,
   "metadata": {},
   "outputs": [],
   "source": [
    "with open(os.path.join(\"/Volumes/Ana Elisa/Ana Elisa's MacBook Pro/Documents/NYU_PHD/UrbanSound8/soundscapes/train_\" + str(10) + \"/\"+'neg_train_stats_features.txt'),'rb') as f:\n",
    "        features_neg_train = pickle.load(f)\n",
    "        "
   ]
  },
  {
   "cell_type": "code",
   "execution_count": 519,
   "metadata": {},
   "outputs": [
    {
     "data": {
      "text/plain": [
       "900"
      ]
     },
     "execution_count": 519,
     "metadata": {},
     "output_type": "execute_result"
    }
   ],
   "source": [
    "len(features_neg_train)"
   ]
  },
  {
   "cell_type": "markdown",
   "metadata": {},
   "source": [
    "## Test"
   ]
  },
  {
   "cell_type": "markdown",
   "metadata": {},
   "source": [
    "### Positive"
   ]
  },
  {
   "cell_type": "code",
   "execution_count": 500,
   "metadata": {},
   "outputs": [],
   "source": [
    "features_i = []\n",
    "\n",
    "for i in range(test_features_pos_10.shape[0]):\n",
    "    features = []\n",
    "    features.append(test_features_pos_10[i])\n",
    "    features.append(test_pos_10[i][1])\n",
    "    features.append(test_pos_10[i][2])\n",
    "    \n",
    "    features_i.append(features)"
   ]
  },
  {
   "cell_type": "code",
   "execution_count": 501,
   "metadata": {},
   "outputs": [
    {
     "data": {
      "text/plain": [
       "(896,)"
      ]
     },
     "execution_count": 501,
     "metadata": {},
     "output_type": "execute_result"
    }
   ],
   "source": [
    "features_i[289][0].shape"
   ]
  },
  {
   "cell_type": "code",
   "execution_count": 502,
   "metadata": {},
   "outputs": [],
   "source": [
    "with open(os.path.join(\"/Volumes/Ana Elisa/Ana Elisa's MacBook Pro/Documents/NYU_PHD/UrbanSound8/soundscapes/test_10/\"+'pos_test_stats_features.txt'),'wb') as f:\n",
    "    pickle.dump(features_i, f)\n",
    "    "
   ]
  },
  {
   "cell_type": "code",
   "execution_count": 503,
   "metadata": {},
   "outputs": [],
   "source": [
    "with open(os.path.join(\"/Volumes/Ana Elisa/Ana Elisa's MacBook Pro/Documents/NYU_PHD/UrbanSound8/soundscapes/test_\" + str(10) + \"/\"+'pos_test_stats_features.txt'),'rb') as f:\n",
    "        features_pos_test = pickle.load(f)\n",
    "        "
   ]
  },
  {
   "cell_type": "code",
   "execution_count": 504,
   "metadata": {},
   "outputs": [
    {
     "data": {
      "text/plain": [
       "290"
      ]
     },
     "execution_count": 504,
     "metadata": {},
     "output_type": "execute_result"
    }
   ],
   "source": [
    "len(features_pos_test)"
   ]
  },
  {
   "cell_type": "markdown",
   "metadata": {},
   "source": [
    "### Negative"
   ]
  },
  {
   "cell_type": "code",
   "execution_count": 505,
   "metadata": {},
   "outputs": [],
   "source": [
    "features_i = []\n",
    "\n",
    "for i in range(test_features_neg_10.shape[0]):\n",
    "    features = []\n",
    "    features.append(test_features_neg_10[i])\n",
    "    features.append(test_neg_10[i][1])\n",
    "    features.append(test_neg_10[i][2])\n",
    "    \n",
    "    features_i.append(features)"
   ]
  },
  {
   "cell_type": "code",
   "execution_count": 506,
   "metadata": {},
   "outputs": [
    {
     "data": {
      "text/plain": [
       "(896,)"
      ]
     },
     "execution_count": 506,
     "metadata": {},
     "output_type": "execute_result"
    }
   ],
   "source": [
    "features_i[289][0].shape"
   ]
  },
  {
   "cell_type": "code",
   "execution_count": 507,
   "metadata": {},
   "outputs": [],
   "source": [
    "with open(os.path.join(\"/Volumes/Ana Elisa/Ana Elisa's MacBook Pro/Documents/NYU_PHD/UrbanSound8/soundscapes/test_10/\"+'neg_test_stats_features.txt'),'wb') as f:\n",
    "    pickle.dump(features_i, f)\n",
    "    "
   ]
  },
  {
   "cell_type": "code",
   "execution_count": 508,
   "metadata": {},
   "outputs": [],
   "source": [
    "with open(os.path.join(\"/Volumes/Ana Elisa/Ana Elisa's MacBook Pro/Documents/NYU_PHD/UrbanSound8/soundscapes/test_\" + str(10) + \"/\"+'neg_test_stats_features.txt'),'rb') as f:\n",
    "        features_neg_test = pickle.load(f)\n",
    "        "
   ]
  },
  {
   "cell_type": "code",
   "execution_count": 509,
   "metadata": {},
   "outputs": [
    {
     "data": {
      "text/plain": [
       "290"
      ]
     },
     "execution_count": 509,
     "metadata": {},
     "output_type": "execute_result"
    }
   ],
   "source": [
    "len(features_neg_test)"
   ]
  },
  {
   "cell_type": "markdown",
   "metadata": {},
   "source": [
    "# READ FILES 1"
   ]
  },
  {
   "cell_type": "code",
   "execution_count": 2,
   "metadata": {},
   "outputs": [],
   "source": [
    "with open(os.path.join(\"/Volumes/Ana Elisa/Ana Elisa's MacBook Pro/Documents/NYU_PHD/UrbanSound8/soundscapes/test_\" + str(1) + \"/\"+'pos_test_stats_features.txt'),'rb') as f:\n",
    "        features_pos_train_1 = pickle.load(f)\n",
    "        "
   ]
  },
  {
   "cell_type": "code",
   "execution_count": 3,
   "metadata": {},
   "outputs": [],
   "source": [
    "with open(os.path.join(\"/Volumes/Ana Elisa/Ana Elisa's MacBook Pro/Documents/NYU_PHD/UrbanSound8/soundscapes/test_\" + str(1) + \"/\"+'neg_test_stats_features.txt'),'rb') as f:\n",
    "        features_neg_train_1 = pickle.load(f)\n",
    "        "
   ]
  },
  {
   "cell_type": "code",
   "execution_count": null,
   "metadata": {},
   "outputs": [],
   "source": []
  },
  {
   "cell_type": "code",
   "execution_count": 376,
   "metadata": {},
   "outputs": [],
   "source": [
    "random.seed(123)"
   ]
  },
  {
   "cell_type": "code",
   "execution_count": 377,
   "metadata": {},
   "outputs": [],
   "source": [
    "numbers_train_pos_1 = random.sample(list(np.arange(len(features_pos_train_1))), 10)"
   ]
  },
  {
   "cell_type": "code",
   "execution_count": 378,
   "metadata": {},
   "outputs": [],
   "source": [
    "numbers_train_neg_1 = random.sample(list(np.arange(len(features_neg_train_1))), 10)"
   ]
  },
  {
   "cell_type": "code",
   "execution_count": 379,
   "metadata": {},
   "outputs": [
    {
     "data": {
      "text/plain": [
       "[26, 137, 44, 208, 136, 55, 19, 194, 274, 287]"
      ]
     },
     "execution_count": 379,
     "metadata": {},
     "output_type": "execute_result"
    }
   ],
   "source": [
    "numbers_train_pos_1"
   ]
  },
  {
   "cell_type": "code",
   "execution_count": 380,
   "metadata": {},
   "outputs": [
    {
     "data": {
      "text/plain": [
       "[170, 174, 26, 81, 69, 172, 287, 125, 83, 0]"
      ]
     },
     "execution_count": 380,
     "metadata": {},
     "output_type": "execute_result"
    }
   ],
   "source": [
    "numbers_train_neg_1"
   ]
  },
  {
   "cell_type": "code",
   "execution_count": 381,
   "metadata": {},
   "outputs": [],
   "source": [
    "XY_train_pos_1 = []\n",
    "for i in range(len(numbers_train_pos_1)):\n",
    "    XY_train_pos_1.append(features_pos_train_1[numbers_train_pos_1[i]])"
   ]
  },
  {
   "cell_type": "code",
   "execution_count": 382,
   "metadata": {},
   "outputs": [
    {
     "data": {
      "text/plain": [
       "10"
      ]
     },
     "execution_count": 382,
     "metadata": {},
     "output_type": "execute_result"
    }
   ],
   "source": [
    "len(XY_train_pos_1)"
   ]
  },
  {
   "cell_type": "code",
   "execution_count": 383,
   "metadata": {},
   "outputs": [],
   "source": [
    "XY_train_neg_1 = []\n",
    "for i in range(len(numbers_train_neg_1)):\n",
    "    XY_train_neg_1.append(features_neg_train_1[numbers_train_neg_1[i]])"
   ]
  },
  {
   "cell_type": "code",
   "execution_count": 384,
   "metadata": {},
   "outputs": [
    {
     "data": {
      "text/plain": [
       "10"
      ]
     },
     "execution_count": 384,
     "metadata": {},
     "output_type": "execute_result"
    }
   ],
   "source": [
    "len(XY_train_neg_1)"
   ]
  },
  {
   "cell_type": "code",
   "execution_count": 385,
   "metadata": {},
   "outputs": [],
   "source": [
    "XY_train_1 = np.concatenate((XY_train_pos_1,XY_train_neg_1))"
   ]
  },
  {
   "cell_type": "code",
   "execution_count": 386,
   "metadata": {},
   "outputs": [
    {
     "data": {
      "text/plain": [
       "20"
      ]
     },
     "execution_count": 386,
     "metadata": {},
     "output_type": "execute_result"
    }
   ],
   "source": [
    "len(XY_train_1)"
   ]
  },
  {
   "cell_type": "markdown",
   "metadata": {},
   "source": [
    "# READ FILES 2"
   ]
  },
  {
   "cell_type": "code",
   "execution_count": 16,
   "metadata": {},
   "outputs": [],
   "source": [
    "with open(os.path.join(\"/Volumes/Ana Elisa/Ana Elisa's MacBook Pro/Documents/NYU_PHD/UrbanSound8/soundscapes/test_\" + str(2) + \"/\"+'pos_test_stats_features.txt'),'rb') as f:\n",
    "        features_pos_train_2 = pickle.load(f)\n",
    "        "
   ]
  },
  {
   "cell_type": "code",
   "execution_count": 17,
   "metadata": {},
   "outputs": [],
   "source": [
    "with open(os.path.join(\"/Volumes/Ana Elisa/Ana Elisa's MacBook Pro/Documents/NYU_PHD/UrbanSound8/soundscapes/test_\" + str(2) + \"/\"+'neg_test_stats_features.txt'),'rb') as f:\n",
    "        features_neg_train_2 = pickle.load(f)\n",
    "        "
   ]
  },
  {
   "cell_type": "code",
   "execution_count": null,
   "metadata": {},
   "outputs": [],
   "source": []
  },
  {
   "cell_type": "code",
   "execution_count": 18,
   "metadata": {},
   "outputs": [],
   "source": [
    "#random.seed(123)"
   ]
  },
  {
   "cell_type": "code",
   "execution_count": 387,
   "metadata": {},
   "outputs": [],
   "source": [
    "numbers_train_pos_2 = random.sample(list(np.arange(len(features_pos_train_2))), 10)"
   ]
  },
  {
   "cell_type": "code",
   "execution_count": 388,
   "metadata": {},
   "outputs": [],
   "source": [
    "numbers_train_neg_2 = random.sample(list(np.arange(len(features_neg_train_2))), 10)"
   ]
  },
  {
   "cell_type": "code",
   "execution_count": 389,
   "metadata": {},
   "outputs": [
    {
     "data": {
      "text/plain": [
       "[223, 44, 193, 35, 3, 161, 229, 52, 22, 47]"
      ]
     },
     "execution_count": 389,
     "metadata": {},
     "output_type": "execute_result"
    }
   ],
   "source": [
    "numbers_train_pos_2"
   ]
  },
  {
   "cell_type": "code",
   "execution_count": 390,
   "metadata": {},
   "outputs": [
    {
     "data": {
      "text/plain": [
       "[72, 64, 10, 149, 220, 244, 135, 240, 18, 156]"
      ]
     },
     "execution_count": 390,
     "metadata": {},
     "output_type": "execute_result"
    }
   ],
   "source": [
    "numbers_train_neg_2"
   ]
  },
  {
   "cell_type": "code",
   "execution_count": 391,
   "metadata": {},
   "outputs": [],
   "source": [
    "XY_train_pos_2 = []\n",
    "for i in range(len(numbers_train_pos_2)):\n",
    "    XY_train_pos_2.append(features_pos_train_2[numbers_train_pos_2[i]])"
   ]
  },
  {
   "cell_type": "code",
   "execution_count": 392,
   "metadata": {},
   "outputs": [
    {
     "data": {
      "text/plain": [
       "10"
      ]
     },
     "execution_count": 392,
     "metadata": {},
     "output_type": "execute_result"
    }
   ],
   "source": [
    "len(XY_train_pos_2)"
   ]
  },
  {
   "cell_type": "code",
   "execution_count": 393,
   "metadata": {},
   "outputs": [],
   "source": [
    "XY_train_neg_2 = []\n",
    "for i in range(len(numbers_train_neg_2)):\n",
    "    XY_train_neg_2.append(features_neg_train_2[numbers_train_neg_2[i]])"
   ]
  },
  {
   "cell_type": "code",
   "execution_count": 394,
   "metadata": {},
   "outputs": [
    {
     "data": {
      "text/plain": [
       "10"
      ]
     },
     "execution_count": 394,
     "metadata": {},
     "output_type": "execute_result"
    }
   ],
   "source": [
    "len(XY_train_neg_2)"
   ]
  },
  {
   "cell_type": "code",
   "execution_count": 395,
   "metadata": {},
   "outputs": [],
   "source": [
    "XY_train_2 = np.concatenate((XY_train_pos_2,XY_train_neg_2))"
   ]
  },
  {
   "cell_type": "code",
   "execution_count": 396,
   "metadata": {},
   "outputs": [
    {
     "data": {
      "text/plain": [
       "20"
      ]
     },
     "execution_count": 396,
     "metadata": {},
     "output_type": "execute_result"
    }
   ],
   "source": [
    "len(XY_train_2)"
   ]
  },
  {
   "cell_type": "markdown",
   "metadata": {},
   "source": [
    "# READ FILES 3"
   ]
  },
  {
   "cell_type": "code",
   "execution_count": 397,
   "metadata": {},
   "outputs": [],
   "source": [
    "with open(os.path.join(\"/Volumes/Ana Elisa/Ana Elisa's MacBook Pro/Documents/NYU_PHD/UrbanSound8/soundscapes/test_\" + str(3) + \"/\"+'pos_test_stats_features.txt'),'rb') as f:\n",
    "        features_pos_train_3 = pickle.load(f)\n",
    "        "
   ]
  },
  {
   "cell_type": "code",
   "execution_count": 30,
   "metadata": {},
   "outputs": [],
   "source": [
    "with open(os.path.join(\"/Volumes/Ana Elisa/Ana Elisa's MacBook Pro/Documents/NYU_PHD/UrbanSound8/soundscapes/test_\" + str(3) + \"/\"+'neg_test_stats_features.txt'),'rb') as f:\n",
    "        features_neg_train_3 = pickle.load(f)\n",
    "        "
   ]
  },
  {
   "cell_type": "code",
   "execution_count": null,
   "metadata": {},
   "outputs": [],
   "source": []
  },
  {
   "cell_type": "code",
   "execution_count": 31,
   "metadata": {},
   "outputs": [],
   "source": [
    "#random.seed(123)"
   ]
  },
  {
   "cell_type": "code",
   "execution_count": 398,
   "metadata": {},
   "outputs": [],
   "source": [
    "numbers_train_pos_3 = random.sample(list(np.arange(len(features_pos_train_3))), 10)"
   ]
  },
  {
   "cell_type": "code",
   "execution_count": 399,
   "metadata": {},
   "outputs": [],
   "source": [
    "numbers_train_neg_3 = random.sample(list(np.arange(len(features_neg_train_3))), 10)"
   ]
  },
  {
   "cell_type": "code",
   "execution_count": 400,
   "metadata": {},
   "outputs": [
    {
     "data": {
      "text/plain": [
       "[175, 267, 247, 105, 269, 289, 161, 6, 203, 262]"
      ]
     },
     "execution_count": 400,
     "metadata": {},
     "output_type": "execute_result"
    }
   ],
   "source": [
    "numbers_train_pos_3"
   ]
  },
  {
   "cell_type": "code",
   "execution_count": 401,
   "metadata": {},
   "outputs": [
    {
     "data": {
      "text/plain": [
       "[222, 275, 248, 266, 214, 191, 261, 16, 92, 42]"
      ]
     },
     "execution_count": 401,
     "metadata": {},
     "output_type": "execute_result"
    }
   ],
   "source": [
    "numbers_train_neg_3"
   ]
  },
  {
   "cell_type": "code",
   "execution_count": 402,
   "metadata": {},
   "outputs": [],
   "source": [
    "XY_train_pos_3 = []\n",
    "for i in range(len(numbers_train_pos_3)):\n",
    "    XY_train_pos_3.append(features_pos_train_3[numbers_train_pos_3[i]])"
   ]
  },
  {
   "cell_type": "code",
   "execution_count": 403,
   "metadata": {},
   "outputs": [
    {
     "data": {
      "text/plain": [
       "10"
      ]
     },
     "execution_count": 403,
     "metadata": {},
     "output_type": "execute_result"
    }
   ],
   "source": [
    "len(XY_train_pos_3)"
   ]
  },
  {
   "cell_type": "code",
   "execution_count": 404,
   "metadata": {},
   "outputs": [],
   "source": [
    "XY_train_neg_3 = []\n",
    "for i in range(len(numbers_train_neg_3)):\n",
    "    XY_train_neg_3.append(features_neg_train_3[numbers_train_neg_3[i]])"
   ]
  },
  {
   "cell_type": "code",
   "execution_count": 405,
   "metadata": {},
   "outputs": [
    {
     "data": {
      "text/plain": [
       "10"
      ]
     },
     "execution_count": 405,
     "metadata": {},
     "output_type": "execute_result"
    }
   ],
   "source": [
    "len(XY_train_neg_3)"
   ]
  },
  {
   "cell_type": "code",
   "execution_count": 406,
   "metadata": {},
   "outputs": [],
   "source": [
    "XY_train_3 = np.concatenate((XY_train_pos_3,XY_train_neg_3))"
   ]
  },
  {
   "cell_type": "code",
   "execution_count": 407,
   "metadata": {},
   "outputs": [
    {
     "data": {
      "text/plain": [
       "20"
      ]
     },
     "execution_count": 407,
     "metadata": {},
     "output_type": "execute_result"
    }
   ],
   "source": [
    "len(XY_train_3)"
   ]
  },
  {
   "cell_type": "markdown",
   "metadata": {},
   "source": [
    "# READ FILES 4"
   ]
  },
  {
   "cell_type": "code",
   "execution_count": 45,
   "metadata": {},
   "outputs": [],
   "source": [
    "with open(os.path.join(\"/Volumes/Ana Elisa/Ana Elisa's MacBook Pro/Documents/NYU_PHD/UrbanSound8/soundscapes/test_\" + str(4) + \"/\"+'pos_test_stats_features.txt'),'rb') as f:\n",
    "        features_pos_train_4 = pickle.load(f)\n",
    "        "
   ]
  },
  {
   "cell_type": "code",
   "execution_count": 46,
   "metadata": {},
   "outputs": [],
   "source": [
    "with open(os.path.join(\"/Volumes/Ana Elisa/Ana Elisa's MacBook Pro/Documents/NYU_PHD/UrbanSound8/soundscapes/test_\" + str(4) + \"/\"+'neg_test_stats_features.txt'),'rb') as f:\n",
    "        features_neg_train_4 = pickle.load(f)\n",
    "        "
   ]
  },
  {
   "cell_type": "code",
   "execution_count": null,
   "metadata": {},
   "outputs": [],
   "source": []
  },
  {
   "cell_type": "code",
   "execution_count": 47,
   "metadata": {},
   "outputs": [],
   "source": [
    "#random.seed(123)"
   ]
  },
  {
   "cell_type": "code",
   "execution_count": 408,
   "metadata": {},
   "outputs": [],
   "source": [
    "numbers_train_pos_4 = random.sample(list(np.arange(len(features_pos_train_4))), 10)"
   ]
  },
  {
   "cell_type": "code",
   "execution_count": 409,
   "metadata": {},
   "outputs": [],
   "source": [
    "numbers_train_neg_4 = random.sample(list(np.arange(len(features_neg_train_4))), 10)"
   ]
  },
  {
   "cell_type": "code",
   "execution_count": 410,
   "metadata": {},
   "outputs": [
    {
     "data": {
      "text/plain": [
       "[249, 134, 87, 171, 172, 283, 200, 37, 233, 198]"
      ]
     },
     "execution_count": 410,
     "metadata": {},
     "output_type": "execute_result"
    }
   ],
   "source": [
    "numbers_train_pos_4"
   ]
  },
  {
   "cell_type": "code",
   "execution_count": 411,
   "metadata": {},
   "outputs": [
    {
     "data": {
      "text/plain": [
       "[172, 8, 96, 45, 186, 6, 180, 117, 207, 272]"
      ]
     },
     "execution_count": 411,
     "metadata": {},
     "output_type": "execute_result"
    }
   ],
   "source": [
    "numbers_train_neg_4"
   ]
  },
  {
   "cell_type": "code",
   "execution_count": 412,
   "metadata": {},
   "outputs": [],
   "source": [
    "XY_train_pos_4 = []\n",
    "for i in range(len(numbers_train_pos_4)):\n",
    "    XY_train_pos_4.append(features_pos_train_4[numbers_train_pos_4[i]])"
   ]
  },
  {
   "cell_type": "code",
   "execution_count": 413,
   "metadata": {},
   "outputs": [
    {
     "data": {
      "text/plain": [
       "10"
      ]
     },
     "execution_count": 413,
     "metadata": {},
     "output_type": "execute_result"
    }
   ],
   "source": [
    "len(XY_train_pos_4)"
   ]
  },
  {
   "cell_type": "code",
   "execution_count": 414,
   "metadata": {},
   "outputs": [],
   "source": [
    "XY_train_neg_4 = []\n",
    "for i in range(len(numbers_train_neg_4)):\n",
    "    XY_train_neg_4.append(features_neg_train_4[numbers_train_neg_4[i]])"
   ]
  },
  {
   "cell_type": "code",
   "execution_count": 415,
   "metadata": {},
   "outputs": [
    {
     "data": {
      "text/plain": [
       "10"
      ]
     },
     "execution_count": 415,
     "metadata": {},
     "output_type": "execute_result"
    }
   ],
   "source": [
    "len(XY_train_neg_4)"
   ]
  },
  {
   "cell_type": "code",
   "execution_count": 416,
   "metadata": {},
   "outputs": [],
   "source": [
    "XY_train_4 = np.concatenate((XY_train_pos_4,XY_train_neg_4))"
   ]
  },
  {
   "cell_type": "code",
   "execution_count": 417,
   "metadata": {},
   "outputs": [
    {
     "data": {
      "text/plain": [
       "20"
      ]
     },
     "execution_count": 417,
     "metadata": {},
     "output_type": "execute_result"
    }
   ],
   "source": [
    "len(XY_train_4)"
   ]
  },
  {
   "cell_type": "markdown",
   "metadata": {},
   "source": [
    "# READ FILES 5"
   ]
  },
  {
   "cell_type": "code",
   "execution_count": 58,
   "metadata": {},
   "outputs": [],
   "source": [
    "with open(os.path.join(\"/Volumes/Ana Elisa/Ana Elisa's MacBook Pro/Documents/NYU_PHD/UrbanSound8/soundscapes/test_\" + str(5) + \"/\"+'pos_test_stats_features.txt'),'rb') as f:\n",
    "        features_pos_train_5 = pickle.load(f)\n",
    "        "
   ]
  },
  {
   "cell_type": "code",
   "execution_count": 59,
   "metadata": {},
   "outputs": [],
   "source": [
    "with open(os.path.join(\"/Volumes/Ana Elisa/Ana Elisa's MacBook Pro/Documents/NYU_PHD/UrbanSound8/soundscapes/test_\" + str(5) + \"/\"+'neg_test_stats_features.txt'),'rb') as f:\n",
    "        features_neg_train_5 = pickle.load(f)\n",
    "        "
   ]
  },
  {
   "cell_type": "code",
   "execution_count": null,
   "metadata": {},
   "outputs": [],
   "source": []
  },
  {
   "cell_type": "code",
   "execution_count": 60,
   "metadata": {},
   "outputs": [],
   "source": [
    "#random.seed(123)"
   ]
  },
  {
   "cell_type": "code",
   "execution_count": 418,
   "metadata": {},
   "outputs": [],
   "source": [
    "numbers_train_pos_5 = random.sample(list(np.arange(len(features_pos_train_5))), 10)"
   ]
  },
  {
   "cell_type": "code",
   "execution_count": 419,
   "metadata": {},
   "outputs": [],
   "source": [
    "numbers_train_neg_5 = random.sample(list(np.arange(len(features_neg_train_5))), 10)"
   ]
  },
  {
   "cell_type": "code",
   "execution_count": 420,
   "metadata": {},
   "outputs": [
    {
     "data": {
      "text/plain": [
       "[256, 30, 147, 253, 119, 278, 247, 90, 78, 274]"
      ]
     },
     "execution_count": 420,
     "metadata": {},
     "output_type": "execute_result"
    }
   ],
   "source": [
    "numbers_train_pos_5"
   ]
  },
  {
   "cell_type": "code",
   "execution_count": 421,
   "metadata": {},
   "outputs": [
    {
     "data": {
      "text/plain": [
       "[227, 193, 236, 22, 5, 68, 233, 98, 10, 131]"
      ]
     },
     "execution_count": 421,
     "metadata": {},
     "output_type": "execute_result"
    }
   ],
   "source": [
    "numbers_train_neg_5"
   ]
  },
  {
   "cell_type": "code",
   "execution_count": 422,
   "metadata": {},
   "outputs": [],
   "source": [
    "XY_train_pos_5 = []\n",
    "for i in range(len(numbers_train_pos_5)):\n",
    "    XY_train_pos_5.append(features_pos_train_5[numbers_train_pos_5[i]])"
   ]
  },
  {
   "cell_type": "code",
   "execution_count": 423,
   "metadata": {},
   "outputs": [
    {
     "data": {
      "text/plain": [
       "10"
      ]
     },
     "execution_count": 423,
     "metadata": {},
     "output_type": "execute_result"
    }
   ],
   "source": [
    "len(XY_train_pos_5)"
   ]
  },
  {
   "cell_type": "code",
   "execution_count": 424,
   "metadata": {},
   "outputs": [],
   "source": [
    "XY_train_neg_5 = []\n",
    "for i in range(len(numbers_train_neg_5)):\n",
    "    XY_train_neg_5.append(features_neg_train_5[numbers_train_neg_5[i]])"
   ]
  },
  {
   "cell_type": "code",
   "execution_count": 425,
   "metadata": {},
   "outputs": [
    {
     "data": {
      "text/plain": [
       "10"
      ]
     },
     "execution_count": 425,
     "metadata": {},
     "output_type": "execute_result"
    }
   ],
   "source": [
    "len(XY_train_neg_5)"
   ]
  },
  {
   "cell_type": "code",
   "execution_count": 426,
   "metadata": {},
   "outputs": [],
   "source": [
    "XY_train_5 = np.concatenate((XY_train_pos_5,XY_train_neg_5))"
   ]
  },
  {
   "cell_type": "code",
   "execution_count": 427,
   "metadata": {},
   "outputs": [
    {
     "data": {
      "text/plain": [
       "20"
      ]
     },
     "execution_count": 427,
     "metadata": {},
     "output_type": "execute_result"
    }
   ],
   "source": [
    "len(XY_train_5)"
   ]
  },
  {
   "cell_type": "markdown",
   "metadata": {},
   "source": [
    "# READ FILES 6"
   ]
  },
  {
   "cell_type": "code",
   "execution_count": 71,
   "metadata": {},
   "outputs": [],
   "source": [
    "with open(os.path.join(\"/Volumes/Ana Elisa/Ana Elisa's MacBook Pro/Documents/NYU_PHD/UrbanSound8/soundscapes/test_\" + str(6) + \"/\"+'pos_test_stats_features.txt'),'rb') as f:\n",
    "        features_pos_train_6 = pickle.load(f)\n",
    "        "
   ]
  },
  {
   "cell_type": "code",
   "execution_count": 72,
   "metadata": {},
   "outputs": [],
   "source": [
    "with open(os.path.join(\"/Volumes/Ana Elisa/Ana Elisa's MacBook Pro/Documents/NYU_PHD/UrbanSound8/soundscapes/test_\" + str(6) + \"/\"+'neg_test_stats_features.txt'),'rb') as f:\n",
    "        features_neg_train_6 = pickle.load(f)\n",
    "        "
   ]
  },
  {
   "cell_type": "code",
   "execution_count": null,
   "metadata": {},
   "outputs": [],
   "source": []
  },
  {
   "cell_type": "code",
   "execution_count": 73,
   "metadata": {},
   "outputs": [],
   "source": [
    "#random.seed(123)"
   ]
  },
  {
   "cell_type": "code",
   "execution_count": 428,
   "metadata": {},
   "outputs": [],
   "source": [
    "numbers_train_pos_6 = random.sample(list(np.arange(len(features_pos_train_6))), 10)"
   ]
  },
  {
   "cell_type": "code",
   "execution_count": 429,
   "metadata": {},
   "outputs": [],
   "source": [
    "numbers_train_neg_6 = random.sample(list(np.arange(len(features_neg_train_6))), 10)"
   ]
  },
  {
   "cell_type": "code",
   "execution_count": 430,
   "metadata": {},
   "outputs": [
    {
     "data": {
      "text/plain": [
       "[180, 139, 222, 215, 0, 55, 32, 261, 181, 45]"
      ]
     },
     "execution_count": 430,
     "metadata": {},
     "output_type": "execute_result"
    }
   ],
   "source": [
    "numbers_train_pos_6"
   ]
  },
  {
   "cell_type": "code",
   "execution_count": 431,
   "metadata": {},
   "outputs": [
    {
     "data": {
      "text/plain": [
       "[42, 221, 4, 274, 193, 37, 279, 206, 14, 165]"
      ]
     },
     "execution_count": 431,
     "metadata": {},
     "output_type": "execute_result"
    }
   ],
   "source": [
    "numbers_train_neg_6"
   ]
  },
  {
   "cell_type": "code",
   "execution_count": 432,
   "metadata": {},
   "outputs": [],
   "source": [
    "XY_train_pos_6 = []\n",
    "for i in range(len(numbers_train_pos_6)):\n",
    "    XY_train_pos_6.append(features_pos_train_6[numbers_train_pos_6[i]])"
   ]
  },
  {
   "cell_type": "code",
   "execution_count": 433,
   "metadata": {},
   "outputs": [
    {
     "data": {
      "text/plain": [
       "10"
      ]
     },
     "execution_count": 433,
     "metadata": {},
     "output_type": "execute_result"
    }
   ],
   "source": [
    "len(XY_train_pos_6)"
   ]
  },
  {
   "cell_type": "code",
   "execution_count": 434,
   "metadata": {},
   "outputs": [],
   "source": [
    "XY_train_neg_6 = []\n",
    "for i in range(len(numbers_train_neg_6)):\n",
    "    XY_train_neg_6.append(features_neg_train_6[numbers_train_neg_6[i]])"
   ]
  },
  {
   "cell_type": "code",
   "execution_count": 435,
   "metadata": {},
   "outputs": [
    {
     "data": {
      "text/plain": [
       "10"
      ]
     },
     "execution_count": 435,
     "metadata": {},
     "output_type": "execute_result"
    }
   ],
   "source": [
    "len(XY_train_neg_6)"
   ]
  },
  {
   "cell_type": "code",
   "execution_count": 436,
   "metadata": {},
   "outputs": [],
   "source": [
    "XY_train_6 = np.concatenate((XY_train_pos_6,XY_train_neg_6))"
   ]
  },
  {
   "cell_type": "code",
   "execution_count": 437,
   "metadata": {},
   "outputs": [
    {
     "data": {
      "text/plain": [
       "20"
      ]
     },
     "execution_count": 437,
     "metadata": {},
     "output_type": "execute_result"
    }
   ],
   "source": [
    "len(XY_train_6)"
   ]
  },
  {
   "cell_type": "markdown",
   "metadata": {},
   "source": [
    "# READ FILES 7"
   ]
  },
  {
   "cell_type": "code",
   "execution_count": 84,
   "metadata": {},
   "outputs": [],
   "source": [
    "with open(os.path.join(\"/Volumes/Ana Elisa/Ana Elisa's MacBook Pro/Documents/NYU_PHD/UrbanSound8/soundscapes/test_\" + str(7) + \"/\"+'pos_test_stats_features.txt'),'rb') as f:\n",
    "        features_pos_train_7 = pickle.load(f)\n",
    "        "
   ]
  },
  {
   "cell_type": "code",
   "execution_count": 85,
   "metadata": {},
   "outputs": [],
   "source": [
    "with open(os.path.join(\"/Volumes/Ana Elisa/Ana Elisa's MacBook Pro/Documents/NYU_PHD/UrbanSound8/soundscapes/test_\" + str(7) + \"/\"+'neg_test_stats_features.txt'),'rb') as f:\n",
    "        features_neg_train_7 = pickle.load(f)\n",
    "        "
   ]
  },
  {
   "cell_type": "code",
   "execution_count": null,
   "metadata": {},
   "outputs": [],
   "source": []
  },
  {
   "cell_type": "code",
   "execution_count": 86,
   "metadata": {},
   "outputs": [],
   "source": [
    "#random.seed(123)"
   ]
  },
  {
   "cell_type": "code",
   "execution_count": 438,
   "metadata": {},
   "outputs": [],
   "source": [
    "numbers_train_pos_7 = random.sample(list(np.arange(len(features_pos_train_7))), 10)"
   ]
  },
  {
   "cell_type": "code",
   "execution_count": 439,
   "metadata": {},
   "outputs": [],
   "source": [
    "numbers_train_neg_7 = random.sample(list(np.arange(len(features_neg_train_7))), 10)"
   ]
  },
  {
   "cell_type": "code",
   "execution_count": 440,
   "metadata": {},
   "outputs": [
    {
     "data": {
      "text/plain": [
       "[134, 241, 16, 287, 171, 212, 178, 12, 83, 214]"
      ]
     },
     "execution_count": 440,
     "metadata": {},
     "output_type": "execute_result"
    }
   ],
   "source": [
    "numbers_train_pos_7"
   ]
  },
  {
   "cell_type": "code",
   "execution_count": 441,
   "metadata": {},
   "outputs": [
    {
     "data": {
      "text/plain": [
       "[32, 73, 190, 120, 40, 29, 265, 198, 275, 156]"
      ]
     },
     "execution_count": 441,
     "metadata": {},
     "output_type": "execute_result"
    }
   ],
   "source": [
    "numbers_train_neg_7"
   ]
  },
  {
   "cell_type": "code",
   "execution_count": 442,
   "metadata": {},
   "outputs": [],
   "source": [
    "XY_train_pos_7 = []\n",
    "for i in range(len(numbers_train_pos_7)):\n",
    "    XY_train_pos_7.append(features_pos_train_7[numbers_train_pos_7[i]])"
   ]
  },
  {
   "cell_type": "code",
   "execution_count": 443,
   "metadata": {},
   "outputs": [
    {
     "data": {
      "text/plain": [
       "10"
      ]
     },
     "execution_count": 443,
     "metadata": {},
     "output_type": "execute_result"
    }
   ],
   "source": [
    "len(XY_train_pos_7)"
   ]
  },
  {
   "cell_type": "code",
   "execution_count": 444,
   "metadata": {},
   "outputs": [],
   "source": [
    "XY_train_neg_7 = []\n",
    "for i in range(len(numbers_train_neg_7)):\n",
    "    XY_train_neg_7.append(features_neg_train_7[numbers_train_neg_7[i]])"
   ]
  },
  {
   "cell_type": "code",
   "execution_count": 445,
   "metadata": {},
   "outputs": [
    {
     "data": {
      "text/plain": [
       "10"
      ]
     },
     "execution_count": 445,
     "metadata": {},
     "output_type": "execute_result"
    }
   ],
   "source": [
    "len(XY_train_neg_7)"
   ]
  },
  {
   "cell_type": "code",
   "execution_count": 446,
   "metadata": {},
   "outputs": [],
   "source": [
    "XY_train_7 = np.concatenate((XY_train_pos_7,XY_train_neg_7))"
   ]
  },
  {
   "cell_type": "markdown",
   "metadata": {},
   "source": [
    "# READ FILES 8"
   ]
  },
  {
   "cell_type": "code",
   "execution_count": 96,
   "metadata": {},
   "outputs": [],
   "source": [
    "with open(os.path.join(\"/Volumes/Ana Elisa/Ana Elisa's MacBook Pro/Documents/NYU_PHD/UrbanSound8/soundscapes/test_\" + str(8) + \"/\"+'pos_test_stats_features.txt'),'rb') as f:\n",
    "        features_pos_train_8 = pickle.load(f)\n",
    "        "
   ]
  },
  {
   "cell_type": "code",
   "execution_count": 97,
   "metadata": {},
   "outputs": [],
   "source": [
    "with open(os.path.join(\"/Volumes/Ana Elisa/Ana Elisa's MacBook Pro/Documents/NYU_PHD/UrbanSound8/soundscapes/test_\" + str(8) + \"/\"+'neg_test_stats_features.txt'),'rb') as f:\n",
    "        features_neg_train_8 = pickle.load(f)\n",
    "        "
   ]
  },
  {
   "cell_type": "code",
   "execution_count": null,
   "metadata": {},
   "outputs": [],
   "source": []
  },
  {
   "cell_type": "code",
   "execution_count": 98,
   "metadata": {},
   "outputs": [],
   "source": [
    "#random.seed(123)"
   ]
  },
  {
   "cell_type": "code",
   "execution_count": 447,
   "metadata": {},
   "outputs": [],
   "source": [
    "numbers_train_pos_8 = random.sample(list(np.arange(len(features_pos_train_8))), 10)"
   ]
  },
  {
   "cell_type": "code",
   "execution_count": 448,
   "metadata": {},
   "outputs": [],
   "source": [
    "numbers_train_neg_8 = random.sample(list(np.arange(len(features_neg_train_8))), 10)"
   ]
  },
  {
   "cell_type": "code",
   "execution_count": 449,
   "metadata": {},
   "outputs": [
    {
     "data": {
      "text/plain": [
       "[74, 149, 199, 188, 64, 273, 172, 264, 61, 85]"
      ]
     },
     "execution_count": 449,
     "metadata": {},
     "output_type": "execute_result"
    }
   ],
   "source": [
    "numbers_train_pos_8"
   ]
  },
  {
   "cell_type": "code",
   "execution_count": 450,
   "metadata": {},
   "outputs": [
    {
     "data": {
      "text/plain": [
       "[197, 221, 31, 69, 232, 10, 178, 230, 155, 219]"
      ]
     },
     "execution_count": 450,
     "metadata": {},
     "output_type": "execute_result"
    }
   ],
   "source": [
    "numbers_train_neg_8"
   ]
  },
  {
   "cell_type": "code",
   "execution_count": 451,
   "metadata": {},
   "outputs": [],
   "source": [
    "XY_train_pos_8 = []\n",
    "for i in range(len(numbers_train_pos_8)):\n",
    "    XY_train_pos_8.append(features_pos_train_8[numbers_train_pos_8[i]])"
   ]
  },
  {
   "cell_type": "code",
   "execution_count": 452,
   "metadata": {},
   "outputs": [
    {
     "data": {
      "text/plain": [
       "10"
      ]
     },
     "execution_count": 452,
     "metadata": {},
     "output_type": "execute_result"
    }
   ],
   "source": [
    "len(XY_train_pos_8)"
   ]
  },
  {
   "cell_type": "code",
   "execution_count": 453,
   "metadata": {},
   "outputs": [],
   "source": [
    "XY_train_neg_8 = []\n",
    "for i in range(len(numbers_train_neg_8)):\n",
    "    XY_train_neg_8.append(features_neg_train_8[numbers_train_neg_8[i]])"
   ]
  },
  {
   "cell_type": "code",
   "execution_count": 454,
   "metadata": {},
   "outputs": [
    {
     "data": {
      "text/plain": [
       "10"
      ]
     },
     "execution_count": 454,
     "metadata": {},
     "output_type": "execute_result"
    }
   ],
   "source": [
    "len(XY_train_neg_8)"
   ]
  },
  {
   "cell_type": "code",
   "execution_count": 455,
   "metadata": {},
   "outputs": [],
   "source": [
    "XY_train_8 = np.concatenate((XY_train_pos_8,XY_train_neg_8))"
   ]
  },
  {
   "cell_type": "code",
   "execution_count": 456,
   "metadata": {},
   "outputs": [
    {
     "data": {
      "text/plain": [
       "20"
      ]
     },
     "execution_count": 456,
     "metadata": {},
     "output_type": "execute_result"
    }
   ],
   "source": [
    "len(XY_train_8)"
   ]
  },
  {
   "cell_type": "markdown",
   "metadata": {},
   "source": [
    "# READ FILES 9"
   ]
  },
  {
   "cell_type": "code",
   "execution_count": 109,
   "metadata": {},
   "outputs": [],
   "source": [
    "with open(os.path.join(\"/Volumes/Ana Elisa/Ana Elisa's MacBook Pro/Documents/NYU_PHD/UrbanSound8/soundscapes/test_\" + str(9) + \"/\"+'pos_test_stats_features.txt'),'rb') as f:\n",
    "        features_pos_train_9 = pickle.load(f)\n",
    "        "
   ]
  },
  {
   "cell_type": "code",
   "execution_count": 110,
   "metadata": {},
   "outputs": [],
   "source": [
    "with open(os.path.join(\"/Volumes/Ana Elisa/Ana Elisa's MacBook Pro/Documents/NYU_PHD/UrbanSound8/soundscapes/test_\" + str(9) + \"/\"+'neg_test_stats_features.txt'),'rb') as f:\n",
    "        features_neg_train_9 = pickle.load(f)\n",
    "        "
   ]
  },
  {
   "cell_type": "code",
   "execution_count": null,
   "metadata": {},
   "outputs": [],
   "source": []
  },
  {
   "cell_type": "code",
   "execution_count": 111,
   "metadata": {},
   "outputs": [],
   "source": [
    "#random.seed(123)"
   ]
  },
  {
   "cell_type": "code",
   "execution_count": 457,
   "metadata": {},
   "outputs": [],
   "source": [
    "numbers_train_pos_9 = random.sample(list(np.arange(len(features_pos_train_9))), 10)"
   ]
  },
  {
   "cell_type": "code",
   "execution_count": 458,
   "metadata": {},
   "outputs": [],
   "source": [
    "numbers_train_neg_9 = random.sample(list(np.arange(len(features_neg_train_9))), 10)"
   ]
  },
  {
   "cell_type": "code",
   "execution_count": 459,
   "metadata": {},
   "outputs": [
    {
     "data": {
      "text/plain": [
       "[14, 81, 267, 166, 264, 263, 284, 70, 175, 256]"
      ]
     },
     "execution_count": 459,
     "metadata": {},
     "output_type": "execute_result"
    }
   ],
   "source": [
    "numbers_train_pos_9"
   ]
  },
  {
   "cell_type": "code",
   "execution_count": 460,
   "metadata": {},
   "outputs": [
    {
     "data": {
      "text/plain": [
       "[53, 279, 188, 115, 174, 47, 139, 259, 124, 104]"
      ]
     },
     "execution_count": 460,
     "metadata": {},
     "output_type": "execute_result"
    }
   ],
   "source": [
    "numbers_train_neg_9"
   ]
  },
  {
   "cell_type": "code",
   "execution_count": 461,
   "metadata": {},
   "outputs": [],
   "source": [
    "XY_train_pos_9 = []\n",
    "for i in range(len(numbers_train_pos_9)):\n",
    "    XY_train_pos_9.append(features_pos_train_9[numbers_train_pos_9[i]])"
   ]
  },
  {
   "cell_type": "code",
   "execution_count": 462,
   "metadata": {},
   "outputs": [
    {
     "data": {
      "text/plain": [
       "10"
      ]
     },
     "execution_count": 462,
     "metadata": {},
     "output_type": "execute_result"
    }
   ],
   "source": [
    "len(XY_train_pos_9)"
   ]
  },
  {
   "cell_type": "code",
   "execution_count": 463,
   "metadata": {},
   "outputs": [],
   "source": [
    "XY_train_neg_9 = []\n",
    "for i in range(len(numbers_train_neg_9)):\n",
    "    XY_train_neg_9.append(features_neg_train_9[numbers_train_neg_9[i]])"
   ]
  },
  {
   "cell_type": "code",
   "execution_count": 464,
   "metadata": {},
   "outputs": [
    {
     "data": {
      "text/plain": [
       "10"
      ]
     },
     "execution_count": 464,
     "metadata": {},
     "output_type": "execute_result"
    }
   ],
   "source": [
    "len(XY_train_neg_9)"
   ]
  },
  {
   "cell_type": "code",
   "execution_count": 465,
   "metadata": {},
   "outputs": [],
   "source": [
    "XY_train_9 = np.concatenate((XY_train_pos_9,XY_train_neg_9))"
   ]
  },
  {
   "cell_type": "code",
   "execution_count": 466,
   "metadata": {},
   "outputs": [
    {
     "data": {
      "text/plain": [
       "20"
      ]
     },
     "execution_count": 466,
     "metadata": {},
     "output_type": "execute_result"
    }
   ],
   "source": [
    "len(XY_train_9)"
   ]
  },
  {
   "cell_type": "markdown",
   "metadata": {},
   "source": [
    "# READ FILES 10"
   ]
  },
  {
   "cell_type": "code",
   "execution_count": 122,
   "metadata": {},
   "outputs": [],
   "source": [
    "with open(os.path.join(\"/Volumes/Ana Elisa/Ana Elisa's MacBook Pro/Documents/NYU_PHD/UrbanSound8/soundscapes/test_\" + str(10) + \"/\"+'pos_test_stats_features.txt'),'rb') as f:\n",
    "        features_pos_train_10 = pickle.load(f)\n",
    "        "
   ]
  },
  {
   "cell_type": "code",
   "execution_count": 123,
   "metadata": {},
   "outputs": [],
   "source": [
    "with open(os.path.join(\"/Volumes/Ana Elisa/Ana Elisa's MacBook Pro/Documents/NYU_PHD/UrbanSound8/soundscapes/test_\" + str(10) + \"/\"+'neg_test_stats_features.txt'),'rb') as f:\n",
    "        features_neg_train_10 = pickle.load(f)\n",
    "        "
   ]
  },
  {
   "cell_type": "code",
   "execution_count": null,
   "metadata": {},
   "outputs": [],
   "source": []
  },
  {
   "cell_type": "code",
   "execution_count": 124,
   "metadata": {},
   "outputs": [],
   "source": [
    "#random.seed(123)"
   ]
  },
  {
   "cell_type": "code",
   "execution_count": 467,
   "metadata": {},
   "outputs": [],
   "source": [
    "numbers_train_pos_10 = random.sample(list(np.arange(len(features_pos_train_10))), 10)"
   ]
  },
  {
   "cell_type": "code",
   "execution_count": 468,
   "metadata": {},
   "outputs": [],
   "source": [
    "numbers_train_neg_10 = random.sample(list(np.arange(len(features_neg_train_10))), 10)"
   ]
  },
  {
   "cell_type": "code",
   "execution_count": 469,
   "metadata": {},
   "outputs": [
    {
     "data": {
      "text/plain": [
       "[164, 135, 203, 22, 256, 41, 100, 258, 102, 8]"
      ]
     },
     "execution_count": 469,
     "metadata": {},
     "output_type": "execute_result"
    }
   ],
   "source": [
    "numbers_train_pos_10"
   ]
  },
  {
   "cell_type": "code",
   "execution_count": 470,
   "metadata": {},
   "outputs": [
    {
     "data": {
      "text/plain": [
       "[99, 137, 289, 118, 43, 162, 42, 174, 283, 275]"
      ]
     },
     "execution_count": 470,
     "metadata": {},
     "output_type": "execute_result"
    }
   ],
   "source": [
    "numbers_train_neg_10"
   ]
  },
  {
   "cell_type": "code",
   "execution_count": 471,
   "metadata": {},
   "outputs": [],
   "source": [
    "XY_train_pos_10 = []\n",
    "for i in range(len(numbers_train_pos_10)):\n",
    "    XY_train_pos_10.append(features_pos_train_10[numbers_train_pos_10[i]])"
   ]
  },
  {
   "cell_type": "code",
   "execution_count": 472,
   "metadata": {},
   "outputs": [
    {
     "data": {
      "text/plain": [
       "10"
      ]
     },
     "execution_count": 472,
     "metadata": {},
     "output_type": "execute_result"
    }
   ],
   "source": [
    "len(XY_train_pos_10)"
   ]
  },
  {
   "cell_type": "code",
   "execution_count": 473,
   "metadata": {},
   "outputs": [],
   "source": [
    "XY_train_neg_10 = []\n",
    "for i in range(len(numbers_train_neg_10)):\n",
    "    XY_train_neg_10.append(features_neg_train_10[numbers_train_neg_10[i]])"
   ]
  },
  {
   "cell_type": "code",
   "execution_count": 474,
   "metadata": {},
   "outputs": [
    {
     "data": {
      "text/plain": [
       "10"
      ]
     },
     "execution_count": 474,
     "metadata": {},
     "output_type": "execute_result"
    }
   ],
   "source": [
    "len(XY_train_neg_10)"
   ]
  },
  {
   "cell_type": "code",
   "execution_count": 475,
   "metadata": {},
   "outputs": [],
   "source": [
    "XY_train_10 = np.concatenate((XY_train_pos_10,XY_train_neg_10))"
   ]
  },
  {
   "cell_type": "code",
   "execution_count": 476,
   "metadata": {},
   "outputs": [
    {
     "data": {
      "text/plain": [
       "20"
      ]
     },
     "execution_count": 476,
     "metadata": {},
     "output_type": "execute_result"
    }
   ],
   "source": [
    "len(XY_train_10)"
   ]
  },
  {
   "cell_type": "markdown",
   "metadata": {},
   "source": [
    "# Train sets"
   ]
  },
  {
   "cell_type": "markdown",
   "metadata": {},
   "source": [
    "## 1"
   ]
  },
  {
   "cell_type": "code",
   "execution_count": 477,
   "metadata": {},
   "outputs": [],
   "source": [
    "XY_train_1_full = np.concatenate((XY_train_1,XY_train_2,XY_train_3,XY_train_4,XY_train_5,XY_train_6,XY_train_7,XY_train_8,XY_train_9))\n"
   ]
  },
  {
   "cell_type": "code",
   "execution_count": 478,
   "metadata": {},
   "outputs": [
    {
     "data": {
      "text/plain": [
       "180"
      ]
     },
     "execution_count": 478,
     "metadata": {},
     "output_type": "execute_result"
    }
   ],
   "source": [
    "len(XY_train_1_full)"
   ]
  },
  {
   "cell_type": "code",
   "execution_count": 479,
   "metadata": {},
   "outputs": [],
   "source": [
    "np.random.shuffle(XY_train_1_full)"
   ]
  },
  {
   "cell_type": "code",
   "execution_count": 480,
   "metadata": {},
   "outputs": [
    {
     "data": {
      "text/plain": [
       "(180, 3)"
      ]
     },
     "execution_count": 480,
     "metadata": {},
     "output_type": "execute_result"
    }
   ],
   "source": [
    "XY_train_1_full.shape"
   ]
  },
  {
   "cell_type": "markdown",
   "metadata": {},
   "source": [
    "## 2"
   ]
  },
  {
   "cell_type": "code",
   "execution_count": 481,
   "metadata": {},
   "outputs": [],
   "source": [
    "XY_train_2_full = np.concatenate((XY_train_1,XY_train_2,XY_train_3,XY_train_4,XY_train_5,XY_train_6,XY_train_7,XY_train_8,XY_train_10))\n"
   ]
  },
  {
   "cell_type": "code",
   "execution_count": 482,
   "metadata": {},
   "outputs": [
    {
     "data": {
      "text/plain": [
       "180"
      ]
     },
     "execution_count": 482,
     "metadata": {},
     "output_type": "execute_result"
    }
   ],
   "source": [
    "len(XY_train_2_full)"
   ]
  },
  {
   "cell_type": "code",
   "execution_count": 483,
   "metadata": {},
   "outputs": [],
   "source": [
    "np.random.shuffle(XY_train_2_full)"
   ]
  },
  {
   "cell_type": "code",
   "execution_count": 484,
   "metadata": {},
   "outputs": [
    {
     "data": {
      "text/plain": [
       "(180, 3)"
      ]
     },
     "execution_count": 484,
     "metadata": {},
     "output_type": "execute_result"
    }
   ],
   "source": [
    "XY_train_2_full.shape"
   ]
  },
  {
   "cell_type": "markdown",
   "metadata": {},
   "source": [
    "## 3"
   ]
  },
  {
   "cell_type": "code",
   "execution_count": 485,
   "metadata": {},
   "outputs": [],
   "source": [
    "XY_train_3_full = np.concatenate((XY_train_1,XY_train_2,XY_train_3,XY_train_4,XY_train_5,XY_train_6,XY_train_7,XY_train_9,XY_train_10))\n"
   ]
  },
  {
   "cell_type": "code",
   "execution_count": 486,
   "metadata": {},
   "outputs": [
    {
     "data": {
      "text/plain": [
       "180"
      ]
     },
     "execution_count": 486,
     "metadata": {},
     "output_type": "execute_result"
    }
   ],
   "source": [
    "len(XY_train_3_full)"
   ]
  },
  {
   "cell_type": "code",
   "execution_count": 487,
   "metadata": {},
   "outputs": [],
   "source": [
    "np.random.shuffle(XY_train_3_full)"
   ]
  },
  {
   "cell_type": "code",
   "execution_count": 488,
   "metadata": {},
   "outputs": [
    {
     "data": {
      "text/plain": [
       "(180, 3)"
      ]
     },
     "execution_count": 488,
     "metadata": {},
     "output_type": "execute_result"
    }
   ],
   "source": [
    "XY_train_3_full.shape"
   ]
  },
  {
   "cell_type": "markdown",
   "metadata": {},
   "source": [
    "## 4"
   ]
  },
  {
   "cell_type": "code",
   "execution_count": 489,
   "metadata": {},
   "outputs": [],
   "source": [
    "XY_train_4_full = np.concatenate((XY_train_1,XY_train_2,XY_train_3,XY_train_4,XY_train_5,XY_train_6,XY_train_8,XY_train_9,XY_train_10))\n"
   ]
  },
  {
   "cell_type": "code",
   "execution_count": 490,
   "metadata": {},
   "outputs": [
    {
     "data": {
      "text/plain": [
       "180"
      ]
     },
     "execution_count": 490,
     "metadata": {},
     "output_type": "execute_result"
    }
   ],
   "source": [
    "len(XY_train_4_full)"
   ]
  },
  {
   "cell_type": "code",
   "execution_count": 491,
   "metadata": {},
   "outputs": [],
   "source": [
    "np.random.shuffle(XY_train_4_full)"
   ]
  },
  {
   "cell_type": "code",
   "execution_count": 492,
   "metadata": {},
   "outputs": [
    {
     "data": {
      "text/plain": [
       "(180, 3)"
      ]
     },
     "execution_count": 492,
     "metadata": {},
     "output_type": "execute_result"
    }
   ],
   "source": [
    "XY_train_4_full.shape"
   ]
  },
  {
   "cell_type": "markdown",
   "metadata": {},
   "source": [
    "## 5"
   ]
  },
  {
   "cell_type": "code",
   "execution_count": 493,
   "metadata": {},
   "outputs": [],
   "source": [
    "XY_train_5_full = np.concatenate((XY_train_1,XY_train_2,XY_train_3,XY_train_4,XY_train_5,XY_train_7,XY_train_8,XY_train_9,XY_train_10))\n"
   ]
  },
  {
   "cell_type": "code",
   "execution_count": 494,
   "metadata": {},
   "outputs": [
    {
     "data": {
      "text/plain": [
       "180"
      ]
     },
     "execution_count": 494,
     "metadata": {},
     "output_type": "execute_result"
    }
   ],
   "source": [
    "len(XY_train_5_full)"
   ]
  },
  {
   "cell_type": "code",
   "execution_count": 495,
   "metadata": {},
   "outputs": [],
   "source": [
    "np.random.shuffle(XY_train_5_full)"
   ]
  },
  {
   "cell_type": "code",
   "execution_count": 496,
   "metadata": {},
   "outputs": [
    {
     "data": {
      "text/plain": [
       "(180, 3)"
      ]
     },
     "execution_count": 496,
     "metadata": {},
     "output_type": "execute_result"
    }
   ],
   "source": [
    "XY_train_5_full.shape"
   ]
  },
  {
   "cell_type": "markdown",
   "metadata": {},
   "source": [
    "## 6"
   ]
  },
  {
   "cell_type": "code",
   "execution_count": 497,
   "metadata": {},
   "outputs": [],
   "source": [
    "XY_train_6_full = np.concatenate((XY_train_1,XY_train_2,XY_train_3,XY_train_4,XY_train_6,XY_train_7,XY_train_8,XY_train_9,XY_train_10))\n"
   ]
  },
  {
   "cell_type": "code",
   "execution_count": 498,
   "metadata": {},
   "outputs": [
    {
     "data": {
      "text/plain": [
       "180"
      ]
     },
     "execution_count": 498,
     "metadata": {},
     "output_type": "execute_result"
    }
   ],
   "source": [
    "len(XY_train_6_full)"
   ]
  },
  {
   "cell_type": "code",
   "execution_count": 499,
   "metadata": {},
   "outputs": [],
   "source": [
    "np.random.shuffle(XY_train_6_full)"
   ]
  },
  {
   "cell_type": "code",
   "execution_count": 500,
   "metadata": {},
   "outputs": [
    {
     "data": {
      "text/plain": [
       "(180, 3)"
      ]
     },
     "execution_count": 500,
     "metadata": {},
     "output_type": "execute_result"
    }
   ],
   "source": [
    "XY_train_6_full.shape"
   ]
  },
  {
   "cell_type": "markdown",
   "metadata": {},
   "source": [
    "## 7"
   ]
  },
  {
   "cell_type": "code",
   "execution_count": 501,
   "metadata": {},
   "outputs": [],
   "source": [
    "XY_train_7_full = np.concatenate((XY_train_1,XY_train_2,XY_train_3,XY_train_5,XY_train_6,XY_train_7,XY_train_8,XY_train_9,XY_train_10))\n"
   ]
  },
  {
   "cell_type": "code",
   "execution_count": 502,
   "metadata": {},
   "outputs": [
    {
     "data": {
      "text/plain": [
       "180"
      ]
     },
     "execution_count": 502,
     "metadata": {},
     "output_type": "execute_result"
    }
   ],
   "source": [
    "len(XY_train_7_full)"
   ]
  },
  {
   "cell_type": "code",
   "execution_count": 503,
   "metadata": {},
   "outputs": [],
   "source": [
    "np.random.shuffle(XY_train_7_full)"
   ]
  },
  {
   "cell_type": "code",
   "execution_count": 504,
   "metadata": {},
   "outputs": [
    {
     "data": {
      "text/plain": [
       "(180, 3)"
      ]
     },
     "execution_count": 504,
     "metadata": {},
     "output_type": "execute_result"
    }
   ],
   "source": [
    "XY_train_7_full.shape"
   ]
  },
  {
   "cell_type": "markdown",
   "metadata": {},
   "source": [
    "## 8"
   ]
  },
  {
   "cell_type": "code",
   "execution_count": 505,
   "metadata": {},
   "outputs": [],
   "source": [
    "XY_train_8_full = np.concatenate((XY_train_1,XY_train_2,XY_train_4,XY_train_5,XY_train_6,XY_train_7,XY_train_8,XY_train_9,XY_train_10))\n"
   ]
  },
  {
   "cell_type": "code",
   "execution_count": 506,
   "metadata": {},
   "outputs": [
    {
     "data": {
      "text/plain": [
       "180"
      ]
     },
     "execution_count": 506,
     "metadata": {},
     "output_type": "execute_result"
    }
   ],
   "source": [
    "len(XY_train_8_full)"
   ]
  },
  {
   "cell_type": "code",
   "execution_count": 507,
   "metadata": {},
   "outputs": [],
   "source": [
    "np.random.shuffle(XY_train_8_full)"
   ]
  },
  {
   "cell_type": "code",
   "execution_count": 508,
   "metadata": {},
   "outputs": [
    {
     "data": {
      "text/plain": [
       "(180, 3)"
      ]
     },
     "execution_count": 508,
     "metadata": {},
     "output_type": "execute_result"
    }
   ],
   "source": [
    "XY_train_8_full.shape"
   ]
  },
  {
   "cell_type": "markdown",
   "metadata": {},
   "source": [
    "## 9"
   ]
  },
  {
   "cell_type": "code",
   "execution_count": 509,
   "metadata": {},
   "outputs": [],
   "source": [
    "XY_train_9_full = np.concatenate((XY_train_1,XY_train_3,XY_train_4,XY_train_5,XY_train_6,XY_train_7,XY_train_8,XY_train_9,XY_train_10))\n"
   ]
  },
  {
   "cell_type": "code",
   "execution_count": 510,
   "metadata": {},
   "outputs": [
    {
     "data": {
      "text/plain": [
       "180"
      ]
     },
     "execution_count": 510,
     "metadata": {},
     "output_type": "execute_result"
    }
   ],
   "source": [
    "len(XY_train_9_full)"
   ]
  },
  {
   "cell_type": "code",
   "execution_count": 511,
   "metadata": {},
   "outputs": [],
   "source": [
    "np.random.shuffle(XY_train_9_full)"
   ]
  },
  {
   "cell_type": "code",
   "execution_count": 512,
   "metadata": {},
   "outputs": [
    {
     "data": {
      "text/plain": [
       "(180, 3)"
      ]
     },
     "execution_count": 512,
     "metadata": {},
     "output_type": "execute_result"
    }
   ],
   "source": [
    "XY_train_9_full.shape"
   ]
  },
  {
   "cell_type": "markdown",
   "metadata": {},
   "source": [
    "## 10"
   ]
  },
  {
   "cell_type": "code",
   "execution_count": 513,
   "metadata": {},
   "outputs": [],
   "source": [
    "XY_train_10_full = np.concatenate((XY_train_2,XY_train_3,XY_train_4,XY_train_5,XY_train_6,XY_train_7,XY_train_8,XY_train_9,XY_train_10))\n"
   ]
  },
  {
   "cell_type": "code",
   "execution_count": 514,
   "metadata": {},
   "outputs": [
    {
     "data": {
      "text/plain": [
       "180"
      ]
     },
     "execution_count": 514,
     "metadata": {},
     "output_type": "execute_result"
    }
   ],
   "source": [
    "len(XY_train_10_full)"
   ]
  },
  {
   "cell_type": "code",
   "execution_count": 515,
   "metadata": {},
   "outputs": [],
   "source": [
    "np.random.shuffle(XY_train_10_full)"
   ]
  },
  {
   "cell_type": "code",
   "execution_count": 516,
   "metadata": {},
   "outputs": [
    {
     "data": {
      "text/plain": [
       "(180, 3)"
      ]
     },
     "execution_count": 516,
     "metadata": {},
     "output_type": "execute_result"
    }
   ],
   "source": [
    "XY_train_10_full.shape"
   ]
  },
  {
   "cell_type": "markdown",
   "metadata": {},
   "source": [
    "# Test sets"
   ]
  },
  {
   "cell_type": "markdown",
   "metadata": {},
   "source": [
    "## 1"
   ]
  },
  {
   "cell_type": "code",
   "execution_count": 178,
   "metadata": {},
   "outputs": [],
   "source": [
    "XY_test_1 = np.concatenate((features_pos_train_10,features_neg_train_10))"
   ]
  },
  {
   "cell_type": "code",
   "execution_count": 179,
   "metadata": {},
   "outputs": [
    {
     "data": {
      "text/plain": [
       "580"
      ]
     },
     "execution_count": 179,
     "metadata": {},
     "output_type": "execute_result"
    }
   ],
   "source": [
    "len(XY_test_1)"
   ]
  },
  {
   "cell_type": "code",
   "execution_count": 180,
   "metadata": {},
   "outputs": [],
   "source": [
    "np.random.shuffle(XY_test_1)"
   ]
  },
  {
   "cell_type": "code",
   "execution_count": 181,
   "metadata": {},
   "outputs": [
    {
     "data": {
      "text/plain": [
       "(580, 3)"
      ]
     },
     "execution_count": 181,
     "metadata": {},
     "output_type": "execute_result"
    }
   ],
   "source": [
    "XY_test_1.shape"
   ]
  },
  {
   "cell_type": "markdown",
   "metadata": {},
   "source": [
    "## 2"
   ]
  },
  {
   "cell_type": "code",
   "execution_count": 182,
   "metadata": {},
   "outputs": [],
   "source": [
    "XY_test_2 = np.concatenate((features_pos_train_9,features_neg_train_9))"
   ]
  },
  {
   "cell_type": "code",
   "execution_count": 183,
   "metadata": {},
   "outputs": [
    {
     "data": {
      "text/plain": [
       "580"
      ]
     },
     "execution_count": 183,
     "metadata": {},
     "output_type": "execute_result"
    }
   ],
   "source": [
    "len(XY_test_2)"
   ]
  },
  {
   "cell_type": "code",
   "execution_count": 184,
   "metadata": {},
   "outputs": [],
   "source": [
    "np.random.shuffle(XY_test_2)"
   ]
  },
  {
   "cell_type": "code",
   "execution_count": 185,
   "metadata": {},
   "outputs": [
    {
     "data": {
      "text/plain": [
       "(580, 3)"
      ]
     },
     "execution_count": 185,
     "metadata": {},
     "output_type": "execute_result"
    }
   ],
   "source": [
    "XY_test_2.shape"
   ]
  },
  {
   "cell_type": "markdown",
   "metadata": {},
   "source": [
    "## 3"
   ]
  },
  {
   "cell_type": "code",
   "execution_count": 186,
   "metadata": {},
   "outputs": [],
   "source": [
    "XY_test_3 = np.concatenate((features_pos_train_8,features_neg_train_8))"
   ]
  },
  {
   "cell_type": "code",
   "execution_count": 187,
   "metadata": {},
   "outputs": [
    {
     "data": {
      "text/plain": [
       "580"
      ]
     },
     "execution_count": 187,
     "metadata": {},
     "output_type": "execute_result"
    }
   ],
   "source": [
    "len(XY_test_3)"
   ]
  },
  {
   "cell_type": "code",
   "execution_count": 188,
   "metadata": {},
   "outputs": [],
   "source": [
    "np.random.shuffle(XY_test_3)"
   ]
  },
  {
   "cell_type": "code",
   "execution_count": 189,
   "metadata": {},
   "outputs": [
    {
     "data": {
      "text/plain": [
       "(580, 3)"
      ]
     },
     "execution_count": 189,
     "metadata": {},
     "output_type": "execute_result"
    }
   ],
   "source": [
    "XY_test_3.shape"
   ]
  },
  {
   "cell_type": "markdown",
   "metadata": {},
   "source": [
    "## 4"
   ]
  },
  {
   "cell_type": "code",
   "execution_count": 190,
   "metadata": {},
   "outputs": [],
   "source": [
    "XY_test_4 = np.concatenate((features_pos_train_7,features_neg_train_7))"
   ]
  },
  {
   "cell_type": "code",
   "execution_count": 191,
   "metadata": {},
   "outputs": [
    {
     "data": {
      "text/plain": [
       "580"
      ]
     },
     "execution_count": 191,
     "metadata": {},
     "output_type": "execute_result"
    }
   ],
   "source": [
    "len(XY_test_4)"
   ]
  },
  {
   "cell_type": "code",
   "execution_count": 192,
   "metadata": {},
   "outputs": [],
   "source": [
    "np.random.shuffle(XY_test_4)"
   ]
  },
  {
   "cell_type": "code",
   "execution_count": 193,
   "metadata": {},
   "outputs": [
    {
     "data": {
      "text/plain": [
       "(580, 3)"
      ]
     },
     "execution_count": 193,
     "metadata": {},
     "output_type": "execute_result"
    }
   ],
   "source": [
    "XY_test_4.shape"
   ]
  },
  {
   "cell_type": "markdown",
   "metadata": {},
   "source": [
    "## 5"
   ]
  },
  {
   "cell_type": "code",
   "execution_count": 194,
   "metadata": {},
   "outputs": [],
   "source": [
    "XY_test_5 = np.concatenate((features_pos_train_6,features_neg_train_6))"
   ]
  },
  {
   "cell_type": "code",
   "execution_count": 195,
   "metadata": {},
   "outputs": [
    {
     "data": {
      "text/plain": [
       "580"
      ]
     },
     "execution_count": 195,
     "metadata": {},
     "output_type": "execute_result"
    }
   ],
   "source": [
    "len(XY_test_5)"
   ]
  },
  {
   "cell_type": "code",
   "execution_count": 196,
   "metadata": {},
   "outputs": [],
   "source": [
    "np.random.shuffle(XY_test_5)"
   ]
  },
  {
   "cell_type": "code",
   "execution_count": 197,
   "metadata": {},
   "outputs": [
    {
     "data": {
      "text/plain": [
       "(580, 3)"
      ]
     },
     "execution_count": 197,
     "metadata": {},
     "output_type": "execute_result"
    }
   ],
   "source": [
    "XY_test_5.shape"
   ]
  },
  {
   "cell_type": "markdown",
   "metadata": {},
   "source": [
    "## 6"
   ]
  },
  {
   "cell_type": "code",
   "execution_count": 198,
   "metadata": {},
   "outputs": [],
   "source": [
    "XY_test_6 = np.concatenate((features_pos_train_5,features_neg_train_5))"
   ]
  },
  {
   "cell_type": "code",
   "execution_count": 199,
   "metadata": {},
   "outputs": [
    {
     "data": {
      "text/plain": [
       "580"
      ]
     },
     "execution_count": 199,
     "metadata": {},
     "output_type": "execute_result"
    }
   ],
   "source": [
    "len(XY_test_6)"
   ]
  },
  {
   "cell_type": "code",
   "execution_count": 200,
   "metadata": {},
   "outputs": [],
   "source": [
    "np.random.shuffle(XY_test_6)"
   ]
  },
  {
   "cell_type": "code",
   "execution_count": 201,
   "metadata": {},
   "outputs": [
    {
     "data": {
      "text/plain": [
       "(580, 3)"
      ]
     },
     "execution_count": 201,
     "metadata": {},
     "output_type": "execute_result"
    }
   ],
   "source": [
    "XY_test_6.shape"
   ]
  },
  {
   "cell_type": "markdown",
   "metadata": {},
   "source": [
    "## 7"
   ]
  },
  {
   "cell_type": "code",
   "execution_count": 202,
   "metadata": {},
   "outputs": [],
   "source": [
    "XY_test_7 = np.concatenate((features_pos_train_4,features_neg_train_4))"
   ]
  },
  {
   "cell_type": "code",
   "execution_count": 203,
   "metadata": {},
   "outputs": [
    {
     "data": {
      "text/plain": [
       "580"
      ]
     },
     "execution_count": 203,
     "metadata": {},
     "output_type": "execute_result"
    }
   ],
   "source": [
    "len(XY_test_7)"
   ]
  },
  {
   "cell_type": "code",
   "execution_count": 204,
   "metadata": {},
   "outputs": [],
   "source": [
    "np.random.shuffle(XY_test_7)"
   ]
  },
  {
   "cell_type": "code",
   "execution_count": 205,
   "metadata": {},
   "outputs": [
    {
     "data": {
      "text/plain": [
       "(580, 3)"
      ]
     },
     "execution_count": 205,
     "metadata": {},
     "output_type": "execute_result"
    }
   ],
   "source": [
    "XY_test_7.shape"
   ]
  },
  {
   "cell_type": "markdown",
   "metadata": {},
   "source": [
    "## 8"
   ]
  },
  {
   "cell_type": "code",
   "execution_count": 206,
   "metadata": {},
   "outputs": [],
   "source": [
    "XY_test_8 = np.concatenate((features_pos_train_3,features_neg_train_3))"
   ]
  },
  {
   "cell_type": "code",
   "execution_count": 207,
   "metadata": {},
   "outputs": [
    {
     "data": {
      "text/plain": [
       "580"
      ]
     },
     "execution_count": 207,
     "metadata": {},
     "output_type": "execute_result"
    }
   ],
   "source": [
    "len(XY_test_8)"
   ]
  },
  {
   "cell_type": "code",
   "execution_count": 208,
   "metadata": {},
   "outputs": [],
   "source": [
    "np.random.shuffle(XY_test_8)"
   ]
  },
  {
   "cell_type": "code",
   "execution_count": 209,
   "metadata": {},
   "outputs": [
    {
     "data": {
      "text/plain": [
       "(580, 3)"
      ]
     },
     "execution_count": 209,
     "metadata": {},
     "output_type": "execute_result"
    }
   ],
   "source": [
    "XY_test_8.shape"
   ]
  },
  {
   "cell_type": "markdown",
   "metadata": {},
   "source": [
    "## 9"
   ]
  },
  {
   "cell_type": "code",
   "execution_count": 210,
   "metadata": {},
   "outputs": [],
   "source": [
    "XY_test_9 = np.concatenate((features_pos_train_2,features_neg_train_2))"
   ]
  },
  {
   "cell_type": "code",
   "execution_count": 211,
   "metadata": {},
   "outputs": [
    {
     "data": {
      "text/plain": [
       "580"
      ]
     },
     "execution_count": 211,
     "metadata": {},
     "output_type": "execute_result"
    }
   ],
   "source": [
    "len(XY_test_9)"
   ]
  },
  {
   "cell_type": "code",
   "execution_count": 212,
   "metadata": {},
   "outputs": [],
   "source": [
    "np.random.shuffle(XY_test_9)"
   ]
  },
  {
   "cell_type": "code",
   "execution_count": 213,
   "metadata": {},
   "outputs": [
    {
     "data": {
      "text/plain": [
       "(580, 3)"
      ]
     },
     "execution_count": 213,
     "metadata": {},
     "output_type": "execute_result"
    }
   ],
   "source": [
    "XY_test_9.shape"
   ]
  },
  {
   "cell_type": "markdown",
   "metadata": {},
   "source": [
    "## 10"
   ]
  },
  {
   "cell_type": "code",
   "execution_count": 214,
   "metadata": {},
   "outputs": [],
   "source": [
    "XY_test_10 = np.concatenate((features_pos_train_1,features_neg_train_1))"
   ]
  },
  {
   "cell_type": "code",
   "execution_count": 215,
   "metadata": {},
   "outputs": [
    {
     "data": {
      "text/plain": [
       "580"
      ]
     },
     "execution_count": 215,
     "metadata": {},
     "output_type": "execute_result"
    }
   ],
   "source": [
    "len(XY_test_10)"
   ]
  },
  {
   "cell_type": "code",
   "execution_count": 216,
   "metadata": {},
   "outputs": [],
   "source": [
    "np.random.shuffle(XY_test_10)"
   ]
  },
  {
   "cell_type": "code",
   "execution_count": 217,
   "metadata": {},
   "outputs": [
    {
     "data": {
      "text/plain": [
       "(580, 3)"
      ]
     },
     "execution_count": 217,
     "metadata": {},
     "output_type": "execute_result"
    }
   ],
   "source": [
    "XY_test_10.shape"
   ]
  },
  {
   "cell_type": "markdown",
   "metadata": {},
   "source": [
    "# Separate XY and train"
   ]
  },
  {
   "cell_type": "markdown",
   "metadata": {},
   "source": [
    "## 1"
   ]
  },
  {
   "cell_type": "code",
   "execution_count": 517,
   "metadata": {},
   "outputs": [],
   "source": [
    "X_train_1_full = XY_train_1_full[:,0]"
   ]
  },
  {
   "cell_type": "code",
   "execution_count": 518,
   "metadata": {},
   "outputs": [
    {
     "data": {
      "text/plain": [
       "(180,)"
      ]
     },
     "execution_count": 518,
     "metadata": {},
     "output_type": "execute_result"
    }
   ],
   "source": [
    "X_train_1_full.shape"
   ]
  },
  {
   "cell_type": "code",
   "execution_count": 519,
   "metadata": {},
   "outputs": [],
   "source": [
    "X_train_1_full = list(X_train_1_full)"
   ]
  },
  {
   "cell_type": "code",
   "execution_count": 520,
   "metadata": {},
   "outputs": [],
   "source": [
    "Y_train_1_full = XY_train_1_full[:,1]"
   ]
  },
  {
   "cell_type": "code",
   "execution_count": 521,
   "metadata": {},
   "outputs": [
    {
     "data": {
      "text/plain": [
       "array([0, 0, 1, 0, 1, 1, 0, 0, 1, 1, 1, 0, 1, 1, 0, 1, 0, 1, 0, 1, 0, 0,\n",
       "       0, 0, 0, 1, 1, 0, 1, 0, 1, 0, 1, 0, 0, 0, 1, 1, 0, 0, 1, 1, 1, 0,\n",
       "       0, 0, 1, 1, 0, 0, 1, 1, 1, 1, 0, 1, 1, 0, 1, 0, 0, 1, 1, 1, 0, 1,\n",
       "       0, 1, 1, 1, 1, 0, 0, 1, 1, 1, 1, 0, 0, 0, 1, 0, 0, 1, 0, 0, 1, 1,\n",
       "       1, 1, 1, 0, 0, 1, 0, 0, 1, 1, 0, 0, 0, 0, 1, 1, 0, 0, 0, 1, 1, 1,\n",
       "       0, 0, 0, 0, 0, 0, 1, 1, 1, 0, 1, 0, 1, 0, 1, 1, 1, 1, 0, 0, 1, 1,\n",
       "       1, 0, 1, 0, 1, 1, 0, 0, 0, 1, 1, 0, 0, 0, 1, 0, 0, 0, 1, 0, 0, 0,\n",
       "       1, 0, 1, 0, 0, 1, 1, 1, 1, 0, 0, 1, 1, 0, 1, 1, 0, 0, 0, 0, 1, 0,\n",
       "       1, 1, 1, 0], dtype=object)"
      ]
     },
     "execution_count": 521,
     "metadata": {},
     "output_type": "execute_result"
    }
   ],
   "source": [
    "Y_train_1_full"
   ]
  },
  {
   "cell_type": "code",
   "execution_count": 522,
   "metadata": {},
   "outputs": [],
   "source": [
    "Y_train_1_full = list(Y_train_1_full)"
   ]
  },
  {
   "cell_type": "code",
   "execution_count": 225,
   "metadata": {},
   "outputs": [],
   "source": [
    "X_test_1 = XY_test_1[:,0]"
   ]
  },
  {
   "cell_type": "code",
   "execution_count": 226,
   "metadata": {},
   "outputs": [],
   "source": [
    "X_test_1 = list(X_test_1)"
   ]
  },
  {
   "cell_type": "code",
   "execution_count": 227,
   "metadata": {},
   "outputs": [],
   "source": [
    "Y_test_1 = XY_test_1[:,1]"
   ]
  },
  {
   "cell_type": "code",
   "execution_count": 228,
   "metadata": {},
   "outputs": [],
   "source": [
    "Y_test_1 = list(Y_test_1)"
   ]
  },
  {
   "cell_type": "code",
   "execution_count": 229,
   "metadata": {},
   "outputs": [
    {
     "data": {
      "text/plain": [
       "580"
      ]
     },
     "execution_count": 229,
     "metadata": {},
     "output_type": "execute_result"
    }
   ],
   "source": [
    "len(Y_test_1)"
   ]
  },
  {
   "cell_type": "code",
   "execution_count": 523,
   "metadata": {},
   "outputs": [],
   "source": [
    "clf = sklearn.linear_model.LogisticRegression()"
   ]
  },
  {
   "cell_type": "code",
   "execution_count": 524,
   "metadata": {},
   "outputs": [
    {
     "name": "stderr",
     "output_type": "stream",
     "text": [
      "/anaconda2/envs/scaper/lib/python3.6/site-packages/sklearn/linear_model/logistic.py:433: FutureWarning: Default solver will be changed to 'lbfgs' in 0.22. Specify a solver to silence this warning.\n",
      "  FutureWarning)\n"
     ]
    },
    {
     "data": {
      "text/plain": [
       "LogisticRegression(C=1.0, class_weight=None, dual=False, fit_intercept=True,\n",
       "          intercept_scaling=1, max_iter=100, multi_class='warn',\n",
       "          n_jobs=None, penalty='l2', random_state=None, solver='warn',\n",
       "          tol=0.0001, verbose=0, warm_start=False)"
      ]
     },
     "execution_count": 524,
     "metadata": {},
     "output_type": "execute_result"
    }
   ],
   "source": [
    "clf.fit(X_train_1_full, Y_train_1_full)"
   ]
  },
  {
   "cell_type": "code",
   "execution_count": 525,
   "metadata": {},
   "outputs": [
    {
     "data": {
      "text/plain": [
       "array([1, 0, 0, 0, 0, 0, 1, 0, 1, 0, 1, 1, 1, 0, 1, 0, 0, 0, 1, 1, 0, 1,\n",
       "       0, 0, 0, 1, 1, 0, 0, 0, 1, 0, 0, 0, 1, 0, 0, 1, 1, 0, 1, 0, 1, 1,\n",
       "       0, 0, 1, 1, 1, 0, 1, 0, 0, 0, 1, 1, 1, 0, 0, 1, 0, 0, 1, 1, 1, 0,\n",
       "       0, 0, 1, 0, 1, 0, 1, 0, 1, 0, 1, 0, 1, 0, 0, 1, 1, 0, 0, 1, 0, 0,\n",
       "       1, 1, 1, 0, 0, 1, 0, 0, 0, 1, 0, 1, 1, 1, 0, 1, 0, 1, 1, 0, 1, 1,\n",
       "       0, 0, 1, 1, 0, 0, 1, 1, 0, 0, 0, 0, 0, 0, 1, 0, 0, 0, 0, 0, 0, 0,\n",
       "       0, 0, 1, 0, 0, 1, 1, 0, 0, 1, 1, 0, 0, 0, 1, 1, 0, 1, 0, 1, 0, 0,\n",
       "       0, 1, 1, 0, 0, 0, 1, 1, 0, 0, 1, 1, 1, 1, 1, 0, 1, 1, 0, 1, 0, 0,\n",
       "       0, 0, 0, 0, 1, 1, 1, 1, 1, 0, 0, 1, 0, 0, 0, 1, 0, 0, 0, 1, 1, 1,\n",
       "       0, 1, 0, 1, 0, 0, 0, 1, 1, 0, 1, 1, 0, 1, 1, 0, 0, 0, 1, 1, 1, 1,\n",
       "       0, 0, 0, 0, 1, 1, 1, 0, 0, 0, 0, 0, 0, 0, 1, 0, 0, 0, 0, 0, 1, 1,\n",
       "       1, 1, 0, 1, 1, 0, 1, 0, 1, 0, 0, 0, 0, 1, 0, 1, 0, 0, 1, 0, 1, 1,\n",
       "       1, 1, 0, 0, 1, 1, 1, 1, 1, 1, 0, 1, 1, 0, 0, 0, 0, 0, 0, 0, 1, 1,\n",
       "       0, 1, 1, 1, 1, 0, 1, 0, 0, 1, 1, 1, 0, 1, 1, 1, 0, 1, 0, 1, 0, 0,\n",
       "       0, 1, 0, 0, 1, 1, 1, 1, 1, 0, 1, 1, 1, 1, 0, 0, 1, 1, 1, 0, 0, 0,\n",
       "       0, 1, 1, 0, 0, 0, 0, 1, 0, 1, 0, 0, 0, 0, 0, 0, 0, 0, 0, 0, 0, 0,\n",
       "       1, 0, 0, 1, 1, 1, 1, 0, 1, 0, 0, 0, 0, 0, 0, 1, 1, 0, 0, 0, 0, 0,\n",
       "       1, 1, 1, 0, 0, 0, 0, 1, 1, 0, 1, 0, 0, 1, 1, 0, 0, 1, 1, 0, 0, 0,\n",
       "       0, 1, 0, 0, 1, 0, 1, 0, 1, 1, 1, 0, 1, 1, 1, 0, 1, 1, 1, 0, 0, 1,\n",
       "       1, 1, 0, 1, 0, 1, 0, 1, 1, 0, 1, 1, 1, 0, 0, 0, 0, 1, 0, 1, 1, 0,\n",
       "       0, 0, 1, 0, 1, 1, 0, 0, 1, 0, 1, 1, 0, 1, 0, 1, 0, 0, 0, 0, 0, 1,\n",
       "       1, 0, 0, 0, 1, 1, 1, 1, 0, 1, 1, 1, 0, 0, 0, 0, 0, 0, 1, 0, 0, 1,\n",
       "       0, 1, 1, 0, 0, 0, 1, 1, 0, 0, 1, 0, 1, 0, 1, 1, 1, 1, 0, 0, 1, 0,\n",
       "       0, 0, 0, 0, 0, 0, 1, 0, 1, 0, 0, 1, 1, 1, 0, 0, 0, 0, 0, 0, 1, 1,\n",
       "       1, 0, 1, 0, 1, 1, 0, 1, 0, 0, 1, 0, 1, 0, 0, 0, 1, 0, 0, 1, 0, 0,\n",
       "       1, 0, 1, 0, 1, 0, 0, 0, 1, 1, 0, 0, 0, 0, 0, 0, 0, 1, 0, 1, 0, 1,\n",
       "       1, 1, 1, 1, 1, 0, 1, 1])"
      ]
     },
     "execution_count": 525,
     "metadata": {},
     "output_type": "execute_result"
    }
   ],
   "source": [
    "clf.predict(X_test_1)"
   ]
  },
  {
   "cell_type": "code",
   "execution_count": 526,
   "metadata": {},
   "outputs": [
    {
     "data": {
      "text/plain": [
       "0.6775862068965517"
      ]
     },
     "execution_count": 526,
     "metadata": {},
     "output_type": "execute_result"
    }
   ],
   "source": [
    "clf.score(X_test_1, Y_test_1)"
   ]
  },
  {
   "cell_type": "markdown",
   "metadata": {},
   "source": [
    "## 2"
   ]
  },
  {
   "cell_type": "code",
   "execution_count": 527,
   "metadata": {},
   "outputs": [],
   "source": [
    "X_train_2_full = XY_train_2_full[:,0]"
   ]
  },
  {
   "cell_type": "code",
   "execution_count": 528,
   "metadata": {},
   "outputs": [
    {
     "data": {
      "text/plain": [
       "(180,)"
      ]
     },
     "execution_count": 528,
     "metadata": {},
     "output_type": "execute_result"
    }
   ],
   "source": [
    "X_train_2_full.shape"
   ]
  },
  {
   "cell_type": "code",
   "execution_count": 529,
   "metadata": {},
   "outputs": [],
   "source": [
    "X_train_2_full = list(X_train_2_full)"
   ]
  },
  {
   "cell_type": "code",
   "execution_count": 530,
   "metadata": {},
   "outputs": [],
   "source": [
    "Y_train_2_full = XY_train_2_full[:,1]"
   ]
  },
  {
   "cell_type": "code",
   "execution_count": 531,
   "metadata": {},
   "outputs": [
    {
     "data": {
      "text/plain": [
       "array([1, 1, 0, 1, 0, 1, 1, 1, 1, 0, 0, 1, 0, 0, 1, 1, 1, 1, 0, 1, 0, 0,\n",
       "       1, 1, 1, 1, 0, 1, 0, 1, 0, 1, 1, 1, 0, 0, 1, 0, 1, 0, 1, 0, 0, 0,\n",
       "       1, 1, 0, 1, 1, 0, 1, 0, 1, 0, 0, 1, 1, 1, 0, 0, 1, 1, 0, 1, 0, 1,\n",
       "       0, 1, 1, 1, 1, 1, 1, 0, 0, 1, 0, 0, 0, 0, 0, 0, 0, 1, 0, 0, 0, 0,\n",
       "       0, 0, 1, 0, 1, 1, 0, 1, 0, 1, 0, 0, 1, 0, 0, 0, 0, 1, 0, 0, 0, 1,\n",
       "       1, 0, 1, 0, 1, 1, 1, 0, 1, 0, 0, 0, 1, 0, 0, 0, 0, 1, 1, 1, 1, 1,\n",
       "       0, 1, 1, 1, 1, 0, 0, 0, 0, 1, 1, 0, 0, 0, 1, 1, 1, 1, 0, 0, 0, 0,\n",
       "       1, 1, 1, 0, 0, 0, 1, 1, 0, 0, 1, 0, 0, 1, 0, 0, 1, 0, 1, 0, 1, 1,\n",
       "       1, 1, 0, 1], dtype=object)"
      ]
     },
     "execution_count": 531,
     "metadata": {},
     "output_type": "execute_result"
    }
   ],
   "source": [
    "Y_train_2_full"
   ]
  },
  {
   "cell_type": "code",
   "execution_count": 532,
   "metadata": {},
   "outputs": [],
   "source": [
    "Y_train_2_full = list(Y_train_2_full)"
   ]
  },
  {
   "cell_type": "code",
   "execution_count": 241,
   "metadata": {},
   "outputs": [],
   "source": [
    "X_test_2 = XY_test_2[:,0]"
   ]
  },
  {
   "cell_type": "code",
   "execution_count": 242,
   "metadata": {},
   "outputs": [],
   "source": [
    "X_test_2 = list(X_test_2)"
   ]
  },
  {
   "cell_type": "code",
   "execution_count": 243,
   "metadata": {},
   "outputs": [],
   "source": [
    "Y_test_2 = XY_test_2[:,1]"
   ]
  },
  {
   "cell_type": "code",
   "execution_count": 244,
   "metadata": {},
   "outputs": [],
   "source": [
    "Y_test_2 = list(Y_test_2)"
   ]
  },
  {
   "cell_type": "code",
   "execution_count": 245,
   "metadata": {},
   "outputs": [
    {
     "data": {
      "text/plain": [
       "580"
      ]
     },
     "execution_count": 245,
     "metadata": {},
     "output_type": "execute_result"
    }
   ],
   "source": [
    "len(Y_test_2)"
   ]
  },
  {
   "cell_type": "code",
   "execution_count": 533,
   "metadata": {},
   "outputs": [],
   "source": [
    "clf = sklearn.linear_model.LogisticRegression()"
   ]
  },
  {
   "cell_type": "code",
   "execution_count": 534,
   "metadata": {},
   "outputs": [
    {
     "name": "stderr",
     "output_type": "stream",
     "text": [
      "/anaconda2/envs/scaper/lib/python3.6/site-packages/sklearn/linear_model/logistic.py:433: FutureWarning: Default solver will be changed to 'lbfgs' in 0.22. Specify a solver to silence this warning.\n",
      "  FutureWarning)\n"
     ]
    },
    {
     "data": {
      "text/plain": [
       "LogisticRegression(C=1.0, class_weight=None, dual=False, fit_intercept=True,\n",
       "          intercept_scaling=1, max_iter=100, multi_class='warn',\n",
       "          n_jobs=None, penalty='l2', random_state=None, solver='warn',\n",
       "          tol=0.0001, verbose=0, warm_start=False)"
      ]
     },
     "execution_count": 534,
     "metadata": {},
     "output_type": "execute_result"
    }
   ],
   "source": [
    "clf.fit(X_train_2_full, Y_train_2_full)"
   ]
  },
  {
   "cell_type": "code",
   "execution_count": 535,
   "metadata": {},
   "outputs": [
    {
     "data": {
      "text/plain": [
       "array([0, 0, 1, 0, 1, 0, 0, 0, 0, 0, 1, 1, 0, 0, 1, 1, 1, 1, 0, 0, 0, 0,\n",
       "       0, 1, 0, 1, 0, 1, 0, 0, 0, 0, 0, 0, 0, 1, 0, 0, 0, 0, 0, 0, 1, 1,\n",
       "       0, 1, 1, 1, 1, 0, 1, 0, 0, 0, 0, 1, 0, 1, 1, 1, 1, 1, 0, 0, 0, 1,\n",
       "       1, 0, 0, 0, 1, 0, 1, 1, 1, 0, 1, 1, 0, 1, 1, 1, 0, 0, 1, 0, 0, 0,\n",
       "       1, 0, 1, 1, 1, 0, 0, 0, 0, 0, 0, 0, 1, 1, 0, 0, 0, 0, 0, 1, 1, 0,\n",
       "       0, 0, 0, 0, 1, 0, 1, 0, 1, 1, 0, 1, 0, 0, 0, 1, 1, 1, 1, 1, 0, 1,\n",
       "       1, 1, 1, 1, 1, 0, 0, 0, 0, 1, 0, 0, 0, 0, 0, 1, 0, 0, 1, 0, 0, 1,\n",
       "       0, 1, 1, 0, 1, 0, 1, 1, 1, 0, 0, 1, 1, 0, 0, 1, 1, 0, 1, 1, 0, 0,\n",
       "       0, 0, 0, 0, 0, 1, 0, 0, 0, 1, 0, 1, 1, 1, 0, 0, 1, 1, 0, 0, 1, 0,\n",
       "       1, 1, 0, 1, 1, 0, 1, 1, 0, 0, 0, 0, 1, 1, 1, 1, 0, 1, 0, 0, 1, 0,\n",
       "       0, 1, 1, 0, 0, 1, 0, 0, 1, 0, 1, 1, 0, 1, 0, 0, 0, 0, 0, 0, 1, 0,\n",
       "       1, 0, 0, 1, 1, 1, 1, 0, 1, 0, 1, 0, 1, 0, 1, 0, 1, 1, 0, 1, 1, 0,\n",
       "       0, 0, 0, 1, 0, 0, 0, 0, 1, 0, 1, 0, 0, 0, 0, 1, 1, 0, 1, 1, 0, 0,\n",
       "       0, 0, 0, 0, 1, 0, 0, 1, 1, 0, 0, 1, 1, 0, 0, 1, 0, 1, 0, 0, 1, 1,\n",
       "       1, 1, 1, 1, 1, 0, 0, 1, 1, 0, 0, 0, 1, 0, 1, 0, 0, 0, 0, 1, 0, 1,\n",
       "       0, 1, 0, 0, 0, 1, 1, 1, 0, 0, 1, 1, 0, 0, 1, 0, 1, 0, 0, 1, 1, 0,\n",
       "       0, 1, 0, 0, 0, 1, 0, 1, 0, 0, 1, 1, 1, 1, 0, 1, 1, 1, 1, 0, 1, 0,\n",
       "       0, 1, 0, 0, 1, 0, 0, 1, 0, 1, 0, 0, 1, 1, 0, 0, 1, 1, 0, 0, 0, 1,\n",
       "       0, 0, 1, 1, 0, 1, 0, 0, 0, 1, 0, 0, 0, 0, 0, 1, 1, 0, 0, 1, 0, 1,\n",
       "       1, 0, 0, 0, 1, 0, 1, 0, 1, 0, 0, 0, 1, 1, 0, 1, 1, 1, 0, 0, 0, 0,\n",
       "       0, 0, 0, 0, 0, 1, 1, 0, 0, 0, 1, 1, 1, 0, 1, 0, 0, 0, 1, 1, 0, 1,\n",
       "       0, 1, 1, 0, 0, 0, 0, 0, 1, 0, 0, 0, 0, 1, 1, 0, 0, 0, 0, 1, 0, 1,\n",
       "       1, 1, 1, 0, 0, 0, 1, 1, 1, 1, 1, 0, 0, 1, 1, 1, 1, 1, 1, 0, 1, 1,\n",
       "       1, 0, 0, 1, 1, 0, 1, 0, 1, 0, 1, 0, 0, 1, 0, 1, 1, 1, 1, 1, 0, 1,\n",
       "       0, 1, 1, 1, 0, 1, 1, 0, 0, 1, 1, 0, 0, 0, 1, 0, 1, 1, 1, 0, 0, 0,\n",
       "       1, 0, 0, 1, 0, 0, 1, 0, 1, 1, 0, 0, 1, 1, 1, 1, 0, 1, 0, 0, 0, 0,\n",
       "       1, 0, 0, 0, 1, 0, 0, 0])"
      ]
     },
     "execution_count": 535,
     "metadata": {},
     "output_type": "execute_result"
    }
   ],
   "source": [
    "clf.predict(X_test_2)"
   ]
  },
  {
   "cell_type": "code",
   "execution_count": 536,
   "metadata": {},
   "outputs": [
    {
     "data": {
      "text/plain": [
       "0.7155172413793104"
      ]
     },
     "execution_count": 536,
     "metadata": {},
     "output_type": "execute_result"
    }
   ],
   "source": [
    "clf.score(X_test_2, Y_test_2)"
   ]
  },
  {
   "cell_type": "markdown",
   "metadata": {},
   "source": [
    "## 3"
   ]
  },
  {
   "cell_type": "code",
   "execution_count": 537,
   "metadata": {},
   "outputs": [],
   "source": [
    "X_train_3_full = XY_train_3_full[:,0]"
   ]
  },
  {
   "cell_type": "code",
   "execution_count": 538,
   "metadata": {},
   "outputs": [
    {
     "data": {
      "text/plain": [
       "(180,)"
      ]
     },
     "execution_count": 538,
     "metadata": {},
     "output_type": "execute_result"
    }
   ],
   "source": [
    "X_train_3_full.shape"
   ]
  },
  {
   "cell_type": "code",
   "execution_count": 539,
   "metadata": {},
   "outputs": [],
   "source": [
    "X_train_3_full = list(X_train_3_full)"
   ]
  },
  {
   "cell_type": "code",
   "execution_count": 540,
   "metadata": {},
   "outputs": [],
   "source": [
    "Y_train_3_full = XY_train_3_full[:,1]"
   ]
  },
  {
   "cell_type": "code",
   "execution_count": 541,
   "metadata": {},
   "outputs": [
    {
     "data": {
      "text/plain": [
       "array([0, 0, 1, 0, 0, 0, 1, 0, 0, 1, 1, 0, 0, 1, 1, 1, 1, 0, 1, 1, 0, 0,\n",
       "       0, 0, 1, 1, 1, 0, 1, 1, 1, 0, 0, 0, 0, 0, 1, 1, 1, 1, 0, 0, 1, 1,\n",
       "       0, 1, 0, 1, 0, 0, 1, 0, 1, 0, 0, 0, 1, 0, 0, 1, 0, 1, 1, 1, 1, 1,\n",
       "       0, 1, 0, 0, 0, 1, 0, 0, 0, 1, 1, 1, 1, 1, 0, 0, 0, 0, 0, 1, 1, 0,\n",
       "       1, 1, 0, 1, 1, 1, 0, 0, 0, 0, 0, 1, 0, 1, 0, 0, 1, 1, 1, 0, 0, 1,\n",
       "       0, 1, 0, 1, 1, 1, 0, 1, 0, 0, 1, 1, 0, 1, 1, 1, 1, 0, 1, 1, 1, 1,\n",
       "       1, 0, 1, 1, 1, 0, 1, 1, 0, 0, 1, 0, 0, 0, 1, 0, 0, 0, 0, 1, 1, 1,\n",
       "       0, 1, 1, 0, 1, 0, 0, 1, 0, 0, 0, 1, 0, 1, 1, 0, 1, 1, 1, 0, 0, 0,\n",
       "       0, 0, 1, 0], dtype=object)"
      ]
     },
     "execution_count": 541,
     "metadata": {},
     "output_type": "execute_result"
    }
   ],
   "source": [
    "Y_train_3_full"
   ]
  },
  {
   "cell_type": "code",
   "execution_count": 542,
   "metadata": {},
   "outputs": [],
   "source": [
    "Y_train_3_full = list(Y_train_3_full)"
   ]
  },
  {
   "cell_type": "code",
   "execution_count": 256,
   "metadata": {},
   "outputs": [],
   "source": [
    "X_test_3 = XY_test_3[:,0]"
   ]
  },
  {
   "cell_type": "code",
   "execution_count": 257,
   "metadata": {},
   "outputs": [],
   "source": [
    "X_test_3 = list(X_test_3)"
   ]
  },
  {
   "cell_type": "code",
   "execution_count": 258,
   "metadata": {},
   "outputs": [],
   "source": [
    "Y_test_3 = XY_test_3[:,1]"
   ]
  },
  {
   "cell_type": "code",
   "execution_count": 259,
   "metadata": {},
   "outputs": [],
   "source": [
    "Y_test_3 = list(Y_test_3)"
   ]
  },
  {
   "cell_type": "code",
   "execution_count": 260,
   "metadata": {},
   "outputs": [
    {
     "data": {
      "text/plain": [
       "580"
      ]
     },
     "execution_count": 260,
     "metadata": {},
     "output_type": "execute_result"
    }
   ],
   "source": [
    "len(Y_test_3)"
   ]
  },
  {
   "cell_type": "code",
   "execution_count": 543,
   "metadata": {},
   "outputs": [],
   "source": [
    "clf = sklearn.linear_model.LogisticRegression()"
   ]
  },
  {
   "cell_type": "code",
   "execution_count": 544,
   "metadata": {},
   "outputs": [
    {
     "name": "stderr",
     "output_type": "stream",
     "text": [
      "/anaconda2/envs/scaper/lib/python3.6/site-packages/sklearn/linear_model/logistic.py:433: FutureWarning: Default solver will be changed to 'lbfgs' in 0.22. Specify a solver to silence this warning.\n",
      "  FutureWarning)\n"
     ]
    },
    {
     "data": {
      "text/plain": [
       "LogisticRegression(C=1.0, class_weight=None, dual=False, fit_intercept=True,\n",
       "          intercept_scaling=1, max_iter=100, multi_class='warn',\n",
       "          n_jobs=None, penalty='l2', random_state=None, solver='warn',\n",
       "          tol=0.0001, verbose=0, warm_start=False)"
      ]
     },
     "execution_count": 544,
     "metadata": {},
     "output_type": "execute_result"
    }
   ],
   "source": [
    "clf.fit(X_train_3_full, Y_train_3_full)"
   ]
  },
  {
   "cell_type": "code",
   "execution_count": 545,
   "metadata": {},
   "outputs": [
    {
     "data": {
      "text/plain": [
       "array([0, 1, 0, 1, 0, 0, 0, 0, 0, 1, 0, 1, 0, 1, 1, 0, 1, 1, 0, 0, 0, 1,\n",
       "       1, 0, 0, 1, 1, 0, 0, 1, 0, 1, 0, 0, 0, 0, 1, 1, 0, 1, 1, 0, 1, 0,\n",
       "       1, 0, 1, 0, 1, 0, 0, 0, 1, 0, 1, 0, 1, 0, 1, 1, 0, 1, 0, 0, 1, 0,\n",
       "       1, 0, 1, 0, 0, 1, 0, 1, 0, 1, 0, 0, 0, 1, 0, 1, 0, 0, 1, 0, 1, 0,\n",
       "       0, 0, 1, 0, 0, 1, 1, 0, 0, 1, 1, 1, 0, 0, 0, 0, 1, 1, 0, 0, 1, 0,\n",
       "       1, 1, 0, 1, 0, 0, 0, 0, 1, 1, 1, 0, 1, 0, 0, 0, 0, 0, 1, 1, 0, 1,\n",
       "       1, 1, 1, 1, 1, 1, 0, 1, 0, 1, 1, 0, 0, 1, 1, 0, 1, 1, 0, 0, 1, 1,\n",
       "       1, 1, 1, 0, 0, 1, 1, 1, 0, 0, 0, 0, 1, 0, 0, 1, 1, 0, 0, 0, 1, 0,\n",
       "       1, 1, 1, 0, 0, 1, 0, 1, 0, 0, 0, 1, 0, 0, 1, 1, 0, 1, 0, 1, 1, 0,\n",
       "       1, 1, 1, 0, 1, 1, 0, 0, 1, 0, 1, 1, 0, 0, 0, 0, 0, 0, 0, 0, 0, 0,\n",
       "       0, 1, 0, 0, 0, 0, 1, 0, 0, 1, 0, 1, 1, 0, 0, 1, 1, 0, 1, 0, 1, 1,\n",
       "       0, 1, 0, 1, 1, 1, 0, 1, 0, 0, 0, 1, 1, 1, 1, 1, 0, 1, 0, 1, 1, 1,\n",
       "       1, 1, 0, 1, 1, 0, 0, 0, 0, 1, 1, 1, 1, 1, 0, 0, 1, 1, 1, 0, 0, 1,\n",
       "       1, 1, 0, 1, 0, 1, 1, 1, 0, 0, 0, 1, 0, 1, 0, 1, 0, 1, 1, 0, 0, 0,\n",
       "       1, 1, 1, 1, 0, 1, 1, 1, 0, 0, 1, 0, 0, 0, 1, 1, 0, 1, 0, 0, 1, 1,\n",
       "       1, 1, 0, 0, 1, 1, 0, 1, 0, 1, 1, 1, 1, 1, 1, 1, 1, 0, 0, 1, 0, 1,\n",
       "       1, 0, 0, 1, 1, 1, 0, 0, 0, 0, 1, 1, 0, 1, 1, 0, 0, 0, 0, 1, 0, 0,\n",
       "       0, 0, 1, 0, 1, 1, 0, 1, 1, 0, 1, 0, 1, 0, 1, 1, 0, 0, 0, 0, 0, 0,\n",
       "       1, 0, 1, 1, 0, 1, 0, 0, 0, 0, 0, 1, 1, 1, 1, 0, 1, 0, 1, 0, 0, 1,\n",
       "       1, 0, 1, 1, 1, 1, 1, 0, 1, 1, 0, 0, 0, 1, 1, 0, 0, 0, 0, 1, 0, 1,\n",
       "       1, 0, 1, 1, 1, 0, 1, 1, 0, 1, 1, 0, 0, 1, 1, 0, 1, 1, 0, 0, 1, 1,\n",
       "       0, 0, 1, 1, 0, 0, 1, 1, 1, 1, 0, 0, 0, 1, 0, 0, 0, 0, 1, 0, 0, 0,\n",
       "       1, 0, 1, 0, 0, 0, 0, 0, 1, 1, 0, 1, 1, 0, 1, 1, 0, 0, 1, 0, 1, 1,\n",
       "       0, 1, 1, 1, 1, 0, 0, 0, 0, 0, 1, 0, 0, 1, 0, 0, 1, 1, 1, 1, 1, 0,\n",
       "       1, 0, 0, 0, 0, 0, 1, 1, 0, 1, 1, 1, 0, 1, 0, 0, 0, 1, 1, 0, 1, 0,\n",
       "       0, 0, 1, 1, 0, 0, 0, 1, 1, 1, 0, 1, 1, 0, 0, 0, 0, 1, 0, 1, 1, 0,\n",
       "       0, 1, 0, 1, 1, 1, 1, 1])"
      ]
     },
     "execution_count": 545,
     "metadata": {},
     "output_type": "execute_result"
    }
   ],
   "source": [
    "clf.predict(X_test_3)"
   ]
  },
  {
   "cell_type": "code",
   "execution_count": 546,
   "metadata": {},
   "outputs": [
    {
     "data": {
      "text/plain": [
       "0.6689655172413793"
      ]
     },
     "execution_count": 546,
     "metadata": {},
     "output_type": "execute_result"
    }
   ],
   "source": [
    "clf.score(X_test_3, Y_test_3)"
   ]
  },
  {
   "cell_type": "markdown",
   "metadata": {},
   "source": [
    "## 4"
   ]
  },
  {
   "cell_type": "code",
   "execution_count": 547,
   "metadata": {},
   "outputs": [],
   "source": [
    "X_train_4_full = XY_train_4_full[:,0]"
   ]
  },
  {
   "cell_type": "code",
   "execution_count": 548,
   "metadata": {},
   "outputs": [
    {
     "data": {
      "text/plain": [
       "(180,)"
      ]
     },
     "execution_count": 548,
     "metadata": {},
     "output_type": "execute_result"
    }
   ],
   "source": [
    "X_train_4_full.shape"
   ]
  },
  {
   "cell_type": "code",
   "execution_count": 549,
   "metadata": {},
   "outputs": [],
   "source": [
    "X_train_4_full = list(X_train_4_full)"
   ]
  },
  {
   "cell_type": "code",
   "execution_count": 550,
   "metadata": {},
   "outputs": [],
   "source": [
    "Y_train_4_full = XY_train_4_full[:,1]"
   ]
  },
  {
   "cell_type": "code",
   "execution_count": 551,
   "metadata": {},
   "outputs": [
    {
     "data": {
      "text/plain": [
       "array([1, 0, 0, 0, 0, 1, 0, 0, 0, 1, 0, 0, 0, 1, 1, 0, 1, 1, 0, 1, 0, 1,\n",
       "       1, 0, 1, 1, 0, 0, 0, 1, 1, 0, 1, 0, 1, 1, 1, 0, 0, 1, 1, 1, 1, 1,\n",
       "       1, 1, 0, 0, 1, 0, 0, 1, 0, 0, 0, 1, 1, 1, 1, 0, 1, 0, 0, 0, 0, 1,\n",
       "       1, 1, 1, 0, 1, 0, 0, 1, 1, 1, 0, 1, 0, 1, 1, 1, 1, 0, 1, 0, 0, 0,\n",
       "       0, 1, 1, 0, 0, 0, 1, 0, 1, 0, 0, 0, 0, 1, 1, 0, 0, 0, 0, 0, 1, 1,\n",
       "       1, 0, 1, 1, 1, 1, 1, 1, 1, 1, 1, 0, 0, 1, 1, 0, 0, 0, 1, 1, 1, 0,\n",
       "       0, 0, 1, 0, 0, 1, 1, 0, 1, 0, 0, 0, 1, 1, 0, 0, 1, 1, 0, 0, 1, 0,\n",
       "       0, 0, 1, 0, 1, 0, 1, 0, 1, 1, 0, 0, 0, 0, 1, 0, 1, 1, 1, 1, 0, 0,\n",
       "       1, 1, 0, 0], dtype=object)"
      ]
     },
     "execution_count": 551,
     "metadata": {},
     "output_type": "execute_result"
    }
   ],
   "source": [
    "Y_train_4_full"
   ]
  },
  {
   "cell_type": "code",
   "execution_count": 552,
   "metadata": {},
   "outputs": [],
   "source": [
    "Y_train_4_full = list(Y_train_4_full)"
   ]
  },
  {
   "cell_type": "code",
   "execution_count": 271,
   "metadata": {},
   "outputs": [],
   "source": [
    "X_test_4 = XY_test_4[:,0]"
   ]
  },
  {
   "cell_type": "code",
   "execution_count": 272,
   "metadata": {},
   "outputs": [],
   "source": [
    "X_test_4 = list(X_test_4)"
   ]
  },
  {
   "cell_type": "code",
   "execution_count": 273,
   "metadata": {},
   "outputs": [],
   "source": [
    "Y_test_4 = XY_test_4[:,1]"
   ]
  },
  {
   "cell_type": "code",
   "execution_count": 274,
   "metadata": {},
   "outputs": [],
   "source": [
    "Y_test_4 = list(Y_test_4)"
   ]
  },
  {
   "cell_type": "code",
   "execution_count": 275,
   "metadata": {},
   "outputs": [
    {
     "data": {
      "text/plain": [
       "580"
      ]
     },
     "execution_count": 275,
     "metadata": {},
     "output_type": "execute_result"
    }
   ],
   "source": [
    "len(Y_test_4)"
   ]
  },
  {
   "cell_type": "code",
   "execution_count": 553,
   "metadata": {},
   "outputs": [],
   "source": [
    "clf = sklearn.linear_model.LogisticRegression()"
   ]
  },
  {
   "cell_type": "code",
   "execution_count": 554,
   "metadata": {},
   "outputs": [
    {
     "name": "stderr",
     "output_type": "stream",
     "text": [
      "/anaconda2/envs/scaper/lib/python3.6/site-packages/sklearn/linear_model/logistic.py:433: FutureWarning: Default solver will be changed to 'lbfgs' in 0.22. Specify a solver to silence this warning.\n",
      "  FutureWarning)\n"
     ]
    },
    {
     "data": {
      "text/plain": [
       "LogisticRegression(C=1.0, class_weight=None, dual=False, fit_intercept=True,\n",
       "          intercept_scaling=1, max_iter=100, multi_class='warn',\n",
       "          n_jobs=None, penalty='l2', random_state=None, solver='warn',\n",
       "          tol=0.0001, verbose=0, warm_start=False)"
      ]
     },
     "execution_count": 554,
     "metadata": {},
     "output_type": "execute_result"
    }
   ],
   "source": [
    "clf.fit(X_train_4_full, Y_train_4_full)"
   ]
  },
  {
   "cell_type": "code",
   "execution_count": 555,
   "metadata": {},
   "outputs": [
    {
     "data": {
      "text/plain": [
       "array([1, 0, 1, 0, 1, 0, 0, 0, 1, 0, 0, 0, 1, 0, 0, 1, 0, 0, 0, 0, 1, 0,\n",
       "       0, 0, 0, 0, 0, 1, 1, 1, 0, 1, 1, 0, 0, 1, 0, 0, 1, 1, 1, 1, 0, 1,\n",
       "       0, 0, 1, 1, 0, 0, 0, 1, 1, 1, 0, 0, 0, 0, 1, 1, 0, 1, 1, 0, 0, 1,\n",
       "       0, 1, 0, 0, 0, 0, 0, 1, 1, 1, 0, 0, 1, 1, 1, 1, 1, 1, 0, 0, 0, 1,\n",
       "       0, 0, 0, 0, 0, 1, 1, 1, 0, 1, 0, 0, 1, 1, 0, 0, 1, 1, 1, 0, 1, 1,\n",
       "       1, 0, 1, 1, 0, 1, 1, 1, 0, 0, 0, 1, 0, 0, 0, 1, 1, 1, 1, 1, 1, 1,\n",
       "       0, 1, 1, 1, 1, 0, 0, 1, 1, 1, 1, 1, 1, 0, 0, 0, 1, 0, 0, 1, 1, 0,\n",
       "       1, 1, 0, 0, 1, 1, 1, 1, 1, 0, 0, 1, 1, 1, 0, 1, 1, 1, 1, 1, 0, 1,\n",
       "       1, 0, 0, 0, 0, 0, 1, 1, 0, 1, 0, 1, 1, 0, 1, 1, 1, 1, 1, 1, 1, 1,\n",
       "       1, 0, 1, 0, 0, 1, 1, 1, 1, 0, 1, 0, 1, 1, 1, 0, 0, 0, 0, 0, 0, 0,\n",
       "       1, 0, 0, 1, 1, 0, 0, 1, 0, 1, 0, 0, 0, 0, 1, 1, 1, 0, 0, 0, 1, 1,\n",
       "       0, 0, 1, 0, 1, 0, 1, 1, 0, 0, 0, 0, 0, 0, 0, 1, 1, 1, 0, 0, 0, 1,\n",
       "       0, 0, 1, 0, 0, 1, 0, 1, 1, 1, 1, 0, 1, 0, 1, 0, 0, 1, 0, 1, 0, 1,\n",
       "       1, 1, 0, 0, 1, 1, 1, 1, 0, 1, 1, 0, 1, 0, 0, 1, 1, 0, 1, 0, 0, 1,\n",
       "       1, 1, 0, 0, 1, 0, 1, 0, 1, 0, 0, 0, 1, 1, 1, 0, 0, 1, 1, 1, 0, 0,\n",
       "       1, 1, 1, 1, 1, 0, 1, 1, 0, 0, 0, 1, 1, 1, 1, 1, 1, 0, 0, 1, 0, 1,\n",
       "       0, 0, 0, 1, 0, 0, 1, 0, 0, 1, 1, 1, 1, 0, 1, 0, 0, 0, 1, 1, 1, 1,\n",
       "       1, 0, 1, 1, 1, 1, 0, 1, 0, 1, 1, 1, 1, 1, 0, 1, 0, 0, 0, 0, 0, 0,\n",
       "       1, 0, 0, 1, 0, 0, 1, 0, 1, 0, 0, 1, 0, 1, 1, 0, 0, 1, 1, 0, 0, 1,\n",
       "       0, 0, 0, 0, 0, 1, 0, 1, 1, 1, 0, 0, 0, 1, 0, 0, 0, 1, 1, 1, 0, 1,\n",
       "       1, 1, 0, 1, 0, 1, 0, 1, 0, 0, 0, 0, 1, 1, 1, 0, 0, 1, 0, 0, 0, 1,\n",
       "       0, 0, 0, 1, 0, 0, 1, 1, 1, 1, 1, 0, 1, 1, 0, 1, 0, 0, 1, 0, 0, 1,\n",
       "       0, 1, 0, 0, 0, 0, 0, 0, 1, 1, 0, 1, 0, 1, 1, 0, 1, 1, 0, 0, 0, 1,\n",
       "       0, 0, 1, 0, 1, 1, 1, 1, 1, 1, 1, 1, 0, 0, 0, 1, 0, 0, 1, 1, 1, 1,\n",
       "       0, 1, 0, 1, 1, 0, 0, 1, 0, 0, 0, 0, 1, 1, 1, 0, 1, 1, 1, 0, 0, 1,\n",
       "       0, 1, 1, 0, 1, 1, 1, 1, 0, 0, 1, 1, 1, 0, 0, 1, 1, 0, 1, 1, 0, 0,\n",
       "       1, 0, 1, 1, 0, 1, 0, 0])"
      ]
     },
     "execution_count": 555,
     "metadata": {},
     "output_type": "execute_result"
    }
   ],
   "source": [
    "clf.predict(X_test_4)"
   ]
  },
  {
   "cell_type": "code",
   "execution_count": 556,
   "metadata": {},
   "outputs": [
    {
     "data": {
      "text/plain": [
       "0.6362068965517241"
      ]
     },
     "execution_count": 556,
     "metadata": {},
     "output_type": "execute_result"
    }
   ],
   "source": [
    "clf.score(X_test_4, Y_test_4)"
   ]
  },
  {
   "cell_type": "markdown",
   "metadata": {},
   "source": [
    "## 5"
   ]
  },
  {
   "cell_type": "code",
   "execution_count": 557,
   "metadata": {},
   "outputs": [],
   "source": [
    "X_train_5_full = XY_train_5_full[:,0]"
   ]
  },
  {
   "cell_type": "code",
   "execution_count": 558,
   "metadata": {},
   "outputs": [
    {
     "data": {
      "text/plain": [
       "(180,)"
      ]
     },
     "execution_count": 558,
     "metadata": {},
     "output_type": "execute_result"
    }
   ],
   "source": [
    "X_train_5_full.shape"
   ]
  },
  {
   "cell_type": "code",
   "execution_count": 559,
   "metadata": {},
   "outputs": [],
   "source": [
    "X_train_5_full = list(X_train_5_full)"
   ]
  },
  {
   "cell_type": "code",
   "execution_count": 560,
   "metadata": {},
   "outputs": [],
   "source": [
    "Y_train_5_full = XY_train_5_full[:,1]"
   ]
  },
  {
   "cell_type": "code",
   "execution_count": 561,
   "metadata": {},
   "outputs": [
    {
     "data": {
      "text/plain": [
       "array([1, 0, 0, 1, 1, 0, 1, 0, 1, 0, 1, 1, 1, 0, 1, 0, 0, 0, 0, 0, 0, 0,\n",
       "       0, 1, 1, 1, 1, 0, 1, 1, 1, 0, 1, 0, 0, 1, 1, 1, 1, 0, 0, 0, 1, 0,\n",
       "       1, 0, 1, 0, 0, 0, 1, 0, 1, 0, 0, 1, 0, 0, 1, 0, 1, 0, 1, 1, 1, 1,\n",
       "       0, 0, 0, 0, 0, 1, 0, 1, 1, 0, 1, 0, 1, 1, 1, 1, 1, 0, 1, 1, 1, 1,\n",
       "       0, 1, 0, 0, 1, 1, 0, 0, 0, 1, 1, 0, 1, 1, 1, 0, 0, 1, 0, 0, 1, 0,\n",
       "       0, 1, 0, 0, 0, 1, 0, 0, 0, 0, 0, 1, 1, 0, 1, 0, 0, 0, 0, 0, 1, 1,\n",
       "       0, 1, 1, 1, 1, 1, 1, 1, 1, 0, 0, 1, 1, 1, 1, 0, 1, 1, 0, 0, 0, 0,\n",
       "       1, 0, 0, 0, 1, 1, 0, 1, 0, 0, 0, 0, 1, 0, 1, 1, 1, 1, 1, 0, 0, 1,\n",
       "       1, 1, 0, 0], dtype=object)"
      ]
     },
     "execution_count": 561,
     "metadata": {},
     "output_type": "execute_result"
    }
   ],
   "source": [
    "Y_train_5_full"
   ]
  },
  {
   "cell_type": "code",
   "execution_count": 562,
   "metadata": {},
   "outputs": [],
   "source": [
    "Y_train_5_full = list(Y_train_5_full)"
   ]
  },
  {
   "cell_type": "code",
   "execution_count": 286,
   "metadata": {},
   "outputs": [],
   "source": [
    "X_test_5 = XY_test_5[:,0]"
   ]
  },
  {
   "cell_type": "code",
   "execution_count": 287,
   "metadata": {},
   "outputs": [],
   "source": [
    "X_test_5 = list(X_test_5)"
   ]
  },
  {
   "cell_type": "code",
   "execution_count": 288,
   "metadata": {},
   "outputs": [],
   "source": [
    "Y_test_5 = XY_test_5[:,1]"
   ]
  },
  {
   "cell_type": "code",
   "execution_count": 289,
   "metadata": {},
   "outputs": [],
   "source": [
    "Y_test_5 = list(Y_test_5)"
   ]
  },
  {
   "cell_type": "code",
   "execution_count": 290,
   "metadata": {},
   "outputs": [
    {
     "data": {
      "text/plain": [
       "580"
      ]
     },
     "execution_count": 290,
     "metadata": {},
     "output_type": "execute_result"
    }
   ],
   "source": [
    "len(Y_test_5)"
   ]
  },
  {
   "cell_type": "code",
   "execution_count": 563,
   "metadata": {},
   "outputs": [],
   "source": [
    "clf = sklearn.linear_model.LogisticRegression()"
   ]
  },
  {
   "cell_type": "code",
   "execution_count": 564,
   "metadata": {},
   "outputs": [
    {
     "name": "stderr",
     "output_type": "stream",
     "text": [
      "/anaconda2/envs/scaper/lib/python3.6/site-packages/sklearn/linear_model/logistic.py:433: FutureWarning: Default solver will be changed to 'lbfgs' in 0.22. Specify a solver to silence this warning.\n",
      "  FutureWarning)\n"
     ]
    },
    {
     "data": {
      "text/plain": [
       "LogisticRegression(C=1.0, class_weight=None, dual=False, fit_intercept=True,\n",
       "          intercept_scaling=1, max_iter=100, multi_class='warn',\n",
       "          n_jobs=None, penalty='l2', random_state=None, solver='warn',\n",
       "          tol=0.0001, verbose=0, warm_start=False)"
      ]
     },
     "execution_count": 564,
     "metadata": {},
     "output_type": "execute_result"
    }
   ],
   "source": [
    "clf.fit(X_train_5_full, Y_train_5_full)"
   ]
  },
  {
   "cell_type": "code",
   "execution_count": 565,
   "metadata": {},
   "outputs": [
    {
     "data": {
      "text/plain": [
       "array([1, 0, 1, 1, 1, 0, 0, 0, 0, 0, 1, 0, 0, 1, 1, 1, 0, 0, 0, 0, 1, 0,\n",
       "       0, 0, 1, 1, 0, 1, 1, 0, 1, 0, 0, 0, 0, 1, 0, 0, 1, 1, 0, 0, 1, 0,\n",
       "       1, 1, 1, 0, 0, 1, 0, 0, 1, 1, 0, 1, 1, 1, 0, 1, 1, 0, 1, 1, 1, 1,\n",
       "       0, 0, 1, 0, 1, 1, 1, 1, 1, 0, 1, 0, 0, 1, 0, 0, 0, 1, 0, 0, 0, 0,\n",
       "       1, 0, 1, 0, 0, 0, 1, 1, 1, 1, 0, 0, 0, 0, 0, 0, 0, 0, 0, 1, 0, 1,\n",
       "       1, 0, 1, 0, 1, 0, 0, 1, 0, 1, 0, 1, 1, 0, 0, 1, 0, 0, 0, 1, 0, 1,\n",
       "       0, 0, 1, 0, 0, 1, 1, 1, 0, 1, 1, 0, 0, 1, 0, 1, 0, 0, 0, 0, 0, 0,\n",
       "       1, 1, 1, 1, 0, 1, 0, 0, 0, 1, 0, 1, 1, 1, 1, 1, 1, 0, 0, 0, 0, 0,\n",
       "       0, 1, 1, 1, 1, 0, 1, 1, 0, 0, 1, 1, 0, 0, 1, 0, 1, 1, 1, 0, 1, 0,\n",
       "       0, 1, 0, 0, 0, 0, 1, 1, 1, 0, 1, 0, 0, 1, 1, 0, 1, 1, 1, 0, 1, 1,\n",
       "       1, 0, 0, 1, 0, 1, 1, 1, 1, 1, 1, 0, 0, 1, 1, 1, 0, 0, 0, 0, 0, 0,\n",
       "       0, 0, 0, 0, 0, 1, 0, 0, 1, 0, 0, 1, 0, 0, 1, 0, 1, 1, 1, 1, 0, 1,\n",
       "       1, 1, 0, 1, 1, 0, 0, 0, 0, 0, 1, 1, 0, 0, 0, 0, 0, 0, 1, 0, 0, 0,\n",
       "       0, 1, 0, 0, 1, 1, 1, 0, 0, 0, 1, 0, 1, 0, 0, 0, 0, 1, 0, 0, 1, 1,\n",
       "       0, 1, 1, 1, 0, 0, 0, 1, 0, 1, 0, 0, 0, 1, 0, 1, 1, 1, 0, 1, 1, 0,\n",
       "       1, 0, 0, 0, 1, 0, 1, 0, 0, 1, 0, 1, 0, 0, 0, 0, 0, 1, 0, 1, 1, 0,\n",
       "       0, 0, 0, 0, 0, 0, 1, 1, 0, 1, 0, 0, 1, 0, 1, 0, 0, 0, 0, 0, 1, 0,\n",
       "       1, 1, 0, 0, 0, 0, 1, 1, 1, 1, 1, 0, 0, 0, 1, 1, 0, 1, 1, 1, 0, 0,\n",
       "       0, 1, 1, 0, 1, 1, 0, 1, 0, 1, 0, 0, 0, 0, 1, 1, 0, 1, 0, 0, 1, 0,\n",
       "       0, 0, 1, 0, 0, 0, 0, 0, 0, 1, 0, 1, 1, 1, 1, 0, 1, 1, 0, 1, 0, 1,\n",
       "       0, 0, 0, 0, 1, 0, 0, 1, 1, 1, 1, 1, 0, 0, 0, 1, 0, 1, 0, 0, 0, 0,\n",
       "       0, 0, 1, 0, 1, 1, 1, 0, 1, 1, 0, 0, 0, 1, 0, 0, 1, 0, 0, 0, 0, 0,\n",
       "       1, 0, 0, 1, 1, 0, 0, 0, 1, 1, 0, 0, 1, 0, 1, 0, 0, 0, 1, 1, 0, 1,\n",
       "       0, 0, 0, 0, 0, 0, 0, 0, 1, 1, 1, 1, 1, 1, 0, 1, 0, 1, 1, 1, 1, 1,\n",
       "       0, 0, 0, 0, 0, 1, 0, 0, 1, 1, 1, 1, 0, 0, 0, 0, 1, 1, 1, 1, 1, 0,\n",
       "       0, 1, 1, 1, 0, 1, 1, 1, 1, 0, 1, 0, 1, 0, 0, 1, 0, 0, 1, 1, 1, 0,\n",
       "       0, 1, 0, 0, 1, 1, 0, 1])"
      ]
     },
     "execution_count": 565,
     "metadata": {},
     "output_type": "execute_result"
    }
   ],
   "source": [
    "clf.predict(X_test_5)"
   ]
  },
  {
   "cell_type": "code",
   "execution_count": 566,
   "metadata": {},
   "outputs": [
    {
     "data": {
      "text/plain": [
       "0.6948275862068966"
      ]
     },
     "execution_count": 566,
     "metadata": {},
     "output_type": "execute_result"
    }
   ],
   "source": [
    "clf.score(X_test_5, Y_test_5)"
   ]
  },
  {
   "cell_type": "markdown",
   "metadata": {},
   "source": [
    "## 6"
   ]
  },
  {
   "cell_type": "code",
   "execution_count": 567,
   "metadata": {},
   "outputs": [],
   "source": [
    "X_train_6_full = XY_train_6_full[:,0]"
   ]
  },
  {
   "cell_type": "code",
   "execution_count": 568,
   "metadata": {},
   "outputs": [
    {
     "data": {
      "text/plain": [
       "(180,)"
      ]
     },
     "execution_count": 568,
     "metadata": {},
     "output_type": "execute_result"
    }
   ],
   "source": [
    "X_train_6_full.shape"
   ]
  },
  {
   "cell_type": "code",
   "execution_count": 569,
   "metadata": {},
   "outputs": [],
   "source": [
    "X_train_6_full = list(X_train_6_full)"
   ]
  },
  {
   "cell_type": "code",
   "execution_count": 570,
   "metadata": {},
   "outputs": [],
   "source": [
    "Y_train_6_full = XY_train_6_full[:,1]"
   ]
  },
  {
   "cell_type": "code",
   "execution_count": 571,
   "metadata": {},
   "outputs": [
    {
     "data": {
      "text/plain": [
       "array([0, 0, 0, 1, 1, 0, 0, 1, 1, 1, 1, 1, 0, 0, 0, 1, 1, 1, 1, 1, 1, 0,\n",
       "       0, 1, 0, 1, 0, 1, 1, 1, 0, 0, 1, 0, 1, 1, 0, 0, 0, 1, 1, 1, 0, 1,\n",
       "       0, 1, 0, 1, 0, 1, 0, 0, 0, 1, 0, 1, 0, 1, 1, 0, 1, 1, 1, 0, 1, 1,\n",
       "       0, 0, 0, 1, 1, 0, 1, 0, 1, 0, 0, 0, 0, 0, 1, 1, 1, 1, 0, 1, 1, 0,\n",
       "       1, 0, 1, 1, 1, 0, 0, 0, 1, 0, 1, 0, 0, 1, 1, 1, 0, 1, 0, 0, 1, 0,\n",
       "       1, 0, 0, 0, 1, 0, 0, 1, 1, 1, 0, 1, 0, 0, 1, 1, 0, 0, 1, 0, 0, 0,\n",
       "       0, 0, 1, 0, 1, 0, 0, 1, 1, 0, 0, 1, 0, 0, 0, 1, 0, 0, 0, 1, 1, 1,\n",
       "       1, 1, 1, 0, 0, 0, 0, 1, 0, 1, 1, 0, 0, 0, 1, 1, 0, 0, 1, 1, 0, 1,\n",
       "       1, 1, 1, 0], dtype=object)"
      ]
     },
     "execution_count": 571,
     "metadata": {},
     "output_type": "execute_result"
    }
   ],
   "source": [
    "Y_train_6_full"
   ]
  },
  {
   "cell_type": "code",
   "execution_count": 572,
   "metadata": {},
   "outputs": [],
   "source": [
    "Y_train_6_full = list(Y_train_6_full)"
   ]
  },
  {
   "cell_type": "code",
   "execution_count": 301,
   "metadata": {},
   "outputs": [],
   "source": [
    "X_test_6 = XY_test_6[:,0]"
   ]
  },
  {
   "cell_type": "code",
   "execution_count": 302,
   "metadata": {},
   "outputs": [],
   "source": [
    "X_test_6 = list(X_test_6)"
   ]
  },
  {
   "cell_type": "code",
   "execution_count": 303,
   "metadata": {},
   "outputs": [],
   "source": [
    "Y_test_6 = XY_test_6[:,1]"
   ]
  },
  {
   "cell_type": "code",
   "execution_count": 304,
   "metadata": {},
   "outputs": [],
   "source": [
    "Y_test_6 = list(Y_test_6)"
   ]
  },
  {
   "cell_type": "code",
   "execution_count": 305,
   "metadata": {},
   "outputs": [
    {
     "data": {
      "text/plain": [
       "580"
      ]
     },
     "execution_count": 305,
     "metadata": {},
     "output_type": "execute_result"
    }
   ],
   "source": [
    "len(Y_test_6)"
   ]
  },
  {
   "cell_type": "code",
   "execution_count": 573,
   "metadata": {},
   "outputs": [],
   "source": [
    "clf = sklearn.linear_model.LogisticRegression()"
   ]
  },
  {
   "cell_type": "code",
   "execution_count": 574,
   "metadata": {},
   "outputs": [
    {
     "name": "stderr",
     "output_type": "stream",
     "text": [
      "/anaconda2/envs/scaper/lib/python3.6/site-packages/sklearn/linear_model/logistic.py:433: FutureWarning: Default solver will be changed to 'lbfgs' in 0.22. Specify a solver to silence this warning.\n",
      "  FutureWarning)\n"
     ]
    },
    {
     "data": {
      "text/plain": [
       "LogisticRegression(C=1.0, class_weight=None, dual=False, fit_intercept=True,\n",
       "          intercept_scaling=1, max_iter=100, multi_class='warn',\n",
       "          n_jobs=None, penalty='l2', random_state=None, solver='warn',\n",
       "          tol=0.0001, verbose=0, warm_start=False)"
      ]
     },
     "execution_count": 574,
     "metadata": {},
     "output_type": "execute_result"
    }
   ],
   "source": [
    "clf.fit(X_train_6_full, Y_train_6_full)"
   ]
  },
  {
   "cell_type": "code",
   "execution_count": 575,
   "metadata": {},
   "outputs": [
    {
     "data": {
      "text/plain": [
       "array([1, 1, 1, 0, 1, 1, 0, 1, 0, 0, 1, 0, 1, 0, 0, 0, 0, 0, 0, 1, 1, 0,\n",
       "       1, 0, 0, 1, 1, 0, 0, 1, 1, 1, 0, 0, 0, 1, 0, 1, 0, 1, 1, 0, 1, 0,\n",
       "       1, 0, 1, 0, 1, 0, 0, 1, 1, 1, 1, 0, 1, 1, 0, 0, 1, 0, 0, 0, 1, 0,\n",
       "       0, 0, 0, 1, 0, 0, 0, 1, 0, 0, 1, 0, 0, 1, 0, 0, 0, 0, 0, 1, 0, 1,\n",
       "       1, 1, 0, 0, 0, 0, 1, 0, 1, 1, 1, 1, 0, 0, 1, 0, 1, 0, 0, 1, 1, 1,\n",
       "       0, 1, 0, 0, 1, 0, 0, 0, 0, 1, 1, 1, 0, 0, 1, 1, 0, 1, 1, 1, 1, 1,\n",
       "       0, 0, 1, 0, 0, 1, 1, 0, 0, 0, 1, 0, 1, 1, 0, 0, 0, 0, 1, 0, 1, 1,\n",
       "       0, 1, 0, 1, 1, 1, 1, 0, 1, 0, 0, 0, 0, 0, 0, 1, 1, 0, 1, 1, 0, 1,\n",
       "       0, 1, 1, 0, 1, 1, 0, 0, 1, 0, 0, 0, 0, 1, 0, 1, 1, 0, 1, 0, 0, 1,\n",
       "       0, 0, 0, 0, 0, 1, 1, 0, 0, 1, 1, 1, 0, 1, 0, 0, 0, 1, 1, 0, 1, 1,\n",
       "       1, 0, 1, 0, 0, 1, 0, 0, 0, 0, 0, 0, 1, 0, 0, 1, 1, 1, 1, 0, 1, 1,\n",
       "       0, 0, 0, 0, 1, 0, 0, 0, 0, 1, 0, 1, 1, 0, 1, 1, 0, 1, 1, 0, 1, 0,\n",
       "       0, 0, 0, 1, 0, 0, 0, 0, 1, 0, 0, 0, 1, 0, 1, 0, 0, 0, 1, 1, 1, 1,\n",
       "       0, 1, 0, 0, 1, 1, 0, 1, 0, 0, 1, 0, 0, 0, 1, 1, 0, 0, 1, 1, 0, 1,\n",
       "       0, 1, 0, 1, 0, 0, 0, 0, 0, 0, 0, 1, 1, 0, 0, 0, 1, 1, 0, 1, 1, 1,\n",
       "       1, 1, 1, 0, 1, 0, 0, 1, 0, 0, 0, 1, 0, 1, 1, 0, 1, 0, 1, 0, 1, 1,\n",
       "       0, 1, 1, 1, 0, 1, 0, 0, 1, 0, 1, 0, 0, 0, 0, 0, 1, 1, 0, 0, 1, 0,\n",
       "       0, 1, 0, 1, 0, 1, 1, 0, 1, 0, 1, 0, 1, 0, 0, 1, 1, 1, 0, 1, 0, 1,\n",
       "       0, 0, 1, 1, 0, 1, 0, 0, 0, 0, 0, 0, 0, 0, 1, 0, 1, 0, 1, 1, 0, 0,\n",
       "       0, 0, 1, 0, 0, 1, 0, 0, 0, 0, 0, 1, 1, 1, 1, 0, 0, 0, 1, 1, 0, 0,\n",
       "       1, 1, 0, 0, 1, 0, 0, 1, 0, 1, 1, 1, 1, 1, 0, 1, 1, 0, 0, 1, 0, 1,\n",
       "       1, 0, 1, 0, 1, 0, 0, 0, 1, 1, 0, 0, 0, 0, 1, 0, 1, 0, 0, 1, 0, 0,\n",
       "       0, 0, 0, 0, 1, 0, 0, 0, 1, 0, 0, 0, 1, 1, 0, 0, 1, 0, 1, 1, 0, 0,\n",
       "       1, 0, 1, 0, 0, 1, 0, 0, 0, 0, 1, 1, 1, 0, 1, 1, 1, 0, 1, 0, 1, 1,\n",
       "       1, 0, 1, 1, 1, 1, 0, 0, 0, 0, 1, 1, 0, 1, 0, 1, 0, 0, 0, 0, 0, 0,\n",
       "       1, 1, 1, 0, 0, 1, 1, 1, 0, 1, 0, 0, 0, 1, 1, 1, 0, 1, 1, 0, 0, 1,\n",
       "       0, 1, 0, 0, 0, 1, 0, 1])"
      ]
     },
     "execution_count": 575,
     "metadata": {},
     "output_type": "execute_result"
    }
   ],
   "source": [
    "clf.predict(X_test_6)"
   ]
  },
  {
   "cell_type": "code",
   "execution_count": 576,
   "metadata": {},
   "outputs": [
    {
     "data": {
      "text/plain": [
       "0.6913793103448276"
      ]
     },
     "execution_count": 576,
     "metadata": {},
     "output_type": "execute_result"
    }
   ],
   "source": [
    "clf.score(X_test_6, Y_test_6)"
   ]
  },
  {
   "cell_type": "markdown",
   "metadata": {},
   "source": [
    "## 7"
   ]
  },
  {
   "cell_type": "code",
   "execution_count": 577,
   "metadata": {},
   "outputs": [],
   "source": [
    "X_train_7_full = XY_train_7_full[:,0]"
   ]
  },
  {
   "cell_type": "code",
   "execution_count": 578,
   "metadata": {},
   "outputs": [
    {
     "data": {
      "text/plain": [
       "(180,)"
      ]
     },
     "execution_count": 578,
     "metadata": {},
     "output_type": "execute_result"
    }
   ],
   "source": [
    "X_train_7_full.shape"
   ]
  },
  {
   "cell_type": "code",
   "execution_count": 579,
   "metadata": {},
   "outputs": [],
   "source": [
    "X_train_7_full = list(X_train_7_full)"
   ]
  },
  {
   "cell_type": "code",
   "execution_count": 580,
   "metadata": {},
   "outputs": [],
   "source": [
    "Y_train_7_full = XY_train_7_full[:,1]"
   ]
  },
  {
   "cell_type": "code",
   "execution_count": 581,
   "metadata": {},
   "outputs": [
    {
     "data": {
      "text/plain": [
       "array([0, 0, 0, 1, 0, 1, 1, 1, 1, 1, 1, 0, 1, 0, 0, 1, 0, 1, 0, 0, 0, 0,\n",
       "       1, 1, 0, 1, 0, 0, 0, 0, 0, 0, 0, 1, 1, 1, 0, 0, 1, 1, 1, 1, 1, 0,\n",
       "       1, 0, 1, 1, 0, 0, 1, 0, 0, 1, 0, 0, 1, 1, 1, 1, 1, 1, 0, 1, 1, 1,\n",
       "       0, 1, 1, 1, 1, 0, 0, 1, 1, 0, 1, 0, 1, 0, 1, 1, 0, 1, 1, 1, 1, 1,\n",
       "       1, 0, 1, 0, 1, 1, 1, 1, 0, 0, 1, 1, 0, 0, 1, 1, 0, 0, 0, 0, 0, 1,\n",
       "       0, 0, 1, 0, 0, 0, 1, 0, 0, 1, 1, 0, 0, 0, 0, 0, 0, 1, 0, 0, 0, 0,\n",
       "       1, 1, 0, 1, 0, 0, 1, 0, 0, 1, 0, 1, 1, 1, 0, 1, 0, 1, 1, 1, 1, 1,\n",
       "       1, 0, 1, 0, 0, 0, 0, 0, 1, 0, 0, 0, 1, 1, 0, 0, 1, 1, 1, 1, 0, 0,\n",
       "       0, 0, 1, 0], dtype=object)"
      ]
     },
     "execution_count": 581,
     "metadata": {},
     "output_type": "execute_result"
    }
   ],
   "source": [
    "Y_train_7_full"
   ]
  },
  {
   "cell_type": "code",
   "execution_count": 582,
   "metadata": {},
   "outputs": [],
   "source": [
    "Y_train_7_full = list(Y_train_7_full)"
   ]
  },
  {
   "cell_type": "code",
   "execution_count": 316,
   "metadata": {},
   "outputs": [],
   "source": [
    "X_test_7 = XY_test_7[:,0]"
   ]
  },
  {
   "cell_type": "code",
   "execution_count": 317,
   "metadata": {},
   "outputs": [],
   "source": [
    "X_test_7 = list(X_test_7)"
   ]
  },
  {
   "cell_type": "code",
   "execution_count": 318,
   "metadata": {},
   "outputs": [],
   "source": [
    "Y_test_7 = XY_test_7[:,1]"
   ]
  },
  {
   "cell_type": "code",
   "execution_count": 319,
   "metadata": {},
   "outputs": [],
   "source": [
    "Y_test_7 = list(Y_test_7)"
   ]
  },
  {
   "cell_type": "code",
   "execution_count": 320,
   "metadata": {},
   "outputs": [
    {
     "data": {
      "text/plain": [
       "580"
      ]
     },
     "execution_count": 320,
     "metadata": {},
     "output_type": "execute_result"
    }
   ],
   "source": [
    "len(Y_test_7)"
   ]
  },
  {
   "cell_type": "code",
   "execution_count": 583,
   "metadata": {},
   "outputs": [],
   "source": [
    "clf = sklearn.linear_model.LogisticRegression()"
   ]
  },
  {
   "cell_type": "code",
   "execution_count": 584,
   "metadata": {},
   "outputs": [
    {
     "name": "stderr",
     "output_type": "stream",
     "text": [
      "/anaconda2/envs/scaper/lib/python3.6/site-packages/sklearn/linear_model/logistic.py:433: FutureWarning: Default solver will be changed to 'lbfgs' in 0.22. Specify a solver to silence this warning.\n",
      "  FutureWarning)\n"
     ]
    },
    {
     "data": {
      "text/plain": [
       "LogisticRegression(C=1.0, class_weight=None, dual=False, fit_intercept=True,\n",
       "          intercept_scaling=1, max_iter=100, multi_class='warn',\n",
       "          n_jobs=None, penalty='l2', random_state=None, solver='warn',\n",
       "          tol=0.0001, verbose=0, warm_start=False)"
      ]
     },
     "execution_count": 584,
     "metadata": {},
     "output_type": "execute_result"
    }
   ],
   "source": [
    "clf.fit(X_train_7_full, Y_train_7_full)"
   ]
  },
  {
   "cell_type": "code",
   "execution_count": 585,
   "metadata": {},
   "outputs": [
    {
     "data": {
      "text/plain": [
       "array([1, 1, 1, 0, 1, 0, 0, 0, 1, 1, 0, 1, 0, 1, 1, 0, 0, 0, 1, 0, 0, 0,\n",
       "       0, 1, 0, 1, 0, 0, 0, 0, 1, 1, 1, 0, 0, 0, 0, 0, 0, 0, 0, 1, 1, 0,\n",
       "       0, 0, 0, 1, 0, 1, 1, 1, 1, 0, 0, 1, 1, 0, 1, 1, 0, 1, 1, 1, 0, 1,\n",
       "       1, 0, 0, 0, 0, 0, 0, 1, 1, 1, 1, 1, 1, 1, 1, 1, 0, 0, 1, 0, 1, 1,\n",
       "       0, 1, 0, 1, 0, 1, 0, 0, 1, 0, 1, 1, 1, 1, 0, 0, 1, 1, 1, 1, 1, 1,\n",
       "       1, 1, 0, 1, 1, 1, 0, 0, 0, 0, 1, 1, 1, 1, 0, 1, 0, 0, 1, 0, 0, 0,\n",
       "       0, 0, 0, 1, 1, 1, 1, 1, 0, 1, 1, 0, 1, 1, 1, 0, 1, 0, 0, 1, 1, 1,\n",
       "       0, 0, 1, 1, 1, 1, 0, 0, 0, 0, 0, 1, 1, 0, 1, 1, 0, 0, 1, 0, 0, 0,\n",
       "       0, 0, 0, 1, 1, 1, 0, 0, 0, 1, 1, 1, 1, 0, 0, 0, 1, 1, 1, 1, 1, 0,\n",
       "       0, 1, 1, 1, 0, 0, 0, 0, 0, 1, 0, 1, 0, 1, 0, 0, 1, 0, 0, 0, 1, 1,\n",
       "       0, 1, 0, 1, 1, 0, 1, 1, 0, 1, 1, 1, 1, 1, 1, 0, 0, 1, 1, 0, 1, 0,\n",
       "       1, 1, 0, 0, 1, 1, 0, 0, 0, 1, 1, 1, 1, 1, 1, 1, 1, 1, 0, 1, 0, 1,\n",
       "       1, 0, 0, 0, 0, 1, 1, 0, 0, 0, 1, 1, 0, 1, 0, 0, 1, 0, 1, 0, 1, 1,\n",
       "       1, 0, 0, 1, 1, 1, 0, 0, 0, 0, 1, 0, 0, 1, 1, 1, 0, 1, 0, 1, 0, 1,\n",
       "       1, 0, 1, 0, 0, 1, 1, 0, 1, 0, 0, 0, 0, 0, 1, 1, 1, 0, 1, 1, 0, 1,\n",
       "       1, 1, 0, 1, 1, 0, 0, 1, 1, 1, 0, 1, 0, 1, 0, 0, 0, 1, 0, 0, 1, 1,\n",
       "       0, 1, 0, 0, 0, 1, 0, 1, 0, 0, 0, 0, 0, 0, 1, 1, 0, 1, 0, 0, 1, 0,\n",
       "       0, 0, 0, 0, 0, 0, 1, 0, 1, 1, 1, 0, 1, 0, 0, 1, 1, 1, 1, 1, 0, 0,\n",
       "       0, 0, 1, 0, 0, 0, 1, 1, 1, 1, 1, 1, 0, 0, 1, 0, 0, 0, 0, 0, 1, 0,\n",
       "       1, 0, 0, 0, 0, 1, 1, 1, 1, 1, 1, 0, 1, 0, 0, 0, 1, 1, 0, 1, 0, 0,\n",
       "       1, 1, 0, 1, 1, 0, 1, 1, 1, 0, 1, 0, 0, 1, 1, 0, 0, 1, 1, 0, 0, 0,\n",
       "       1, 0, 0, 0, 1, 1, 0, 0, 0, 0, 0, 0, 0, 1, 0, 0, 1, 0, 0, 1, 0, 1,\n",
       "       0, 0, 0, 0, 0, 0, 1, 1, 1, 0, 1, 0, 0, 1, 1, 1, 0, 1, 1, 1, 0, 1,\n",
       "       0, 1, 1, 1, 0, 0, 0, 1, 0, 1, 0, 1, 1, 0, 1, 0, 0, 1, 1, 0, 0, 0,\n",
       "       1, 0, 1, 0, 1, 0, 1, 0, 1, 0, 0, 1, 1, 1, 1, 1, 1, 0, 1, 1, 1, 0,\n",
       "       1, 1, 1, 0, 1, 1, 0, 0, 0, 1, 1, 1, 1, 1, 1, 1, 1, 0, 0, 1, 1, 1,\n",
       "       0, 0, 0, 0, 0, 0, 1, 0])"
      ]
     },
     "execution_count": 585,
     "metadata": {},
     "output_type": "execute_result"
    }
   ],
   "source": [
    "clf.predict(X_test_7)"
   ]
  },
  {
   "cell_type": "code",
   "execution_count": 586,
   "metadata": {},
   "outputs": [
    {
     "data": {
      "text/plain": [
       "0.6741379310344827"
      ]
     },
     "execution_count": 586,
     "metadata": {},
     "output_type": "execute_result"
    }
   ],
   "source": [
    "clf.score(X_test_7, Y_test_7)"
   ]
  },
  {
   "cell_type": "markdown",
   "metadata": {},
   "source": [
    "## 8"
   ]
  },
  {
   "cell_type": "code",
   "execution_count": 587,
   "metadata": {},
   "outputs": [],
   "source": [
    "X_train_8_full = XY_train_8_full[:,0]"
   ]
  },
  {
   "cell_type": "code",
   "execution_count": 588,
   "metadata": {},
   "outputs": [
    {
     "data": {
      "text/plain": [
       "(180,)"
      ]
     },
     "execution_count": 588,
     "metadata": {},
     "output_type": "execute_result"
    }
   ],
   "source": [
    "X_train_8_full.shape"
   ]
  },
  {
   "cell_type": "code",
   "execution_count": 589,
   "metadata": {},
   "outputs": [],
   "source": [
    "X_train_8_full = list(X_train_8_full)"
   ]
  },
  {
   "cell_type": "code",
   "execution_count": 590,
   "metadata": {},
   "outputs": [],
   "source": [
    "Y_train_8_full = XY_train_8_full[:,1]"
   ]
  },
  {
   "cell_type": "code",
   "execution_count": 591,
   "metadata": {},
   "outputs": [
    {
     "data": {
      "text/plain": [
       "array([0, 0, 0, 1, 0, 0, 0, 0, 0, 1, 1, 1, 1, 0, 0, 0, 1, 1, 1, 0, 1, 1,\n",
       "       1, 1, 0, 1, 1, 1, 1, 1, 0, 0, 1, 1, 1, 0, 1, 1, 0, 1, 0, 0, 1, 0,\n",
       "       1, 1, 0, 0, 0, 0, 1, 1, 0, 1, 1, 0, 1, 1, 0, 0, 0, 0, 0, 0, 1, 0,\n",
       "       1, 1, 1, 0, 0, 0, 0, 1, 1, 1, 1, 0, 0, 1, 0, 1, 0, 1, 1, 0, 0, 0,\n",
       "       0, 1, 1, 0, 0, 0, 0, 1, 1, 1, 1, 0, 1, 1, 0, 0, 1, 0, 1, 1, 1, 0,\n",
       "       0, 0, 0, 0, 0, 1, 0, 0, 0, 1, 0, 0, 1, 1, 1, 0, 0, 1, 0, 0, 0, 1,\n",
       "       1, 0, 0, 1, 0, 1, 0, 0, 1, 1, 1, 0, 0, 1, 1, 1, 1, 1, 0, 1, 1, 0,\n",
       "       0, 1, 0, 0, 1, 0, 1, 0, 1, 1, 0, 1, 1, 1, 1, 1, 0, 1, 1, 0, 1, 0,\n",
       "       0, 0, 0, 1], dtype=object)"
      ]
     },
     "execution_count": 591,
     "metadata": {},
     "output_type": "execute_result"
    }
   ],
   "source": [
    "Y_train_8_full"
   ]
  },
  {
   "cell_type": "code",
   "execution_count": 592,
   "metadata": {},
   "outputs": [],
   "source": [
    "Y_train_8_full = list(Y_train_8_full)"
   ]
  },
  {
   "cell_type": "code",
   "execution_count": 331,
   "metadata": {},
   "outputs": [],
   "source": [
    "X_test_8 = XY_test_8[:,0]"
   ]
  },
  {
   "cell_type": "code",
   "execution_count": 332,
   "metadata": {},
   "outputs": [],
   "source": [
    "X_test_8 = list(X_test_8)"
   ]
  },
  {
   "cell_type": "code",
   "execution_count": 333,
   "metadata": {},
   "outputs": [],
   "source": [
    "Y_test_8 = XY_test_8[:,1]"
   ]
  },
  {
   "cell_type": "code",
   "execution_count": 340,
   "metadata": {},
   "outputs": [],
   "source": [
    "Y_test_8 = list(Y_test_8)"
   ]
  },
  {
   "cell_type": "code",
   "execution_count": 341,
   "metadata": {},
   "outputs": [
    {
     "data": {
      "text/plain": [
       "580"
      ]
     },
     "execution_count": 341,
     "metadata": {},
     "output_type": "execute_result"
    }
   ],
   "source": [
    "len(Y_test_8)"
   ]
  },
  {
   "cell_type": "code",
   "execution_count": 593,
   "metadata": {},
   "outputs": [],
   "source": [
    "clf = sklearn.linear_model.LogisticRegression()"
   ]
  },
  {
   "cell_type": "code",
   "execution_count": 594,
   "metadata": {},
   "outputs": [
    {
     "name": "stderr",
     "output_type": "stream",
     "text": [
      "/anaconda2/envs/scaper/lib/python3.6/site-packages/sklearn/linear_model/logistic.py:433: FutureWarning: Default solver will be changed to 'lbfgs' in 0.22. Specify a solver to silence this warning.\n",
      "  FutureWarning)\n"
     ]
    },
    {
     "data": {
      "text/plain": [
       "LogisticRegression(C=1.0, class_weight=None, dual=False, fit_intercept=True,\n",
       "          intercept_scaling=1, max_iter=100, multi_class='warn',\n",
       "          n_jobs=None, penalty='l2', random_state=None, solver='warn',\n",
       "          tol=0.0001, verbose=0, warm_start=False)"
      ]
     },
     "execution_count": 594,
     "metadata": {},
     "output_type": "execute_result"
    }
   ],
   "source": [
    "clf.fit(X_train_8_full, Y_train_8_full)"
   ]
  },
  {
   "cell_type": "code",
   "execution_count": 595,
   "metadata": {},
   "outputs": [
    {
     "data": {
      "text/plain": [
       "array([0, 1, 1, 1, 1, 0, 1, 1, 1, 1, 0, 0, 1, 1, 0, 0, 0, 0, 1, 0, 1, 0,\n",
       "       0, 1, 1, 0, 0, 1, 0, 0, 0, 0, 1, 0, 0, 1, 1, 0, 1, 1, 1, 0, 0, 1,\n",
       "       0, 0, 0, 0, 1, 1, 1, 0, 0, 1, 1, 0, 1, 1, 0, 0, 0, 0, 1, 1, 1, 0,\n",
       "       0, 0, 1, 1, 0, 0, 0, 1, 0, 0, 1, 1, 1, 1, 1, 0, 0, 1, 0, 0, 1, 1,\n",
       "       1, 0, 1, 0, 0, 1, 0, 0, 1, 1, 0, 0, 1, 1, 1, 1, 0, 1, 0, 1, 1, 0,\n",
       "       0, 1, 1, 1, 0, 0, 0, 0, 0, 0, 1, 0, 0, 0, 0, 0, 1, 1, 0, 1, 0, 1,\n",
       "       0, 1, 1, 0, 0, 0, 1, 0, 1, 1, 1, 1, 1, 0, 1, 0, 0, 1, 0, 0, 0, 1,\n",
       "       0, 1, 1, 0, 1, 0, 1, 0, 1, 1, 0, 0, 0, 1, 1, 0, 1, 1, 0, 1, 0, 1,\n",
       "       1, 0, 0, 1, 1, 0, 0, 0, 1, 0, 1, 0, 0, 1, 1, 0, 0, 0, 1, 1, 0, 0,\n",
       "       1, 0, 1, 1, 1, 1, 1, 1, 0, 1, 0, 1, 0, 0, 0, 0, 0, 0, 0, 0, 0, 1,\n",
       "       1, 0, 0, 1, 0, 0, 0, 1, 1, 0, 1, 1, 0, 0, 0, 0, 1, 0, 1, 0, 0, 1,\n",
       "       1, 0, 1, 0, 1, 0, 1, 1, 1, 1, 1, 1, 0, 0, 1, 1, 1, 1, 0, 1, 1, 1,\n",
       "       0, 1, 1, 1, 0, 0, 0, 1, 0, 0, 0, 1, 0, 1, 0, 0, 1, 1, 1, 0, 0, 1,\n",
       "       0, 0, 1, 0, 1, 0, 1, 0, 1, 1, 1, 0, 0, 0, 0, 0, 0, 0, 0, 1, 1, 1,\n",
       "       0, 0, 0, 1, 1, 0, 1, 0, 0, 0, 0, 1, 0, 0, 0, 1, 0, 1, 1, 0, 1, 1,\n",
       "       1, 0, 1, 1, 1, 1, 1, 0, 1, 1, 1, 1, 0, 0, 0, 1, 0, 1, 0, 1, 1, 1,\n",
       "       1, 0, 1, 1, 1, 0, 0, 1, 0, 0, 0, 0, 1, 1, 0, 0, 0, 0, 1, 0, 0, 0,\n",
       "       0, 0, 1, 0, 0, 0, 0, 1, 1, 0, 0, 0, 1, 0, 1, 1, 1, 0, 1, 0, 1, 0,\n",
       "       0, 0, 0, 0, 1, 0, 1, 1, 1, 0, 1, 0, 0, 1, 1, 1, 0, 1, 1, 0, 1, 0,\n",
       "       1, 0, 1, 0, 0, 1, 0, 1, 0, 1, 0, 1, 0, 0, 0, 0, 1, 1, 0, 0, 0, 1,\n",
       "       0, 1, 0, 0, 0, 1, 0, 1, 1, 1, 1, 1, 1, 1, 1, 1, 0, 1, 1, 1, 1, 0,\n",
       "       0, 1, 0, 0, 0, 0, 0, 1, 0, 0, 1, 1, 0, 1, 0, 0, 1, 0, 0, 1, 0, 1,\n",
       "       1, 0, 0, 1, 1, 1, 0, 1, 1, 0, 1, 0, 1, 0, 1, 1, 0, 0, 0, 0, 1, 0,\n",
       "       0, 1, 1, 0, 1, 1, 1, 1, 0, 0, 0, 0, 0, 0, 1, 1, 0, 0, 1, 1, 1, 0,\n",
       "       0, 1, 1, 1, 0, 0, 1, 0, 0, 1, 1, 0, 0, 1, 1, 1, 1, 0, 1, 1, 0, 1,\n",
       "       0, 1, 1, 0, 0, 0, 1, 0, 0, 1, 0, 1, 1, 0, 0, 1, 0, 0, 1, 1, 1, 1,\n",
       "       1, 0, 1, 0, 1, 0, 0, 0])"
      ]
     },
     "execution_count": 595,
     "metadata": {},
     "output_type": "execute_result"
    }
   ],
   "source": [
    "clf.predict(X_test_8)"
   ]
  },
  {
   "cell_type": "code",
   "execution_count": 596,
   "metadata": {},
   "outputs": [
    {
     "data": {
      "text/plain": [
       "0.6620689655172414"
      ]
     },
     "execution_count": 596,
     "metadata": {},
     "output_type": "execute_result"
    }
   ],
   "source": [
    "clf.score(X_test_8, Y_test_8)"
   ]
  },
  {
   "cell_type": "markdown",
   "metadata": {},
   "source": [
    "## 9"
   ]
  },
  {
   "cell_type": "code",
   "execution_count": 597,
   "metadata": {},
   "outputs": [],
   "source": [
    "X_train_9_full = XY_train_9_full[:,0]"
   ]
  },
  {
   "cell_type": "code",
   "execution_count": 598,
   "metadata": {},
   "outputs": [
    {
     "data": {
      "text/plain": [
       "(180,)"
      ]
     },
     "execution_count": 598,
     "metadata": {},
     "output_type": "execute_result"
    }
   ],
   "source": [
    "X_train_9_full.shape"
   ]
  },
  {
   "cell_type": "code",
   "execution_count": 599,
   "metadata": {},
   "outputs": [],
   "source": [
    "X_train_9_full = list(X_train_9_full)"
   ]
  },
  {
   "cell_type": "code",
   "execution_count": 600,
   "metadata": {},
   "outputs": [],
   "source": [
    "Y_train_9_full = XY_train_9_full[:,1]"
   ]
  },
  {
   "cell_type": "code",
   "execution_count": 601,
   "metadata": {},
   "outputs": [
    {
     "data": {
      "text/plain": [
       "array([0, 1, 0, 1, 0, 1, 1, 0, 1, 1, 0, 1, 1, 0, 1, 1, 1, 0, 1, 1, 1, 1,\n",
       "       0, 1, 1, 1, 0, 0, 1, 1, 0, 1, 0, 0, 0, 1, 1, 0, 1, 0, 0, 0, 1, 0,\n",
       "       0, 1, 0, 0, 0, 1, 0, 0, 1, 0, 0, 0, 0, 1, 0, 0, 0, 0, 0, 1, 1, 0,\n",
       "       0, 0, 1, 1, 0, 0, 1, 1, 0, 1, 0, 0, 0, 0, 0, 1, 1, 1, 0, 0, 0, 0,\n",
       "       0, 0, 0, 1, 1, 1, 1, 1, 0, 1, 1, 1, 0, 1, 0, 0, 0, 0, 0, 0, 0, 0,\n",
       "       1, 0, 1, 1, 1, 1, 0, 0, 0, 0, 1, 0, 0, 1, 1, 0, 0, 0, 1, 1, 1, 0,\n",
       "       0, 1, 1, 1, 1, 1, 1, 1, 1, 0, 1, 1, 1, 1, 1, 0, 0, 1, 1, 0, 1, 1,\n",
       "       0, 0, 0, 1, 1, 0, 0, 1, 0, 0, 1, 1, 0, 1, 1, 1, 1, 1, 1, 1, 1, 1,\n",
       "       0, 0, 0, 0], dtype=object)"
      ]
     },
     "execution_count": 601,
     "metadata": {},
     "output_type": "execute_result"
    }
   ],
   "source": [
    "Y_train_9_full"
   ]
  },
  {
   "cell_type": "code",
   "execution_count": 602,
   "metadata": {},
   "outputs": [],
   "source": [
    "Y_train_9_full = list(Y_train_9_full)"
   ]
  },
  {
   "cell_type": "code",
   "execution_count": 352,
   "metadata": {},
   "outputs": [],
   "source": [
    "X_test_9 = XY_test_9[:,0]"
   ]
  },
  {
   "cell_type": "code",
   "execution_count": 353,
   "metadata": {},
   "outputs": [],
   "source": [
    "X_test_9 = list(X_test_9)"
   ]
  },
  {
   "cell_type": "code",
   "execution_count": 354,
   "metadata": {},
   "outputs": [],
   "source": [
    "Y_test_9 = XY_test_9[:,1]"
   ]
  },
  {
   "cell_type": "code",
   "execution_count": 355,
   "metadata": {},
   "outputs": [],
   "source": [
    "Y_test_9 = list(Y_test_9)"
   ]
  },
  {
   "cell_type": "code",
   "execution_count": 356,
   "metadata": {},
   "outputs": [
    {
     "data": {
      "text/plain": [
       "580"
      ]
     },
     "execution_count": 356,
     "metadata": {},
     "output_type": "execute_result"
    }
   ],
   "source": [
    "len(Y_test_9)"
   ]
  },
  {
   "cell_type": "code",
   "execution_count": 603,
   "metadata": {},
   "outputs": [],
   "source": [
    "clf = sklearn.linear_model.LogisticRegression()"
   ]
  },
  {
   "cell_type": "code",
   "execution_count": 604,
   "metadata": {},
   "outputs": [
    {
     "name": "stderr",
     "output_type": "stream",
     "text": [
      "/anaconda2/envs/scaper/lib/python3.6/site-packages/sklearn/linear_model/logistic.py:433: FutureWarning: Default solver will be changed to 'lbfgs' in 0.22. Specify a solver to silence this warning.\n",
      "  FutureWarning)\n"
     ]
    },
    {
     "data": {
      "text/plain": [
       "LogisticRegression(C=1.0, class_weight=None, dual=False, fit_intercept=True,\n",
       "          intercept_scaling=1, max_iter=100, multi_class='warn',\n",
       "          n_jobs=None, penalty='l2', random_state=None, solver='warn',\n",
       "          tol=0.0001, verbose=0, warm_start=False)"
      ]
     },
     "execution_count": 604,
     "metadata": {},
     "output_type": "execute_result"
    }
   ],
   "source": [
    "clf.fit(X_train_9_full, Y_train_9_full)"
   ]
  },
  {
   "cell_type": "code",
   "execution_count": 605,
   "metadata": {},
   "outputs": [
    {
     "data": {
      "text/plain": [
       "array([1, 0, 0, 0, 0, 0, 0, 0, 1, 0, 1, 0, 0, 1, 0, 1, 0, 1, 0, 0, 1, 0,\n",
       "       0, 1, 0, 0, 0, 0, 0, 0, 0, 1, 0, 0, 1, 1, 1, 1, 0, 0, 0, 0, 0, 1,\n",
       "       1, 1, 0, 0, 1, 1, 1, 0, 0, 1, 0, 0, 1, 0, 1, 0, 1, 1, 0, 1, 1, 0,\n",
       "       0, 1, 1, 0, 0, 1, 0, 0, 1, 0, 0, 1, 0, 1, 0, 1, 0, 0, 1, 1, 1, 0,\n",
       "       1, 1, 0, 0, 0, 1, 0, 1, 0, 1, 0, 0, 1, 1, 0, 0, 0, 1, 0, 0, 0, 0,\n",
       "       0, 0, 0, 1, 1, 1, 1, 1, 1, 1, 0, 0, 0, 1, 0, 0, 0, 0, 1, 0, 0, 1,\n",
       "       1, 1, 0, 1, 0, 1, 1, 1, 0, 1, 0, 1, 1, 1, 0, 0, 1, 1, 0, 0, 0, 0,\n",
       "       0, 1, 1, 0, 0, 0, 1, 1, 1, 1, 0, 1, 0, 0, 0, 1, 1, 0, 1, 1, 0, 0,\n",
       "       0, 0, 1, 1, 0, 1, 0, 0, 1, 0, 1, 0, 0, 0, 1, 1, 1, 0, 0, 0, 1, 1,\n",
       "       1, 1, 1, 1, 0, 0, 0, 0, 0, 1, 1, 0, 1, 0, 1, 0, 0, 1, 1, 0, 0, 0,\n",
       "       0, 0, 1, 0, 0, 0, 0, 1, 0, 0, 0, 0, 0, 0, 1, 0, 1, 0, 0, 0, 1, 1,\n",
       "       0, 1, 0, 1, 0, 1, 0, 0, 1, 0, 1, 1, 1, 1, 1, 0, 1, 0, 0, 0, 1, 1,\n",
       "       0, 1, 0, 0, 0, 0, 0, 0, 1, 1, 1, 1, 0, 0, 0, 0, 1, 0, 1, 1, 1, 0,\n",
       "       1, 1, 0, 1, 0, 1, 0, 0, 0, 1, 1, 0, 0, 1, 1, 0, 0, 1, 0, 1, 1, 0,\n",
       "       0, 0, 1, 1, 1, 0, 0, 0, 0, 0, 1, 1, 0, 0, 0, 0, 0, 1, 0, 0, 0, 0,\n",
       "       1, 0, 1, 0, 0, 0, 1, 0, 0, 0, 0, 1, 0, 1, 1, 0, 0, 1, 0, 0, 0, 0,\n",
       "       0, 0, 0, 1, 0, 0, 1, 0, 1, 0, 0, 1, 0, 1, 1, 1, 0, 0, 1, 0, 0, 0,\n",
       "       1, 0, 0, 0, 0, 1, 0, 1, 1, 0, 0, 0, 1, 0, 1, 0, 0, 0, 0, 1, 1, 1,\n",
       "       0, 0, 0, 0, 0, 0, 0, 1, 0, 0, 1, 0, 0, 1, 1, 1, 1, 1, 0, 0, 0, 1,\n",
       "       0, 0, 1, 1, 1, 1, 1, 1, 1, 0, 0, 0, 0, 0, 0, 0, 1, 0, 1, 0, 0, 1,\n",
       "       1, 0, 1, 0, 1, 0, 0, 0, 1, 1, 1, 0, 1, 0, 0, 0, 1, 1, 1, 0, 0, 1,\n",
       "       1, 1, 0, 0, 1, 1, 0, 0, 0, 0, 0, 1, 1, 1, 1, 1, 1, 1, 0, 0, 0, 1,\n",
       "       0, 0, 0, 0, 1, 1, 0, 1, 1, 0, 0, 0, 1, 1, 0, 0, 1, 1, 0, 0, 1, 0,\n",
       "       1, 1, 1, 0, 1, 1, 1, 0, 1, 0, 0, 0, 0, 0, 1, 0, 0, 0, 0, 0, 0, 1,\n",
       "       0, 1, 0, 0, 1, 1, 1, 1, 1, 1, 0, 0, 1, 0, 1, 1, 1, 1, 0, 1, 1, 0,\n",
       "       1, 0, 0, 1, 0, 1, 0, 0, 1, 0, 1, 1, 1, 0, 0, 1, 1, 0, 1, 0, 1, 0,\n",
       "       0, 0, 0, 1, 1, 1, 0, 0])"
      ]
     },
     "execution_count": 605,
     "metadata": {},
     "output_type": "execute_result"
    }
   ],
   "source": [
    "clf.predict(X_test_9)"
   ]
  },
  {
   "cell_type": "code",
   "execution_count": 606,
   "metadata": {},
   "outputs": [
    {
     "data": {
      "text/plain": [
       "0.7"
      ]
     },
     "execution_count": 606,
     "metadata": {},
     "output_type": "execute_result"
    }
   ],
   "source": [
    "clf.score(X_test_9, Y_test_9)"
   ]
  },
  {
   "cell_type": "markdown",
   "metadata": {},
   "source": [
    "## 10"
   ]
  },
  {
   "cell_type": "code",
   "execution_count": 607,
   "metadata": {},
   "outputs": [],
   "source": [
    "X_train_10_full = XY_train_10_full[:,0]"
   ]
  },
  {
   "cell_type": "code",
   "execution_count": 608,
   "metadata": {},
   "outputs": [
    {
     "data": {
      "text/plain": [
       "(180,)"
      ]
     },
     "execution_count": 608,
     "metadata": {},
     "output_type": "execute_result"
    }
   ],
   "source": [
    "X_train_10_full.shape"
   ]
  },
  {
   "cell_type": "code",
   "execution_count": 609,
   "metadata": {},
   "outputs": [],
   "source": [
    "X_train_10_full = list(X_train_10_full)"
   ]
  },
  {
   "cell_type": "code",
   "execution_count": 610,
   "metadata": {},
   "outputs": [],
   "source": [
    "Y_train_10_full = XY_train_10_full[:,1]"
   ]
  },
  {
   "cell_type": "code",
   "execution_count": 611,
   "metadata": {},
   "outputs": [
    {
     "data": {
      "text/plain": [
       "array([1, 0, 1, 1, 0, 1, 0, 1, 0, 0, 1, 0, 1, 0, 1, 1, 0, 1, 0, 1, 1, 1,\n",
       "       0, 0, 0, 0, 1, 1, 0, 0, 1, 1, 1, 1, 0, 1, 1, 1, 0, 1, 1, 1, 0, 1,\n",
       "       0, 0, 0, 0, 1, 1, 0, 0, 1, 1, 0, 1, 1, 0, 0, 0, 1, 1, 0, 1, 1, 0,\n",
       "       1, 1, 0, 1, 1, 1, 1, 0, 1, 1, 0, 1, 1, 1, 1, 0, 0, 0, 1, 1, 0, 1,\n",
       "       0, 0, 0, 0, 1, 0, 0, 1, 1, 1, 0, 1, 0, 1, 0, 0, 1, 1, 1, 1, 1, 1,\n",
       "       0, 0, 0, 1, 1, 0, 1, 1, 1, 0, 0, 1, 0, 1, 0, 0, 0, 0, 0, 0, 1, 1,\n",
       "       1, 0, 0, 0, 1, 0, 0, 0, 0, 1, 1, 0, 0, 0, 0, 0, 1, 1, 0, 1, 0, 1,\n",
       "       0, 0, 0, 0, 1, 0, 1, 0, 0, 0, 0, 1, 0, 0, 1, 0, 1, 1, 0, 1, 1, 0,\n",
       "       0, 1, 1, 0], dtype=object)"
      ]
     },
     "execution_count": 611,
     "metadata": {},
     "output_type": "execute_result"
    }
   ],
   "source": [
    "Y_train_10_full"
   ]
  },
  {
   "cell_type": "code",
   "execution_count": 612,
   "metadata": {},
   "outputs": [],
   "source": [
    "Y_train_10_full = list(Y_train_10_full)"
   ]
  },
  {
   "cell_type": "code",
   "execution_count": 367,
   "metadata": {},
   "outputs": [],
   "source": [
    "X_test_10 = XY_test_10[:,0]"
   ]
  },
  {
   "cell_type": "code",
   "execution_count": 368,
   "metadata": {},
   "outputs": [],
   "source": [
    "X_test_10 = list(X_test_10)"
   ]
  },
  {
   "cell_type": "code",
   "execution_count": 369,
   "metadata": {},
   "outputs": [],
   "source": [
    "Y_test_10 = XY_test_10[:,1]"
   ]
  },
  {
   "cell_type": "code",
   "execution_count": 370,
   "metadata": {},
   "outputs": [],
   "source": [
    "Y_test_10 = list(Y_test_10)"
   ]
  },
  {
   "cell_type": "code",
   "execution_count": 371,
   "metadata": {},
   "outputs": [
    {
     "data": {
      "text/plain": [
       "580"
      ]
     },
     "execution_count": 371,
     "metadata": {},
     "output_type": "execute_result"
    }
   ],
   "source": [
    "len(Y_test_10)"
   ]
  },
  {
   "cell_type": "code",
   "execution_count": 613,
   "metadata": {},
   "outputs": [],
   "source": [
    "clf = sklearn.linear_model.LogisticRegression()"
   ]
  },
  {
   "cell_type": "code",
   "execution_count": 614,
   "metadata": {},
   "outputs": [
    {
     "name": "stderr",
     "output_type": "stream",
     "text": [
      "/anaconda2/envs/scaper/lib/python3.6/site-packages/sklearn/linear_model/logistic.py:433: FutureWarning: Default solver will be changed to 'lbfgs' in 0.22. Specify a solver to silence this warning.\n",
      "  FutureWarning)\n"
     ]
    },
    {
     "data": {
      "text/plain": [
       "LogisticRegression(C=1.0, class_weight=None, dual=False, fit_intercept=True,\n",
       "          intercept_scaling=1, max_iter=100, multi_class='warn',\n",
       "          n_jobs=None, penalty='l2', random_state=None, solver='warn',\n",
       "          tol=0.0001, verbose=0, warm_start=False)"
      ]
     },
     "execution_count": 614,
     "metadata": {},
     "output_type": "execute_result"
    }
   ],
   "source": [
    "clf.fit(X_train_10_full, Y_train_10_full)"
   ]
  },
  {
   "cell_type": "code",
   "execution_count": 615,
   "metadata": {},
   "outputs": [
    {
     "data": {
      "text/plain": [
       "array([0, 1, 0, 1, 0, 1, 1, 0, 0, 1, 0, 0, 0, 0, 0, 1, 0, 0, 0, 0, 0, 0,\n",
       "       0, 0, 1, 1, 0, 0, 1, 1, 0, 0, 1, 1, 1, 0, 1, 1, 1, 1, 0, 0, 0, 0,\n",
       "       0, 0, 1, 1, 0, 0, 1, 0, 0, 1, 0, 0, 0, 1, 0, 1, 1, 0, 0, 0, 1, 1,\n",
       "       0, 1, 0, 0, 1, 0, 0, 0, 0, 1, 0, 0, 1, 1, 1, 1, 0, 0, 0, 0, 0, 1,\n",
       "       0, 1, 0, 0, 1, 1, 0, 0, 0, 0, 0, 0, 0, 0, 0, 0, 0, 0, 0, 0, 1, 1,\n",
       "       1, 0, 0, 0, 0, 0, 1, 1, 0, 1, 0, 1, 1, 0, 1, 1, 0, 0, 0, 0, 0, 0,\n",
       "       1, 1, 0, 1, 0, 0, 0, 1, 0, 0, 1, 1, 1, 0, 0, 0, 0, 1, 1, 1, 0, 1,\n",
       "       1, 0, 0, 0, 1, 1, 0, 1, 0, 0, 1, 1, 1, 0, 0, 1, 0, 0, 1, 1, 1, 0,\n",
       "       0, 1, 0, 1, 0, 0, 1, 0, 1, 0, 0, 1, 1, 0, 1, 0, 1, 1, 1, 1, 1, 0,\n",
       "       0, 0, 0, 0, 1, 0, 1, 0, 0, 1, 1, 1, 0, 0, 0, 0, 0, 1, 1, 0, 0, 0,\n",
       "       0, 1, 1, 0, 1, 1, 0, 0, 0, 0, 1, 0, 0, 0, 0, 0, 0, 1, 0, 0, 0, 0,\n",
       "       1, 0, 0, 0, 0, 1, 1, 0, 0, 1, 0, 1, 1, 0, 0, 0, 1, 0, 1, 0, 1, 1,\n",
       "       1, 0, 1, 0, 1, 1, 0, 0, 1, 0, 0, 0, 0, 1, 1, 0, 0, 0, 1, 1, 0, 1,\n",
       "       0, 0, 1, 1, 0, 1, 1, 1, 0, 0, 0, 1, 1, 0, 1, 1, 1, 1, 0, 0, 0, 0,\n",
       "       1, 1, 1, 1, 0, 0, 1, 1, 0, 0, 0, 0, 1, 1, 0, 0, 1, 1, 1, 0, 1, 0,\n",
       "       0, 1, 1, 1, 1, 1, 1, 1, 0, 1, 0, 0, 0, 0, 1, 1, 1, 1, 0, 0, 0, 0,\n",
       "       0, 0, 0, 1, 0, 1, 1, 0, 0, 0, 0, 0, 1, 0, 1, 0, 1, 0, 0, 0, 0, 1,\n",
       "       0, 0, 1, 0, 1, 0, 0, 0, 1, 0, 0, 1, 1, 0, 1, 1, 1, 1, 0, 1, 1, 0,\n",
       "       1, 0, 0, 0, 0, 0, 1, 1, 0, 0, 0, 0, 0, 1, 0, 0, 0, 1, 1, 0, 1, 1,\n",
       "       0, 1, 0, 1, 0, 1, 1, 1, 0, 0, 1, 0, 0, 0, 1, 1, 1, 0, 1, 1, 0, 0,\n",
       "       1, 0, 1, 0, 0, 1, 1, 0, 0, 0, 0, 0, 1, 0, 1, 1, 0, 0, 0, 1, 1, 1,\n",
       "       1, 0, 1, 0, 1, 1, 0, 0, 1, 0, 1, 0, 0, 1, 1, 1, 0, 0, 0, 0, 1, 1,\n",
       "       0, 0, 0, 0, 0, 0, 0, 0, 1, 0, 0, 1, 1, 0, 0, 0, 0, 1, 0, 0, 0, 0,\n",
       "       1, 0, 1, 1, 0, 1, 0, 0, 0, 1, 0, 1, 0, 1, 1, 1, 1, 0, 0, 0, 1, 0,\n",
       "       1, 0, 1, 1, 1, 0, 0, 0, 1, 1, 0, 0, 0, 0, 1, 1, 0, 0, 0, 0, 1, 1,\n",
       "       1, 0, 1, 0, 0, 0, 1, 0, 1, 0, 0, 1, 1, 0, 0, 1, 1, 1, 1, 0, 0, 0,\n",
       "       1, 0, 0, 1, 1, 1, 1, 1])"
      ]
     },
     "execution_count": 615,
     "metadata": {},
     "output_type": "execute_result"
    }
   ],
   "source": [
    "clf.predict(X_test_10)"
   ]
  },
  {
   "cell_type": "code",
   "execution_count": 616,
   "metadata": {},
   "outputs": [
    {
     "data": {
      "text/plain": [
       "0.6931034482758621"
      ]
     },
     "execution_count": 616,
     "metadata": {},
     "output_type": "execute_result"
    }
   ],
   "source": [
    "clf.score(X_test_10, Y_test_10)"
   ]
  },
  {
   "cell_type": "markdown",
   "metadata": {},
   "source": [
    "## MLP"
   ]
  },
  {
   "cell_type": "code",
   "execution_count": 617,
   "metadata": {},
   "outputs": [],
   "source": [
    "import sklearn.neural_network"
   ]
  },
  {
   "cell_type": "code",
   "execution_count": 623,
   "metadata": {},
   "outputs": [],
   "source": [
    "clf = sklearn.neural_network.MLPClassifier()"
   ]
  },
  {
   "cell_type": "code",
   "execution_count": 624,
   "metadata": {},
   "outputs": [
    {
     "data": {
      "text/plain": [
       "MLPClassifier(activation='relu', alpha=0.0001, batch_size='auto', beta_1=0.9,\n",
       "       beta_2=0.999, early_stopping=False, epsilon=1e-08,\n",
       "       hidden_layer_sizes=(100,), learning_rate='constant',\n",
       "       learning_rate_init=0.001, max_iter=200, momentum=0.9,\n",
       "       n_iter_no_change=10, nesterovs_momentum=True, power_t=0.5,\n",
       "       random_state=None, shuffle=True, solver='adam', tol=0.0001,\n",
       "       validation_fraction=0.1, verbose=False, warm_start=False)"
      ]
     },
     "execution_count": 624,
     "metadata": {},
     "output_type": "execute_result"
    }
   ],
   "source": [
    "clf.fit(X_train_1_full, Y_train_1_full)"
   ]
  },
  {
   "cell_type": "code",
   "execution_count": 625,
   "metadata": {},
   "outputs": [
    {
     "data": {
      "text/plain": [
       "array([1, 1, 1, 0, 1, 1, 1, 1, 1, 1, 1, 1, 0, 1, 1, 1, 0, 0, 1, 1, 1, 1,\n",
       "       1, 0, 1, 0, 1, 1, 0, 1, 1, 1, 1, 1, 0, 1, 1, 1, 1, 1, 1, 0, 1, 1,\n",
       "       0, 1, 1, 1, 1, 0, 1, 1, 0, 1, 1, 1, 1, 0, 0, 0, 0, 1, 1, 1, 1, 0,\n",
       "       0, 1, 1, 0, 1, 0, 1, 1, 1, 1, 1, 0, 1, 1, 1, 1, 1, 1, 1, 1, 0, 1,\n",
       "       1, 0, 1, 1, 1, 1, 1, 0, 0, 1, 1, 1, 1, 1, 1, 0, 0, 1, 0, 1, 1, 1,\n",
       "       0, 1, 1, 0, 1, 1, 1, 0, 0, 0, 0, 1, 0, 1, 1, 1, 1, 1, 1, 1, 0, 1,\n",
       "       1, 1, 1, 0, 0, 1, 1, 1, 1, 0, 1, 1, 0, 1, 1, 1, 1, 1, 1, 1, 0, 0,\n",
       "       1, 1, 1, 0, 1, 1, 1, 1, 1, 0, 1, 1, 1, 0, 1, 1, 1, 0, 1, 0, 1, 0,\n",
       "       1, 1, 1, 0, 0, 1, 1, 1, 1, 1, 1, 0, 1, 1, 0, 1, 0, 0, 1, 0, 0, 1,\n",
       "       1, 1, 1, 1, 0, 1, 1, 1, 1, 0, 1, 1, 0, 1, 0, 0, 1, 0, 1, 1, 1, 0,\n",
       "       1, 1, 1, 1, 1, 1, 1, 1, 0, 0, 0, 1, 1, 0, 1, 0, 1, 0, 1, 0, 1, 1,\n",
       "       1, 1, 1, 1, 1, 1, 1, 1, 0, 1, 1, 1, 1, 0, 0, 1, 1, 1, 1, 0, 1, 1,\n",
       "       1, 1, 1, 0, 1, 1, 1, 1, 1, 0, 1, 0, 1, 1, 1, 0, 1, 1, 1, 1, 1, 1,\n",
       "       1, 1, 1, 1, 0, 1, 1, 1, 0, 1, 1, 1, 0, 1, 1, 1, 1, 1, 1, 0, 1, 0,\n",
       "       1, 1, 0, 0, 1, 1, 1, 1, 1, 1, 1, 1, 1, 1, 0, 1, 1, 1, 1, 1, 1, 0,\n",
       "       1, 1, 1, 1, 0, 1, 1, 1, 1, 1, 1, 1, 1, 1, 0, 1, 1, 1, 1, 1, 0, 1,\n",
       "       1, 0, 0, 1, 1, 1, 1, 1, 1, 0, 1, 1, 0, 0, 1, 1, 1, 0, 1, 1, 0, 1,\n",
       "       1, 1, 1, 1, 0, 1, 0, 1, 0, 0, 1, 0, 0, 1, 1, 1, 1, 1, 1, 1, 0, 0,\n",
       "       0, 1, 0, 1, 1, 0, 1, 0, 1, 1, 0, 0, 1, 1, 1, 0, 1, 1, 1, 1, 0, 1,\n",
       "       1, 0, 1, 1, 1, 1, 0, 1, 1, 0, 1, 1, 1, 1, 1, 1, 1, 1, 1, 0, 1, 1,\n",
       "       0, 0, 1, 1, 0, 1, 1, 1, 1, 0, 1, 1, 1, 1, 1, 0, 1, 1, 1, 1, 1, 1,\n",
       "       1, 0, 1, 0, 1, 1, 1, 1, 1, 1, 1, 1, 0, 1, 1, 1, 1, 1, 1, 1, 0, 0,\n",
       "       1, 1, 1, 1, 1, 1, 1, 1, 0, 0, 1, 0, 0, 1, 0, 1, 1, 1, 1, 1, 1, 1,\n",
       "       1, 1, 0, 1, 0, 1, 1, 0, 1, 1, 1, 0, 1, 1, 1, 1, 1, 0, 0, 1, 1, 1,\n",
       "       1, 0, 1, 0, 1, 1, 1, 1, 1, 0, 1, 0, 1, 1, 1, 1, 1, 0, 1, 1, 0, 1,\n",
       "       1, 1, 1, 1, 1, 0, 0, 1, 1, 1, 1, 1, 1, 1, 1, 1, 1, 1, 1, 1, 1, 1,\n",
       "       1, 1, 1, 1, 1, 0, 1, 1])"
      ]
     },
     "execution_count": 625,
     "metadata": {},
     "output_type": "execute_result"
    }
   ],
   "source": [
    "clf.predict(X_test_1)"
   ]
  },
  {
   "cell_type": "code",
   "execution_count": 626,
   "metadata": {},
   "outputs": [
    {
     "data": {
      "text/plain": [
       "0.6224137931034482"
      ]
     },
     "execution_count": 626,
     "metadata": {},
     "output_type": "execute_result"
    }
   ],
   "source": [
    "clf.score(X_test_1, Y_test_1)"
   ]
  },
  {
   "cell_type": "code",
   "execution_count": 627,
   "metadata": {},
   "outputs": [],
   "source": [
    "clf = sklearn.neural_network.MLPClassifier()"
   ]
  },
  {
   "cell_type": "code",
   "execution_count": 628,
   "metadata": {},
   "outputs": [
    {
     "data": {
      "text/plain": [
       "MLPClassifier(activation='relu', alpha=0.0001, batch_size='auto', beta_1=0.9,\n",
       "       beta_2=0.999, early_stopping=False, epsilon=1e-08,\n",
       "       hidden_layer_sizes=(100,), learning_rate='constant',\n",
       "       learning_rate_init=0.001, max_iter=200, momentum=0.9,\n",
       "       n_iter_no_change=10, nesterovs_momentum=True, power_t=0.5,\n",
       "       random_state=None, shuffle=True, solver='adam', tol=0.0001,\n",
       "       validation_fraction=0.1, verbose=False, warm_start=False)"
      ]
     },
     "execution_count": 628,
     "metadata": {},
     "output_type": "execute_result"
    }
   ],
   "source": [
    "clf.fit(X_train_2_full, Y_train_2_full)"
   ]
  },
  {
   "cell_type": "code",
   "execution_count": 629,
   "metadata": {},
   "outputs": [
    {
     "data": {
      "text/plain": [
       "0.5172413793103449"
      ]
     },
     "execution_count": 629,
     "metadata": {},
     "output_type": "execute_result"
    }
   ],
   "source": [
    "clf.score(X_test_2, Y_test_2)"
   ]
  },
  {
   "cell_type": "code",
   "execution_count": 630,
   "metadata": {},
   "outputs": [],
   "source": [
    "clf = sklearn.neural_network.MLPClassifier()"
   ]
  },
  {
   "cell_type": "code",
   "execution_count": 631,
   "metadata": {},
   "outputs": [
    {
     "data": {
      "text/plain": [
       "MLPClassifier(activation='relu', alpha=0.0001, batch_size='auto', beta_1=0.9,\n",
       "       beta_2=0.999, early_stopping=False, epsilon=1e-08,\n",
       "       hidden_layer_sizes=(100,), learning_rate='constant',\n",
       "       learning_rate_init=0.001, max_iter=200, momentum=0.9,\n",
       "       n_iter_no_change=10, nesterovs_momentum=True, power_t=0.5,\n",
       "       random_state=None, shuffle=True, solver='adam', tol=0.0001,\n",
       "       validation_fraction=0.1, verbose=False, warm_start=False)"
      ]
     },
     "execution_count": 631,
     "metadata": {},
     "output_type": "execute_result"
    }
   ],
   "source": [
    "clf.fit(X_train_3_full, Y_train_3_full)"
   ]
  },
  {
   "cell_type": "code",
   "execution_count": 632,
   "metadata": {},
   "outputs": [
    {
     "data": {
      "text/plain": [
       "0.5844827586206897"
      ]
     },
     "execution_count": 632,
     "metadata": {},
     "output_type": "execute_result"
    }
   ],
   "source": [
    "clf.score(X_test_3, Y_test_3)"
   ]
  },
  {
   "cell_type": "code",
   "execution_count": 633,
   "metadata": {},
   "outputs": [],
   "source": [
    "clf = sklearn.neural_network.MLPClassifier()"
   ]
  },
  {
   "cell_type": "code",
   "execution_count": 634,
   "metadata": {},
   "outputs": [
    {
     "data": {
      "text/plain": [
       "MLPClassifier(activation='relu', alpha=0.0001, batch_size='auto', beta_1=0.9,\n",
       "       beta_2=0.999, early_stopping=False, epsilon=1e-08,\n",
       "       hidden_layer_sizes=(100,), learning_rate='constant',\n",
       "       learning_rate_init=0.001, max_iter=200, momentum=0.9,\n",
       "       n_iter_no_change=10, nesterovs_momentum=True, power_t=0.5,\n",
       "       random_state=None, shuffle=True, solver='adam', tol=0.0001,\n",
       "       validation_fraction=0.1, verbose=False, warm_start=False)"
      ]
     },
     "execution_count": 634,
     "metadata": {},
     "output_type": "execute_result"
    }
   ],
   "source": [
    "clf.fit(X_train_4_full, Y_train_4_full)"
   ]
  },
  {
   "cell_type": "code",
   "execution_count": 635,
   "metadata": {},
   "outputs": [
    {
     "data": {
      "text/plain": [
       "0.6482758620689655"
      ]
     },
     "execution_count": 635,
     "metadata": {},
     "output_type": "execute_result"
    }
   ],
   "source": [
    "clf.score(X_test_4, Y_test_4)"
   ]
  },
  {
   "cell_type": "code",
   "execution_count": 636,
   "metadata": {},
   "outputs": [],
   "source": [
    "clf = sklearn.neural_network.MLPClassifier()"
   ]
  },
  {
   "cell_type": "code",
   "execution_count": 637,
   "metadata": {},
   "outputs": [
    {
     "data": {
      "text/plain": [
       "MLPClassifier(activation='relu', alpha=0.0001, batch_size='auto', beta_1=0.9,\n",
       "       beta_2=0.999, early_stopping=False, epsilon=1e-08,\n",
       "       hidden_layer_sizes=(100,), learning_rate='constant',\n",
       "       learning_rate_init=0.001, max_iter=200, momentum=0.9,\n",
       "       n_iter_no_change=10, nesterovs_momentum=True, power_t=0.5,\n",
       "       random_state=None, shuffle=True, solver='adam', tol=0.0001,\n",
       "       validation_fraction=0.1, verbose=False, warm_start=False)"
      ]
     },
     "execution_count": 637,
     "metadata": {},
     "output_type": "execute_result"
    }
   ],
   "source": [
    "clf.fit(X_train_5_full, Y_train_5_full)"
   ]
  },
  {
   "cell_type": "code",
   "execution_count": 638,
   "metadata": {},
   "outputs": [
    {
     "data": {
      "text/plain": [
       "0.5655172413793104"
      ]
     },
     "execution_count": 638,
     "metadata": {},
     "output_type": "execute_result"
    }
   ],
   "source": [
    "clf.score(X_test_5, Y_test_5)"
   ]
  },
  {
   "cell_type": "code",
   "execution_count": 639,
   "metadata": {},
   "outputs": [],
   "source": [
    "clf = sklearn.neural_network.MLPClassifier()"
   ]
  },
  {
   "cell_type": "code",
   "execution_count": 640,
   "metadata": {},
   "outputs": [
    {
     "data": {
      "text/plain": [
       "MLPClassifier(activation='relu', alpha=0.0001, batch_size='auto', beta_1=0.9,\n",
       "       beta_2=0.999, early_stopping=False, epsilon=1e-08,\n",
       "       hidden_layer_sizes=(100,), learning_rate='constant',\n",
       "       learning_rate_init=0.001, max_iter=200, momentum=0.9,\n",
       "       n_iter_no_change=10, nesterovs_momentum=True, power_t=0.5,\n",
       "       random_state=None, shuffle=True, solver='adam', tol=0.0001,\n",
       "       validation_fraction=0.1, verbose=False, warm_start=False)"
      ]
     },
     "execution_count": 640,
     "metadata": {},
     "output_type": "execute_result"
    }
   ],
   "source": [
    "clf.fit(X_train_6_full, Y_train_6_full)"
   ]
  },
  {
   "cell_type": "code",
   "execution_count": 641,
   "metadata": {},
   "outputs": [
    {
     "data": {
      "text/plain": [
       "0.7034482758620689"
      ]
     },
     "execution_count": 641,
     "metadata": {},
     "output_type": "execute_result"
    }
   ],
   "source": [
    "clf.score(X_test_6, Y_test_6)"
   ]
  },
  {
   "cell_type": "code",
   "execution_count": 642,
   "metadata": {},
   "outputs": [],
   "source": [
    "clf = sklearn.neural_network.MLPClassifier()"
   ]
  },
  {
   "cell_type": "code",
   "execution_count": 643,
   "metadata": {},
   "outputs": [
    {
     "data": {
      "text/plain": [
       "MLPClassifier(activation='relu', alpha=0.0001, batch_size='auto', beta_1=0.9,\n",
       "       beta_2=0.999, early_stopping=False, epsilon=1e-08,\n",
       "       hidden_layer_sizes=(100,), learning_rate='constant',\n",
       "       learning_rate_init=0.001, max_iter=200, momentum=0.9,\n",
       "       n_iter_no_change=10, nesterovs_momentum=True, power_t=0.5,\n",
       "       random_state=None, shuffle=True, solver='adam', tol=0.0001,\n",
       "       validation_fraction=0.1, verbose=False, warm_start=False)"
      ]
     },
     "execution_count": 643,
     "metadata": {},
     "output_type": "execute_result"
    }
   ],
   "source": [
    "clf.fit(X_train_7_full, Y_train_7_full)"
   ]
  },
  {
   "cell_type": "code",
   "execution_count": 644,
   "metadata": {},
   "outputs": [
    {
     "data": {
      "text/plain": [
       "0.6344827586206897"
      ]
     },
     "execution_count": 644,
     "metadata": {},
     "output_type": "execute_result"
    }
   ],
   "source": [
    "clf.score(X_test_7, Y_test_7)"
   ]
  },
  {
   "cell_type": "code",
   "execution_count": 645,
   "metadata": {},
   "outputs": [],
   "source": [
    "clf = sklearn.neural_network.MLPClassifier()"
   ]
  },
  {
   "cell_type": "code",
   "execution_count": 646,
   "metadata": {},
   "outputs": [
    {
     "data": {
      "text/plain": [
       "MLPClassifier(activation='relu', alpha=0.0001, batch_size='auto', beta_1=0.9,\n",
       "       beta_2=0.999, early_stopping=False, epsilon=1e-08,\n",
       "       hidden_layer_sizes=(100,), learning_rate='constant',\n",
       "       learning_rate_init=0.001, max_iter=200, momentum=0.9,\n",
       "       n_iter_no_change=10, nesterovs_momentum=True, power_t=0.5,\n",
       "       random_state=None, shuffle=True, solver='adam', tol=0.0001,\n",
       "       validation_fraction=0.1, verbose=False, warm_start=False)"
      ]
     },
     "execution_count": 646,
     "metadata": {},
     "output_type": "execute_result"
    }
   ],
   "source": [
    "clf.fit(X_train_8_full, Y_train_8_full)"
   ]
  },
  {
   "cell_type": "code",
   "execution_count": 647,
   "metadata": {},
   "outputs": [
    {
     "data": {
      "text/plain": [
       "0.5189655172413793"
      ]
     },
     "execution_count": 647,
     "metadata": {},
     "output_type": "execute_result"
    }
   ],
   "source": [
    "clf.score(X_test_8, Y_test_1)"
   ]
  },
  {
   "cell_type": "code",
   "execution_count": 648,
   "metadata": {},
   "outputs": [],
   "source": [
    "clf = sklearn.neural_network.MLPClassifier()"
   ]
  },
  {
   "cell_type": "code",
   "execution_count": 649,
   "metadata": {},
   "outputs": [
    {
     "data": {
      "text/plain": [
       "MLPClassifier(activation='relu', alpha=0.0001, batch_size='auto', beta_1=0.9,\n",
       "       beta_2=0.999, early_stopping=False, epsilon=1e-08,\n",
       "       hidden_layer_sizes=(100,), learning_rate='constant',\n",
       "       learning_rate_init=0.001, max_iter=200, momentum=0.9,\n",
       "       n_iter_no_change=10, nesterovs_momentum=True, power_t=0.5,\n",
       "       random_state=None, shuffle=True, solver='adam', tol=0.0001,\n",
       "       validation_fraction=0.1, verbose=False, warm_start=False)"
      ]
     },
     "execution_count": 649,
     "metadata": {},
     "output_type": "execute_result"
    }
   ],
   "source": [
    "clf.fit(X_train_9_full, Y_train_9_full)"
   ]
  },
  {
   "cell_type": "code",
   "execution_count": 650,
   "metadata": {},
   "outputs": [
    {
     "data": {
      "text/plain": [
       "0.6086206896551725"
      ]
     },
     "execution_count": 650,
     "metadata": {},
     "output_type": "execute_result"
    }
   ],
   "source": [
    "clf.score(X_test_9, Y_test_9)"
   ]
  },
  {
   "cell_type": "code",
   "execution_count": 651,
   "metadata": {},
   "outputs": [],
   "source": [
    "clf = sklearn.neural_network.MLPClassifier()"
   ]
  },
  {
   "cell_type": "code",
   "execution_count": 652,
   "metadata": {},
   "outputs": [
    {
     "data": {
      "text/plain": [
       "MLPClassifier(activation='relu', alpha=0.0001, batch_size='auto', beta_1=0.9,\n",
       "       beta_2=0.999, early_stopping=False, epsilon=1e-08,\n",
       "       hidden_layer_sizes=(100,), learning_rate='constant',\n",
       "       learning_rate_init=0.001, max_iter=200, momentum=0.9,\n",
       "       n_iter_no_change=10, nesterovs_momentum=True, power_t=0.5,\n",
       "       random_state=None, shuffle=True, solver='adam', tol=0.0001,\n",
       "       validation_fraction=0.1, verbose=False, warm_start=False)"
      ]
     },
     "execution_count": 652,
     "metadata": {},
     "output_type": "execute_result"
    }
   ],
   "source": [
    "clf.fit(X_train_10_full, Y_train_10_full)"
   ]
  },
  {
   "cell_type": "code",
   "execution_count": 653,
   "metadata": {},
   "outputs": [
    {
     "data": {
      "text/plain": [
       "0.6517241379310345"
      ]
     },
     "execution_count": 653,
     "metadata": {},
     "output_type": "execute_result"
    }
   ],
   "source": [
    "clf.score(X_test_10, Y_test_10)"
   ]
  },
  {
   "cell_type": "code",
   "execution_count": null,
   "metadata": {},
   "outputs": [],
   "source": []
  },
  {
   "cell_type": "code",
   "execution_count": null,
   "metadata": {},
   "outputs": [],
   "source": []
  },
  {
   "cell_type": "code",
   "execution_count": null,
   "metadata": {},
   "outputs": [],
   "source": []
  }
 ],
 "metadata": {
  "kernelspec": {
   "display_name": "Python 3",
   "language": "python",
   "name": "python3"
  },
  "language_info": {
   "codemirror_mode": {
    "name": "ipython",
    "version": 3
   },
   "file_extension": ".py",
   "mimetype": "text/x-python",
   "name": "python",
   "nbconvert_exporter": "python",
   "pygments_lexer": "ipython3",
   "version": "3.7.3"
  }
 },
 "nbformat": 4,
 "nbformat_minor": 2
}
