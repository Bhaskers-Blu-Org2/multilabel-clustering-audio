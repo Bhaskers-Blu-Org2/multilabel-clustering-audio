{
 "cells": [
  {
   "cell_type": "code",
   "execution_count": 2,
   "metadata": {},
   "outputs": [],
   "source": [
    "import pandas as pd\n",
    "import numpy as np\n",
    "import shutil\n",
    "import os\n",
    "from tqdm import tqdm\n",
    "import glob"
   ]
  },
  {
   "cell_type": "markdown",
   "metadata": {},
   "source": [
    "## Load metadata and get label list"
   ]
  },
  {
   "cell_type": "code",
   "execution_count": 3,
   "metadata": {},
   "outputs": [],
   "source": [
    "metadatafile = '/home/t-anmend/UrbanSound8K/metadata/UrbanSound8K.csv'\n",
    "metadata = pd.read_csv(metadatafile)"
   ]
  },
  {
   "cell_type": "code",
   "execution_count": 4,
   "metadata": {},
   "outputs": [
    {
     "name": "stdout",
     "output_type": "stream",
     "text": [
      "['air_conditioner', 'car_horn', 'children_playing', 'dog_bark', 'drilling', 'engine_idling', 'gun_shot', 'jackhammer', 'siren', 'street_music']\n"
     ]
    }
   ],
   "source": [
    "label_list = sorted(metadata['class'].unique())\n",
    "print(label_list)"
   ]
  },
  {
   "cell_type": "markdown",
   "metadata": {},
   "source": [
    "## Create soundbank for TRAIN 1 (folds 1-9)"
   ]
  },
  {
   "cell_type": "code",
   "execution_count": 7,
   "metadata": {},
   "outputs": [
    {
     "name": "stderr",
     "output_type": "stream",
     "text": [
      "  4%|▍         | 37/873 [00:00<00:02, 358.54it/s]"
     ]
    },
    {
     "name": "stdout",
     "output_type": "stream",
     "text": [
      "FOLD 1\n",
      "/home/t-anmend/UrbanSound8K/soundbanks/train_1/foreground/air_conditioner\n",
      "/home/t-anmend/UrbanSound8K/soundbanks/train_1/foreground/car_horn\n",
      "/home/t-anmend/UrbanSound8K/soundbanks/train_1/foreground/engine_idling\n",
      "/home/t-anmend/UrbanSound8K/soundbanks/train_1/foreground/jackhammer\n",
      "/home/t-anmend/UrbanSound8K/soundbanks/train_1/foreground/street_music\n",
      "/home/t-anmend/UrbanSound8K/soundbanks/train_1/foreground/gun_shot\n",
      "/home/t-anmend/UrbanSound8K/soundbanks/train_1/foreground/dog_bark\n",
      "/home/t-anmend/UrbanSound8K/soundbanks/train_1/foreground/children_playing\n",
      "/home/t-anmend/UrbanSound8K/soundbanks/train_1/foreground/siren\n",
      "/home/t-anmend/UrbanSound8K/soundbanks/train_1/foreground/drilling\n"
     ]
    },
    {
     "name": "stderr",
     "output_type": "stream",
     "text": [
      "100%|██████████| 873/873 [00:01<00:00, 480.53it/s]\n",
      "  6%|▌         | 55/888 [00:00<00:01, 548.74it/s]"
     ]
    },
    {
     "name": "stdout",
     "output_type": "stream",
     "text": [
      "   Fold 1 labels:\n",
      "   air_conditioner:\t100\n",
      "   car_horn:\t36\n",
      "   children_playing:\t100\n",
      "   dog_bark:\t100\n",
      "   drilling:\t100\n",
      "   engine_idling:\t96\n",
      "   gun_shot:\t35\n",
      "   jackhammer:\t120\n",
      "   siren:\t86\n",
      "   street_music:\t100\n",
      "FOLD 2\n"
     ]
    },
    {
     "name": "stderr",
     "output_type": "stream",
     "text": [
      "100%|██████████| 888/888 [00:01<00:00, 528.64it/s]\n",
      "  6%|▌         | 55/925 [00:00<00:01, 549.29it/s]"
     ]
    },
    {
     "name": "stdout",
     "output_type": "stream",
     "text": [
      "   Fold 2 labels:\n",
      "   air_conditioner:\t100\n",
      "   car_horn:\t42\n",
      "   children_playing:\t100\n",
      "   dog_bark:\t100\n",
      "   drilling:\t100\n",
      "   engine_idling:\t100\n",
      "   gun_shot:\t35\n",
      "   jackhammer:\t120\n",
      "   siren:\t91\n",
      "   street_music:\t100\n",
      "FOLD 3\n"
     ]
    },
    {
     "name": "stderr",
     "output_type": "stream",
     "text": [
      "100%|██████████| 925/925 [00:01<00:00, 552.78it/s]\n",
      "  6%|▌         | 55/990 [00:00<00:01, 541.10it/s]"
     ]
    },
    {
     "name": "stdout",
     "output_type": "stream",
     "text": [
      "   Fold 3 labels:\n",
      "   air_conditioner:\t100\n",
      "   car_horn:\t43\n",
      "   children_playing:\t100\n",
      "   dog_bark:\t100\n",
      "   drilling:\t100\n",
      "   engine_idling:\t107\n",
      "   gun_shot:\t36\n",
      "   jackhammer:\t120\n",
      "   siren:\t119\n",
      "   street_music:\t100\n",
      "FOLD 4\n"
     ]
    },
    {
     "name": "stderr",
     "output_type": "stream",
     "text": [
      "100%|██████████| 990/990 [00:01<00:00, 522.44it/s]\n",
      "  6%|▌         | 52/936 [00:00<00:01, 515.31it/s]"
     ]
    },
    {
     "name": "stdout",
     "output_type": "stream",
     "text": [
      "   Fold 4 labels:\n",
      "   air_conditioner:\t100\n",
      "   car_horn:\t59\n",
      "   children_playing:\t100\n",
      "   dog_bark:\t100\n",
      "   drilling:\t100\n",
      "   engine_idling:\t107\n",
      "   gun_shot:\t38\n",
      "   jackhammer:\t120\n",
      "   siren:\t166\n",
      "   street_music:\t100\n",
      "FOLD 5\n"
     ]
    },
    {
     "name": "stderr",
     "output_type": "stream",
     "text": [
      "100%|██████████| 936/936 [00:01<00:00, 543.94it/s]\n",
      "  7%|▋         | 56/823 [00:00<00:01, 555.21it/s]"
     ]
    },
    {
     "name": "stdout",
     "output_type": "stream",
     "text": [
      "   Fold 5 labels:\n",
      "   air_conditioner:\t100\n",
      "   car_horn:\t98\n",
      "   children_playing:\t100\n",
      "   dog_bark:\t100\n",
      "   drilling:\t100\n",
      "   engine_idling:\t107\n",
      "   gun_shot:\t40\n",
      "   jackhammer:\t120\n",
      "   siren:\t71\n",
      "   street_music:\t100\n",
      "FOLD 6\n"
     ]
    },
    {
     "name": "stderr",
     "output_type": "stream",
     "text": [
      "100%|██████████| 823/823 [00:01<00:00, 557.30it/s]\n",
      "  7%|▋         | 57/838 [00:00<00:01, 567.59it/s]"
     ]
    },
    {
     "name": "stdout",
     "output_type": "stream",
     "text": [
      "   Fold 6 labels:\n",
      "   air_conditioner:\t100\n",
      "   car_horn:\t28\n",
      "   children_playing:\t100\n",
      "   dog_bark:\t100\n",
      "   drilling:\t100\n",
      "   engine_idling:\t107\n",
      "   gun_shot:\t46\n",
      "   jackhammer:\t68\n",
      "   siren:\t74\n",
      "   street_music:\t100\n",
      "FOLD 7\n"
     ]
    },
    {
     "name": "stderr",
     "output_type": "stream",
     "text": [
      "100%|██████████| 838/838 [00:01<00:00, 539.82it/s]\n",
      "  6%|▋         | 52/806 [00:00<00:01, 512.82it/s]"
     ]
    },
    {
     "name": "stdout",
     "output_type": "stream",
     "text": [
      "   Fold 7 labels:\n",
      "   air_conditioner:\t100\n",
      "   car_horn:\t28\n",
      "   children_playing:\t100\n",
      "   dog_bark:\t100\n",
      "   drilling:\t100\n",
      "   engine_idling:\t106\n",
      "   gun_shot:\t51\n",
      "   jackhammer:\t76\n",
      "   siren:\t77\n",
      "   street_music:\t100\n",
      "FOLD 8\n"
     ]
    },
    {
     "name": "stderr",
     "output_type": "stream",
     "text": [
      "100%|██████████| 806/806 [00:01<00:00, 524.31it/s]\n",
      "  7%|▋         | 54/816 [00:00<00:01, 532.93it/s]"
     ]
    },
    {
     "name": "stdout",
     "output_type": "stream",
     "text": [
      "   Fold 8 labels:\n",
      "   air_conditioner:\t100\n",
      "   car_horn:\t30\n",
      "   children_playing:\t100\n",
      "   dog_bark:\t100\n",
      "   drilling:\t100\n",
      "   engine_idling:\t88\n",
      "   gun_shot:\t30\n",
      "   jackhammer:\t78\n",
      "   siren:\t80\n",
      "   street_music:\t100\n",
      "FOLD 9\n"
     ]
    },
    {
     "name": "stderr",
     "output_type": "stream",
     "text": [
      "100%|██████████| 816/816 [00:01<00:00, 528.28it/s]\n",
      "  5%|▍         | 39/837 [00:00<00:02, 388.95it/s]"
     ]
    },
    {
     "name": "stdout",
     "output_type": "stream",
     "text": [
      "   Fold 9 labels:\n",
      "   air_conditioner:\t100\n",
      "   car_horn:\t32\n",
      "   children_playing:\t100\n",
      "   dog_bark:\t100\n",
      "   drilling:\t100\n",
      "   engine_idling:\t89\n",
      "   gun_shot:\t31\n",
      "   jackhammer:\t82\n",
      "   siren:\t82\n",
      "   street_music:\t100\n",
      "FOLD 10\n"
     ]
    },
    {
     "name": "stderr",
     "output_type": "stream",
     "text": [
      "100%|██████████| 837/837 [00:01<00:00, 520.94it/s]"
     ]
    },
    {
     "name": "stdout",
     "output_type": "stream",
     "text": [
      "   Fold 10 labels:\n",
      "   air_conditioner:\t100\n",
      "   car_horn:\t33\n",
      "   children_playing:\t100\n",
      "   dog_bark:\t100\n",
      "   drilling:\t100\n",
      "   engine_idling:\t93\n",
      "   gun_shot:\t32\n",
      "   jackhammer:\t96\n",
      "   siren:\t83\n",
      "   street_music:\t100\n",
      "\n",
      "\n",
      "OVERALL labels:\n",
      "air_conditioner:\t1000\n",
      "car_horn:\t429\n",
      "children_playing:\t1000\n",
      "dog_bark:\t1000\n",
      "drilling:\t1000\n",
      "engine_idling:\t1000\n",
      "gun_shot:\t374\n",
      "jackhammer:\t1000\n",
      "siren:\t929\n",
      "street_music:\t1000\n"
     ]
    },
    {
     "name": "stderr",
     "output_type": "stream",
     "text": [
      "\n"
     ]
    }
   ],
   "source": [
    "folds = [1, 2, 3, 4, 5, 6, 7, 8, 9, 10]\n",
    "splitname = 'train_1'\n",
    "\n",
    "soundbankfolder = '/home/t-anmend/UrbanSound8K/soundbanks/'\n",
    "soundbankfolder = os.path.join(soundbankfolder, splitname)\n",
    "\n",
    "label_count = {}\n",
    "for label in label_list:\n",
    "    label_count[label] = 0\n",
    "\n",
    "for fold in folds:\n",
    "    \n",
    "    print('FOLD {:d}'.format(fold))\n",
    "    audiofolder = '/home/t-anmend/UrbanSound8K/audio/fold{:d}/'.format(fold)\n",
    "    audiofiles = glob.glob(os.path.join(audiofolder, '*.wav'))\n",
    "    \n",
    "    fold_label_count = {}\n",
    "    for label in label_list:\n",
    "        fold_label_count[label] = 0\n",
    "    \n",
    "    for af in tqdm(audiofiles):\n",
    "        # print(os.path.basename(af))\n",
    "        label = metadata.loc[metadata.slice_file_name == os.path.basename(af), 'class'].values[0]\n",
    "        label_count[label] += 1\n",
    "        fold_label_count[label] += 1\n",
    "        destfolder = os.path.join(soundbankfolder, 'foreground', label)\n",
    "        if not os.path.isdir(destfolder):\n",
    "            print(destfolder)\n",
    "\n",
    "            os.mkdir(destfolder)\n",
    "        destfile = os.path.join(destfolder, os.path.basename(af))\n",
    "        shutil.copyfile(af, destfile)\n",
    "        \n",
    "    # Print fold report\n",
    "    print('   Fold {:d} labels:'.format(fold))\n",
    "    for label in label_list:\n",
    "        print('   {:s}:\\t{:d}'.format(label, fold_label_count[label]))\n",
    "        \n",
    "# Print overall report\n",
    "print('\\n\\nOVERALL labels:')\n",
    "for label in label_list:\n",
    "    print('{:s}:\\t{:d}'.format(label, label_count[label]))"
   ]
  },
  {
   "cell_type": "markdown",
   "metadata": {},
   "source": [
    "## Create soundbank for TEST 1 (folds 10)"
   ]
  },
  {
   "cell_type": "code",
   "execution_count": 6,
   "metadata": {},
   "outputs": [
    {
     "name": "stderr",
     "output_type": "stream",
     "text": [
      "  1%|          | 8/765 [00:00<00:09, 77.56it/s]"
     ]
    },
    {
     "name": "stdout",
     "output_type": "stream",
     "text": [
      "FOLD 10\n"
     ]
    },
    {
     "name": "stderr",
     "output_type": "stream",
     "text": [
      "100%|██████████| 765/765 [00:07<00:00, 98.18it/s] "
     ]
    },
    {
     "name": "stdout",
     "output_type": "stream",
     "text": [
      "   Fold 10 labels:\n",
      "   air_conditioner:\t100\n",
      "   car_horn:\t33\n",
      "   children_playing:\t100\n",
      "   dog_bark:\t92\n",
      "   drilling:\t100\n",
      "   engine_idling:\t93\n",
      "   gun_shot:\t32\n",
      "   jackhammer:\t32\n",
      "   siren:\t83\n",
      "   street_music:\t100\n",
      "\n",
      "\n",
      "OVERALL labels:\n",
      "air_conditioner:\t100\n",
      "car_horn:\t33\n",
      "children_playing:\t100\n",
      "dog_bark:\t92\n",
      "drilling:\t100\n",
      "engine_idling:\t93\n",
      "gun_shot:\t32\n",
      "jackhammer:\t32\n",
      "siren:\t83\n",
      "street_music:\t100\n"
     ]
    },
    {
     "name": "stderr",
     "output_type": "stream",
     "text": [
      "\n"
     ]
    }
   ],
   "source": [
    "folds = [10]\n",
    "splitname = 'test_1'\n",
    "\n",
    "soundbankfolder = '/Users/anaemendezmendez/Documents/NYU_PHD/UrbanSound8K/soundbanks/'\n",
    "soundbankfolder = os.path.join(soundbankfolder, splitname)\n",
    "\n",
    "label_count = {}\n",
    "for label in label_list:\n",
    "    label_count[label] = 0\n",
    "\n",
    "for fold in folds:\n",
    "    \n",
    "    print('FOLD {:d}'.format(fold))\n",
    "    audiofolder = '/Users/anaemendezmendez/Documents/NYU_PHD/UrbanSound8K/audio/fold{:d}/'.format(fold)\n",
    "    audiofiles = glob.glob(os.path.join(audiofolder, '*.wav'))\n",
    "    \n",
    "    fold_label_count = {}\n",
    "    for label in label_list:\n",
    "        fold_label_count[label] = 0\n",
    "    \n",
    "    for af in tqdm(audiofiles):\n",
    "        # print(os.path.basename(af))\n",
    "        label = metadata.loc[metadata.slice_file_name == os.path.basename(af), 'class'].values[0]\n",
    "        label_count[label] += 1\n",
    "        fold_label_count[label] += 1\n",
    "        destfolder = os.path.join(soundbankfolder, 'foreground', label)\n",
    "        if not os.path.isdir(destfolder):\n",
    "            os.mkdir(destfolder)\n",
    "        destfile = os.path.join(destfolder, os.path.basename(af))\n",
    "        shutil.copyfile(af, destfile)\n",
    "        \n",
    "    # Print fold report\n",
    "    print('   Fold {:d} labels:'.format(fold))\n",
    "    for label in label_list:\n",
    "        print('   {:s}:\\t{:d}'.format(label, fold_label_count[label]))\n",
    "        \n",
    "# Print overall report\n",
    "print('\\n\\nOVERALL labels:')\n",
    "for label in label_list:\n",
    "    print('{:s}:\\t{:d}'.format(label, label_count[label]))"
   ]
  },
  {
   "cell_type": "markdown",
   "metadata": {},
   "source": [
    "## Create soundbank for TRAIN_2 (folds 1-8, 10)"
   ]
  },
  {
   "cell_type": "code",
   "execution_count": 7,
   "metadata": {},
   "outputs": [
    {
     "name": "stderr",
     "output_type": "stream",
     "text": [
      "  3%|▎         | 22/766 [00:00<00:03, 211.94it/s]"
     ]
    },
    {
     "name": "stdout",
     "output_type": "stream",
     "text": [
      "FOLD 1\n"
     ]
    },
    {
     "name": "stderr",
     "output_type": "stream",
     "text": [
      "100%|██████████| 766/766 [00:04<00:00, 177.58it/s]\n",
      "  2%|▏         | 19/870 [00:00<00:04, 179.23it/s]"
     ]
    },
    {
     "name": "stdout",
     "output_type": "stream",
     "text": [
      "   Fold 1 labels:\n",
      "   air_conditioner:\t100\n",
      "   car_horn:\t36\n",
      "   children_playing:\t100\n",
      "   dog_bark:\t89\n",
      "   drilling:\t100\n",
      "   engine_idling:\t86\n",
      "   gun_shot:\t35\n",
      "   jackhammer:\t41\n",
      "   siren:\t86\n",
      "   street_music:\t93\n",
      "FOLD 2\n"
     ]
    },
    {
     "name": "stderr",
     "output_type": "stream",
     "text": [
      "100%|██████████| 870/870 [00:04<00:00, 183.18it/s]\n",
      "  3%|▎         | 23/918 [00:00<00:03, 228.62it/s]"
     ]
    },
    {
     "name": "stdout",
     "output_type": "stream",
     "text": [
      "   Fold 2 labels:\n",
      "   air_conditioner:\t100\n",
      "   car_horn:\t42\n",
      "   children_playing:\t100\n",
      "   dog_bark:\t96\n",
      "   drilling:\t100\n",
      "   engine_idling:\t92\n",
      "   gun_shot:\t35\n",
      "   jackhammer:\t120\n",
      "   siren:\t91\n",
      "   street_music:\t94\n",
      "FOLD 3\n"
     ]
    },
    {
     "name": "stderr",
     "output_type": "stream",
     "text": [
      "100%|██████████| 918/918 [00:04<00:00, 185.26it/s]\n",
      "  2%|▏         | 18/961 [00:00<00:05, 171.41it/s]"
     ]
    },
    {
     "name": "stdout",
     "output_type": "stream",
     "text": [
      "   Fold 3 labels:\n",
      "   air_conditioner:\t100\n",
      "   car_horn:\t43\n",
      "   children_playing:\t100\n",
      "   dog_bark:\t94\n",
      "   drilling:\t100\n",
      "   engine_idling:\t107\n",
      "   gun_shot:\t36\n",
      "   jackhammer:\t119\n",
      "   siren:\t119\n",
      "   street_music:\t100\n",
      "FOLD 4\n"
     ]
    },
    {
     "name": "stderr",
     "output_type": "stream",
     "text": [
      "100%|██████████| 961/961 [00:05<00:00, 178.47it/s]\n",
      "  0%|          | 4/902 [00:00<00:24, 36.61it/s]"
     ]
    },
    {
     "name": "stdout",
     "output_type": "stream",
     "text": [
      "   Fold 4 labels:\n",
      "   air_conditioner:\t100\n",
      "   car_horn:\t57\n",
      "   children_playing:\t100\n",
      "   dog_bark:\t100\n",
      "   drilling:\t79\n",
      "   engine_idling:\t107\n",
      "   gun_shot:\t38\n",
      "   jackhammer:\t120\n",
      "   siren:\t166\n",
      "   street_music:\t94\n",
      "FOLD 5\n"
     ]
    },
    {
     "name": "stderr",
     "output_type": "stream",
     "text": [
      "100%|██████████| 902/902 [00:05<00:00, 179.74it/s]\n",
      "  2%|▏         | 20/807 [00:00<00:04, 189.21it/s]"
     ]
    },
    {
     "name": "stdout",
     "output_type": "stream",
     "text": [
      "   Fold 5 labels:\n",
      "   air_conditioner:\t100\n",
      "   car_horn:\t98\n",
      "   children_playing:\t92\n",
      "   dog_bark:\t95\n",
      "   drilling:\t84\n",
      "   engine_idling:\t107\n",
      "   gun_shot:\t40\n",
      "   jackhammer:\t120\n",
      "   siren:\t71\n",
      "   street_music:\t95\n",
      "FOLD 6\n"
     ]
    },
    {
     "name": "stderr",
     "output_type": "stream",
     "text": [
      "100%|██████████| 807/807 [00:04<00:00, 190.47it/s]\n",
      "  3%|▎         | 21/807 [00:00<00:03, 201.82it/s]"
     ]
    },
    {
     "name": "stdout",
     "output_type": "stream",
     "text": [
      "   Fold 6 labels:\n",
      "   air_conditioner:\t100\n",
      "   car_horn:\t28\n",
      "   children_playing:\t92\n",
      "   dog_bark:\t92\n",
      "   drilling:\t100\n",
      "   engine_idling:\t107\n",
      "   gun_shot:\t46\n",
      "   jackhammer:\t68\n",
      "   siren:\t74\n",
      "   street_music:\t100\n",
      "FOLD 7\n"
     ]
    },
    {
     "name": "stderr",
     "output_type": "stream",
     "text": [
      "100%|██████████| 807/807 [00:04<00:00, 195.66it/s]\n",
      "  3%|▎         | 22/732 [00:00<00:03, 218.22it/s]"
     ]
    },
    {
     "name": "stdout",
     "output_type": "stream",
     "text": [
      "   Fold 7 labels:\n",
      "   air_conditioner:\t100\n",
      "   car_horn:\t28\n",
      "   children_playing:\t100\n",
      "   dog_bark:\t93\n",
      "   drilling:\t82\n",
      "   engine_idling:\t100\n",
      "   gun_shot:\t51\n",
      "   jackhammer:\t76\n",
      "   siren:\t77\n",
      "   street_music:\t100\n",
      "FOLD 8\n"
     ]
    },
    {
     "name": "stderr",
     "output_type": "stream",
     "text": [
      "100%|██████████| 732/732 [00:03<00:00, 193.21it/s]\n",
      "  3%|▎         | 23/765 [00:00<00:03, 223.32it/s]"
     ]
    },
    {
     "name": "stdout",
     "output_type": "stream",
     "text": [
      "   Fold 8 labels:\n",
      "   air_conditioner:\t100\n",
      "   car_horn:\t30\n",
      "   children_playing:\t100\n",
      "   dog_bark:\t100\n",
      "   drilling:\t83\n",
      "   engine_idling:\t38\n",
      "   gun_shot:\t30\n",
      "   jackhammer:\t78\n",
      "   siren:\t80\n",
      "   street_music:\t93\n",
      "FOLD 10\n"
     ]
    },
    {
     "name": "stderr",
     "output_type": "stream",
     "text": [
      "100%|██████████| 765/765 [00:03<00:00, 193.70it/s]"
     ]
    },
    {
     "name": "stdout",
     "output_type": "stream",
     "text": [
      "   Fold 10 labels:\n",
      "   air_conditioner:\t100\n",
      "   car_horn:\t33\n",
      "   children_playing:\t100\n",
      "   dog_bark:\t92\n",
      "   drilling:\t100\n",
      "   engine_idling:\t93\n",
      "   gun_shot:\t32\n",
      "   jackhammer:\t32\n",
      "   siren:\t83\n",
      "   street_music:\t100\n",
      "\n",
      "\n",
      "OVERALL labels:\n",
      "air_conditioner:\t900\n",
      "car_horn:\t395\n",
      "children_playing:\t884\n",
      "dog_bark:\t851\n",
      "drilling:\t828\n",
      "engine_idling:\t837\n",
      "gun_shot:\t343\n",
      "jackhammer:\t774\n",
      "siren:\t847\n",
      "street_music:\t869\n"
     ]
    },
    {
     "name": "stderr",
     "output_type": "stream",
     "text": [
      "\n"
     ]
    }
   ],
   "source": [
    "folds = [1, 2, 3, 4, 5, 6, 7, 8, 10]\n",
    "splitname = 'train_2'\n",
    "\n",
    "soundbankfolder = '/Users/anaemendezmendez/Documents/NYU_PHD/UrbanSound8K/soundbanks/'\n",
    "soundbankfolder = os.path.join(soundbankfolder, splitname)\n",
    "\n",
    "label_count = {}\n",
    "for label in label_list:\n",
    "    label_count[label] = 0\n",
    "\n",
    "for fold in folds:\n",
    "    \n",
    "    print('FOLD {:d}'.format(fold))\n",
    "    audiofolder = '/Users/anaemendezmendez/Documents/NYU_PHD/UrbanSound8K/audio/fold{:d}/'.format(fold)\n",
    "    audiofiles = glob.glob(os.path.join(audiofolder, '*.wav'))\n",
    "    \n",
    "    fold_label_count = {}\n",
    "    for label in label_list:\n",
    "        fold_label_count[label] = 0\n",
    "    \n",
    "    for af in tqdm(audiofiles):\n",
    "        # print(os.path.basename(af))\n",
    "        label = metadata.loc[metadata.slice_file_name == os.path.basename(af), 'class'].values[0]\n",
    "        label_count[label] += 1\n",
    "        fold_label_count[label] += 1\n",
    "        destfolder = os.path.join(soundbankfolder, 'foreground', label)\n",
    "        if not os.path.isdir(destfolder):\n",
    "            os.mkdir(destfolder)\n",
    "        destfile = os.path.join(destfolder, os.path.basename(af))\n",
    "        shutil.copyfile(af, destfile)\n",
    "        \n",
    "    # Print fold report\n",
    "    print('   Fold {:d} labels:'.format(fold))\n",
    "    for label in label_list:\n",
    "        print('   {:s}:\\t{:d}'.format(label, fold_label_count[label]))\n",
    "        \n",
    "# Print overall report\n",
    "print('\\n\\nOVERALL labels:')\n",
    "for label in label_list:\n",
    "    print('{:s}:\\t{:d}'.format(label, label_count[label]))"
   ]
  },
  {
   "cell_type": "markdown",
   "metadata": {},
   "source": [
    "## Create soundbank for TEST 2 (folds 9)"
   ]
  },
  {
   "cell_type": "code",
   "execution_count": 8,
   "metadata": {
    "scrolled": true
   },
   "outputs": [
    {
     "name": "stderr",
     "output_type": "stream",
     "text": [
      "  2%|▏         | 13/779 [00:00<00:06, 124.46it/s]"
     ]
    },
    {
     "name": "stdout",
     "output_type": "stream",
     "text": [
      "FOLD 9\n"
     ]
    },
    {
     "name": "stderr",
     "output_type": "stream",
     "text": [
      "100%|██████████| 779/779 [00:05<00:00, 154.75it/s]"
     ]
    },
    {
     "name": "stdout",
     "output_type": "stream",
     "text": [
      "   Fold 9 labels:\n",
      "   air_conditioner:\t100\n",
      "   car_horn:\t32\n",
      "   children_playing:\t100\n",
      "   dog_bark:\t99\n",
      "   drilling:\t84\n",
      "   engine_idling:\t89\n",
      "   gun_shot:\t31\n",
      "   jackhammer:\t68\n",
      "   siren:\t82\n",
      "   street_music:\t94\n",
      "\n",
      "\n",
      "OVERALL labels:\n",
      "air_conditioner:\t100\n",
      "car_horn:\t32\n",
      "children_playing:\t100\n",
      "dog_bark:\t99\n",
      "drilling:\t84\n",
      "engine_idling:\t89\n",
      "gun_shot:\t31\n",
      "jackhammer:\t68\n",
      "siren:\t82\n",
      "street_music:\t94\n"
     ]
    },
    {
     "name": "stderr",
     "output_type": "stream",
     "text": [
      "\n"
     ]
    }
   ],
   "source": [
    "folds = [9]\n",
    "splitname = 'test_2'\n",
    "\n",
    "soundbankfolder = '/Users/anaemendezmendez/Documents/NYU_PHD/UrbanSound8K/soundbanks/'\n",
    "soundbankfolder = os.path.join(soundbankfolder, splitname)\n",
    "\n",
    "label_count = {}\n",
    "for label in label_list:\n",
    "    label_count[label] = 0\n",
    "\n",
    "for fold in folds:\n",
    "    \n",
    "    print('FOLD {:d}'.format(fold))\n",
    "    audiofolder = '/Users/anaemendezmendez/Documents/NYU_PHD/UrbanSound8K/audio/fold{:d}/'.format(fold)\n",
    "    audiofiles = glob.glob(os.path.join(audiofolder, '*.wav'))\n",
    "    \n",
    "    fold_label_count = {}\n",
    "    for label in label_list:\n",
    "        fold_label_count[label] = 0\n",
    "    \n",
    "    for af in tqdm(audiofiles):\n",
    "        # print(os.path.basename(af))\n",
    "        label = metadata.loc[metadata.slice_file_name == os.path.basename(af), 'class'].values[0]\n",
    "        label_count[label] += 1\n",
    "        fold_label_count[label] += 1\n",
    "        destfolder = os.path.join(soundbankfolder, 'foreground', label)\n",
    "        if not os.path.isdir(destfolder):\n",
    "            os.mkdir(destfolder)\n",
    "        destfile = os.path.join(destfolder, os.path.basename(af))\n",
    "        shutil.copyfile(af, destfile)\n",
    "        \n",
    "    # Print fold report\n",
    "    print('   Fold {:d} labels:'.format(fold))\n",
    "    for label in label_list:\n",
    "        print('   {:s}:\\t{:d}'.format(label, fold_label_count[label]))\n",
    "        \n",
    "# Print overall report\n",
    "print('\\n\\nOVERALL labels:')\n",
    "for label in label_list:\n",
    "    print('{:s}:\\t{:d}'.format(label, label_count[label]))"
   ]
  },
  {
   "cell_type": "markdown",
   "metadata": {},
   "source": [
    "## Create soundbank for TRAIN_3 (folds 1-7, 9-10)"
   ]
  },
  {
   "cell_type": "code",
   "execution_count": 9,
   "metadata": {},
   "outputs": [
    {
     "name": "stderr",
     "output_type": "stream",
     "text": [
      "  2%|▏         | 15/766 [00:00<00:05, 149.81it/s]"
     ]
    },
    {
     "name": "stdout",
     "output_type": "stream",
     "text": [
      "FOLD 1\n"
     ]
    },
    {
     "name": "stderr",
     "output_type": "stream",
     "text": [
      "100%|██████████| 766/766 [00:05<00:00, 151.55it/s]\n",
      "  2%|▏         | 15/870 [00:00<00:05, 149.51it/s]"
     ]
    },
    {
     "name": "stdout",
     "output_type": "stream",
     "text": [
      "   Fold 1 labels:\n",
      "   air_conditioner:\t100\n",
      "   car_horn:\t36\n",
      "   children_playing:\t100\n",
      "   dog_bark:\t89\n",
      "   drilling:\t100\n",
      "   engine_idling:\t86\n",
      "   gun_shot:\t35\n",
      "   jackhammer:\t41\n",
      "   siren:\t86\n",
      "   street_music:\t93\n",
      "FOLD 2\n"
     ]
    },
    {
     "name": "stderr",
     "output_type": "stream",
     "text": [
      "100%|██████████| 870/870 [00:05<00:00, 158.41it/s]\n",
      "  2%|▏         | 21/918 [00:00<00:04, 209.93it/s]"
     ]
    },
    {
     "name": "stdout",
     "output_type": "stream",
     "text": [
      "   Fold 2 labels:\n",
      "   air_conditioner:\t100\n",
      "   car_horn:\t42\n",
      "   children_playing:\t100\n",
      "   dog_bark:\t96\n",
      "   drilling:\t100\n",
      "   engine_idling:\t92\n",
      "   gun_shot:\t35\n",
      "   jackhammer:\t120\n",
      "   siren:\t91\n",
      "   street_music:\t94\n",
      "FOLD 3\n"
     ]
    },
    {
     "name": "stderr",
     "output_type": "stream",
     "text": [
      "100%|██████████| 918/918 [00:05<00:00, 176.58it/s]\n",
      "  1%|          | 7/961 [00:00<00:15, 60.52it/s]"
     ]
    },
    {
     "name": "stdout",
     "output_type": "stream",
     "text": [
      "   Fold 3 labels:\n",
      "   air_conditioner:\t100\n",
      "   car_horn:\t43\n",
      "   children_playing:\t100\n",
      "   dog_bark:\t94\n",
      "   drilling:\t100\n",
      "   engine_idling:\t107\n",
      "   gun_shot:\t36\n",
      "   jackhammer:\t119\n",
      "   siren:\t119\n",
      "   street_music:\t100\n",
      "FOLD 4\n"
     ]
    },
    {
     "name": "stderr",
     "output_type": "stream",
     "text": [
      "100%|██████████| 961/961 [00:06<00:00, 145.86it/s]\n",
      "  2%|▏         | 21/902 [00:00<00:04, 202.02it/s]"
     ]
    },
    {
     "name": "stdout",
     "output_type": "stream",
     "text": [
      "   Fold 4 labels:\n",
      "   air_conditioner:\t100\n",
      "   car_horn:\t57\n",
      "   children_playing:\t100\n",
      "   dog_bark:\t100\n",
      "   drilling:\t79\n",
      "   engine_idling:\t107\n",
      "   gun_shot:\t38\n",
      "   jackhammer:\t120\n",
      "   siren:\t166\n",
      "   street_music:\t94\n",
      "FOLD 5\n"
     ]
    },
    {
     "name": "stderr",
     "output_type": "stream",
     "text": [
      "100%|██████████| 902/902 [00:05<00:00, 166.70it/s]\n",
      "  3%|▎         | 22/807 [00:00<00:03, 216.54it/s]"
     ]
    },
    {
     "name": "stdout",
     "output_type": "stream",
     "text": [
      "   Fold 5 labels:\n",
      "   air_conditioner:\t100\n",
      "   car_horn:\t98\n",
      "   children_playing:\t92\n",
      "   dog_bark:\t95\n",
      "   drilling:\t84\n",
      "   engine_idling:\t107\n",
      "   gun_shot:\t40\n",
      "   jackhammer:\t120\n",
      "   siren:\t71\n",
      "   street_music:\t95\n",
      "FOLD 6\n"
     ]
    },
    {
     "name": "stderr",
     "output_type": "stream",
     "text": [
      "100%|██████████| 807/807 [00:04<00:00, 161.85it/s]\n",
      "  2%|▏         | 20/807 [00:00<00:04, 190.78it/s]"
     ]
    },
    {
     "name": "stdout",
     "output_type": "stream",
     "text": [
      "   Fold 6 labels:\n",
      "   air_conditioner:\t100\n",
      "   car_horn:\t28\n",
      "   children_playing:\t92\n",
      "   dog_bark:\t92\n",
      "   drilling:\t100\n",
      "   engine_idling:\t107\n",
      "   gun_shot:\t46\n",
      "   jackhammer:\t68\n",
      "   siren:\t74\n",
      "   street_music:\t100\n",
      "FOLD 7\n"
     ]
    },
    {
     "name": "stderr",
     "output_type": "stream",
     "text": [
      "100%|██████████| 807/807 [00:04<00:00, 168.85it/s]\n",
      "  2%|▏         | 17/779 [00:00<00:04, 169.97it/s]"
     ]
    },
    {
     "name": "stdout",
     "output_type": "stream",
     "text": [
      "   Fold 7 labels:\n",
      "   air_conditioner:\t100\n",
      "   car_horn:\t28\n",
      "   children_playing:\t100\n",
      "   dog_bark:\t93\n",
      "   drilling:\t82\n",
      "   engine_idling:\t100\n",
      "   gun_shot:\t51\n",
      "   jackhammer:\t76\n",
      "   siren:\t77\n",
      "   street_music:\t100\n",
      "FOLD 9\n"
     ]
    },
    {
     "name": "stderr",
     "output_type": "stream",
     "text": [
      "100%|██████████| 779/779 [00:04<00:00, 158.60it/s]\n",
      "  2%|▏         | 18/765 [00:00<00:04, 178.61it/s]"
     ]
    },
    {
     "name": "stdout",
     "output_type": "stream",
     "text": [
      "   Fold 9 labels:\n",
      "   air_conditioner:\t100\n",
      "   car_horn:\t32\n",
      "   children_playing:\t100\n",
      "   dog_bark:\t99\n",
      "   drilling:\t84\n",
      "   engine_idling:\t89\n",
      "   gun_shot:\t31\n",
      "   jackhammer:\t68\n",
      "   siren:\t82\n",
      "   street_music:\t94\n",
      "FOLD 10\n"
     ]
    },
    {
     "name": "stderr",
     "output_type": "stream",
     "text": [
      "100%|██████████| 765/765 [00:04<00:00, 160.64it/s]"
     ]
    },
    {
     "name": "stdout",
     "output_type": "stream",
     "text": [
      "   Fold 10 labels:\n",
      "   air_conditioner:\t100\n",
      "   car_horn:\t33\n",
      "   children_playing:\t100\n",
      "   dog_bark:\t92\n",
      "   drilling:\t100\n",
      "   engine_idling:\t93\n",
      "   gun_shot:\t32\n",
      "   jackhammer:\t32\n",
      "   siren:\t83\n",
      "   street_music:\t100\n",
      "\n",
      "\n",
      "OVERALL labels:\n",
      "air_conditioner:\t900\n",
      "car_horn:\t397\n",
      "children_playing:\t884\n",
      "dog_bark:\t850\n",
      "drilling:\t829\n",
      "engine_idling:\t888\n",
      "gun_shot:\t344\n",
      "jackhammer:\t764\n",
      "siren:\t849\n",
      "street_music:\t870\n"
     ]
    },
    {
     "name": "stderr",
     "output_type": "stream",
     "text": [
      "\n"
     ]
    }
   ],
   "source": [
    "folds = [1, 2, 3, 4, 5, 6, 7, 9, 10]\n",
    "splitname = 'train_3'\n",
    "\n",
    "soundbankfolder = '/Users/anaemendezmendez/Documents/NYU_PHD/UrbanSound8K/soundbanks/'\n",
    "soundbankfolder = os.path.join(soundbankfolder, splitname)\n",
    "\n",
    "label_count = {}\n",
    "for label in label_list:\n",
    "    label_count[label] = 0\n",
    "\n",
    "for fold in folds:\n",
    "    \n",
    "    print('FOLD {:d}'.format(fold))\n",
    "    audiofolder = '/Users/anaemendezmendez/Documents/NYU_PHD/UrbanSound8K/audio/fold{:d}/'.format(fold)\n",
    "    audiofiles = glob.glob(os.path.join(audiofolder, '*.wav'))\n",
    "    \n",
    "    fold_label_count = {}\n",
    "    for label in label_list:\n",
    "        fold_label_count[label] = 0\n",
    "    \n",
    "    for af in tqdm(audiofiles):\n",
    "        # print(os.path.basename(af))\n",
    "        label = metadata.loc[metadata.slice_file_name == os.path.basename(af), 'class'].values[0]\n",
    "        label_count[label] += 1\n",
    "        fold_label_count[label] += 1\n",
    "        destfolder = os.path.join(soundbankfolder, 'foreground', label)\n",
    "        if not os.path.isdir(destfolder):\n",
    "            os.mkdir(destfolder)\n",
    "        destfile = os.path.join(destfolder, os.path.basename(af))\n",
    "        shutil.copyfile(af, destfile)\n",
    "        \n",
    "    # Print fold report\n",
    "    print('   Fold {:d} labels:'.format(fold))\n",
    "    for label in label_list:\n",
    "        print('   {:s}:\\t{:d}'.format(label, fold_label_count[label]))\n",
    "        \n",
    "# Print overall report\n",
    "print('\\n\\nOVERALL labels:')\n",
    "for label in label_list:\n",
    "    print('{:s}:\\t{:d}'.format(label, label_count[label]))"
   ]
  },
  {
   "cell_type": "markdown",
   "metadata": {},
   "source": [
    "## Create soundbank for TEST 3 (folds 8)"
   ]
  },
  {
   "cell_type": "code",
   "execution_count": 10,
   "metadata": {
    "scrolled": true
   },
   "outputs": [
    {
     "name": "stderr",
     "output_type": "stream",
     "text": [
      "  3%|▎         | 19/732 [00:00<00:03, 181.03it/s]"
     ]
    },
    {
     "name": "stdout",
     "output_type": "stream",
     "text": [
      "FOLD 8\n"
     ]
    },
    {
     "name": "stderr",
     "output_type": "stream",
     "text": [
      "100%|██████████| 732/732 [00:04<00:00, 194.24it/s]"
     ]
    },
    {
     "name": "stdout",
     "output_type": "stream",
     "text": [
      "   Fold 8 labels:\n",
      "   air_conditioner:\t100\n",
      "   car_horn:\t30\n",
      "   children_playing:\t100\n",
      "   dog_bark:\t100\n",
      "   drilling:\t83\n",
      "   engine_idling:\t38\n",
      "   gun_shot:\t30\n",
      "   jackhammer:\t78\n",
      "   siren:\t80\n",
      "   street_music:\t93\n",
      "\n",
      "\n",
      "OVERALL labels:\n",
      "air_conditioner:\t100\n",
      "car_horn:\t30\n",
      "children_playing:\t100\n",
      "dog_bark:\t100\n",
      "drilling:\t83\n",
      "engine_idling:\t38\n",
      "gun_shot:\t30\n",
      "jackhammer:\t78\n",
      "siren:\t80\n",
      "street_music:\t93\n"
     ]
    },
    {
     "name": "stderr",
     "output_type": "stream",
     "text": [
      "\n"
     ]
    }
   ],
   "source": [
    "folds = [8]\n",
    "splitname = 'test_3'\n",
    "\n",
    "soundbankfolder = '/Users/anaemendezmendez/Documents/NYU_PHD/UrbanSound8K/soundbanks/'\n",
    "soundbankfolder = os.path.join(soundbankfolder, splitname)\n",
    "\n",
    "label_count = {}\n",
    "for label in label_list:\n",
    "    label_count[label] = 0\n",
    "\n",
    "for fold in folds:\n",
    "    \n",
    "    print('FOLD {:d}'.format(fold))\n",
    "    audiofolder = '/Users/anaemendezmendez/Documents/NYU_PHD/UrbanSound8K/audio/fold{:d}/'.format(fold)\n",
    "    audiofiles = glob.glob(os.path.join(audiofolder, '*.wav'))\n",
    "    \n",
    "    fold_label_count = {}\n",
    "    for label in label_list:\n",
    "        fold_label_count[label] = 0\n",
    "    \n",
    "    for af in tqdm(audiofiles):\n",
    "        # print(os.path.basename(af))\n",
    "        label = metadata.loc[metadata.slice_file_name == os.path.basename(af), 'class'].values[0]\n",
    "        label_count[label] += 1\n",
    "        fold_label_count[label] += 1\n",
    "        destfolder = os.path.join(soundbankfolder, 'foreground', label)\n",
    "        if not os.path.isdir(destfolder):\n",
    "            os.mkdir(destfolder)\n",
    "        destfile = os.path.join(destfolder, os.path.basename(af))\n",
    "        shutil.copyfile(af, destfile)\n",
    "        \n",
    "    # Print fold report\n",
    "    print('   Fold {:d} labels:'.format(fold))\n",
    "    for label in label_list:\n",
    "        print('   {:s}:\\t{:d}'.format(label, fold_label_count[label]))\n",
    "        \n",
    "# Print overall report\n",
    "print('\\n\\nOVERALL labels:')\n",
    "for label in label_list:\n",
    "    print('{:s}:\\t{:d}'.format(label, label_count[label]))"
   ]
  },
  {
   "cell_type": "markdown",
   "metadata": {},
   "source": [
    "## Create soundbank for TRAIN_4 (folds 1-6, 8-10)"
   ]
  },
  {
   "cell_type": "code",
   "execution_count": 11,
   "metadata": {},
   "outputs": [
    {
     "name": "stderr",
     "output_type": "stream",
     "text": [
      "  2%|▏         | 17/766 [00:00<00:04, 165.25it/s]"
     ]
    },
    {
     "name": "stdout",
     "output_type": "stream",
     "text": [
      "FOLD 1\n"
     ]
    },
    {
     "name": "stderr",
     "output_type": "stream",
     "text": [
      "100%|██████████| 766/766 [00:05<00:00, 147.64it/s]\n",
      "  2%|▏         | 18/870 [00:00<00:04, 170.57it/s]"
     ]
    },
    {
     "name": "stdout",
     "output_type": "stream",
     "text": [
      "   Fold 1 labels:\n",
      "   air_conditioner:\t100\n",
      "   car_horn:\t36\n",
      "   children_playing:\t100\n",
      "   dog_bark:\t89\n",
      "   drilling:\t100\n",
      "   engine_idling:\t86\n",
      "   gun_shot:\t35\n",
      "   jackhammer:\t41\n",
      "   siren:\t86\n",
      "   street_music:\t93\n",
      "FOLD 2\n"
     ]
    },
    {
     "name": "stderr",
     "output_type": "stream",
     "text": [
      "100%|██████████| 870/870 [00:05<00:00, 164.71it/s]\n",
      "  2%|▏         | 21/918 [00:00<00:04, 207.78it/s]"
     ]
    },
    {
     "name": "stdout",
     "output_type": "stream",
     "text": [
      "   Fold 2 labels:\n",
      "   air_conditioner:\t100\n",
      "   car_horn:\t42\n",
      "   children_playing:\t100\n",
      "   dog_bark:\t96\n",
      "   drilling:\t100\n",
      "   engine_idling:\t92\n",
      "   gun_shot:\t35\n",
      "   jackhammer:\t120\n",
      "   siren:\t91\n",
      "   street_music:\t94\n",
      "FOLD 3\n"
     ]
    },
    {
     "name": "stderr",
     "output_type": "stream",
     "text": [
      "100%|██████████| 918/918 [00:05<00:00, 167.08it/s]\n",
      "  1%|          | 10/961 [00:00<00:09, 96.51it/s]"
     ]
    },
    {
     "name": "stdout",
     "output_type": "stream",
     "text": [
      "   Fold 3 labels:\n",
      "   air_conditioner:\t100\n",
      "   car_horn:\t43\n",
      "   children_playing:\t100\n",
      "   dog_bark:\t94\n",
      "   drilling:\t100\n",
      "   engine_idling:\t107\n",
      "   gun_shot:\t36\n",
      "   jackhammer:\t119\n",
      "   siren:\t119\n",
      "   street_music:\t100\n",
      "FOLD 4\n"
     ]
    },
    {
     "name": "stderr",
     "output_type": "stream",
     "text": [
      "100%|██████████| 961/961 [00:06<00:00, 157.78it/s]\n",
      "  2%|▏         | 18/902 [00:00<00:04, 177.48it/s]"
     ]
    },
    {
     "name": "stdout",
     "output_type": "stream",
     "text": [
      "   Fold 4 labels:\n",
      "   air_conditioner:\t100\n",
      "   car_horn:\t57\n",
      "   children_playing:\t100\n",
      "   dog_bark:\t100\n",
      "   drilling:\t79\n",
      "   engine_idling:\t107\n",
      "   gun_shot:\t38\n",
      "   jackhammer:\t120\n",
      "   siren:\t166\n",
      "   street_music:\t94\n",
      "FOLD 5\n"
     ]
    },
    {
     "name": "stderr",
     "output_type": "stream",
     "text": [
      "100%|██████████| 902/902 [00:06<00:00, 145.83it/s]\n",
      "  1%|▏         | 12/807 [00:00<00:06, 119.62it/s]"
     ]
    },
    {
     "name": "stdout",
     "output_type": "stream",
     "text": [
      "   Fold 5 labels:\n",
      "   air_conditioner:\t100\n",
      "   car_horn:\t98\n",
      "   children_playing:\t92\n",
      "   dog_bark:\t95\n",
      "   drilling:\t84\n",
      "   engine_idling:\t107\n",
      "   gun_shot:\t40\n",
      "   jackhammer:\t120\n",
      "   siren:\t71\n",
      "   street_music:\t95\n",
      "FOLD 6\n"
     ]
    },
    {
     "name": "stderr",
     "output_type": "stream",
     "text": [
      "100%|██████████| 807/807 [00:05<00:00, 142.10it/s]\n",
      "  1%|          | 7/732 [00:00<00:14, 48.59it/s]"
     ]
    },
    {
     "name": "stdout",
     "output_type": "stream",
     "text": [
      "   Fold 6 labels:\n",
      "   air_conditioner:\t100\n",
      "   car_horn:\t28\n",
      "   children_playing:\t92\n",
      "   dog_bark:\t92\n",
      "   drilling:\t100\n",
      "   engine_idling:\t107\n",
      "   gun_shot:\t46\n",
      "   jackhammer:\t68\n",
      "   siren:\t74\n",
      "   street_music:\t100\n",
      "FOLD 8\n"
     ]
    },
    {
     "name": "stderr",
     "output_type": "stream",
     "text": [
      "100%|██████████| 732/732 [00:07<00:00, 92.94it/s] \n",
      "  1%|▏         | 10/779 [00:00<00:08, 89.35it/s]"
     ]
    },
    {
     "name": "stdout",
     "output_type": "stream",
     "text": [
      "   Fold 8 labels:\n",
      "   air_conditioner:\t100\n",
      "   car_horn:\t30\n",
      "   children_playing:\t100\n",
      "   dog_bark:\t100\n",
      "   drilling:\t83\n",
      "   engine_idling:\t38\n",
      "   gun_shot:\t30\n",
      "   jackhammer:\t78\n",
      "   siren:\t80\n",
      "   street_music:\t93\n",
      "FOLD 9\n"
     ]
    },
    {
     "name": "stderr",
     "output_type": "stream",
     "text": [
      "100%|██████████| 779/779 [00:12<00:00, 38.03it/s] \n",
      "  1%|          | 9/765 [00:00<00:08, 89.17it/s]"
     ]
    },
    {
     "name": "stdout",
     "output_type": "stream",
     "text": [
      "   Fold 9 labels:\n",
      "   air_conditioner:\t100\n",
      "   car_horn:\t32\n",
      "   children_playing:\t100\n",
      "   dog_bark:\t99\n",
      "   drilling:\t84\n",
      "   engine_idling:\t89\n",
      "   gun_shot:\t31\n",
      "   jackhammer:\t68\n",
      "   siren:\t82\n",
      "   street_music:\t94\n",
      "FOLD 10\n"
     ]
    },
    {
     "name": "stderr",
     "output_type": "stream",
     "text": [
      "100%|██████████| 765/765 [00:08<00:00, 92.73it/s] "
     ]
    },
    {
     "name": "stdout",
     "output_type": "stream",
     "text": [
      "   Fold 10 labels:\n",
      "   air_conditioner:\t100\n",
      "   car_horn:\t33\n",
      "   children_playing:\t100\n",
      "   dog_bark:\t92\n",
      "   drilling:\t100\n",
      "   engine_idling:\t93\n",
      "   gun_shot:\t32\n",
      "   jackhammer:\t32\n",
      "   siren:\t83\n",
      "   street_music:\t100\n",
      "\n",
      "\n",
      "OVERALL labels:\n",
      "air_conditioner:\t900\n",
      "car_horn:\t399\n",
      "children_playing:\t884\n",
      "dog_bark:\t857\n",
      "drilling:\t830\n",
      "engine_idling:\t826\n",
      "gun_shot:\t323\n",
      "jackhammer:\t766\n",
      "siren:\t852\n",
      "street_music:\t863\n"
     ]
    },
    {
     "name": "stderr",
     "output_type": "stream",
     "text": [
      "\n"
     ]
    }
   ],
   "source": [
    "folds = [1, 2, 3, 4, 5, 6, 8, 9, 10]\n",
    "splitname = 'train_4'\n",
    "\n",
    "soundbankfolder = '/Users/anaemendezmendez/Documents/NYU_PHD/UrbanSound8K/soundbanks/'\n",
    "soundbankfolder = os.path.join(soundbankfolder, splitname)\n",
    "\n",
    "label_count = {}\n",
    "for label in label_list:\n",
    "    label_count[label] = 0\n",
    "\n",
    "for fold in folds:\n",
    "    \n",
    "    print('FOLD {:d}'.format(fold))\n",
    "    audiofolder = '/Users/anaemendezmendez/Documents/NYU_PHD/UrbanSound8K/audio/fold{:d}/'.format(fold)\n",
    "    audiofiles = glob.glob(os.path.join(audiofolder, '*.wav'))\n",
    "    \n",
    "    fold_label_count = {}\n",
    "    for label in label_list:\n",
    "        fold_label_count[label] = 0\n",
    "    \n",
    "    for af in tqdm(audiofiles):\n",
    "        # print(os.path.basename(af))\n",
    "        label = metadata.loc[metadata.slice_file_name == os.path.basename(af), 'class'].values[0]\n",
    "        label_count[label] += 1\n",
    "        fold_label_count[label] += 1\n",
    "        destfolder = os.path.join(soundbankfolder, 'foreground', label)\n",
    "        if not os.path.isdir(destfolder):\n",
    "            os.mkdir(destfolder)\n",
    "        destfile = os.path.join(destfolder, os.path.basename(af))\n",
    "        shutil.copyfile(af, destfile)\n",
    "        \n",
    "    # Print fold report\n",
    "    print('   Fold {:d} labels:'.format(fold))\n",
    "    for label in label_list:\n",
    "        print('   {:s}:\\t{:d}'.format(label, fold_label_count[label]))\n",
    "        \n",
    "# Print overall report\n",
    "print('\\n\\nOVERALL labels:')\n",
    "for label in label_list:\n",
    "    print('{:s}:\\t{:d}'.format(label, label_count[label]))"
   ]
  },
  {
   "cell_type": "markdown",
   "metadata": {},
   "source": [
    "## Create soundbank for TEST 2 (folds 7)"
   ]
  },
  {
   "cell_type": "code",
   "execution_count": 12,
   "metadata": {
    "scrolled": true
   },
   "outputs": [
    {
     "name": "stderr",
     "output_type": "stream",
     "text": [
      "  1%|          | 8/807 [00:00<00:11, 70.59it/s]"
     ]
    },
    {
     "name": "stdout",
     "output_type": "stream",
     "text": [
      "FOLD 7\n"
     ]
    },
    {
     "name": "stderr",
     "output_type": "stream",
     "text": [
      "100%|██████████| 807/807 [00:09<00:00, 84.18it/s] "
     ]
    },
    {
     "name": "stdout",
     "output_type": "stream",
     "text": [
      "   Fold 7 labels:\n",
      "   air_conditioner:\t100\n",
      "   car_horn:\t28\n",
      "   children_playing:\t100\n",
      "   dog_bark:\t93\n",
      "   drilling:\t82\n",
      "   engine_idling:\t100\n",
      "   gun_shot:\t51\n",
      "   jackhammer:\t76\n",
      "   siren:\t77\n",
      "   street_music:\t100\n",
      "\n",
      "\n",
      "OVERALL labels:\n",
      "air_conditioner:\t100\n",
      "car_horn:\t28\n",
      "children_playing:\t100\n",
      "dog_bark:\t93\n",
      "drilling:\t82\n",
      "engine_idling:\t100\n",
      "gun_shot:\t51\n",
      "jackhammer:\t76\n",
      "siren:\t77\n",
      "street_music:\t100\n"
     ]
    },
    {
     "name": "stderr",
     "output_type": "stream",
     "text": [
      "\n"
     ]
    }
   ],
   "source": [
    "folds = [7]\n",
    "splitname = 'test_4'\n",
    "\n",
    "soundbankfolder = '/Users/anaemendezmendez/Documents/NYU_PHD/UrbanSound8K/soundbanks/'\n",
    "soundbankfolder = os.path.join(soundbankfolder, splitname)\n",
    "\n",
    "label_count = {}\n",
    "for label in label_list:\n",
    "    label_count[label] = 0\n",
    "\n",
    "for fold in folds:\n",
    "    \n",
    "    print('FOLD {:d}'.format(fold))\n",
    "    audiofolder = '/Users/anaemendezmendez/Documents/NYU_PHD/UrbanSound8K/audio/fold{:d}/'.format(fold)\n",
    "    audiofiles = glob.glob(os.path.join(audiofolder, '*.wav'))\n",
    "    \n",
    "    fold_label_count = {}\n",
    "    for label in label_list:\n",
    "        fold_label_count[label] = 0\n",
    "    \n",
    "    for af in tqdm(audiofiles):\n",
    "        # print(os.path.basename(af))\n",
    "        label = metadata.loc[metadata.slice_file_name == os.path.basename(af), 'class'].values[0]\n",
    "        label_count[label] += 1\n",
    "        fold_label_count[label] += 1\n",
    "        destfolder = os.path.join(soundbankfolder, 'foreground', label)\n",
    "        if not os.path.isdir(destfolder):\n",
    "            os.mkdir(destfolder)\n",
    "        destfile = os.path.join(destfolder, os.path.basename(af))\n",
    "        shutil.copyfile(af, destfile)\n",
    "        \n",
    "    # Print fold report\n",
    "    print('   Fold {:d} labels:'.format(fold))\n",
    "    for label in label_list:\n",
    "        print('   {:s}:\\t{:d}'.format(label, fold_label_count[label]))\n",
    "        \n",
    "# Print overall report\n",
    "print('\\n\\nOVERALL labels:')\n",
    "for label in label_list:\n",
    "    print('{:s}:\\t{:d}'.format(label, label_count[label]))"
   ]
  },
  {
   "cell_type": "markdown",
   "metadata": {},
   "source": [
    "## Create soundbank for TRAIN_5 (folds 1-5, 7-10)"
   ]
  },
  {
   "cell_type": "code",
   "execution_count": 13,
   "metadata": {},
   "outputs": [
    {
     "name": "stderr",
     "output_type": "stream",
     "text": [
      "  2%|▏         | 16/766 [00:00<00:04, 157.31it/s]"
     ]
    },
    {
     "name": "stdout",
     "output_type": "stream",
     "text": [
      "FOLD 1\n"
     ]
    },
    {
     "name": "stderr",
     "output_type": "stream",
     "text": [
      "100%|██████████| 766/766 [00:04<00:00, 180.64it/s]\n",
      "  2%|▏         | 18/870 [00:00<00:04, 178.74it/s]"
     ]
    },
    {
     "name": "stdout",
     "output_type": "stream",
     "text": [
      "   Fold 1 labels:\n",
      "   air_conditioner:\t100\n",
      "   car_horn:\t36\n",
      "   children_playing:\t100\n",
      "   dog_bark:\t89\n",
      "   drilling:\t100\n",
      "   engine_idling:\t86\n",
      "   gun_shot:\t35\n",
      "   jackhammer:\t41\n",
      "   siren:\t86\n",
      "   street_music:\t93\n",
      "FOLD 2\n"
     ]
    },
    {
     "name": "stderr",
     "output_type": "stream",
     "text": [
      "100%|██████████| 870/870 [00:05<00:00, 131.52it/s]\n",
      "  1%|          | 10/918 [00:00<00:09, 97.59it/s]"
     ]
    },
    {
     "name": "stdout",
     "output_type": "stream",
     "text": [
      "   Fold 2 labels:\n",
      "   air_conditioner:\t100\n",
      "   car_horn:\t42\n",
      "   children_playing:\t100\n",
      "   dog_bark:\t96\n",
      "   drilling:\t100\n",
      "   engine_idling:\t92\n",
      "   gun_shot:\t35\n",
      "   jackhammer:\t120\n",
      "   siren:\t91\n",
      "   street_music:\t94\n",
      "FOLD 3\n"
     ]
    },
    {
     "name": "stderr",
     "output_type": "stream",
     "text": [
      "100%|██████████| 918/918 [00:05<00:00, 167.87it/s]\n",
      "  2%|▏         | 19/961 [00:00<00:05, 187.64it/s]"
     ]
    },
    {
     "name": "stdout",
     "output_type": "stream",
     "text": [
      "   Fold 3 labels:\n",
      "   air_conditioner:\t100\n",
      "   car_horn:\t43\n",
      "   children_playing:\t100\n",
      "   dog_bark:\t94\n",
      "   drilling:\t100\n",
      "   engine_idling:\t107\n",
      "   gun_shot:\t36\n",
      "   jackhammer:\t119\n",
      "   siren:\t119\n",
      "   street_music:\t100\n",
      "FOLD 4\n"
     ]
    },
    {
     "name": "stderr",
     "output_type": "stream",
     "text": [
      "100%|██████████| 961/961 [00:06<00:00, 158.70it/s]\n",
      "  2%|▏         | 17/902 [00:00<00:05, 165.51it/s]"
     ]
    },
    {
     "name": "stdout",
     "output_type": "stream",
     "text": [
      "   Fold 4 labels:\n",
      "   air_conditioner:\t100\n",
      "   car_horn:\t57\n",
      "   children_playing:\t100\n",
      "   dog_bark:\t100\n",
      "   drilling:\t79\n",
      "   engine_idling:\t107\n",
      "   gun_shot:\t38\n",
      "   jackhammer:\t120\n",
      "   siren:\t166\n",
      "   street_music:\t94\n",
      "FOLD 5\n"
     ]
    },
    {
     "name": "stderr",
     "output_type": "stream",
     "text": [
      "100%|██████████| 902/902 [00:06<00:00, 143.03it/s]\n",
      "  2%|▏         | 15/807 [00:00<00:05, 142.41it/s]"
     ]
    },
    {
     "name": "stdout",
     "output_type": "stream",
     "text": [
      "   Fold 5 labels:\n",
      "   air_conditioner:\t100\n",
      "   car_horn:\t98\n",
      "   children_playing:\t92\n",
      "   dog_bark:\t95\n",
      "   drilling:\t84\n",
      "   engine_idling:\t107\n",
      "   gun_shot:\t40\n",
      "   jackhammer:\t120\n",
      "   siren:\t71\n",
      "   street_music:\t95\n",
      "FOLD 7\n"
     ]
    },
    {
     "name": "stderr",
     "output_type": "stream",
     "text": [
      "100%|██████████| 807/807 [00:05<00:00, 136.04it/s]\n",
      "  2%|▏         | 15/732 [00:00<00:04, 144.14it/s]"
     ]
    },
    {
     "name": "stdout",
     "output_type": "stream",
     "text": [
      "   Fold 7 labels:\n",
      "   air_conditioner:\t100\n",
      "   car_horn:\t28\n",
      "   children_playing:\t100\n",
      "   dog_bark:\t93\n",
      "   drilling:\t82\n",
      "   engine_idling:\t100\n",
      "   gun_shot:\t51\n",
      "   jackhammer:\t76\n",
      "   siren:\t77\n",
      "   street_music:\t100\n",
      "FOLD 8\n"
     ]
    },
    {
     "name": "stderr",
     "output_type": "stream",
     "text": [
      "100%|██████████| 732/732 [00:04<00:00, 169.42it/s]\n",
      "  2%|▏         | 13/779 [00:00<00:06, 125.86it/s]"
     ]
    },
    {
     "name": "stdout",
     "output_type": "stream",
     "text": [
      "   Fold 8 labels:\n",
      "   air_conditioner:\t100\n",
      "   car_horn:\t30\n",
      "   children_playing:\t100\n",
      "   dog_bark:\t100\n",
      "   drilling:\t83\n",
      "   engine_idling:\t38\n",
      "   gun_shot:\t30\n",
      "   jackhammer:\t78\n",
      "   siren:\t80\n",
      "   street_music:\t93\n",
      "FOLD 9\n"
     ]
    },
    {
     "name": "stderr",
     "output_type": "stream",
     "text": [
      "100%|██████████| 779/779 [00:07<00:00, 102.61it/s]\n",
      "  2%|▏         | 16/765 [00:00<00:04, 158.27it/s]"
     ]
    },
    {
     "name": "stdout",
     "output_type": "stream",
     "text": [
      "   Fold 9 labels:\n",
      "   air_conditioner:\t100\n",
      "   car_horn:\t32\n",
      "   children_playing:\t100\n",
      "   dog_bark:\t99\n",
      "   drilling:\t84\n",
      "   engine_idling:\t89\n",
      "   gun_shot:\t31\n",
      "   jackhammer:\t68\n",
      "   siren:\t82\n",
      "   street_music:\t94\n",
      "FOLD 10\n"
     ]
    },
    {
     "name": "stderr",
     "output_type": "stream",
     "text": [
      "100%|██████████| 765/765 [00:04<00:00, 169.06it/s]"
     ]
    },
    {
     "name": "stdout",
     "output_type": "stream",
     "text": [
      "   Fold 10 labels:\n",
      "   air_conditioner:\t100\n",
      "   car_horn:\t33\n",
      "   children_playing:\t100\n",
      "   dog_bark:\t92\n",
      "   drilling:\t100\n",
      "   engine_idling:\t93\n",
      "   gun_shot:\t32\n",
      "   jackhammer:\t32\n",
      "   siren:\t83\n",
      "   street_music:\t100\n",
      "\n",
      "\n",
      "OVERALL labels:\n",
      "air_conditioner:\t900\n",
      "car_horn:\t399\n",
      "children_playing:\t892\n",
      "dog_bark:\t858\n",
      "drilling:\t812\n",
      "engine_idling:\t819\n",
      "gun_shot:\t328\n",
      "jackhammer:\t774\n",
      "siren:\t855\n",
      "street_music:\t863\n"
     ]
    },
    {
     "name": "stderr",
     "output_type": "stream",
     "text": [
      "\n"
     ]
    }
   ],
   "source": [
    "folds = [1, 2, 3, 4, 5, 7, 8, 9, 10]\n",
    "splitname = 'train_5'\n",
    "\n",
    "soundbankfolder = '/Users/anaemendezmendez/Documents/NYU_PHD/UrbanSound8K/soundbanks/'\n",
    "soundbankfolder = os.path.join(soundbankfolder, splitname)\n",
    "\n",
    "label_count = {}\n",
    "for label in label_list:\n",
    "    label_count[label] = 0\n",
    "\n",
    "for fold in folds:\n",
    "    \n",
    "    print('FOLD {:d}'.format(fold))\n",
    "    audiofolder = '/Users/anaemendezmendez/Documents/NYU_PHD/UrbanSound8K/audio/fold{:d}/'.format(fold)\n",
    "    audiofiles = glob.glob(os.path.join(audiofolder, '*.wav'))\n",
    "    \n",
    "    fold_label_count = {}\n",
    "    for label in label_list:\n",
    "        fold_label_count[label] = 0\n",
    "    \n",
    "    for af in tqdm(audiofiles):\n",
    "        # print(os.path.basename(af))\n",
    "        label = metadata.loc[metadata.slice_file_name == os.path.basename(af), 'class'].values[0]\n",
    "        label_count[label] += 1\n",
    "        fold_label_count[label] += 1\n",
    "        destfolder = os.path.join(soundbankfolder, 'foreground', label)\n",
    "        if not os.path.isdir(destfolder):\n",
    "            os.mkdir(destfolder)\n",
    "        destfile = os.path.join(destfolder, os.path.basename(af))\n",
    "        shutil.copyfile(af, destfile)\n",
    "        \n",
    "    # Print fold report\n",
    "    print('   Fold {:d} labels:'.format(fold))\n",
    "    for label in label_list:\n",
    "        print('   {:s}:\\t{:d}'.format(label, fold_label_count[label]))\n",
    "        \n",
    "# Print overall report\n",
    "print('\\n\\nOVERALL labels:')\n",
    "for label in label_list:\n",
    "    print('{:s}:\\t{:d}'.format(label, label_count[label]))"
   ]
  },
  {
   "cell_type": "markdown",
   "metadata": {},
   "source": [
    "## Create soundbank for TEST 5 (folds 6)"
   ]
  },
  {
   "cell_type": "code",
   "execution_count": 14,
   "metadata": {
    "scrolled": true
   },
   "outputs": [
    {
     "name": "stderr",
     "output_type": "stream",
     "text": [
      "  2%|▏         | 17/807 [00:00<00:04, 167.00it/s]"
     ]
    },
    {
     "name": "stdout",
     "output_type": "stream",
     "text": [
      "FOLD 6\n"
     ]
    },
    {
     "name": "stderr",
     "output_type": "stream",
     "text": [
      "100%|██████████| 807/807 [00:04<00:00, 161.40it/s]"
     ]
    },
    {
     "name": "stdout",
     "output_type": "stream",
     "text": [
      "   Fold 6 labels:\n",
      "   air_conditioner:\t100\n",
      "   car_horn:\t28\n",
      "   children_playing:\t92\n",
      "   dog_bark:\t92\n",
      "   drilling:\t100\n",
      "   engine_idling:\t107\n",
      "   gun_shot:\t46\n",
      "   jackhammer:\t68\n",
      "   siren:\t74\n",
      "   street_music:\t100\n",
      "\n",
      "\n",
      "OVERALL labels:\n",
      "air_conditioner:\t100\n",
      "car_horn:\t28\n",
      "children_playing:\t92\n",
      "dog_bark:\t92\n",
      "drilling:\t100\n",
      "engine_idling:\t107\n",
      "gun_shot:\t46\n",
      "jackhammer:\t68\n",
      "siren:\t74\n",
      "street_music:\t100\n"
     ]
    },
    {
     "name": "stderr",
     "output_type": "stream",
     "text": [
      "\n"
     ]
    }
   ],
   "source": [
    "folds = [6]\n",
    "splitname = 'test_5'\n",
    "\n",
    "soundbankfolder = '/Users/anaemendezmendez/Documents/NYU_PHD/UrbanSound8K/soundbanks/'\n",
    "soundbankfolder = os.path.join(soundbankfolder, splitname)\n",
    "\n",
    "label_count = {}\n",
    "for label in label_list:\n",
    "    label_count[label] = 0\n",
    "\n",
    "for fold in folds:\n",
    "    \n",
    "    print('FOLD {:d}'.format(fold))\n",
    "    audiofolder = '/Users/anaemendezmendez/Documents/NYU_PHD/UrbanSound8K/audio/fold{:d}/'.format(fold)\n",
    "    audiofiles = glob.glob(os.path.join(audiofolder, '*.wav'))\n",
    "    \n",
    "    fold_label_count = {}\n",
    "    for label in label_list:\n",
    "        fold_label_count[label] = 0\n",
    "    \n",
    "    for af in tqdm(audiofiles):\n",
    "        # print(os.path.basename(af))\n",
    "        label = metadata.loc[metadata.slice_file_name == os.path.basename(af), 'class'].values[0]\n",
    "        label_count[label] += 1\n",
    "        fold_label_count[label] += 1\n",
    "        destfolder = os.path.join(soundbankfolder, 'foreground', label)\n",
    "        if not os.path.isdir(destfolder):\n",
    "            os.mkdir(destfolder)\n",
    "        destfile = os.path.join(destfolder, os.path.basename(af))\n",
    "        shutil.copyfile(af, destfile)\n",
    "        \n",
    "    # Print fold report\n",
    "    print('   Fold {:d} labels:'.format(fold))\n",
    "    for label in label_list:\n",
    "        print('   {:s}:\\t{:d}'.format(label, fold_label_count[label]))\n",
    "        \n",
    "# Print overall report\n",
    "print('\\n\\nOVERALL labels:')\n",
    "for label in label_list:\n",
    "    print('{:s}:\\t{:d}'.format(label, label_count[label]))"
   ]
  },
  {
   "cell_type": "markdown",
   "metadata": {},
   "source": [
    "## Create soundbank for TRAIN_6 (folds 1-4, 6-10)"
   ]
  },
  {
   "cell_type": "code",
   "execution_count": 15,
   "metadata": {},
   "outputs": [
    {
     "name": "stderr",
     "output_type": "stream",
     "text": [
      "  1%|▏         | 10/766 [00:00<00:08, 91.39it/s]"
     ]
    },
    {
     "name": "stdout",
     "output_type": "stream",
     "text": [
      "FOLD 1\n"
     ]
    },
    {
     "name": "stderr",
     "output_type": "stream",
     "text": [
      "100%|██████████| 766/766 [00:04<00:00, 159.48it/s]\n",
      "  2%|▏         | 17/870 [00:00<00:05, 160.72it/s]"
     ]
    },
    {
     "name": "stdout",
     "output_type": "stream",
     "text": [
      "   Fold 1 labels:\n",
      "   air_conditioner:\t100\n",
      "   car_horn:\t36\n",
      "   children_playing:\t100\n",
      "   dog_bark:\t89\n",
      "   drilling:\t100\n",
      "   engine_idling:\t86\n",
      "   gun_shot:\t35\n",
      "   jackhammer:\t41\n",
      "   siren:\t86\n",
      "   street_music:\t93\n",
      "FOLD 2\n"
     ]
    },
    {
     "name": "stderr",
     "output_type": "stream",
     "text": [
      "100%|██████████| 870/870 [00:05<00:00, 161.29it/s]\n",
      "  2%|▏         | 19/918 [00:00<00:04, 184.96it/s]"
     ]
    },
    {
     "name": "stdout",
     "output_type": "stream",
     "text": [
      "   Fold 2 labels:\n",
      "   air_conditioner:\t100\n",
      "   car_horn:\t42\n",
      "   children_playing:\t100\n",
      "   dog_bark:\t96\n",
      "   drilling:\t100\n",
      "   engine_idling:\t92\n",
      "   gun_shot:\t35\n",
      "   jackhammer:\t120\n",
      "   siren:\t91\n",
      "   street_music:\t94\n",
      "FOLD 3\n"
     ]
    },
    {
     "name": "stderr",
     "output_type": "stream",
     "text": [
      "100%|██████████| 918/918 [00:05<00:00, 174.71it/s]\n",
      "  2%|▏         | 20/961 [00:00<00:04, 191.59it/s]"
     ]
    },
    {
     "name": "stdout",
     "output_type": "stream",
     "text": [
      "   Fold 3 labels:\n",
      "   air_conditioner:\t100\n",
      "   car_horn:\t43\n",
      "   children_playing:\t100\n",
      "   dog_bark:\t94\n",
      "   drilling:\t100\n",
      "   engine_idling:\t107\n",
      "   gun_shot:\t36\n",
      "   jackhammer:\t119\n",
      "   siren:\t119\n",
      "   street_music:\t100\n",
      "FOLD 4\n"
     ]
    },
    {
     "name": "stderr",
     "output_type": "stream",
     "text": [
      "100%|██████████| 961/961 [00:05<00:00, 185.02it/s]\n",
      "  2%|▏         | 17/807 [00:00<00:04, 164.71it/s]"
     ]
    },
    {
     "name": "stdout",
     "output_type": "stream",
     "text": [
      "   Fold 4 labels:\n",
      "   air_conditioner:\t100\n",
      "   car_horn:\t57\n",
      "   children_playing:\t100\n",
      "   dog_bark:\t100\n",
      "   drilling:\t79\n",
      "   engine_idling:\t107\n",
      "   gun_shot:\t38\n",
      "   jackhammer:\t120\n",
      "   siren:\t166\n",
      "   street_music:\t94\n",
      "FOLD 6\n"
     ]
    },
    {
     "name": "stderr",
     "output_type": "stream",
     "text": [
      "100%|██████████| 807/807 [00:04<00:00, 186.92it/s]\n",
      "  3%|▎         | 21/807 [00:00<00:03, 199.01it/s]"
     ]
    },
    {
     "name": "stdout",
     "output_type": "stream",
     "text": [
      "   Fold 6 labels:\n",
      "   air_conditioner:\t100\n",
      "   car_horn:\t28\n",
      "   children_playing:\t92\n",
      "   dog_bark:\t92\n",
      "   drilling:\t100\n",
      "   engine_idling:\t107\n",
      "   gun_shot:\t46\n",
      "   jackhammer:\t68\n",
      "   siren:\t74\n",
      "   street_music:\t100\n",
      "FOLD 7\n"
     ]
    },
    {
     "name": "stderr",
     "output_type": "stream",
     "text": [
      "100%|██████████| 807/807 [00:04<00:00, 182.54it/s]\n",
      "  3%|▎         | 20/732 [00:00<00:03, 191.86it/s]"
     ]
    },
    {
     "name": "stdout",
     "output_type": "stream",
     "text": [
      "   Fold 7 labels:\n",
      "   air_conditioner:\t100\n",
      "   car_horn:\t28\n",
      "   children_playing:\t100\n",
      "   dog_bark:\t93\n",
      "   drilling:\t82\n",
      "   engine_idling:\t100\n",
      "   gun_shot:\t51\n",
      "   jackhammer:\t76\n",
      "   siren:\t77\n",
      "   street_music:\t100\n",
      "FOLD 8\n"
     ]
    },
    {
     "name": "stderr",
     "output_type": "stream",
     "text": [
      "100%|██████████| 732/732 [00:03<00:00, 191.41it/s]\n",
      "  3%|▎         | 22/779 [00:00<00:03, 217.05it/s]"
     ]
    },
    {
     "name": "stdout",
     "output_type": "stream",
     "text": [
      "   Fold 8 labels:\n",
      "   air_conditioner:\t100\n",
      "   car_horn:\t30\n",
      "   children_playing:\t100\n",
      "   dog_bark:\t100\n",
      "   drilling:\t83\n",
      "   engine_idling:\t38\n",
      "   gun_shot:\t30\n",
      "   jackhammer:\t78\n",
      "   siren:\t80\n",
      "   street_music:\t93\n",
      "FOLD 9\n"
     ]
    },
    {
     "name": "stderr",
     "output_type": "stream",
     "text": [
      "100%|██████████| 779/779 [00:04<00:00, 183.60it/s]\n",
      "  3%|▎         | 20/765 [00:00<00:03, 199.08it/s]"
     ]
    },
    {
     "name": "stdout",
     "output_type": "stream",
     "text": [
      "   Fold 9 labels:\n",
      "   air_conditioner:\t100\n",
      "   car_horn:\t32\n",
      "   children_playing:\t100\n",
      "   dog_bark:\t99\n",
      "   drilling:\t84\n",
      "   engine_idling:\t89\n",
      "   gun_shot:\t31\n",
      "   jackhammer:\t68\n",
      "   siren:\t82\n",
      "   street_music:\t94\n",
      "FOLD 10\n"
     ]
    },
    {
     "name": "stderr",
     "output_type": "stream",
     "text": [
      "100%|██████████| 765/765 [00:04<00:00, 190.21it/s]"
     ]
    },
    {
     "name": "stdout",
     "output_type": "stream",
     "text": [
      "   Fold 10 labels:\n",
      "   air_conditioner:\t100\n",
      "   car_horn:\t33\n",
      "   children_playing:\t100\n",
      "   dog_bark:\t92\n",
      "   drilling:\t100\n",
      "   engine_idling:\t93\n",
      "   gun_shot:\t32\n",
      "   jackhammer:\t32\n",
      "   siren:\t83\n",
      "   street_music:\t100\n",
      "\n",
      "\n",
      "OVERALL labels:\n",
      "air_conditioner:\t900\n",
      "car_horn:\t329\n",
      "children_playing:\t892\n",
      "dog_bark:\t855\n",
      "drilling:\t828\n",
      "engine_idling:\t819\n",
      "gun_shot:\t334\n",
      "jackhammer:\t722\n",
      "siren:\t858\n",
      "street_music:\t868\n"
     ]
    },
    {
     "name": "stderr",
     "output_type": "stream",
     "text": [
      "\n"
     ]
    }
   ],
   "source": [
    "folds = [1, 2, 3, 4, 6, 7, 8, 9, 10]\n",
    "splitname = 'train_6'\n",
    "\n",
    "soundbankfolder = '/Users/anaemendezmendez/Documents/NYU_PHD/UrbanSound8K/soundbanks/'\n",
    "soundbankfolder = os.path.join(soundbankfolder, splitname)\n",
    "\n",
    "label_count = {}\n",
    "for label in label_list:\n",
    "    label_count[label] = 0\n",
    "\n",
    "for fold in folds:\n",
    "    \n",
    "    print('FOLD {:d}'.format(fold))\n",
    "    audiofolder = '/Users/anaemendezmendez/Documents/NYU_PHD/UrbanSound8K/audio/fold{:d}/'.format(fold)\n",
    "    audiofiles = glob.glob(os.path.join(audiofolder, '*.wav'))\n",
    "    \n",
    "    fold_label_count = {}\n",
    "    for label in label_list:\n",
    "        fold_label_count[label] = 0\n",
    "    \n",
    "    for af in tqdm(audiofiles):\n",
    "        # print(os.path.basename(af))\n",
    "        label = metadata.loc[metadata.slice_file_name == os.path.basename(af), 'class'].values[0]\n",
    "        label_count[label] += 1\n",
    "        fold_label_count[label] += 1\n",
    "        destfolder = os.path.join(soundbankfolder, 'foreground', label)\n",
    "        if not os.path.isdir(destfolder):\n",
    "            os.mkdir(destfolder)\n",
    "        destfile = os.path.join(destfolder, os.path.basename(af))\n",
    "        shutil.copyfile(af, destfile)\n",
    "        \n",
    "    # Print fold report\n",
    "    print('   Fold {:d} labels:'.format(fold))\n",
    "    for label in label_list:\n",
    "        print('   {:s}:\\t{:d}'.format(label, fold_label_count[label]))\n",
    "        \n",
    "# Print overall report\n",
    "print('\\n\\nOVERALL labels:')\n",
    "for label in label_list:\n",
    "    print('{:s}:\\t{:d}'.format(label, label_count[label]))"
   ]
  },
  {
   "cell_type": "markdown",
   "metadata": {},
   "source": [
    "## Create soundbank for TEST_6 (folds 5)"
   ]
  },
  {
   "cell_type": "code",
   "execution_count": 16,
   "metadata": {
    "scrolled": true
   },
   "outputs": [
    {
     "name": "stderr",
     "output_type": "stream",
     "text": [
      "  2%|▏         | 20/902 [00:00<00:04, 194.97it/s]"
     ]
    },
    {
     "name": "stdout",
     "output_type": "stream",
     "text": [
      "FOLD 5\n"
     ]
    },
    {
     "name": "stderr",
     "output_type": "stream",
     "text": [
      "100%|██████████| 902/902 [00:04<00:00, 184.28it/s]"
     ]
    },
    {
     "name": "stdout",
     "output_type": "stream",
     "text": [
      "   Fold 5 labels:\n",
      "   air_conditioner:\t100\n",
      "   car_horn:\t98\n",
      "   children_playing:\t92\n",
      "   dog_bark:\t95\n",
      "   drilling:\t84\n",
      "   engine_idling:\t107\n",
      "   gun_shot:\t40\n",
      "   jackhammer:\t120\n",
      "   siren:\t71\n",
      "   street_music:\t95\n",
      "\n",
      "\n",
      "OVERALL labels:\n",
      "air_conditioner:\t100\n",
      "car_horn:\t98\n",
      "children_playing:\t92\n",
      "dog_bark:\t95\n",
      "drilling:\t84\n",
      "engine_idling:\t107\n",
      "gun_shot:\t40\n",
      "jackhammer:\t120\n",
      "siren:\t71\n",
      "street_music:\t95\n"
     ]
    },
    {
     "name": "stderr",
     "output_type": "stream",
     "text": [
      "\n"
     ]
    }
   ],
   "source": [
    "folds = [5]\n",
    "splitname = 'test_6'\n",
    "\n",
    "soundbankfolder = '/Users/anaemendezmendez/Documents/NYU_PHD/UrbanSound8K/soundbanks/'\n",
    "soundbankfolder = os.path.join(soundbankfolder, splitname)\n",
    "\n",
    "label_count = {}\n",
    "for label in label_list:\n",
    "    label_count[label] = 0\n",
    "\n",
    "for fold in folds:\n",
    "    \n",
    "    print('FOLD {:d}'.format(fold))\n",
    "    audiofolder = '/Users/anaemendezmendez/Documents/NYU_PHD/UrbanSound8K/audio/fold{:d}/'.format(fold)\n",
    "    audiofiles = glob.glob(os.path.join(audiofolder, '*.wav'))\n",
    "    \n",
    "    fold_label_count = {}\n",
    "    for label in label_list:\n",
    "        fold_label_count[label] = 0\n",
    "    \n",
    "    for af in tqdm(audiofiles):\n",
    "        # print(os.path.basename(af))\n",
    "        label = metadata.loc[metadata.slice_file_name == os.path.basename(af), 'class'].values[0]\n",
    "        label_count[label] += 1\n",
    "        fold_label_count[label] += 1\n",
    "        destfolder = os.path.join(soundbankfolder, 'foreground', label)\n",
    "        if not os.path.isdir(destfolder):\n",
    "            os.mkdir(destfolder)\n",
    "        destfile = os.path.join(destfolder, os.path.basename(af))\n",
    "        shutil.copyfile(af, destfile)\n",
    "        \n",
    "    # Print fold report\n",
    "    print('   Fold {:d} labels:'.format(fold))\n",
    "    for label in label_list:\n",
    "        print('   {:s}:\\t{:d}'.format(label, fold_label_count[label]))\n",
    "        \n",
    "# Print overall report\n",
    "print('\\n\\nOVERALL labels:')\n",
    "for label in label_list:\n",
    "    print('{:s}:\\t{:d}'.format(label, label_count[label]))"
   ]
  },
  {
   "cell_type": "markdown",
   "metadata": {},
   "source": [
    "## Create soundbank for TRAIN_7 (folds 1-3, 5-10)"
   ]
  },
  {
   "cell_type": "code",
   "execution_count": 17,
   "metadata": {},
   "outputs": [
    {
     "name": "stderr",
     "output_type": "stream",
     "text": [
      "  3%|▎         | 22/766 [00:00<00:03, 214.46it/s]"
     ]
    },
    {
     "name": "stdout",
     "output_type": "stream",
     "text": [
      "FOLD 1\n"
     ]
    },
    {
     "name": "stderr",
     "output_type": "stream",
     "text": [
      "100%|██████████| 766/766 [00:03<00:00, 195.75it/s]\n",
      "  2%|▏         | 20/870 [00:00<00:04, 192.64it/s]"
     ]
    },
    {
     "name": "stdout",
     "output_type": "stream",
     "text": [
      "   Fold 1 labels:\n",
      "   air_conditioner:\t100\n",
      "   car_horn:\t36\n",
      "   children_playing:\t100\n",
      "   dog_bark:\t89\n",
      "   drilling:\t100\n",
      "   engine_idling:\t86\n",
      "   gun_shot:\t35\n",
      "   jackhammer:\t41\n",
      "   siren:\t86\n",
      "   street_music:\t93\n",
      "FOLD 2\n"
     ]
    },
    {
     "name": "stderr",
     "output_type": "stream",
     "text": [
      "100%|██████████| 870/870 [00:05<00:00, 157.76it/s]\n",
      "  2%|▏         | 17/918 [00:00<00:05, 167.66it/s]"
     ]
    },
    {
     "name": "stdout",
     "output_type": "stream",
     "text": [
      "   Fold 2 labels:\n",
      "   air_conditioner:\t100\n",
      "   car_horn:\t42\n",
      "   children_playing:\t100\n",
      "   dog_bark:\t96\n",
      "   drilling:\t100\n",
      "   engine_idling:\t92\n",
      "   gun_shot:\t35\n",
      "   jackhammer:\t120\n",
      "   siren:\t91\n",
      "   street_music:\t94\n",
      "FOLD 3\n"
     ]
    },
    {
     "name": "stderr",
     "output_type": "stream",
     "text": [
      "100%|██████████| 918/918 [00:04<00:00, 172.44it/s]\n",
      "  2%|▏         | 16/902 [00:00<00:05, 155.12it/s]"
     ]
    },
    {
     "name": "stdout",
     "output_type": "stream",
     "text": [
      "   Fold 3 labels:\n",
      "   air_conditioner:\t100\n",
      "   car_horn:\t43\n",
      "   children_playing:\t100\n",
      "   dog_bark:\t94\n",
      "   drilling:\t100\n",
      "   engine_idling:\t107\n",
      "   gun_shot:\t36\n",
      "   jackhammer:\t119\n",
      "   siren:\t119\n",
      "   street_music:\t100\n",
      "FOLD 5\n"
     ]
    },
    {
     "name": "stderr",
     "output_type": "stream",
     "text": [
      "100%|██████████| 902/902 [00:04<00:00, 193.64it/s]\n",
      "  2%|▏         | 18/807 [00:00<00:04, 174.14it/s]"
     ]
    },
    {
     "name": "stdout",
     "output_type": "stream",
     "text": [
      "   Fold 5 labels:\n",
      "   air_conditioner:\t100\n",
      "   car_horn:\t98\n",
      "   children_playing:\t92\n",
      "   dog_bark:\t95\n",
      "   drilling:\t84\n",
      "   engine_idling:\t107\n",
      "   gun_shot:\t40\n",
      "   jackhammer:\t120\n",
      "   siren:\t71\n",
      "   street_music:\t95\n",
      "FOLD 6\n"
     ]
    },
    {
     "name": "stderr",
     "output_type": "stream",
     "text": [
      "100%|██████████| 807/807 [00:04<00:00, 196.34it/s]\n",
      "  2%|▏         | 20/807 [00:00<00:04, 195.62it/s]"
     ]
    },
    {
     "name": "stdout",
     "output_type": "stream",
     "text": [
      "   Fold 6 labels:\n",
      "   air_conditioner:\t100\n",
      "   car_horn:\t28\n",
      "   children_playing:\t92\n",
      "   dog_bark:\t92\n",
      "   drilling:\t100\n",
      "   engine_idling:\t107\n",
      "   gun_shot:\t46\n",
      "   jackhammer:\t68\n",
      "   siren:\t74\n",
      "   street_music:\t100\n",
      "FOLD 7\n"
     ]
    },
    {
     "name": "stderr",
     "output_type": "stream",
     "text": [
      "100%|██████████| 807/807 [00:04<00:00, 186.67it/s]\n",
      "  3%|▎         | 22/732 [00:00<00:03, 212.58it/s]"
     ]
    },
    {
     "name": "stdout",
     "output_type": "stream",
     "text": [
      "   Fold 7 labels:\n",
      "   air_conditioner:\t100\n",
      "   car_horn:\t28\n",
      "   children_playing:\t100\n",
      "   dog_bark:\t93\n",
      "   drilling:\t82\n",
      "   engine_idling:\t100\n",
      "   gun_shot:\t51\n",
      "   jackhammer:\t76\n",
      "   siren:\t77\n",
      "   street_music:\t100\n",
      "FOLD 8\n"
     ]
    },
    {
     "name": "stderr",
     "output_type": "stream",
     "text": [
      "100%|██████████| 732/732 [00:04<00:00, 164.81it/s]\n",
      "  2%|▏         | 19/779 [00:00<00:04, 189.80it/s]"
     ]
    },
    {
     "name": "stdout",
     "output_type": "stream",
     "text": [
      "   Fold 8 labels:\n",
      "   air_conditioner:\t100\n",
      "   car_horn:\t30\n",
      "   children_playing:\t100\n",
      "   dog_bark:\t100\n",
      "   drilling:\t83\n",
      "   engine_idling:\t38\n",
      "   gun_shot:\t30\n",
      "   jackhammer:\t78\n",
      "   siren:\t80\n",
      "   street_music:\t93\n",
      "FOLD 9\n"
     ]
    },
    {
     "name": "stderr",
     "output_type": "stream",
     "text": [
      "100%|██████████| 779/779 [00:07<00:00, 109.32it/s]\n",
      "  0%|          | 0/765 [00:00<?, ?it/s]"
     ]
    },
    {
     "name": "stdout",
     "output_type": "stream",
     "text": [
      "   Fold 9 labels:\n",
      "   air_conditioner:\t100\n",
      "   car_horn:\t32\n",
      "   children_playing:\t100\n",
      "   dog_bark:\t99\n",
      "   drilling:\t84\n",
      "   engine_idling:\t89\n",
      "   gun_shot:\t31\n",
      "   jackhammer:\t68\n",
      "   siren:\t82\n",
      "   street_music:\t94\n",
      "FOLD 10\n"
     ]
    },
    {
     "name": "stderr",
     "output_type": "stream",
     "text": [
      "100%|██████████| 765/765 [00:08<00:00, 89.03it/s] "
     ]
    },
    {
     "name": "stdout",
     "output_type": "stream",
     "text": [
      "   Fold 10 labels:\n",
      "   air_conditioner:\t100\n",
      "   car_horn:\t33\n",
      "   children_playing:\t100\n",
      "   dog_bark:\t92\n",
      "   drilling:\t100\n",
      "   engine_idling:\t93\n",
      "   gun_shot:\t32\n",
      "   jackhammer:\t32\n",
      "   siren:\t83\n",
      "   street_music:\t100\n",
      "\n",
      "\n",
      "OVERALL labels:\n",
      "air_conditioner:\t900\n",
      "car_horn:\t370\n",
      "children_playing:\t884\n",
      "dog_bark:\t850\n",
      "drilling:\t833\n",
      "engine_idling:\t819\n",
      "gun_shot:\t336\n",
      "jackhammer:\t722\n",
      "siren:\t763\n",
      "street_music:\t869\n"
     ]
    },
    {
     "name": "stderr",
     "output_type": "stream",
     "text": [
      "\n"
     ]
    }
   ],
   "source": [
    "folds = [1, 2, 3, 5, 6, 7, 8, 9, 10]\n",
    "splitname = 'train_7'\n",
    "\n",
    "soundbankfolder = '/Users/anaemendezmendez/Documents/NYU_PHD/UrbanSound8K/soundbanks/'\n",
    "soundbankfolder = os.path.join(soundbankfolder, splitname)\n",
    "\n",
    "label_count = {}\n",
    "for label in label_list:\n",
    "    label_count[label] = 0\n",
    "\n",
    "for fold in folds:\n",
    "    \n",
    "    print('FOLD {:d}'.format(fold))\n",
    "    audiofolder = '/Users/anaemendezmendez/Documents/NYU_PHD/UrbanSound8K/audio/fold{:d}/'.format(fold)\n",
    "    audiofiles = glob.glob(os.path.join(audiofolder, '*.wav'))\n",
    "    \n",
    "    fold_label_count = {}\n",
    "    for label in label_list:\n",
    "        fold_label_count[label] = 0\n",
    "    \n",
    "    for af in tqdm(audiofiles):\n",
    "        # print(os.path.basename(af))\n",
    "        label = metadata.loc[metadata.slice_file_name == os.path.basename(af), 'class'].values[0]\n",
    "        label_count[label] += 1\n",
    "        fold_label_count[label] += 1\n",
    "        destfolder = os.path.join(soundbankfolder, 'foreground', label)\n",
    "        if not os.path.isdir(destfolder):\n",
    "            os.mkdir(destfolder)\n",
    "        destfile = os.path.join(destfolder, os.path.basename(af))\n",
    "        shutil.copyfile(af, destfile)\n",
    "        \n",
    "    # Print fold report\n",
    "    print('   Fold {:d} labels:'.format(fold))\n",
    "    for label in label_list:\n",
    "        print('   {:s}:\\t{:d}'.format(label, fold_label_count[label]))\n",
    "        \n",
    "# Print overall report\n",
    "print('\\n\\nOVERALL labels:')\n",
    "for label in label_list:\n",
    "    print('{:s}:\\t{:d}'.format(label, label_count[label]))"
   ]
  },
  {
   "cell_type": "markdown",
   "metadata": {},
   "source": [
    "## Create soundbank for TEST_7 (folds 4)"
   ]
  },
  {
   "cell_type": "code",
   "execution_count": 18,
   "metadata": {
    "scrolled": true
   },
   "outputs": [
    {
     "name": "stderr",
     "output_type": "stream",
     "text": [
      "  2%|▏         | 22/961 [00:00<00:04, 216.08it/s]"
     ]
    },
    {
     "name": "stdout",
     "output_type": "stream",
     "text": [
      "FOLD 4\n"
     ]
    },
    {
     "name": "stderr",
     "output_type": "stream",
     "text": [
      "100%|██████████| 961/961 [00:05<00:00, 167.75it/s]"
     ]
    },
    {
     "name": "stdout",
     "output_type": "stream",
     "text": [
      "   Fold 4 labels:\n",
      "   air_conditioner:\t100\n",
      "   car_horn:\t57\n",
      "   children_playing:\t100\n",
      "   dog_bark:\t100\n",
      "   drilling:\t79\n",
      "   engine_idling:\t107\n",
      "   gun_shot:\t38\n",
      "   jackhammer:\t120\n",
      "   siren:\t166\n",
      "   street_music:\t94\n",
      "\n",
      "\n",
      "OVERALL labels:\n",
      "air_conditioner:\t100\n",
      "car_horn:\t57\n",
      "children_playing:\t100\n",
      "dog_bark:\t100\n",
      "drilling:\t79\n",
      "engine_idling:\t107\n",
      "gun_shot:\t38\n",
      "jackhammer:\t120\n",
      "siren:\t166\n",
      "street_music:\t94\n"
     ]
    },
    {
     "name": "stderr",
     "output_type": "stream",
     "text": [
      "\n"
     ]
    }
   ],
   "source": [
    "folds = [4]\n",
    "splitname = 'test_7'\n",
    "\n",
    "soundbankfolder = '/Users/anaemendezmendez/Documents/NYU_PHD/UrbanSound8K/soundbanks/'\n",
    "soundbankfolder = os.path.join(soundbankfolder, splitname)\n",
    "\n",
    "label_count = {}\n",
    "for label in label_list:\n",
    "    label_count[label] = 0\n",
    "\n",
    "for fold in folds:\n",
    "    \n",
    "    print('FOLD {:d}'.format(fold))\n",
    "    audiofolder = '/Users/anaemendezmendez/Documents/NYU_PHD/UrbanSound8K/audio/fold{:d}/'.format(fold)\n",
    "    audiofiles = glob.glob(os.path.join(audiofolder, '*.wav'))\n",
    "    \n",
    "    fold_label_count = {}\n",
    "    for label in label_list:\n",
    "        fold_label_count[label] = 0\n",
    "    \n",
    "    for af in tqdm(audiofiles):\n",
    "        # print(os.path.basename(af))\n",
    "        label = metadata.loc[metadata.slice_file_name == os.path.basename(af), 'class'].values[0]\n",
    "        label_count[label] += 1\n",
    "        fold_label_count[label] += 1\n",
    "        destfolder = os.path.join(soundbankfolder, 'foreground', label)\n",
    "        if not os.path.isdir(destfolder):\n",
    "            os.mkdir(destfolder)\n",
    "        destfile = os.path.join(destfolder, os.path.basename(af))\n",
    "        shutil.copyfile(af, destfile)\n",
    "        \n",
    "    # Print fold report\n",
    "    print('   Fold {:d} labels:'.format(fold))\n",
    "    for label in label_list:\n",
    "        print('   {:s}:\\t{:d}'.format(label, fold_label_count[label]))\n",
    "        \n",
    "# Print overall report\n",
    "print('\\n\\nOVERALL labels:')\n",
    "for label in label_list:\n",
    "    print('{:s}:\\t{:d}'.format(label, label_count[label]))"
   ]
  },
  {
   "cell_type": "markdown",
   "metadata": {},
   "source": [
    "## Create soundbank for TRAIN_8 (folds 1-2, 4-10)"
   ]
  },
  {
   "cell_type": "code",
   "execution_count": 19,
   "metadata": {},
   "outputs": [
    {
     "name": "stderr",
     "output_type": "stream",
     "text": [
      "  2%|▏         | 16/766 [00:00<00:05, 149.34it/s]"
     ]
    },
    {
     "name": "stdout",
     "output_type": "stream",
     "text": [
      "FOLD 1\n"
     ]
    },
    {
     "name": "stderr",
     "output_type": "stream",
     "text": [
      "100%|██████████| 766/766 [00:12<00:00, 60.75it/s] \n",
      "  1%|          | 9/870 [00:00<00:09, 87.21it/s]"
     ]
    },
    {
     "name": "stdout",
     "output_type": "stream",
     "text": [
      "   Fold 1 labels:\n",
      "   air_conditioner:\t100\n",
      "   car_horn:\t36\n",
      "   children_playing:\t100\n",
      "   dog_bark:\t89\n",
      "   drilling:\t100\n",
      "   engine_idling:\t86\n",
      "   gun_shot:\t35\n",
      "   jackhammer:\t41\n",
      "   siren:\t86\n",
      "   street_music:\t93\n",
      "FOLD 2\n"
     ]
    },
    {
     "name": "stderr",
     "output_type": "stream",
     "text": [
      "100%|██████████| 870/870 [00:10<00:00, 80.72it/s] \n",
      "  1%|          | 6/961 [00:00<00:16, 59.49it/s]"
     ]
    },
    {
     "name": "stdout",
     "output_type": "stream",
     "text": [
      "   Fold 2 labels:\n",
      "   air_conditioner:\t100\n",
      "   car_horn:\t42\n",
      "   children_playing:\t100\n",
      "   dog_bark:\t96\n",
      "   drilling:\t100\n",
      "   engine_idling:\t92\n",
      "   gun_shot:\t35\n",
      "   jackhammer:\t120\n",
      "   siren:\t91\n",
      "   street_music:\t94\n",
      "FOLD 4\n"
     ]
    },
    {
     "name": "stderr",
     "output_type": "stream",
     "text": [
      "100%|██████████| 961/961 [00:05<00:00, 125.14it/s]\n",
      "  0%|          | 1/902 [00:00<01:52,  8.00it/s]"
     ]
    },
    {
     "name": "stdout",
     "output_type": "stream",
     "text": [
      "   Fold 4 labels:\n",
      "   air_conditioner:\t100\n",
      "   car_horn:\t57\n",
      "   children_playing:\t100\n",
      "   dog_bark:\t100\n",
      "   drilling:\t79\n",
      "   engine_idling:\t107\n",
      "   gun_shot:\t38\n",
      "   jackhammer:\t120\n",
      "   siren:\t166\n",
      "   street_music:\t94\n",
      "FOLD 5\n"
     ]
    },
    {
     "name": "stderr",
     "output_type": "stream",
     "text": [
      "100%|██████████| 902/902 [00:07<00:00, 123.22it/s]\n",
      "  1%|          | 8/807 [00:00<00:11, 71.59it/s]"
     ]
    },
    {
     "name": "stdout",
     "output_type": "stream",
     "text": [
      "   Fold 5 labels:\n",
      "   air_conditioner:\t100\n",
      "   car_horn:\t98\n",
      "   children_playing:\t92\n",
      "   dog_bark:\t95\n",
      "   drilling:\t84\n",
      "   engine_idling:\t107\n",
      "   gun_shot:\t40\n",
      "   jackhammer:\t120\n",
      "   siren:\t71\n",
      "   street_music:\t95\n",
      "FOLD 6\n"
     ]
    },
    {
     "name": "stderr",
     "output_type": "stream",
     "text": [
      "100%|██████████| 807/807 [00:07<00:00, 106.99it/s]\n",
      "  1%|          | 9/807 [00:00<00:08, 89.71it/s]"
     ]
    },
    {
     "name": "stdout",
     "output_type": "stream",
     "text": [
      "   Fold 6 labels:\n",
      "   air_conditioner:\t100\n",
      "   car_horn:\t28\n",
      "   children_playing:\t92\n",
      "   dog_bark:\t92\n",
      "   drilling:\t100\n",
      "   engine_idling:\t107\n",
      "   gun_shot:\t46\n",
      "   jackhammer:\t68\n",
      "   siren:\t74\n",
      "   street_music:\t100\n",
      "FOLD 7\n"
     ]
    },
    {
     "name": "stderr",
     "output_type": "stream",
     "text": [
      " 74%|███████▎  | 594/807 [00:22<00:44,  4.83it/s] "
     ]
    },
    {
     "ename": "OSError",
     "evalue": "[Errno 28] No space left on device",
     "output_type": "error",
     "traceback": [
      "\u001b[0;31m---------------------------------------------------------------------------\u001b[0m",
      "\u001b[0;31mOSError\u001b[0m                                   Traceback (most recent call last)",
      "\u001b[0;32m<ipython-input-19-62fe953ad2ed>\u001b[0m in \u001b[0;36m<module>\u001b[0;34m\u001b[0m\n\u001b[1;32m     28\u001b[0m             \u001b[0mos\u001b[0m\u001b[0;34m.\u001b[0m\u001b[0mmkdir\u001b[0m\u001b[0;34m(\u001b[0m\u001b[0mdestfolder\u001b[0m\u001b[0;34m)\u001b[0m\u001b[0;34m\u001b[0m\u001b[0;34m\u001b[0m\u001b[0m\n\u001b[1;32m     29\u001b[0m         \u001b[0mdestfile\u001b[0m \u001b[0;34m=\u001b[0m \u001b[0mos\u001b[0m\u001b[0;34m.\u001b[0m\u001b[0mpath\u001b[0m\u001b[0;34m.\u001b[0m\u001b[0mjoin\u001b[0m\u001b[0;34m(\u001b[0m\u001b[0mdestfolder\u001b[0m\u001b[0;34m,\u001b[0m \u001b[0mos\u001b[0m\u001b[0;34m.\u001b[0m\u001b[0mpath\u001b[0m\u001b[0;34m.\u001b[0m\u001b[0mbasename\u001b[0m\u001b[0;34m(\u001b[0m\u001b[0maf\u001b[0m\u001b[0;34m)\u001b[0m\u001b[0;34m)\u001b[0m\u001b[0;34m\u001b[0m\u001b[0;34m\u001b[0m\u001b[0m\n\u001b[0;32m---> 30\u001b[0;31m         \u001b[0mshutil\u001b[0m\u001b[0;34m.\u001b[0m\u001b[0mcopyfile\u001b[0m\u001b[0;34m(\u001b[0m\u001b[0maf\u001b[0m\u001b[0;34m,\u001b[0m \u001b[0mdestfile\u001b[0m\u001b[0;34m)\u001b[0m\u001b[0;34m\u001b[0m\u001b[0;34m\u001b[0m\u001b[0m\n\u001b[0m\u001b[1;32m     31\u001b[0m \u001b[0;34m\u001b[0m\u001b[0m\n\u001b[1;32m     32\u001b[0m     \u001b[0;31m# Print fold report\u001b[0m\u001b[0;34m\u001b[0m\u001b[0;34m\u001b[0m\u001b[0;34m\u001b[0m\u001b[0m\n",
      "\u001b[0;32m/anaconda2/envs/independent_research/lib/python3.6/shutil.py\u001b[0m in \u001b[0;36mcopyfile\u001b[0;34m(src, dst, follow_symlinks)\u001b[0m\n\u001b[1;32m    120\u001b[0m         \u001b[0;32mwith\u001b[0m \u001b[0mopen\u001b[0m\u001b[0;34m(\u001b[0m\u001b[0msrc\u001b[0m\u001b[0;34m,\u001b[0m \u001b[0;34m'rb'\u001b[0m\u001b[0;34m)\u001b[0m \u001b[0;32mas\u001b[0m \u001b[0mfsrc\u001b[0m\u001b[0;34m:\u001b[0m\u001b[0;34m\u001b[0m\u001b[0;34m\u001b[0m\u001b[0m\n\u001b[1;32m    121\u001b[0m             \u001b[0;32mwith\u001b[0m \u001b[0mopen\u001b[0m\u001b[0;34m(\u001b[0m\u001b[0mdst\u001b[0m\u001b[0;34m,\u001b[0m \u001b[0;34m'wb'\u001b[0m\u001b[0;34m)\u001b[0m \u001b[0;32mas\u001b[0m \u001b[0mfdst\u001b[0m\u001b[0;34m:\u001b[0m\u001b[0;34m\u001b[0m\u001b[0;34m\u001b[0m\u001b[0m\n\u001b[0;32m--> 122\u001b[0;31m                 \u001b[0mcopyfileobj\u001b[0m\u001b[0;34m(\u001b[0m\u001b[0mfsrc\u001b[0m\u001b[0;34m,\u001b[0m \u001b[0mfdst\u001b[0m\u001b[0;34m)\u001b[0m\u001b[0;34m\u001b[0m\u001b[0;34m\u001b[0m\u001b[0m\n\u001b[0m\u001b[1;32m    123\u001b[0m     \u001b[0;32mreturn\u001b[0m \u001b[0mdst\u001b[0m\u001b[0;34m\u001b[0m\u001b[0;34m\u001b[0m\u001b[0m\n\u001b[1;32m    124\u001b[0m \u001b[0;34m\u001b[0m\u001b[0m\n",
      "\u001b[0;32m/anaconda2/envs/independent_research/lib/python3.6/shutil.py\u001b[0m in \u001b[0;36mcopyfileobj\u001b[0;34m(fsrc, fdst, length)\u001b[0m\n\u001b[1;32m     80\u001b[0m         \u001b[0;32mif\u001b[0m \u001b[0;32mnot\u001b[0m \u001b[0mbuf\u001b[0m\u001b[0;34m:\u001b[0m\u001b[0;34m\u001b[0m\u001b[0;34m\u001b[0m\u001b[0m\n\u001b[1;32m     81\u001b[0m             \u001b[0;32mbreak\u001b[0m\u001b[0;34m\u001b[0m\u001b[0;34m\u001b[0m\u001b[0m\n\u001b[0;32m---> 82\u001b[0;31m         \u001b[0mfdst\u001b[0m\u001b[0;34m.\u001b[0m\u001b[0mwrite\u001b[0m\u001b[0;34m(\u001b[0m\u001b[0mbuf\u001b[0m\u001b[0;34m)\u001b[0m\u001b[0;34m\u001b[0m\u001b[0;34m\u001b[0m\u001b[0m\n\u001b[0m\u001b[1;32m     83\u001b[0m \u001b[0;34m\u001b[0m\u001b[0m\n\u001b[1;32m     84\u001b[0m \u001b[0;32mdef\u001b[0m \u001b[0m_samefile\u001b[0m\u001b[0;34m(\u001b[0m\u001b[0msrc\u001b[0m\u001b[0;34m,\u001b[0m \u001b[0mdst\u001b[0m\u001b[0;34m)\u001b[0m\u001b[0;34m:\u001b[0m\u001b[0;34m\u001b[0m\u001b[0;34m\u001b[0m\u001b[0m\n",
      "\u001b[0;31mOSError\u001b[0m: [Errno 28] No space left on device"
     ]
    }
   ],
   "source": [
    "folds = [1, 2, 4, 5, 6, 7, 8, 9, 10]\n",
    "splitname = 'train_8'\n",
    "\n",
    "soundbankfolder = '/Users/anaemendezmendez/Documents/NYU_PHD/UrbanSound8K/soundbanks/'\n",
    "soundbankfolder = os.path.join(soundbankfolder, splitname)\n",
    "\n",
    "label_count = {}\n",
    "for label in label_list:\n",
    "    label_count[label] = 0\n",
    "\n",
    "for fold in folds:\n",
    "    \n",
    "    print('FOLD {:d}'.format(fold))\n",
    "    audiofolder = '/Users/anaemendezmendez/Documents/NYU_PHD/UrbanSound8K/audio/fold{:d}/'.format(fold)\n",
    "    audiofiles = glob.glob(os.path.join(audiofolder, '*.wav'))\n",
    "    \n",
    "    fold_label_count = {}\n",
    "    for label in label_list:\n",
    "        fold_label_count[label] = 0\n",
    "    \n",
    "    for af in tqdm(audiofiles):\n",
    "        # print(os.path.basename(af))\n",
    "        label = metadata.loc[metadata.slice_file_name == os.path.basename(af), 'class'].values[0]\n",
    "        label_count[label] += 1\n",
    "        fold_label_count[label] += 1\n",
    "        destfolder = os.path.join(soundbankfolder, 'foreground', label)\n",
    "        if not os.path.isdir(destfolder):\n",
    "            os.mkdir(destfolder)\n",
    "        destfile = os.path.join(destfolder, os.path.basename(af))\n",
    "        shutil.copyfile(af, destfile)\n",
    "        \n",
    "    # Print fold report\n",
    "    print('   Fold {:d} labels:'.format(fold))\n",
    "    for label in label_list:\n",
    "        print('   {:s}:\\t{:d}'.format(label, fold_label_count[label]))\n",
    "        \n",
    "# Print overall report\n",
    "print('\\n\\nOVERALL labels:')\n",
    "for label in label_list:\n",
    "    print('{:s}:\\t{:d}'.format(label, label_count[label]))"
   ]
  },
  {
   "cell_type": "markdown",
   "metadata": {},
   "source": [
    "## Create soundbank for TEST_8 (folds 3)"
   ]
  },
  {
   "cell_type": "code",
   "execution_count": 20,
   "metadata": {
    "scrolled": true
   },
   "outputs": [
    {
     "name": "stderr",
     "output_type": "stream",
     "text": [
      "\n",
      "  0%|          | 0/918 [00:00<?, ?it/s]\u001b[A\n",
      "  1%|▏         | 13/918 [00:00<00:06, 129.32it/s]\u001b[A"
     ]
    },
    {
     "name": "stdout",
     "output_type": "stream",
     "text": [
      "FOLD 3\n"
     ]
    },
    {
     "name": "stderr",
     "output_type": "stream",
     "text": [
      "\n",
      "  3%|▎         | 28/918 [00:00<00:06, 129.52it/s]\u001b[A\n",
      "  5%|▍         | 45/918 [00:00<00:06, 138.45it/s]\u001b[A\n",
      "  7%|▋         | 62/918 [00:00<00:05, 146.07it/s]\u001b[A\n",
      "  9%|▊         | 80/918 [00:00<00:05, 153.52it/s]\u001b[A\n",
      " 10%|█         | 95/918 [00:00<00:05, 150.99it/s]\u001b[A\n",
      " 13%|█▎        | 116/918 [00:00<00:04, 163.22it/s]\u001b[A\n",
      " 14%|█▍        | 132/918 [00:00<00:05, 153.50it/s]\u001b[A\n",
      " 17%|█▋        | 152/918 [00:00<00:04, 164.88it/s]\u001b[A\n",
      " 19%|█▊        | 170/918 [00:01<00:04, 166.38it/s]\u001b[A\n",
      " 20%|██        | 188/918 [00:01<00:04, 170.04it/s]\u001b[A\n",
      " 22%|██▏       | 206/918 [00:01<00:04, 164.23it/s]\u001b[A\n",
      " 25%|██▍       | 225/918 [00:01<00:04, 170.88it/s]\u001b[A\n",
      " 26%|██▋       | 243/918 [00:01<00:03, 172.51it/s]\u001b[A\n",
      " 28%|██▊       | 261/918 [00:01<00:03, 173.84it/s]\u001b[A\n",
      " 31%|███       | 280/918 [00:01<00:03, 177.75it/s]\u001b[A\n",
      " 32%|███▏      | 298/918 [00:01<00:03, 175.06it/s]\u001b[A\n",
      " 35%|███▍      | 318/918 [00:01<00:03, 179.99it/s]\u001b[A\n",
      " 37%|███▋      | 338/918 [00:01<00:03, 183.46it/s]\u001b[A\n",
      " 39%|███▉      | 359/918 [00:02<00:02, 188.84it/s]\u001b[A\n",
      " 41%|████      | 378/918 [00:02<00:02, 185.24it/s]\u001b[A\n",
      " 43%|████▎     | 397/918 [00:02<00:02, 184.90it/s]\u001b[A\n",
      " 45%|████▌     | 416/918 [00:02<00:02, 185.12it/s]\u001b[A\n",
      " 47%|████▋     | 435/918 [00:02<00:02, 183.58it/s]\u001b[A\n",
      " 50%|████▉     | 455/918 [00:02<00:02, 186.77it/s]\u001b[A\n",
      " 52%|█████▏    | 476/918 [00:02<00:02, 190.62it/s]\u001b[A\n",
      " 54%|█████▍    | 496/918 [00:02<00:02, 184.15it/s]\u001b[A\n",
      " 56%|█████▌    | 515/918 [00:02<00:02, 177.96it/s]\u001b[A\n",
      " 58%|█████▊    | 535/918 [00:03<00:02, 183.22it/s]\u001b[A\n",
      " 60%|██████    | 554/918 [00:03<00:02, 180.51it/s]\u001b[A\n",
      " 62%|██████▏   | 573/918 [00:03<00:01, 181.62it/s]\u001b[A\n",
      " 65%|██████▍   | 593/918 [00:03<00:01, 185.10it/s]\u001b[A\n",
      " 67%|██████▋   | 614/918 [00:03<00:01, 189.64it/s]\u001b[A\n",
      " 69%|██████▉   | 634/918 [00:03<00:02, 121.09it/s]\u001b[A\n",
      " 72%|███████▏  | 659/918 [00:03<00:01, 142.55it/s]\u001b[A\n",
      " 74%|███████▎  | 677/918 [00:04<00:01, 136.11it/s]\u001b[A\n",
      " 76%|███████▌  | 695/918 [00:04<00:01, 146.83it/s]\u001b[A\n",
      " 78%|███████▊  | 712/918 [00:04<00:01, 151.86it/s]\u001b[A\n",
      " 79%|███████▉  | 729/918 [00:04<00:01, 142.82it/s]\u001b[A\n",
      " 81%|████████  | 745/918 [00:04<00:01, 122.37it/s]\u001b[A\n",
      " 83%|████████▎ | 760/918 [00:04<00:01, 129.00it/s]\u001b[A\n",
      " 84%|████████▍ | 775/918 [00:04<00:01, 134.61it/s]\u001b[A\n",
      " 86%|████████▌ | 790/918 [00:04<00:00, 131.78it/s]\u001b[A\n",
      " 88%|████████▊ | 807/918 [00:04<00:00, 140.41it/s]\u001b[A\n",
      " 90%|████████▉ | 822/918 [00:05<00:00, 138.13it/s]\u001b[A\n",
      " 91%|█████████▏| 839/918 [00:05<00:00, 145.40it/s]\u001b[A\n",
      " 94%|█████████▎| 859/918 [00:05<00:00, 157.94it/s]\u001b[A\n",
      " 96%|█████████▌| 878/918 [00:05<00:00, 165.80it/s]\u001b[A\n",
      " 98%|█████████▊| 896/918 [00:05<00:00, 155.05it/s]\u001b[A\n",
      " 99%|█████████▉| 913/918 [00:05<00:00, 152.25it/s]\u001b[A\n",
      "100%|██████████| 918/918 [00:05<00:00, 161.81it/s]\u001b[A"
     ]
    },
    {
     "name": "stdout",
     "output_type": "stream",
     "text": [
      "   Fold 3 labels:\n",
      "   air_conditioner:\t100\n",
      "   car_horn:\t43\n",
      "   children_playing:\t100\n",
      "   dog_bark:\t94\n",
      "   drilling:\t100\n",
      "   engine_idling:\t107\n",
      "   gun_shot:\t36\n",
      "   jackhammer:\t119\n",
      "   siren:\t119\n",
      "   street_music:\t100\n",
      "\n",
      "\n",
      "OVERALL labels:\n",
      "air_conditioner:\t100\n",
      "car_horn:\t43\n",
      "children_playing:\t100\n",
      "dog_bark:\t94\n",
      "drilling:\t100\n",
      "engine_idling:\t107\n",
      "gun_shot:\t36\n",
      "jackhammer:\t119\n",
      "siren:\t119\n",
      "street_music:\t100\n"
     ]
    }
   ],
   "source": [
    "folds = [3]\n",
    "splitname = 'test_8'\n",
    "\n",
    "soundbankfolder = '/Users/anaemendezmendez/Documents/NYU_PHD/UrbanSound8K/soundbanks/'\n",
    "soundbankfolder = os.path.join(soundbankfolder, splitname)\n",
    "\n",
    "label_count = {}\n",
    "for label in label_list:\n",
    "    label_count[label] = 0\n",
    "\n",
    "for fold in folds:\n",
    "    \n",
    "    print('FOLD {:d}'.format(fold))\n",
    "    audiofolder = '/Users/anaemendezmendez/Documents/NYU_PHD/UrbanSound8K/audio/fold{:d}/'.format(fold)\n",
    "    audiofiles = glob.glob(os.path.join(audiofolder, '*.wav'))\n",
    "    \n",
    "    fold_label_count = {}\n",
    "    for label in label_list:\n",
    "        fold_label_count[label] = 0\n",
    "    \n",
    "    for af in tqdm(audiofiles):\n",
    "        # print(os.path.basename(af))\n",
    "        label = metadata.loc[metadata.slice_file_name == os.path.basename(af), 'class'].values[0]\n",
    "        label_count[label] += 1\n",
    "        fold_label_count[label] += 1\n",
    "        destfolder = os.path.join(soundbankfolder, 'foreground', label)\n",
    "        if not os.path.isdir(destfolder):\n",
    "            os.mkdir(destfolder)\n",
    "        destfile = os.path.join(destfolder, os.path.basename(af))\n",
    "        shutil.copyfile(af, destfile)\n",
    "        \n",
    "    # Print fold report\n",
    "    print('   Fold {:d} labels:'.format(fold))\n",
    "    for label in label_list:\n",
    "        print('   {:s}:\\t{:d}'.format(label, fold_label_count[label]))\n",
    "        \n",
    "# Print overall report\n",
    "print('\\n\\nOVERALL labels:')\n",
    "for label in label_list:\n",
    "    print('{:s}:\\t{:d}'.format(label, label_count[label]))"
   ]
  },
  {
   "cell_type": "markdown",
   "metadata": {},
   "source": [
    "## Create soundbank for TRAIN_9 (folds 1, 3-10)"
   ]
  },
  {
   "cell_type": "code",
   "execution_count": 21,
   "metadata": {},
   "outputs": [
    {
     "name": "stderr",
     "output_type": "stream",
     "text": [
      "\n",
      "  0%|          | 0/766 [00:00<?, ?it/s]\u001b[A\n",
      "  2%|▏         | 14/766 [00:00<00:05, 135.94it/s]\u001b[A"
     ]
    },
    {
     "name": "stdout",
     "output_type": "stream",
     "text": [
      "FOLD 1\n"
     ]
    },
    {
     "name": "stderr",
     "output_type": "stream",
     "text": [
      "\n",
      "  4%|▎         | 27/766 [00:00<00:05, 133.67it/s]\u001b[A\n",
      "  5%|▌         | 41/766 [00:00<00:05, 128.65it/s]\u001b[A\n",
      "  7%|▋         | 56/766 [00:00<00:05, 133.74it/s]\u001b[A\n",
      " 10%|▉         | 73/766 [00:00<00:04, 141.86it/s]\u001b[A\n",
      " 11%|█         | 86/766 [00:00<00:05, 129.70it/s]\u001b[A\n",
      " 14%|█▎        | 104/766 [00:00<00:04, 140.04it/s]\u001b[A\n",
      " 16%|█▌        | 123/766 [00:00<00:04, 150.38it/s]\u001b[A\n",
      " 19%|█▉        | 144/766 [00:00<00:03, 162.17it/s]\u001b[A\n",
      " 21%|██        | 161/766 [00:01<00:04, 147.98it/s]\u001b[A\n",
      " 23%|██▎       | 180/766 [00:01<00:03, 157.29it/s]\u001b[A\n",
      " 26%|██▌       | 197/766 [00:01<00:03, 158.72it/s]\u001b[A\n",
      " 28%|██▊       | 215/766 [00:01<00:03, 161.59it/s]\u001b[A\n",
      " 30%|███       | 233/766 [00:01<00:03, 165.08it/s]\u001b[A\n",
      " 33%|███▎      | 252/766 [00:01<00:03, 170.44it/s]\u001b[A\n",
      " 35%|███▌      | 271/766 [00:01<00:02, 175.74it/s]\u001b[A\n",
      " 38%|███▊      | 289/766 [00:01<00:02, 174.50it/s]\u001b[A\n",
      " 40%|████      | 310/766 [00:01<00:02, 181.63it/s]\u001b[A\n",
      " 43%|████▎     | 329/766 [00:02<00:02, 181.91it/s]\u001b[A\n",
      " 45%|████▌     | 348/766 [00:02<00:02, 180.76it/s]\u001b[A\n",
      " 48%|████▊     | 367/766 [00:02<00:02, 176.29it/s]\u001b[A\n",
      " 50%|█████     | 386/766 [00:02<00:02, 178.38it/s]\u001b[A\n",
      " 53%|█████▎    | 404/766 [00:02<00:02, 121.66it/s]\u001b[A\n",
      " 55%|█████▌    | 422/766 [00:02<00:02, 133.44it/s]\u001b[A\n",
      " 58%|█████▊    | 441/766 [00:02<00:02, 146.11it/s]\u001b[A\n",
      " 60%|█████▉    | 458/766 [00:02<00:02, 130.32it/s]\u001b[A\n",
      " 62%|██████▏   | 477/766 [00:03<00:02, 143.44it/s]\u001b[A\n",
      " 65%|██████▍   | 496/766 [00:03<00:01, 154.73it/s]\u001b[A\n",
      " 67%|██████▋   | 515/766 [00:03<00:01, 163.16it/s]\u001b[A\n",
      " 70%|██████▉   | 533/766 [00:03<00:01, 167.21it/s]\u001b[A\n",
      " 72%|███████▏  | 552/766 [00:03<00:01, 171.21it/s]\u001b[A\n",
      " 74%|███████▍  | 570/766 [00:03<00:01, 133.22it/s]\u001b[A\n",
      " 77%|███████▋  | 589/766 [00:03<00:01, 145.46it/s]\u001b[A\n",
      " 79%|███████▉  | 606/766 [00:03<00:01, 142.66it/s]\u001b[A\n",
      " 82%|████████▏ | 626/766 [00:04<00:00, 156.02it/s]\u001b[A\n",
      " 84%|████████▍ | 643/766 [00:04<00:00, 155.04it/s]\u001b[A\n",
      " 86%|████████▋ | 661/766 [00:04<00:00, 161.07it/s]\u001b[A\n",
      " 89%|████████▊ | 678/766 [00:04<00:00, 163.02it/s]\u001b[A\n",
      " 91%|█████████ | 696/766 [00:04<00:00, 166.86it/s]\u001b[A\n",
      " 93%|█████████▎| 714/766 [00:04<00:00, 165.31it/s]\u001b[A\n",
      " 95%|█████████▌| 731/766 [00:04<00:00, 166.30it/s]\u001b[A\n",
      " 98%|█████████▊| 750/766 [00:04<00:00, 171.59it/s]\u001b[A\n",
      "100%|██████████| 766/766 [00:04<00:00, 157.94it/s]\u001b[A\n",
      "  0%|          | 0/918 [00:00<?, ?it/s]\u001b[A\n",
      "  2%|▏         | 18/918 [00:00<00:05, 173.65it/s]\u001b[A"
     ]
    },
    {
     "name": "stdout",
     "output_type": "stream",
     "text": [
      "   Fold 1 labels:\n",
      "   air_conditioner:\t100\n",
      "   car_horn:\t36\n",
      "   children_playing:\t100\n",
      "   dog_bark:\t89\n",
      "   drilling:\t100\n",
      "   engine_idling:\t86\n",
      "   gun_shot:\t35\n",
      "   jackhammer:\t41\n",
      "   siren:\t86\n",
      "   street_music:\t93\n",
      "FOLD 3\n"
     ]
    },
    {
     "name": "stderr",
     "output_type": "stream",
     "text": [
      "\n",
      "  4%|▍         | 39/918 [00:00<00:04, 182.26it/s]\u001b[A\n",
      "  6%|▌         | 53/918 [00:00<00:05, 166.19it/s]\u001b[A\n",
      "  8%|▊         | 69/918 [00:00<00:05, 161.18it/s]\u001b[A\n",
      "  9%|▉         | 82/918 [00:00<00:05, 148.24it/s]\u001b[A\n",
      " 11%|█         | 98/918 [00:00<00:05, 151.45it/s]\u001b[A\n",
      " 13%|█▎        | 115/918 [00:00<00:05, 156.35it/s]\u001b[A\n",
      " 14%|█▍        | 130/918 [00:00<00:06, 130.13it/s]\u001b[A\n",
      " 16%|█▌        | 143/918 [00:01<00:07, 105.42it/s]\u001b[A\n",
      " 17%|█▋        | 160/918 [00:01<00:06, 118.31it/s]\u001b[A\n",
      " 19%|█▉        | 179/918 [00:01<00:05, 133.36it/s]\u001b[A\n",
      " 21%|██        | 194/918 [00:01<00:05, 133.50it/s]\u001b[A\n",
      " 23%|██▎       | 211/918 [00:01<00:04, 141.54it/s]\u001b[A\n",
      " 25%|██▌       | 230/918 [00:01<00:04, 152.52it/s]\u001b[A\n",
      " 27%|██▋       | 248/918 [00:01<00:04, 159.45it/s]\u001b[A\n",
      " 29%|██▉       | 265/918 [00:01<00:04, 155.28it/s]\u001b[A\n",
      " 31%|███       | 281/918 [00:01<00:04, 155.89it/s]\u001b[A\n",
      " 32%|███▏      | 298/918 [00:01<00:03, 158.92it/s]\u001b[A\n",
      " 34%|███▍      | 315/918 [00:02<00:03, 158.72it/s]\u001b[A\n",
      " 36%|███▋      | 333/918 [00:02<00:03, 163.10it/s]\u001b[A\n",
      " 38%|███▊      | 352/918 [00:02<00:03, 168.83it/s]\u001b[A\n",
      " 40%|████      | 370/918 [00:02<00:03, 163.57it/s]\u001b[A\n",
      " 42%|████▏     | 387/918 [00:02<00:03, 139.49it/s]\u001b[A\n",
      " 44%|████▍     | 405/918 [00:02<00:03, 149.05it/s]\u001b[A\n",
      " 46%|████▌     | 423/918 [00:02<00:03, 156.23it/s]\u001b[A\n",
      " 48%|████▊     | 440/918 [00:02<00:03, 156.69it/s]\u001b[A\n",
      " 50%|█████     | 459/918 [00:03<00:02, 163.44it/s]\u001b[A\n",
      " 52%|█████▏    | 478/918 [00:03<00:02, 168.53it/s]\u001b[A\n",
      " 54%|█████▍    | 498/918 [00:03<00:02, 174.55it/s]\u001b[A\n",
      " 56%|█████▌    | 516/918 [00:03<00:02, 176.07it/s]\u001b[A\n",
      " 58%|█████▊    | 534/918 [00:03<00:02, 175.57it/s]\u001b[A\n",
      " 60%|██████    | 552/918 [00:03<00:02, 170.82it/s]\u001b[A\n",
      " 62%|██████▏   | 570/918 [00:03<00:02, 172.42it/s]\u001b[A\n",
      " 64%|██████▍   | 588/918 [00:03<00:01, 173.93it/s]\u001b[A\n",
      " 66%|██████▌   | 608/918 [00:03<00:01, 180.07it/s]\u001b[A\n",
      " 68%|██████▊   | 627/918 [00:03<00:01, 177.11it/s]\u001b[A\n",
      " 70%|███████   | 646/918 [00:04<00:01, 178.21it/s]\u001b[A\n",
      " 72%|███████▏  | 665/918 [00:04<00:01, 180.81it/s]\u001b[A\n",
      " 75%|███████▍  | 684/918 [00:04<00:01, 177.09it/s]\u001b[A\n",
      " 76%|███████▋  | 702/918 [00:04<00:01, 171.54it/s]\u001b[A\n",
      " 78%|███████▊  | 720/918 [00:04<00:01, 172.60it/s]\u001b[A\n",
      " 81%|████████  | 740/918 [00:04<00:00, 179.27it/s]\u001b[A\n",
      " 83%|████████▎ | 759/918 [00:04<00:00, 178.29it/s]\u001b[A\n",
      " 85%|████████▍ | 777/918 [00:04<00:00, 176.53it/s]\u001b[A\n",
      " 87%|████████▋ | 795/918 [00:04<00:00, 176.44it/s]\u001b[A\n",
      " 89%|████████▊ | 813/918 [00:05<00:00, 175.33it/s]\u001b[A\n",
      " 91%|█████████ | 831/918 [00:05<00:00, 124.51it/s]\u001b[A\n",
      " 93%|█████████▎| 850/918 [00:05<00:00, 138.09it/s]\u001b[A\n",
      " 95%|█████████▍| 870/918 [00:05<00:00, 151.66it/s]\u001b[A\n",
      " 97%|█████████▋| 891/918 [00:05<00:00, 163.97it/s]\u001b[A\n",
      " 99%|█████████▉| 911/918 [00:05<00:00, 173.00it/s]\u001b[A\n",
      "100%|██████████| 918/918 [00:05<00:00, 161.17it/s]\u001b[A\n",
      "  0%|          | 0/961 [00:00<?, ?it/s]\u001b[A\n",
      "  2%|▏         | 17/961 [00:00<00:05, 166.76it/s]\u001b[A"
     ]
    },
    {
     "name": "stdout",
     "output_type": "stream",
     "text": [
      "   Fold 3 labels:\n",
      "   air_conditioner:\t100\n",
      "   car_horn:\t43\n",
      "   children_playing:\t100\n",
      "   dog_bark:\t94\n",
      "   drilling:\t100\n",
      "   engine_idling:\t107\n",
      "   gun_shot:\t36\n",
      "   jackhammer:\t119\n",
      "   siren:\t119\n",
      "   street_music:\t100\n",
      "FOLD 4\n"
     ]
    },
    {
     "name": "stderr",
     "output_type": "stream",
     "text": [
      "\n",
      "  4%|▎         | 35/961 [00:00<00:05, 168.60it/s]\u001b[A\n",
      "  6%|▌         | 55/961 [00:00<00:05, 174.24it/s]\u001b[A\n",
      "  8%|▊         | 74/961 [00:00<00:05, 176.65it/s]\u001b[A\n",
      " 10%|▉         | 92/961 [00:00<00:04, 176.93it/s]\u001b[A\n",
      " 11%|█         | 107/961 [00:00<00:05, 157.09it/s]\u001b[A\n",
      " 13%|█▎        | 122/961 [00:00<00:06, 120.78it/s]\u001b[A\n",
      " 14%|█▍        | 139/961 [00:00<00:06, 131.31it/s]\u001b[A\n",
      " 16%|█▋        | 157/961 [00:01<00:05, 142.84it/s]\u001b[A\n",
      " 19%|█▊        | 178/961 [00:01<00:04, 157.52it/s]\u001b[A\n",
      " 21%|██        | 198/961 [00:01<00:04, 167.04it/s]\u001b[A\n",
      " 22%|██▏       | 216/961 [00:01<00:04, 168.97it/s]\u001b[A\n",
      " 24%|██▍       | 235/961 [00:01<00:04, 173.00it/s]\u001b[A\n",
      " 26%|██▋       | 253/961 [00:01<00:04, 175.03it/s]\u001b[A\n",
      " 28%|██▊       | 271/961 [00:01<00:03, 174.30it/s]\u001b[A\n",
      " 30%|███       | 289/961 [00:01<00:03, 169.04it/s]\u001b[A\n",
      " 32%|███▏      | 307/961 [00:01<00:03, 165.39it/s]\u001b[A\n",
      " 34%|███▎      | 324/961 [00:02<00:05, 122.84it/s]\u001b[A\n",
      " 35%|███▌      | 338/961 [00:02<00:05, 122.65it/s]\u001b[A\n",
      " 37%|███▋      | 354/961 [00:02<00:04, 131.08it/s]\u001b[A\n",
      " 39%|███▊      | 371/961 [00:02<00:04, 139.31it/s]\u001b[A\n",
      " 40%|████      | 389/961 [00:02<00:03, 147.96it/s]\u001b[A\n",
      " 42%|████▏     | 405/961 [00:02<00:04, 136.15it/s]\u001b[A\n",
      " 44%|████▍     | 421/961 [00:02<00:03, 142.15it/s]\u001b[A\n",
      " 46%|████▌     | 440/961 [00:02<00:03, 152.26it/s]\u001b[A\n",
      " 48%|████▊     | 460/961 [00:02<00:03, 163.81it/s]\u001b[A\n",
      " 50%|████▉     | 480/961 [00:03<00:02, 171.67it/s]\u001b[A\n",
      " 52%|█████▏    | 501/961 [00:03<00:02, 179.69it/s]\u001b[A\n",
      " 54%|█████▍    | 522/961 [00:03<00:02, 182.39it/s]\u001b[A\n",
      " 56%|█████▋    | 541/961 [00:03<00:02, 183.09it/s]\u001b[A\n",
      " 58%|█████▊    | 561/961 [00:03<00:02, 186.21it/s]\u001b[A\n",
      " 60%|██████    | 580/961 [00:03<00:02, 180.31it/s]\u001b[A\n",
      " 62%|██████▏   | 600/961 [00:03<00:01, 184.19it/s]\u001b[A\n",
      " 64%|██████▍   | 619/961 [00:03<00:01, 185.50it/s]\u001b[A\n",
      " 66%|██████▋   | 638/961 [00:03<00:01, 181.06it/s]\u001b[A\n",
      " 68%|██████▊   | 657/961 [00:04<00:01, 183.36it/s]\u001b[A\n",
      " 70%|███████   | 676/961 [00:04<00:01, 174.55it/s]\u001b[A\n",
      " 72%|███████▏  | 696/961 [00:04<00:01, 180.12it/s]\u001b[A\n",
      " 75%|███████▍  | 716/961 [00:04<00:01, 183.28it/s]\u001b[A\n",
      " 77%|███████▋  | 736/961 [00:04<00:01, 187.89it/s]\u001b[A\n",
      " 79%|███████▊  | 756/961 [00:04<00:01, 188.21it/s]\u001b[A\n",
      " 81%|████████  | 775/961 [00:04<00:00, 187.99it/s]\u001b[A\n",
      " 83%|████████▎ | 794/961 [00:04<00:01, 124.21it/s]\u001b[A\n",
      " 84%|████████▍ | 811/961 [00:05<00:01, 134.22it/s]\u001b[A\n",
      " 86%|████████▋ | 829/961 [00:05<00:00, 144.61it/s]\u001b[A\n",
      " 88%|████████▊ | 846/961 [00:05<00:00, 148.02it/s]\u001b[A\n",
      " 90%|█████████ | 867/961 [00:05<00:00, 162.15it/s]\u001b[A\n",
      " 92%|█████████▏| 888/961 [00:05<00:00, 170.08it/s]\u001b[A\n",
      " 94%|█████████▍| 907/961 [00:05<00:00, 174.86it/s]\u001b[A\n",
      " 96%|█████████▋| 927/961 [00:05<00:00, 180.11it/s]\u001b[A\n",
      " 99%|█████████▊| 947/961 [00:05<00:00, 184.10it/s]\u001b[A\n",
      "100%|██████████| 961/961 [00:05<00:00, 164.55it/s]\u001b[A\n",
      "  0%|          | 0/902 [00:00<?, ?it/s]\u001b[A\n",
      "  2%|▏         | 18/902 [00:00<00:05, 171.09it/s]\u001b[A"
     ]
    },
    {
     "name": "stdout",
     "output_type": "stream",
     "text": [
      "   Fold 4 labels:\n",
      "   air_conditioner:\t100\n",
      "   car_horn:\t57\n",
      "   children_playing:\t100\n",
      "   dog_bark:\t100\n",
      "   drilling:\t79\n",
      "   engine_idling:\t107\n",
      "   gun_shot:\t38\n",
      "   jackhammer:\t120\n",
      "   siren:\t166\n",
      "   street_music:\t94\n",
      "FOLD 5\n"
     ]
    },
    {
     "name": "stderr",
     "output_type": "stream",
     "text": [
      "\n",
      "  4%|▍         | 37/902 [00:00<00:04, 175.25it/s]\u001b[A\n",
      "  6%|▌         | 55/902 [00:00<00:04, 174.29it/s]\u001b[A\n",
      "  8%|▊         | 72/902 [00:00<00:04, 172.06it/s]\u001b[A\n",
      " 10%|█         | 91/902 [00:00<00:04, 172.31it/s]\u001b[A\n",
      " 12%|█▏        | 109/902 [00:00<00:04, 173.33it/s]\u001b[A\n",
      " 14%|█▍        | 127/902 [00:00<00:04, 173.25it/s]\u001b[A\n",
      " 16%|█▌        | 143/902 [00:00<00:04, 168.15it/s]\u001b[A\n",
      " 18%|█▊        | 160/902 [00:00<00:04, 168.61it/s]\u001b[A\n",
      " 20%|█▉        | 178/902 [00:01<00:04, 170.04it/s]\u001b[A\n",
      " 22%|██▏       | 197/902 [00:01<00:04, 173.76it/s]\u001b[A\n",
      " 24%|██▍       | 217/902 [00:01<00:03, 178.83it/s]\u001b[A\n",
      " 26%|██▌       | 235/902 [00:01<00:03, 179.02it/s]\u001b[A\n",
      " 28%|██▊       | 255/902 [00:01<00:03, 183.43it/s]\u001b[A\n",
      " 30%|███       | 275/902 [00:01<00:03, 186.30it/s]\u001b[A\n",
      " 33%|███▎      | 296/902 [00:01<00:03, 190.28it/s]\u001b[A\n",
      " 35%|███▌      | 316/902 [00:01<00:03, 176.81it/s]\u001b[A\n",
      " 37%|███▋      | 334/902 [00:02<00:05, 107.18it/s]\u001b[A\n",
      " 39%|███▉      | 355/902 [00:02<00:04, 124.56it/s]\u001b[A\n",
      " 42%|████▏     | 378/902 [00:02<00:03, 143.42it/s]\u001b[A\n",
      " 44%|████▍     | 396/902 [00:02<00:03, 139.05it/s]\u001b[A\n",
      " 46%|████▌     | 416/902 [00:02<00:03, 152.74it/s]\u001b[A\n",
      " 48%|████▊     | 436/902 [00:02<00:02, 162.27it/s]\u001b[A\n",
      " 50%|█████     | 454/902 [00:02<00:02, 153.55it/s]\u001b[A\n",
      " 53%|█████▎    | 475/902 [00:02<00:02, 165.59it/s]\u001b[A\n",
      " 55%|█████▍    | 496/902 [00:02<00:02, 176.58it/s]\u001b[A\n",
      " 57%|█████▋    | 517/902 [00:03<00:02, 183.42it/s]\u001b[A\n",
      " 60%|█████▉    | 539/902 [00:03<00:01, 191.57it/s]\u001b[A\n",
      " 62%|██████▏   | 560/902 [00:03<00:01, 195.87it/s]\u001b[A\n",
      " 65%|██████▍   | 584/902 [00:03<00:01, 205.52it/s]\u001b[A\n",
      " 67%|██████▋   | 606/902 [00:03<00:01, 201.96it/s]\u001b[A\n",
      " 70%|██████▉   | 627/902 [00:03<00:01, 198.86it/s]\u001b[A\n",
      " 72%|███████▏  | 649/902 [00:03<00:01, 204.34it/s]\u001b[A\n",
      " 74%|███████▍  | 670/902 [00:03<00:01, 195.53it/s]\u001b[A\n",
      " 76%|███████▋  | 690/902 [00:03<00:01, 193.80it/s]\u001b[A\n",
      " 79%|███████▊  | 710/902 [00:04<00:00, 194.59it/s]\u001b[A\n",
      " 81%|████████  | 730/902 [00:04<00:00, 193.06it/s]\u001b[A\n",
      " 83%|████████▎ | 750/902 [00:04<00:00, 192.30it/s]\u001b[A\n",
      " 85%|████████▌ | 770/902 [00:04<00:00, 191.05it/s]\u001b[A\n",
      " 88%|████████▊ | 790/902 [00:04<00:00, 191.24it/s]\u001b[A\n",
      " 90%|████████▉ | 810/902 [00:04<00:00, 186.46it/s]\u001b[A\n",
      " 92%|█████████▏| 829/902 [00:04<00:00, 181.99it/s]\u001b[A\n",
      " 94%|█████████▍| 848/902 [00:04<00:00, 172.26it/s]\u001b[A\n",
      " 97%|█████████▋| 871/902 [00:04<00:00, 184.86it/s]\u001b[A\n",
      " 99%|█████████▊| 890/902 [00:05<00:00, 184.72it/s]\u001b[A\n",
      "100%|██████████| 902/902 [00:05<00:00, 173.25it/s]\u001b[A\n",
      "  0%|          | 0/807 [00:00<?, ?it/s]\u001b[A\n",
      "  2%|▏         | 19/807 [00:00<00:04, 183.53it/s]\u001b[A"
     ]
    },
    {
     "name": "stdout",
     "output_type": "stream",
     "text": [
      "   Fold 5 labels:\n",
      "   air_conditioner:\t100\n",
      "   car_horn:\t98\n",
      "   children_playing:\t92\n",
      "   dog_bark:\t95\n",
      "   drilling:\t84\n",
      "   engine_idling:\t107\n",
      "   gun_shot:\t40\n",
      "   jackhammer:\t120\n",
      "   siren:\t71\n",
      "   street_music:\t95\n",
      "FOLD 6\n"
     ]
    },
    {
     "name": "stderr",
     "output_type": "stream",
     "text": [
      "\n",
      "  5%|▍         | 38/807 [00:00<00:04, 184.50it/s]\u001b[A\n",
      "  7%|▋         | 59/807 [00:00<00:03, 190.24it/s]\u001b[A\n",
      " 10%|▉         | 79/807 [00:00<00:03, 192.46it/s]\u001b[A\n",
      " 12%|█▏        | 100/807 [00:00<00:03, 195.34it/s]\u001b[A\n",
      " 15%|█▍        | 121/807 [00:00<00:03, 196.89it/s]\u001b[A\n",
      " 17%|█▋        | 139/807 [00:00<00:03, 170.55it/s]\u001b[A\n",
      " 20%|█▉        | 161/807 [00:00<00:03, 181.73it/s]\u001b[A\n",
      " 23%|██▎       | 182/807 [00:00<00:03, 186.39it/s]\u001b[A\n",
      " 25%|██▌       | 203/807 [00:01<00:03, 191.76it/s]\u001b[A\n",
      " 28%|██▊       | 224/807 [00:01<00:03, 193.68it/s]\u001b[A\n",
      " 30%|███       | 244/807 [00:01<00:02, 188.99it/s]\u001b[A\n",
      " 33%|███▎      | 263/807 [00:01<00:02, 185.38it/s]\u001b[A\n",
      " 35%|███▍      | 282/807 [00:01<00:03, 149.84it/s]\u001b[A\n",
      " 37%|███▋      | 299/807 [00:01<00:03, 131.34it/s]\u001b[A\n",
      " 40%|███▉      | 320/807 [00:01<00:03, 146.60it/s]\u001b[A\n",
      " 42%|████▏     | 342/807 [00:01<00:02, 161.97it/s]\u001b[A\n",
      " 45%|████▍     | 363/807 [00:02<00:02, 173.27it/s]\u001b[A\n",
      " 48%|████▊     | 385/807 [00:02<00:02, 183.96it/s]\u001b[A\n",
      " 50%|█████     | 407/807 [00:02<00:02, 191.62it/s]\u001b[A\n",
      " 53%|█████▎    | 428/807 [00:02<00:01, 196.65it/s]\u001b[A\n",
      " 56%|█████▌    | 450/807 [00:02<00:01, 201.45it/s]\u001b[A\n",
      " 59%|█████▊    | 473/807 [00:02<00:01, 208.08it/s]\u001b[A\n",
      " 61%|██████▏   | 495/807 [00:02<00:01, 208.63it/s]\u001b[A\n",
      " 64%|██████▍   | 517/807 [00:02<00:01, 208.44it/s]\u001b[A\n",
      " 67%|██████▋   | 539/807 [00:02<00:01, 209.34it/s]\u001b[A\n",
      " 70%|██████▉   | 564/807 [00:02<00:01, 219.01it/s]\u001b[A\n",
      " 73%|███████▎  | 587/807 [00:03<00:01, 150.21it/s]\u001b[A\n",
      " 75%|███████▌  | 609/807 [00:03<00:01, 165.07it/s]\u001b[A\n",
      " 78%|███████▊  | 629/807 [00:03<00:01, 159.11it/s]\u001b[A\n",
      " 80%|████████  | 647/807 [00:03<00:01, 154.31it/s]\u001b[A\n",
      " 82%|████████▏ | 664/807 [00:03<00:00, 156.78it/s]\u001b[A\n",
      " 85%|████████▍ | 682/807 [00:03<00:00, 162.90it/s]\u001b[A\n",
      " 87%|████████▋ | 701/807 [00:03<00:00, 167.51it/s]\u001b[A\n",
      " 89%|████████▉ | 720/807 [00:04<00:00, 171.65it/s]\u001b[A\n",
      " 92%|█████████▏| 742/807 [00:04<00:00, 182.74it/s]\u001b[A\n",
      " 94%|█████████▍| 762/807 [00:04<00:00, 185.00it/s]\u001b[A\n",
      " 97%|█████████▋| 781/807 [00:04<00:00, 186.28it/s]\u001b[A\n",
      " 99%|█████████▉| 802/807 [00:04<00:00, 190.99it/s]\u001b[A\n",
      "100%|██████████| 807/807 [00:04<00:00, 180.98it/s]\u001b[A\n",
      "  0%|          | 0/807 [00:00<?, ?it/s]\u001b[A\n",
      "  2%|▏         | 20/807 [00:00<00:04, 193.67it/s]\u001b[A"
     ]
    },
    {
     "name": "stdout",
     "output_type": "stream",
     "text": [
      "   Fold 6 labels:\n",
      "   air_conditioner:\t100\n",
      "   car_horn:\t28\n",
      "   children_playing:\t92\n",
      "   dog_bark:\t92\n",
      "   drilling:\t100\n",
      "   engine_idling:\t107\n",
      "   gun_shot:\t46\n",
      "   jackhammer:\t68\n",
      "   siren:\t74\n",
      "   street_music:\t100\n",
      "FOLD 7\n"
     ]
    },
    {
     "name": "stderr",
     "output_type": "stream",
     "text": [
      "\n",
      "  3%|▎         | 26/807 [00:00<00:07, 104.92it/s]\u001b[A\n",
      "  5%|▍         | 37/807 [00:00<00:07, 105.35it/s]\u001b[A\n",
      "  7%|▋         | 55/807 [00:00<00:06, 120.22it/s]\u001b[A\n",
      "  9%|▉         | 75/807 [00:00<00:05, 135.29it/s]\u001b[A\n",
      " 12%|█▏        | 94/807 [00:00<00:04, 147.21it/s]\u001b[A\n",
      " 14%|█▍        | 115/807 [00:00<00:04, 161.60it/s]\u001b[A\n",
      " 17%|█▋        | 136/807 [00:00<00:03, 172.62it/s]\u001b[A\n",
      " 19%|█▉        | 157/807 [00:00<00:03, 181.20it/s]\u001b[A\n",
      " 22%|██▏       | 178/807 [00:01<00:03, 186.83it/s]\u001b[A\n",
      " 25%|██▍       | 198/807 [00:01<00:04, 128.19it/s]\u001b[A\n",
      " 27%|██▋       | 218/807 [00:01<00:04, 143.01it/s]\u001b[A\n",
      " 29%|██▉       | 235/807 [00:01<00:04, 126.53it/s]\u001b[A\n",
      " 31%|███▏      | 254/807 [00:01<00:03, 138.77it/s]\u001b[A\n",
      " 33%|███▎      | 270/807 [00:01<00:04, 125.15it/s]\u001b[A\n",
      " 36%|███▌      | 289/807 [00:01<00:03, 139.15it/s]\u001b[A\n",
      " 38%|███▊      | 309/807 [00:02<00:03, 152.50it/s]\u001b[A\n",
      " 41%|████      | 329/807 [00:02<00:02, 163.70it/s]\u001b[A\n",
      " 44%|████▎     | 352/807 [00:02<00:02, 178.12it/s]\u001b[A\n",
      " 46%|████▌     | 373/807 [00:02<00:02, 184.37it/s]\u001b[A\n",
      " 49%|████▉     | 394/807 [00:02<00:02, 190.79it/s]\u001b[A\n",
      " 52%|█████▏    | 416/807 [00:02<00:01, 196.55it/s]\u001b[A\n",
      " 54%|█████▍    | 437/807 [00:02<00:01, 198.15it/s]\u001b[A\n",
      " 57%|█████▋    | 458/807 [00:02<00:01, 196.44it/s]\u001b[A\n",
      " 59%|█████▉    | 479/807 [00:02<00:01, 198.32it/s]\u001b[A\n",
      " 62%|██████▏   | 500/807 [00:02<00:01, 193.95it/s]\u001b[A\n",
      " 64%|██████▍   | 520/807 [00:03<00:01, 191.10it/s]\u001b[A\n",
      " 67%|██████▋   | 541/807 [00:03<00:01, 193.93it/s]\u001b[A\n",
      " 70%|██████▉   | 561/807 [00:03<00:01, 192.68it/s]\u001b[A\n",
      " 72%|███████▏  | 581/807 [00:03<00:01, 191.88it/s]\u001b[A\n",
      " 74%|███████▍  | 601/807 [00:03<00:01, 192.88it/s]\u001b[A\n",
      " 77%|███████▋  | 621/807 [00:03<00:00, 187.79it/s]\u001b[A\n",
      " 79%|███████▉  | 640/807 [00:03<00:00, 181.52it/s]\u001b[A\n",
      " 82%|████████▏ | 660/807 [00:03<00:00, 185.66it/s]\u001b[A\n",
      " 84%|████████▍ | 679/807 [00:04<00:00, 132.22it/s]\u001b[A\n",
      " 86%|████████▋ | 698/807 [00:04<00:00, 145.29it/s]\u001b[A\n",
      " 89%|████████▉ | 719/807 [00:04<00:00, 160.08it/s]\u001b[A\n",
      " 92%|█████████▏| 741/807 [00:04<00:00, 173.94it/s]\u001b[A\n",
      " 95%|█████████▍| 763/807 [00:04<00:00, 184.99it/s]\u001b[A\n",
      " 97%|█████████▋| 783/807 [00:04<00:00, 188.26it/s]\u001b[A\n",
      "100%|█████████▉| 804/807 [00:04<00:00, 193.85it/s]\u001b[A\n",
      "100%|██████████| 807/807 [00:04<00:00, 171.33it/s]\u001b[A\n",
      "  0%|          | 0/732 [00:00<?, ?it/s]\u001b[A\n",
      "  3%|▎         | 21/732 [00:00<00:03, 203.11it/s]\u001b[A"
     ]
    },
    {
     "name": "stdout",
     "output_type": "stream",
     "text": [
      "   Fold 7 labels:\n",
      "   air_conditioner:\t100\n",
      "   car_horn:\t28\n",
      "   children_playing:\t100\n",
      "   dog_bark:\t93\n",
      "   drilling:\t82\n",
      "   engine_idling:\t100\n",
      "   gun_shot:\t51\n",
      "   jackhammer:\t76\n",
      "   siren:\t77\n",
      "   street_music:\t100\n",
      "FOLD 8\n"
     ]
    },
    {
     "name": "stderr",
     "output_type": "stream",
     "text": [
      "\n",
      "  6%|▌         | 42/732 [00:00<00:03, 204.34it/s]\u001b[A\n",
      "  7%|▋         | 54/732 [00:00<00:04, 161.33it/s]\u001b[A\n",
      "  9%|▉         | 65/732 [00:00<00:05, 118.52it/s]\u001b[A\n",
      " 11%|█         | 81/732 [00:00<00:05, 123.48it/s]\u001b[A\n",
      " 14%|█▎        | 99/732 [00:00<00:04, 136.10it/s]\u001b[A\n",
      " 16%|█▋        | 120/732 [00:00<00:04, 152.04it/s]\u001b[A\n",
      " 19%|█▉        | 142/732 [00:00<00:03, 167.20it/s]\u001b[A\n",
      " 22%|██▏       | 162/732 [00:00<00:03, 173.56it/s]\u001b[A\n",
      " 25%|██▍       | 182/732 [00:01<00:03, 179.05it/s]\u001b[A\n",
      " 28%|██▊       | 206/732 [00:01<00:02, 193.63it/s]\u001b[A\n",
      " 31%|███▏      | 229/732 [00:01<00:02, 201.50it/s]\u001b[A\n",
      " 34%|███▍      | 251/732 [00:01<00:02, 205.58it/s]\u001b[A\n",
      " 38%|███▊      | 275/732 [00:01<00:02, 212.61it/s]\u001b[A\n",
      " 41%|████      | 298/732 [00:01<00:02, 216.64it/s]\u001b[A\n",
      " 44%|████▎     | 320/732 [00:01<00:01, 210.38it/s]\u001b[A\n",
      " 47%|████▋     | 342/732 [00:01<00:01, 200.80it/s]\u001b[A\n",
      " 50%|████▉     | 363/732 [00:01<00:01, 196.25it/s]\u001b[A\n",
      " 52%|█████▏    | 384/732 [00:02<00:01, 200.12it/s]\u001b[A\n",
      " 55%|█████▌    | 406/732 [00:02<00:01, 203.45it/s]\u001b[A\n",
      " 59%|█████▊    | 430/732 [00:02<00:01, 210.74it/s]\u001b[A\n",
      " 62%|██████▏   | 453/732 [00:02<00:01, 213.47it/s]\u001b[A\n",
      " 65%|██████▍   | 475/732 [00:02<00:01, 210.44it/s]\u001b[A\n",
      " 68%|██████▊   | 497/732 [00:02<00:01, 206.83it/s]\u001b[A\n",
      " 71%|███████   | 518/732 [00:02<00:01, 206.35it/s]\u001b[A\n",
      " 74%|███████▎  | 539/732 [00:02<00:00, 205.00it/s]\u001b[A\n",
      " 77%|███████▋  | 561/732 [00:02<00:00, 208.47it/s]\u001b[A\n",
      " 80%|███████▉  | 582/732 [00:02<00:00, 205.44it/s]\u001b[A\n",
      " 82%|████████▏ | 603/732 [00:03<00:00, 205.22it/s]\u001b[A\n",
      " 85%|████████▌ | 624/732 [00:03<00:00, 201.26it/s]\u001b[A\n",
      " 88%|████████▊ | 645/732 [00:03<00:00, 198.42it/s]\u001b[A\n",
      " 91%|█████████ | 667/732 [00:03<00:00, 202.14it/s]\u001b[A\n",
      " 94%|█████████▍| 688/732 [00:03<00:00, 157.36it/s]\u001b[A\n",
      " 96%|█████████▋| 706/732 [00:03<00:00, 156.32it/s]\u001b[A\n",
      " 99%|█████████▉| 726/732 [00:03<00:00, 166.88it/s]\u001b[A\n",
      "100%|██████████| 732/732 [00:03<00:00, 188.99it/s]\u001b[A\n",
      "  0%|          | 0/779 [00:00<?, ?it/s]\u001b[A\n",
      "  1%|          | 8/779 [00:00<00:10, 75.74it/s]\u001b[A"
     ]
    },
    {
     "name": "stdout",
     "output_type": "stream",
     "text": [
      "   Fold 8 labels:\n",
      "   air_conditioner:\t100\n",
      "   car_horn:\t30\n",
      "   children_playing:\t100\n",
      "   dog_bark:\t100\n",
      "   drilling:\t83\n",
      "   engine_idling:\t38\n",
      "   gun_shot:\t30\n",
      "   jackhammer:\t78\n",
      "   siren:\t80\n",
      "   street_music:\t93\n",
      "FOLD 9\n"
     ]
    },
    {
     "name": "stderr",
     "output_type": "stream",
     "text": [
      "\n",
      "  4%|▎         | 29/779 [00:00<00:08, 93.21it/s]\u001b[A\n",
      "  6%|▋         | 49/779 [00:00<00:06, 110.76it/s]\u001b[A\n",
      "  8%|▊         | 61/779 [00:00<00:06, 110.52it/s]\u001b[A\n",
      "  9%|▉         | 74/779 [00:00<00:06, 114.91it/s]\u001b[A\n",
      " 12%|█▏        | 92/779 [00:00<00:05, 127.90it/s]\u001b[A\n",
      " 14%|█▍        | 108/779 [00:00<00:04, 135.87it/s]\u001b[A\n",
      " 16%|█▌        | 126/779 [00:00<00:04, 146.03it/s]\u001b[A\n",
      " 18%|█▊        | 143/779 [00:00<00:04, 152.42it/s]\u001b[A\n",
      " 20%|██        | 159/779 [00:01<00:04, 154.23it/s]\u001b[A\n",
      " 22%|██▏       | 175/779 [00:01<00:03, 154.14it/s]\u001b[A\n",
      " 25%|██▍       | 193/779 [00:01<00:03, 160.85it/s]\u001b[A\n",
      " 27%|██▋       | 212/779 [00:01<00:03, 168.61it/s]\u001b[A\n",
      " 30%|██▉       | 230/779 [00:01<00:03, 162.27it/s]\u001b[A\n",
      " 32%|███▏      | 247/779 [00:01<00:03, 159.84it/s]\u001b[A\n",
      " 34%|███▍      | 266/779 [00:01<00:03, 165.77it/s]\u001b[A\n",
      " 37%|███▋      | 286/779 [00:01<00:02, 173.10it/s]\u001b[A\n",
      " 39%|███▉      | 304/779 [00:01<00:02, 162.43it/s]\u001b[A\n",
      " 41%|████      | 321/779 [00:02<00:03, 144.33it/s]\u001b[A\n",
      " 43%|████▎     | 337/779 [00:02<00:03, 111.87it/s]\u001b[A\n",
      " 45%|████▍     | 350/779 [00:02<00:04, 104.00it/s]\u001b[A\n",
      " 47%|████▋     | 369/779 [00:02<00:03, 119.20it/s]\u001b[A\n",
      " 49%|████▉     | 383/779 [00:02<00:03, 118.71it/s]\u001b[A\n",
      " 51%|█████▏    | 401/779 [00:02<00:02, 131.78it/s]\u001b[A\n",
      " 53%|█████▎    | 416/779 [00:02<00:02, 125.22it/s]\u001b[A\n",
      " 56%|█████▌    | 434/779 [00:02<00:02, 136.44it/s]\u001b[A\n",
      " 58%|█████▊    | 449/779 [00:03<00:02, 128.82it/s]\u001b[A\n",
      " 60%|█████▉    | 466/779 [00:03<00:02, 138.50it/s]\u001b[A\n",
      " 62%|██████▏   | 484/779 [00:03<00:01, 147.64it/s]\u001b[A\n",
      " 64%|██████▍   | 500/779 [00:03<00:01, 149.27it/s]\u001b[A\n",
      " 66%|██████▋   | 518/779 [00:03<00:01, 155.25it/s]\u001b[A\n",
      " 69%|██████▊   | 534/779 [00:03<00:01, 156.09it/s]\u001b[A\n",
      " 71%|███████   | 551/779 [00:03<00:01, 158.89it/s]\u001b[A\n",
      " 73%|███████▎  | 568/779 [00:03<00:01, 160.36it/s]\u001b[A\n",
      " 75%|███████▌  | 585/779 [00:03<00:01, 158.69it/s]\u001b[A\n",
      " 77%|███████▋  | 602/779 [00:04<00:01, 159.15it/s]\u001b[A\n",
      " 80%|███████▉  | 620/779 [00:04<00:00, 163.69it/s]\u001b[A\n",
      " 82%|████████▏ | 638/779 [00:04<00:00, 165.83it/s]\u001b[A\n",
      " 84%|████████▍ | 657/779 [00:04<00:00, 172.24it/s]\u001b[A\n",
      " 87%|████████▋ | 675/779 [00:04<00:00, 169.56it/s]\u001b[A\n",
      " 89%|████████▉ | 693/779 [00:04<00:00, 168.91it/s]\u001b[A\n",
      " 91%|█████████▏| 712/779 [00:04<00:00, 173.76it/s]\u001b[A\n",
      " 94%|█████████▎| 730/779 [00:04<00:00, 175.42it/s]\u001b[A\n",
      " 96%|█████████▌| 749/779 [00:04<00:00, 178.12it/s]\u001b[A\n",
      " 99%|█████████▊| 769/779 [00:04<00:00, 181.60it/s]\u001b[A\n",
      "100%|██████████| 779/779 [00:05<00:00, 154.56it/s]\u001b[A\n",
      "  0%|          | 0/765 [00:00<?, ?it/s]\u001b[A\n",
      "  2%|▏         | 19/765 [00:00<00:04, 179.73it/s]\u001b[A"
     ]
    },
    {
     "name": "stdout",
     "output_type": "stream",
     "text": [
      "   Fold 9 labels:\n",
      "   air_conditioner:\t100\n",
      "   car_horn:\t32\n",
      "   children_playing:\t100\n",
      "   dog_bark:\t99\n",
      "   drilling:\t84\n",
      "   engine_idling:\t89\n",
      "   gun_shot:\t31\n",
      "   jackhammer:\t68\n",
      "   siren:\t82\n",
      "   street_music:\t94\n",
      "FOLD 10\n"
     ]
    },
    {
     "name": "stderr",
     "output_type": "stream",
     "text": [
      "\n",
      "  5%|▍         | 38/765 [00:00<00:04, 179.53it/s]\u001b[A\n",
      "  6%|▋         | 48/765 [00:00<00:05, 140.21it/s]\u001b[A\n",
      "  8%|▊         | 58/765 [00:00<00:07, 95.66it/s] \u001b[A\n",
      " 10%|▉         | 74/765 [00:00<00:06, 107.92it/s]\u001b[A\n",
      " 12%|█▏        | 93/765 [00:00<00:05, 123.66it/s]\u001b[A\n",
      " 15%|█▍        | 112/765 [00:00<00:04, 137.23it/s]\u001b[A\n",
      " 17%|█▋        | 127/765 [00:00<00:05, 126.79it/s]\u001b[A\n",
      " 19%|█▉        | 147/765 [00:01<00:04, 142.12it/s]\u001b[A\n",
      " 22%|██▏       | 166/765 [00:01<00:03, 153.50it/s]\u001b[A\n",
      " 24%|██▍       | 183/765 [00:01<00:03, 153.86it/s]\u001b[A\n",
      " 26%|██▌       | 200/765 [00:01<00:03, 153.62it/s]\u001b[A\n",
      " 28%|██▊       | 218/765 [00:01<00:03, 159.74it/s]\u001b[A\n",
      " 31%|███       | 238/765 [00:01<00:03, 170.00it/s]\u001b[A\n",
      " 34%|███▎      | 258/765 [00:01<00:02, 176.91it/s]\u001b[A\n",
      " 36%|███▌      | 277/765 [00:01<00:02, 180.40it/s]\u001b[A\n",
      " 39%|███▊      | 296/765 [00:01<00:02, 181.82it/s]\u001b[A\n",
      " 41%|████      | 315/765 [00:01<00:02, 177.16it/s]\u001b[A\n",
      " 44%|████▎     | 333/765 [00:02<00:02, 175.17it/s]\u001b[A\n",
      " 46%|████▌     | 352/765 [00:02<00:02, 177.31it/s]\u001b[A\n",
      " 48%|████▊     | 370/765 [00:02<00:02, 176.19it/s]\u001b[A\n",
      " 51%|█████     | 388/765 [00:02<00:02, 176.55it/s]\u001b[A\n",
      " 53%|█████▎    | 406/765 [00:02<00:02, 177.44it/s]\u001b[A\n",
      " 55%|█████▌    | 424/765 [00:02<00:01, 175.33it/s]\u001b[A\n",
      " 58%|█████▊    | 442/765 [00:02<00:01, 174.96it/s]\u001b[A\n",
      " 60%|██████    | 460/765 [00:02<00:02, 126.31it/s]\u001b[A\n",
      " 62%|██████▏   | 476/765 [00:03<00:02, 132.68it/s]\u001b[A\n",
      " 64%|██████▍   | 493/765 [00:03<00:01, 141.00it/s]\u001b[A\n",
      " 67%|██████▋   | 512/765 [00:03<00:01, 151.20it/s]\u001b[A\n",
      " 70%|██████▉   | 532/765 [00:03<00:01, 161.00it/s]\u001b[A\n",
      " 72%|███████▏  | 552/765 [00:03<00:01, 168.74it/s]\u001b[A\n",
      " 75%|███████▍  | 570/765 [00:03<00:01, 148.38it/s]\u001b[A\n",
      " 77%|███████▋  | 588/765 [00:03<00:01, 156.44it/s]\u001b[A\n",
      " 79%|███████▉  | 608/765 [00:03<00:00, 165.57it/s]\u001b[A\n",
      " 82%|████████▏ | 628/765 [00:03<00:00, 174.54it/s]\u001b[A\n",
      " 85%|████████▍ | 648/765 [00:04<00:00, 180.40it/s]\u001b[A\n",
      " 87%|████████▋ | 669/765 [00:04<00:00, 188.22it/s]\u001b[A\n",
      " 90%|█████████ | 690/765 [00:04<00:00, 191.82it/s]\u001b[A\n",
      " 93%|█████████▎| 713/765 [00:04<00:00, 201.82it/s]\u001b[A\n",
      " 96%|█████████▌| 734/765 [00:04<00:00, 194.97it/s]\u001b[A\n",
      " 99%|█████████▊| 754/765 [00:04<00:00, 184.97it/s]\u001b[A\n",
      "100%|██████████| 765/765 [00:04<00:00, 164.68it/s]\u001b[A"
     ]
    },
    {
     "name": "stdout",
     "output_type": "stream",
     "text": [
      "   Fold 10 labels:\n",
      "   air_conditioner:\t100\n",
      "   car_horn:\t33\n",
      "   children_playing:\t100\n",
      "   dog_bark:\t92\n",
      "   drilling:\t100\n",
      "   engine_idling:\t93\n",
      "   gun_shot:\t32\n",
      "   jackhammer:\t32\n",
      "   siren:\t83\n",
      "   street_music:\t100\n",
      "\n",
      "\n",
      "OVERALL labels:\n",
      "air_conditioner:\t900\n",
      "car_horn:\t385\n",
      "children_playing:\t884\n",
      "dog_bark:\t854\n",
      "drilling:\t812\n",
      "engine_idling:\t834\n",
      "gun_shot:\t339\n",
      "jackhammer:\t722\n",
      "siren:\t838\n",
      "street_music:\t869\n"
     ]
    }
   ],
   "source": [
    "folds = [1, 3, 4, 5, 6, 7, 8, 9, 10]\n",
    "splitname = 'train_9'\n",
    "\n",
    "soundbankfolder = '/Users/anaemendezmendez/Documents/NYU_PHD/UrbanSound8K/soundbanks/'\n",
    "soundbankfolder = os.path.join(soundbankfolder, splitname)\n",
    "\n",
    "label_count = {}\n",
    "for label in label_list:\n",
    "    label_count[label] = 0\n",
    "\n",
    "for fold in folds:\n",
    "    \n",
    "    print('FOLD {:d}'.format(fold))\n",
    "    audiofolder = '/Users/anaemendezmendez/Documents/NYU_PHD/UrbanSound8K/audio/fold{:d}/'.format(fold)\n",
    "    audiofiles = glob.glob(os.path.join(audiofolder, '*.wav'))\n",
    "    \n",
    "    fold_label_count = {}\n",
    "    for label in label_list:\n",
    "        fold_label_count[label] = 0\n",
    "    \n",
    "    for af in tqdm(audiofiles):\n",
    "        # print(os.path.basename(af))\n",
    "        label = metadata.loc[metadata.slice_file_name == os.path.basename(af), 'class'].values[0]\n",
    "        label_count[label] += 1\n",
    "        fold_label_count[label] += 1\n",
    "        destfolder = os.path.join(soundbankfolder, 'foreground', label)\n",
    "        if not os.path.isdir(destfolder):\n",
    "            os.mkdir(destfolder)\n",
    "        destfile = os.path.join(destfolder, os.path.basename(af))\n",
    "        shutil.copyfile(af, destfile)\n",
    "        \n",
    "    # Print fold report\n",
    "    print('   Fold {:d} labels:'.format(fold))\n",
    "    for label in label_list:\n",
    "        print('   {:s}:\\t{:d}'.format(label, fold_label_count[label]))\n",
    "        \n",
    "# Print overall report\n",
    "print('\\n\\nOVERALL labels:')\n",
    "for label in label_list:\n",
    "    print('{:s}:\\t{:d}'.format(label, label_count[label]))"
   ]
  },
  {
   "cell_type": "markdown",
   "metadata": {},
   "source": [
    "## Create soundbank for TEST_9 (folds 2)"
   ]
  },
  {
   "cell_type": "code",
   "execution_count": 22,
   "metadata": {
    "scrolled": true
   },
   "outputs": [
    {
     "name": "stderr",
     "output_type": "stream",
     "text": [
      "\n",
      "  0%|          | 0/870 [00:00<?, ?it/s]\u001b[A\n",
      "  2%|▏         | 16/870 [00:00<00:05, 149.35it/s]\u001b[A"
     ]
    },
    {
     "name": "stdout",
     "output_type": "stream",
     "text": [
      "FOLD 2\n"
     ]
    },
    {
     "name": "stderr",
     "output_type": "stream",
     "text": [
      "\n",
      "  3%|▎         | 28/870 [00:00<00:06, 138.33it/s]\u001b[A\n",
      "  4%|▍         | 39/870 [00:00<00:06, 127.17it/s]\u001b[A\n",
      "  6%|▋         | 55/870 [00:00<00:06, 135.47it/s]\u001b[A\n",
      "  8%|▊         | 71/870 [00:00<00:05, 141.36it/s]\u001b[A\n",
      " 10%|█         | 89/870 [00:00<00:05, 149.72it/s]\u001b[A\n",
      " 12%|█▏        | 108/870 [00:00<00:04, 158.54it/s]\u001b[A\n",
      " 14%|█▍        | 124/870 [00:00<00:04, 158.07it/s]\u001b[A\n",
      " 17%|█▋        | 145/870 [00:00<00:04, 169.40it/s]\u001b[A\n",
      " 19%|█▊        | 163/870 [00:01<00:04, 171.45it/s]\u001b[A\n",
      " 21%|██        | 182/870 [00:01<00:03, 174.60it/s]\u001b[A\n",
      " 23%|██▎       | 200/870 [00:01<00:03, 173.93it/s]\u001b[A\n",
      " 25%|██▌       | 218/870 [00:01<00:04, 161.09it/s]\u001b[A\n",
      " 27%|██▋       | 235/870 [00:01<00:03, 159.35it/s]\u001b[A\n",
      " 29%|██▉       | 252/870 [00:01<00:03, 161.29it/s]\u001b[A\n",
      " 31%|███       | 269/870 [00:01<00:05, 119.32it/s]\u001b[A\n",
      " 33%|███▎      | 289/870 [00:01<00:04, 134.95it/s]\u001b[A\n",
      " 35%|███▌      | 308/870 [00:02<00:03, 147.42it/s]\u001b[A\n",
      " 37%|███▋      | 326/870 [00:02<00:03, 154.26it/s]\u001b[A\n",
      " 40%|███▉      | 346/870 [00:02<00:03, 165.12it/s]\u001b[A\n",
      " 42%|████▏     | 364/870 [00:02<00:03, 133.18it/s]\u001b[A\n",
      " 44%|████▎     | 380/870 [00:02<00:03, 137.89it/s]\u001b[A\n",
      " 46%|████▌     | 396/870 [00:02<00:03, 134.16it/s]\u001b[A\n",
      " 47%|████▋     | 411/870 [00:02<00:03, 131.45it/s]\u001b[A\n",
      " 50%|████▉     | 431/870 [00:02<00:03, 145.88it/s]\u001b[A\n",
      " 52%|█████▏    | 450/870 [00:02<00:02, 154.84it/s]\u001b[A\n",
      " 54%|█████▍    | 470/870 [00:03<00:02, 164.82it/s]\u001b[A\n",
      " 56%|█████▋    | 490/870 [00:03<00:02, 172.99it/s]\u001b[A\n",
      " 59%|█████▊    | 511/870 [00:03<00:01, 180.39it/s]\u001b[A\n",
      " 61%|██████    | 530/870 [00:03<00:01, 182.18it/s]\u001b[A\n",
      " 63%|██████▎   | 549/870 [00:03<00:01, 181.79it/s]\u001b[A\n",
      " 65%|██████▌   | 568/870 [00:03<00:01, 179.45it/s]\u001b[A\n",
      " 67%|██████▋   | 587/870 [00:03<00:02, 136.74it/s]\u001b[A\n",
      " 69%|██████▉   | 603/870 [00:03<00:01, 134.83it/s]\u001b[A\n",
      " 71%|███████   | 618/870 [00:04<00:01, 134.73it/s]\u001b[A\n",
      " 73%|███████▎  | 633/870 [00:04<00:02, 113.70it/s]\u001b[A\n",
      " 75%|███████▍  | 649/870 [00:04<00:01, 123.71it/s]\u001b[A\n",
      " 76%|███████▌  | 663/870 [00:04<00:01, 119.87it/s]\u001b[A\n",
      " 78%|███████▊  | 680/870 [00:04<00:01, 130.84it/s]\u001b[A\n",
      " 80%|████████  | 696/870 [00:04<00:01, 138.38it/s]\u001b[A\n",
      " 82%|████████▏ | 712/870 [00:04<00:01, 143.54it/s]\u001b[A\n",
      " 84%|████████▎ | 728/870 [00:04<00:00, 147.62it/s]\u001b[A\n",
      " 86%|████████▌ | 744/870 [00:04<00:00, 148.94it/s]\u001b[A\n",
      " 87%|████████▋ | 760/870 [00:05<00:00, 136.74it/s]\u001b[A\n",
      " 89%|████████▉ | 775/870 [00:05<00:00, 130.96it/s]\u001b[A\n",
      " 91%|█████████ | 789/870 [00:05<00:00, 131.49it/s]\u001b[A\n",
      " 93%|█████████▎| 806/870 [00:05<00:00, 139.07it/s]\u001b[A\n",
      " 95%|█████████▍| 823/870 [00:05<00:00, 145.28it/s]\u001b[A\n",
      " 97%|█████████▋| 840/870 [00:05<00:00, 150.92it/s]\u001b[A\n",
      " 99%|█████████▊| 858/870 [00:05<00:00, 156.43it/s]\u001b[A\n",
      "100%|██████████| 870/870 [00:05<00:00, 148.90it/s]\u001b[A"
     ]
    },
    {
     "name": "stdout",
     "output_type": "stream",
     "text": [
      "   Fold 2 labels:\n",
      "   air_conditioner:\t100\n",
      "   car_horn:\t42\n",
      "   children_playing:\t100\n",
      "   dog_bark:\t96\n",
      "   drilling:\t100\n",
      "   engine_idling:\t92\n",
      "   gun_shot:\t35\n",
      "   jackhammer:\t120\n",
      "   siren:\t91\n",
      "   street_music:\t94\n",
      "\n",
      "\n",
      "OVERALL labels:\n",
      "air_conditioner:\t100\n",
      "car_horn:\t42\n",
      "children_playing:\t100\n",
      "dog_bark:\t96\n",
      "drilling:\t100\n",
      "engine_idling:\t92\n",
      "gun_shot:\t35\n",
      "jackhammer:\t120\n",
      "siren:\t91\n",
      "street_music:\t94\n"
     ]
    }
   ],
   "source": [
    "folds = [2]\n",
    "splitname = 'test_9'\n",
    "\n",
    "soundbankfolder = '/Users/anaemendezmendez/Documents/NYU_PHD/UrbanSound8K/soundbanks/'\n",
    "soundbankfolder = os.path.join(soundbankfolder, splitname)\n",
    "\n",
    "label_count = {}\n",
    "for label in label_list:\n",
    "    label_count[label] = 0\n",
    "\n",
    "for fold in folds:\n",
    "    \n",
    "    print('FOLD {:d}'.format(fold))\n",
    "    audiofolder = '/Users/anaemendezmendez/Documents/NYU_PHD/UrbanSound8K/audio/fold{:d}/'.format(fold)\n",
    "    audiofiles = glob.glob(os.path.join(audiofolder, '*.wav'))\n",
    "    \n",
    "    fold_label_count = {}\n",
    "    for label in label_list:\n",
    "        fold_label_count[label] = 0\n",
    "    \n",
    "    for af in tqdm(audiofiles):\n",
    "        # print(os.path.basename(af))\n",
    "        label = metadata.loc[metadata.slice_file_name == os.path.basename(af), 'class'].values[0]\n",
    "        label_count[label] += 1\n",
    "        fold_label_count[label] += 1\n",
    "        destfolder = os.path.join(soundbankfolder, 'foreground', label)\n",
    "        if not os.path.isdir(destfolder):\n",
    "            os.mkdir(destfolder)\n",
    "        destfile = os.path.join(destfolder, os.path.basename(af))\n",
    "        shutil.copyfile(af, destfile)\n",
    "        \n",
    "    # Print fold report\n",
    "    print('   Fold {:d} labels:'.format(fold))\n",
    "    for label in label_list:\n",
    "        print('   {:s}:\\t{:d}'.format(label, fold_label_count[label]))\n",
    "        \n",
    "# Print overall report\n",
    "print('\\n\\nOVERALL labels:')\n",
    "for label in label_list:\n",
    "    print('{:s}:\\t{:d}'.format(label, label_count[label]))"
   ]
  },
  {
   "cell_type": "markdown",
   "metadata": {},
   "source": [
    "## Create soundbank for TRAIN_10 (folds 2-10)"
   ]
  },
  {
   "cell_type": "code",
   "execution_count": 23,
   "metadata": {},
   "outputs": [
    {
     "name": "stderr",
     "output_type": "stream",
     "text": [
      "\n",
      "  0%|          | 0/870 [00:00<?, ?it/s]\u001b[A\n",
      "  2%|▏         | 19/870 [00:00<00:04, 181.28it/s]\u001b[A"
     ]
    },
    {
     "name": "stdout",
     "output_type": "stream",
     "text": [
      "FOLD 2\n"
     ]
    },
    {
     "name": "stderr",
     "output_type": "stream",
     "text": [
      "\n",
      "  4%|▍         | 39/870 [00:00<00:04, 185.21it/s]\u001b[A\n",
      "  7%|▋         | 58/870 [00:00<00:04, 186.28it/s]\u001b[A\n",
      "  9%|▊         | 75/870 [00:00<00:04, 180.26it/s]\u001b[A\n",
      " 11%|█         | 94/870 [00:00<00:04, 182.78it/s]\u001b[A\n",
      " 13%|█▎        | 110/870 [00:00<00:05, 140.15it/s]\u001b[A\n",
      " 15%|█▍        | 128/870 [00:00<00:04, 149.86it/s]\u001b[A\n",
      " 16%|█▋        | 143/870 [00:00<00:04, 148.82it/s]\u001b[A\n",
      " 19%|█▉        | 164/870 [00:00<00:04, 162.54it/s]\u001b[A\n",
      " 22%|██▏       | 189/870 [00:01<00:03, 179.73it/s]\u001b[A\n",
      " 25%|██▍       | 215/870 [00:01<00:03, 195.81it/s]\u001b[A\n",
      " 28%|██▊       | 241/870 [00:01<00:02, 210.01it/s]\u001b[A\n",
      " 30%|███       | 264/870 [00:01<00:02, 214.42it/s]\u001b[A\n",
      " 33%|███▎      | 287/870 [00:01<00:02, 214.55it/s]\u001b[A\n",
      " 36%|███▌      | 314/870 [00:01<00:02, 226.89it/s]\u001b[A\n",
      " 39%|███▉      | 340/870 [00:01<00:02, 234.90it/s]\u001b[A\n",
      " 42%|████▏     | 365/870 [00:01<00:02, 238.60it/s]\u001b[A\n",
      " 45%|████▍     | 390/870 [00:01<00:02, 224.97it/s]\u001b[A\n",
      " 47%|████▋     | 413/870 [00:02<00:02, 224.14it/s]\u001b[A\n",
      " 51%|█████     | 441/870 [00:02<00:01, 236.21it/s]\u001b[A\n",
      " 54%|█████▍    | 468/870 [00:02<00:01, 243.91it/s]\u001b[A\n",
      " 57%|█████▋    | 496/870 [00:02<00:01, 252.43it/s]\u001b[A\n",
      " 60%|██████    | 522/870 [00:02<00:01, 250.48it/s]\u001b[A\n",
      " 63%|██████▎   | 548/870 [00:02<00:01, 249.16it/s]\u001b[A\n",
      " 66%|██████▌   | 574/870 [00:02<00:01, 247.96it/s]\u001b[A\n",
      " 69%|██████▉   | 599/870 [00:02<00:01, 239.79it/s]\u001b[A\n",
      " 72%|███████▏  | 624/870 [00:03<00:01, 172.37it/s]\u001b[A\n",
      " 74%|███████▍  | 646/870 [00:03<00:01, 183.32it/s]\u001b[A\n",
      " 77%|███████▋  | 667/870 [00:03<00:01, 186.83it/s]\u001b[A\n",
      " 79%|███████▉  | 689/870 [00:03<00:00, 194.32it/s]\u001b[A\n",
      " 82%|████████▏ | 714/870 [00:03<00:00, 208.07it/s]\u001b[A\n",
      " 85%|████████▍ | 738/870 [00:03<00:00, 215.67it/s]\u001b[A\n",
      " 88%|████████▊ | 762/870 [00:03<00:00, 220.54it/s]\u001b[A\n",
      " 90%|█████████ | 786/870 [00:03<00:00, 225.84it/s]\u001b[A\n",
      " 94%|█████████▎| 815/870 [00:03<00:00, 239.28it/s]\u001b[A\n",
      " 97%|█████████▋| 840/870 [00:03<00:00, 218.06it/s]\u001b[A\n",
      " 99%|█████████▉| 863/870 [00:04<00:00, 213.55it/s]\u001b[A\n",
      "100%|██████████| 870/870 [00:04<00:00, 209.53it/s]\u001b[A\n",
      "  0%|          | 0/918 [00:00<?, ?it/s]\u001b[A\n",
      "  2%|▏         | 15/918 [00:00<00:06, 144.47it/s]\u001b[A"
     ]
    },
    {
     "name": "stdout",
     "output_type": "stream",
     "text": [
      "   Fold 2 labels:\n",
      "   air_conditioner:\t100\n",
      "   car_horn:\t42\n",
      "   children_playing:\t100\n",
      "   dog_bark:\t96\n",
      "   drilling:\t100\n",
      "   engine_idling:\t92\n",
      "   gun_shot:\t35\n",
      "   jackhammer:\t120\n",
      "   siren:\t91\n",
      "   street_music:\t94\n",
      "FOLD 3\n"
     ]
    },
    {
     "name": "stderr",
     "output_type": "stream",
     "text": [
      "\n",
      "  3%|▎         | 29/918 [00:00<00:06, 142.45it/s]\u001b[A\n",
      "  5%|▍         | 43/918 [00:00<00:06, 141.01it/s]\u001b[A\n",
      "  6%|▌         | 56/918 [00:00<00:06, 137.46it/s]\u001b[A\n",
      "  8%|▊         | 69/918 [00:00<00:06, 133.17it/s]\u001b[A\n",
      "  9%|▉         | 83/918 [00:00<00:06, 134.38it/s]\u001b[A\n",
      " 11%|█         | 101/918 [00:00<00:05, 144.88it/s]\u001b[A\n",
      " 13%|█▎        | 118/918 [00:00<00:05, 149.33it/s]\u001b[A\n",
      " 14%|█▍        | 133/918 [00:00<00:05, 148.18it/s]\u001b[A\n",
      " 16%|█▌        | 148/918 [00:01<00:05, 146.03it/s]\u001b[A\n",
      " 18%|█▊        | 165/918 [00:01<00:05, 149.10it/s]\u001b[A\n",
      " 20%|█▉        | 182/918 [00:01<00:04, 154.55it/s]\u001b[A\n",
      " 22%|██▏       | 200/918 [00:01<00:04, 160.32it/s]\u001b[A\n",
      " 24%|██▎       | 217/918 [00:01<00:05, 123.25it/s]\u001b[A\n",
      " 26%|██▌       | 237/918 [00:01<00:04, 138.37it/s]\u001b[A\n",
      " 28%|██▊       | 254/918 [00:01<00:04, 144.81it/s]\u001b[A\n",
      " 29%|██▉       | 270/918 [00:01<00:04, 148.09it/s]\u001b[A\n",
      " 32%|███▏      | 290/918 [00:01<00:03, 159.12it/s]\u001b[A\n",
      " 34%|███▎      | 308/918 [00:02<00:03, 162.22it/s]\u001b[A\n",
      " 36%|███▌      | 326/918 [00:02<00:03, 166.11it/s]\u001b[A\n",
      " 37%|███▋      | 344/918 [00:02<00:03, 166.35it/s]\u001b[A\n",
      " 39%|███▉      | 361/918 [00:02<00:03, 156.05it/s]\u001b[A\n",
      " 41%|████      | 377/918 [00:02<00:03, 156.92it/s]\u001b[A\n",
      " 43%|████▎     | 398/918 [00:02<00:03, 169.10it/s]\u001b[A\n",
      " 45%|████▌     | 416/918 [00:02<00:03, 127.23it/s]\u001b[A\n",
      " 47%|████▋     | 434/918 [00:02<00:03, 139.04it/s]\u001b[A\n",
      " 49%|████▉     | 450/918 [00:03<00:03, 134.07it/s]\u001b[A\n",
      " 51%|█████     | 470/918 [00:03<00:03, 148.62it/s]\u001b[A\n",
      " 53%|█████▎    | 487/918 [00:03<00:04, 93.30it/s] \u001b[A\n",
      " 54%|█████▍    | 500/918 [00:03<00:04, 87.37it/s]\u001b[A\n",
      " 56%|█████▌    | 513/918 [00:03<00:04, 94.67it/s]\u001b[A\n",
      " 57%|█████▋    | 525/918 [00:03<00:04, 85.33it/s]\u001b[A\n",
      " 58%|█████▊    | 536/918 [00:04<00:04, 77.22it/s]\u001b[A\n",
      " 59%|█████▉    | 545/918 [00:04<00:05, 73.12it/s]\u001b[A\n",
      " 60%|██████    | 554/918 [00:04<00:05, 68.57it/s]\u001b[A\n",
      " 61%|██████    | 562/918 [00:04<00:05, 64.68it/s]\u001b[A\n",
      " 62%|██████▏   | 569/918 [00:04<00:05, 63.36it/s]\u001b[A\n",
      " 63%|██████▎   | 576/918 [00:04<00:05, 64.98it/s]\u001b[A\n",
      " 64%|██████▎   | 583/918 [00:04<00:05, 65.80it/s]\u001b[A\n",
      " 64%|██████▍   | 590/918 [00:04<00:05, 64.75it/s]\u001b[A\n",
      " 65%|██████▌   | 600/918 [00:05<00:04, 71.17it/s]\u001b[A\n",
      " 67%|██████▋   | 613/918 [00:05<00:03, 81.40it/s]\u001b[A\n",
      " 68%|██████▊   | 627/918 [00:05<00:03, 91.50it/s]\u001b[A\n",
      " 69%|██████▉   | 638/918 [00:05<00:02, 95.15it/s]\u001b[A\n",
      " 71%|███████   | 649/918 [00:05<00:02, 97.25it/s]\u001b[A\n",
      " 72%|███████▏  | 663/918 [00:05<00:02, 105.37it/s]\u001b[A\n",
      " 74%|███████▍  | 678/918 [00:05<00:02, 114.27it/s]\u001b[A\n",
      " 75%|███████▌  | 692/918 [00:05<00:01, 119.49it/s]\u001b[A\n",
      " 77%|███████▋  | 707/918 [00:05<00:01, 125.43it/s]\u001b[A\n",
      " 78%|███████▊  | 720/918 [00:06<00:01, 123.45it/s]\u001b[A\n",
      " 80%|████████  | 737/918 [00:06<00:01, 134.02it/s]\u001b[A\n",
      " 82%|████████▏ | 751/918 [00:06<00:01, 131.18it/s]\u001b[A\n",
      " 83%|████████▎ | 765/918 [00:06<00:01, 115.40it/s]\u001b[A\n",
      " 85%|████████▍ | 778/918 [00:06<00:01, 104.91it/s]\u001b[A\n",
      " 86%|████████▌ | 790/918 [00:06<00:01, 85.50it/s] \u001b[A\n",
      " 87%|████████▋ | 800/918 [00:06<00:01, 75.30it/s]\u001b[A\n",
      " 88%|████████▊ | 809/918 [00:07<00:01, 78.46it/s]\u001b[A\n",
      " 89%|████████▉ | 818/918 [00:07<00:01, 78.24it/s]\u001b[A\n",
      " 90%|█████████ | 827/918 [00:07<00:01, 73.69it/s]\u001b[A\n",
      " 91%|█████████ | 835/918 [00:07<00:01, 58.94it/s]\u001b[A\n",
      " 92%|█████████▏| 842/918 [00:07<00:01, 60.92it/s]\u001b[A\n",
      " 93%|█████████▎| 851/918 [00:07<00:01, 66.71it/s]\u001b[A\n",
      " 94%|█████████▎| 859/918 [00:07<00:00, 65.26it/s]\u001b[A\n",
      " 94%|█████████▍| 866/918 [00:07<00:00, 64.34it/s]\u001b[A\n",
      " 95%|█████████▌| 873/918 [00:08<00:00, 61.10it/s]\u001b[A\n",
      " 97%|█████████▋| 887/918 [00:08<00:00, 73.50it/s]\u001b[A\n",
      " 99%|█████████▉| 907/918 [00:08<00:00, 90.15it/s]\u001b[A\n",
      "100%|██████████| 918/918 [00:08<00:00, 109.73it/s]\u001b[A\n",
      "  0%|          | 0/961 [00:00<?, ?it/s]\u001b[A\n",
      "  2%|▏         | 17/961 [00:00<00:05, 168.42it/s]\u001b[A"
     ]
    },
    {
     "name": "stdout",
     "output_type": "stream",
     "text": [
      "   Fold 3 labels:\n",
      "   air_conditioner:\t100\n",
      "   car_horn:\t43\n",
      "   children_playing:\t100\n",
      "   dog_bark:\t94\n",
      "   drilling:\t100\n",
      "   engine_idling:\t107\n",
      "   gun_shot:\t36\n",
      "   jackhammer:\t119\n",
      "   siren:\t119\n",
      "   street_music:\t100\n",
      "FOLD 4\n"
     ]
    },
    {
     "name": "stderr",
     "output_type": "stream",
     "text": [
      "\n",
      "  4%|▎         | 34/961 [00:00<00:05, 167.15it/s]\u001b[A\n",
      "  5%|▍         | 48/961 [00:00<00:05, 156.88it/s]\u001b[A\n",
      "  7%|▋         | 65/961 [00:00<00:05, 160.54it/s]\u001b[A\n",
      "  9%|▊         | 84/961 [00:00<00:05, 165.78it/s]\u001b[A\n",
      " 11%|█         | 105/961 [00:00<00:04, 174.78it/s]\u001b[A\n",
      " 13%|█▎        | 121/961 [00:00<00:05, 163.99it/s]\u001b[A\n",
      " 14%|█▍        | 137/961 [00:00<00:05, 151.34it/s]\u001b[A\n",
      " 16%|█▌        | 152/961 [00:00<00:06, 134.01it/s]\u001b[A\n",
      " 17%|█▋        | 168/961 [00:01<00:05, 139.70it/s]\u001b[A\n",
      " 19%|█▉        | 183/961 [00:01<00:05, 135.69it/s]\u001b[A\n",
      " 21%|██        | 199/961 [00:01<00:05, 140.00it/s]\u001b[A\n",
      " 22%|██▏       | 214/961 [00:01<00:05, 140.76it/s]\u001b[A\n",
      " 24%|██▍       | 229/961 [00:01<00:05, 142.55it/s]\u001b[A\n",
      " 25%|██▌       | 244/961 [00:01<00:07, 90.09it/s] \u001b[A\n",
      " 27%|██▋       | 256/961 [00:02<00:09, 73.56it/s]\u001b[A\n",
      " 28%|██▊       | 266/961 [00:02<00:10, 65.58it/s]\u001b[A\n",
      " 29%|██▊       | 276/961 [00:02<00:09, 69.94it/s]\u001b[A\n",
      " 30%|██▉       | 285/961 [00:02<00:10, 61.62it/s]\u001b[A\n",
      " 30%|███       | 293/961 [00:02<00:11, 58.69it/s]\u001b[A\n",
      " 31%|███       | 300/961 [00:02<00:11, 56.56it/s]\u001b[A\n",
      " 32%|███▏      | 307/961 [00:03<00:15, 42.51it/s]\u001b[A\n",
      " 33%|███▎      | 313/961 [00:03<00:14, 44.14it/s]\u001b[A\n",
      " 34%|███▍      | 327/961 [00:03<00:11, 55.33it/s]\u001b[A\n",
      " 35%|███▌      | 339/961 [00:03<00:09, 65.57it/s]\u001b[A\n",
      " 37%|███▋      | 352/961 [00:03<00:07, 76.86it/s]\u001b[A\n",
      " 38%|███▊      | 369/961 [00:03<00:06, 91.37it/s]\u001b[A\n",
      " 40%|███▉      | 384/961 [00:03<00:05, 103.01it/s]\u001b[A\n",
      " 42%|████▏     | 400/961 [00:03<00:04, 113.94it/s]\u001b[A\n",
      " 43%|████▎     | 414/961 [00:04<00:05, 104.41it/s]\u001b[A\n",
      " 45%|████▍     | 430/961 [00:04<00:04, 115.51it/s]\u001b[A\n",
      " 46%|████▋     | 446/961 [00:04<00:04, 125.48it/s]\u001b[A\n",
      " 48%|████▊     | 460/961 [00:04<00:03, 125.85it/s]\u001b[A\n",
      " 50%|████▉     | 478/961 [00:04<00:03, 136.31it/s]\u001b[A\n",
      " 52%|█████▏    | 495/961 [00:04<00:03, 142.46it/s]\u001b[A\n",
      " 53%|█████▎    | 511/961 [00:04<00:03, 147.12it/s]\u001b[A\n",
      " 55%|█████▍    | 527/961 [00:04<00:02, 150.40it/s]\u001b[A\n",
      " 57%|█████▋    | 543/961 [00:04<00:02, 145.79it/s]\u001b[A\n",
      " 58%|█████▊    | 558/961 [00:04<00:02, 142.18it/s]\u001b[A\n",
      " 60%|█████▉    | 574/961 [00:05<00:02, 144.61it/s]\u001b[A\n",
      " 61%|██████▏   | 589/961 [00:05<00:02, 141.88it/s]\u001b[A\n",
      " 63%|██████▎   | 605/961 [00:05<00:02, 144.99it/s]\u001b[A\n",
      " 65%|██████▍   | 621/961 [00:05<00:02, 148.00it/s]\u001b[A\n",
      " 67%|██████▋   | 640/961 [00:05<00:02, 156.80it/s]\u001b[A\n",
      " 68%|██████▊   | 656/961 [00:05<00:02, 124.53it/s]\u001b[A\n",
      " 70%|███████   | 674/961 [00:05<00:02, 135.25it/s]\u001b[A\n",
      " 72%|███████▏  | 693/961 [00:05<00:01, 146.96it/s]\u001b[A\n",
      " 74%|███████▍  | 712/961 [00:06<00:01, 157.32it/s]\u001b[A\n",
      " 76%|███████▋  | 733/961 [00:06<00:01, 169.11it/s]\u001b[A\n",
      " 78%|███████▊  | 752/961 [00:06<00:01, 173.52it/s]\u001b[A\n",
      " 80%|████████  | 771/961 [00:06<00:01, 178.10it/s]\u001b[A\n",
      " 82%|████████▏ | 792/961 [00:06<00:00, 180.59it/s]\u001b[A\n",
      " 84%|████████▍ | 812/961 [00:06<00:00, 185.75it/s]\u001b[A\n",
      " 87%|████████▋ | 832/961 [00:06<00:00, 189.15it/s]\u001b[A\n",
      " 89%|████████▊ | 852/961 [00:06<00:00, 191.99it/s]\u001b[A\n",
      " 91%|█████████ | 872/961 [00:06<00:00, 188.03it/s]\u001b[A\n",
      " 93%|█████████▎| 896/961 [00:06<00:00, 201.00it/s]\u001b[A\n",
      " 95%|█████████▌| 917/961 [00:07<00:00, 199.12it/s]\u001b[A\n",
      " 98%|█████████▊| 938/961 [00:07<00:00, 199.89it/s]\u001b[A\n",
      "100%|█████████▉| 959/961 [00:07<00:00, 201.22it/s]\u001b[A\n",
      "100%|██████████| 961/961 [00:07<00:00, 132.20it/s]\u001b[A\n",
      "  0%|          | 0/902 [00:00<?, ?it/s]\u001b[A\n",
      "  2%|▏         | 16/902 [00:00<00:05, 155.91it/s]\u001b[A"
     ]
    },
    {
     "name": "stdout",
     "output_type": "stream",
     "text": [
      "   Fold 4 labels:\n",
      "   air_conditioner:\t100\n",
      "   car_horn:\t57\n",
      "   children_playing:\t100\n",
      "   dog_bark:\t100\n",
      "   drilling:\t79\n",
      "   engine_idling:\t107\n",
      "   gun_shot:\t38\n",
      "   jackhammer:\t120\n",
      "   siren:\t166\n",
      "   street_music:\t94\n",
      "FOLD 5\n"
     ]
    },
    {
     "name": "stderr",
     "output_type": "stream",
     "text": [
      "\n",
      "  4%|▍         | 35/902 [00:00<00:05, 163.00it/s]\u001b[A\n",
      "  6%|▌         | 53/902 [00:00<00:05, 166.12it/s]\u001b[A\n",
      "  8%|▊         | 75/902 [00:00<00:04, 176.27it/s]\u001b[A\n",
      " 10%|█         | 94/902 [00:00<00:04, 179.05it/s]\u001b[A\n",
      " 12%|█▏        | 110/902 [00:00<00:04, 172.71it/s]\u001b[A\n",
      " 14%|█▍        | 130/902 [00:00<00:04, 179.56it/s]\u001b[A\n",
      " 17%|█▋        | 150/902 [00:00<00:04, 183.18it/s]\u001b[A\n",
      " 19%|█▊        | 168/902 [00:01<00:05, 129.33it/s]\u001b[A\n",
      " 21%|██        | 186/902 [00:01<00:05, 140.73it/s]\u001b[A\n",
      " 22%|██▏       | 202/902 [00:01<00:05, 128.01it/s]\u001b[A\n",
      " 24%|██▍       | 217/902 [00:01<00:05, 121.59it/s]\u001b[A\n",
      " 26%|██▌       | 231/902 [00:01<00:05, 124.47it/s]\u001b[A\n",
      " 27%|██▋       | 245/902 [00:01<00:05, 124.79it/s]\u001b[A\n",
      " 29%|██▉       | 266/902 [00:01<00:04, 141.29it/s]\u001b[A\n",
      " 32%|███▏      | 287/902 [00:01<00:03, 155.87it/s]\u001b[A\n",
      " 34%|███▎      | 304/902 [00:02<00:04, 143.86it/s]\u001b[A\n",
      " 35%|███▌      | 320/902 [00:02<00:04, 142.69it/s]\u001b[A\n",
      " 37%|███▋      | 336/902 [00:02<00:03, 146.69it/s]\u001b[A\n",
      " 39%|███▉      | 352/902 [00:02<00:03, 146.46it/s]\u001b[A\n",
      " 41%|████      | 368/902 [00:02<00:04, 132.97it/s]\u001b[A\n",
      " 42%|████▏     | 383/902 [00:02<00:03, 136.72it/s]\u001b[A\n",
      " 44%|████▍     | 399/902 [00:02<00:03, 141.16it/s]\u001b[A\n",
      " 46%|████▌     | 415/902 [00:02<00:03, 144.28it/s]\u001b[A\n",
      " 48%|████▊     | 433/902 [00:02<00:03, 149.97it/s]\u001b[A\n",
      " 50%|████▉     | 449/902 [00:03<00:02, 152.21it/s]\u001b[A\n",
      " 52%|█████▏    | 469/902 [00:03<00:02, 163.95it/s]\u001b[A\n",
      " 54%|█████▍    | 491/902 [00:03<00:02, 176.10it/s]\u001b[A\n",
      " 57%|█████▋    | 514/902 [00:03<00:02, 188.11it/s]\u001b[A\n",
      " 59%|█████▉    | 534/902 [00:03<00:01, 191.47it/s]\u001b[A\n",
      " 61%|██████▏   | 554/902 [00:03<00:01, 189.10it/s]\u001b[A\n",
      " 64%|██████▎   | 574/902 [00:03<00:02, 145.27it/s]\u001b[A\n",
      " 66%|██████▌   | 591/902 [00:03<00:02, 146.58it/s]\u001b[A\n",
      " 67%|██████▋   | 607/902 [00:03<00:02, 145.90it/s]\u001b[A\n",
      " 69%|██████▉   | 624/902 [00:04<00:01, 146.39it/s]\u001b[A\n",
      " 71%|███████   | 640/902 [00:04<00:01, 142.09it/s]\u001b[A\n",
      " 73%|███████▎  | 655/902 [00:04<00:01, 123.82it/s]\u001b[A\n",
      " 74%|███████▍  | 669/902 [00:04<00:01, 124.82it/s]\u001b[A\n",
      " 76%|███████▌  | 685/902 [00:04<00:01, 132.63it/s]\u001b[A\n",
      " 78%|███████▊  | 701/902 [00:04<00:01, 136.97it/s]\u001b[A\n",
      " 79%|███████▉  | 717/902 [00:04<00:01, 141.39it/s]\u001b[A\n",
      " 81%|████████▏ | 735/902 [00:04<00:01, 150.30it/s]\u001b[A\n",
      " 83%|████████▎ | 753/902 [00:04<00:00, 157.38it/s]\u001b[A\n",
      " 85%|████████▌ | 770/902 [00:05<00:00, 157.89it/s]\u001b[A\n",
      " 87%|████████▋ | 789/902 [00:05<00:00, 165.32it/s]\u001b[A\n",
      " 89%|████████▉ | 806/902 [00:05<00:00, 134.76it/s]\u001b[A\n",
      " 92%|█████████▏| 830/902 [00:05<00:00, 154.29it/s]\u001b[A\n",
      " 94%|█████████▍| 850/902 [00:05<00:00, 162.76it/s]\u001b[A\n",
      " 96%|█████████▋| 870/902 [00:05<00:00, 170.53it/s]\u001b[A\n",
      " 99%|█████████▊| 889/902 [00:05<00:00, 165.17it/s]\u001b[A\n",
      "100%|██████████| 902/902 [00:05<00:00, 153.30it/s]\u001b[A\n",
      "  0%|          | 0/807 [00:00<?, ?it/s]\u001b[A\n",
      "  2%|▏         | 18/807 [00:00<00:04, 177.16it/s]\u001b[A"
     ]
    },
    {
     "name": "stdout",
     "output_type": "stream",
     "text": [
      "   Fold 5 labels:\n",
      "   air_conditioner:\t100\n",
      "   car_horn:\t98\n",
      "   children_playing:\t92\n",
      "   dog_bark:\t95\n",
      "   drilling:\t84\n",
      "   engine_idling:\t107\n",
      "   gun_shot:\t40\n",
      "   jackhammer:\t120\n",
      "   siren:\t71\n",
      "   street_music:\t95\n",
      "FOLD 6\n"
     ]
    },
    {
     "name": "stderr",
     "output_type": "stream",
     "text": [
      "\n",
      "  4%|▍         | 36/807 [00:00<00:04, 177.24it/s]\u001b[A\n",
      "  7%|▋         | 57/807 [00:00<00:04, 185.80it/s]\u001b[A\n",
      " 10%|▉         | 77/807 [00:00<00:03, 187.53it/s]\u001b[A\n",
      " 12%|█▏        | 95/807 [00:00<00:03, 184.62it/s]\u001b[A\n",
      " 14%|█▍        | 113/807 [00:00<00:03, 181.44it/s]\u001b[A\n",
      " 16%|█▋        | 132/807 [00:00<00:03, 180.93it/s]\u001b[A\n",
      " 18%|█▊        | 149/807 [00:00<00:05, 128.52it/s]\u001b[A\n",
      " 21%|██        | 171/807 [00:01<00:04, 146.38it/s]\u001b[A\n",
      " 23%|██▎       | 188/807 [00:01<00:04, 151.77it/s]\u001b[A\n",
      " 26%|██▌       | 210/807 [00:01<00:03, 166.28it/s]\u001b[A\n",
      " 29%|██▊       | 231/807 [00:01<00:03, 176.64it/s]\u001b[A\n",
      " 31%|███       | 251/807 [00:01<00:03, 180.89it/s]\u001b[A\n",
      " 34%|███▍      | 274/807 [00:01<00:02, 193.15it/s]\u001b[A\n",
      " 37%|███▋      | 297/807 [00:01<00:02, 201.74it/s]\u001b[A\n",
      " 39%|███▉      | 318/807 [00:01<00:02, 199.94it/s]\u001b[A\n",
      " 42%|████▏     | 340/807 [00:01<00:02, 204.28it/s]\u001b[A\n",
      " 45%|████▍     | 361/807 [00:01<00:02, 201.82it/s]\u001b[A\n",
      " 47%|████▋     | 382/807 [00:02<00:02, 195.16it/s]\u001b[A\n",
      " 50%|████▉     | 402/807 [00:02<00:02, 193.54it/s]\u001b[A\n",
      " 52%|█████▏    | 422/807 [00:02<00:02, 190.97it/s]\u001b[A\n",
      " 55%|█████▍    | 442/807 [00:02<00:01, 193.37it/s]\u001b[A\n",
      " 57%|█████▋    | 462/807 [00:02<00:01, 192.78it/s]\u001b[A\n",
      " 60%|█████▉    | 484/807 [00:02<00:01, 198.59it/s]\u001b[A\n",
      " 62%|██████▏   | 504/807 [00:02<00:02, 137.16it/s]\u001b[A\n",
      " 65%|██████▍   | 522/807 [00:02<00:01, 145.91it/s]\u001b[A\n",
      " 67%|██████▋   | 542/807 [00:03<00:01, 157.31it/s]\u001b[A\n",
      " 70%|██████▉   | 561/807 [00:03<00:01, 164.13it/s]\u001b[A\n",
      " 72%|███████▏  | 579/807 [00:03<00:01, 144.93it/s]\u001b[A\n",
      " 74%|███████▎  | 595/807 [00:03<00:01, 137.96it/s]\u001b[A\n",
      " 76%|███████▌  | 610/807 [00:03<00:01, 138.22it/s]\u001b[A\n",
      " 78%|███████▊  | 627/807 [00:03<00:01, 145.29it/s]\u001b[A\n",
      " 80%|████████  | 647/807 [00:03<00:01, 158.13it/s]\u001b[A\n",
      " 82%|████████▏ | 664/807 [00:03<00:00, 155.68it/s]\u001b[A\n",
      " 85%|████████▍ | 684/807 [00:03<00:00, 166.28it/s]\u001b[A\n",
      " 88%|████████▊ | 707/807 [00:04<00:00, 180.73it/s]\u001b[A\n",
      " 90%|████████▉ | 726/807 [00:04<00:00, 155.89it/s]\u001b[A\n",
      " 92%|█████████▏| 743/807 [00:04<00:00, 159.24it/s]\u001b[A\n",
      " 94%|█████████▍| 760/807 [00:04<00:00, 152.75it/s]\u001b[A\n",
      " 96%|█████████▌| 776/807 [00:04<00:00, 154.14it/s]\u001b[A\n",
      " 99%|█████████▉| 797/807 [00:04<00:00, 166.92it/s]\u001b[A\n",
      "100%|██████████| 807/807 [00:04<00:00, 169.69it/s]\u001b[A\n",
      "  0%|          | 0/807 [00:00<?, ?it/s]\u001b[A\n",
      "  2%|▏         | 16/807 [00:00<00:05, 156.98it/s]\u001b[A"
     ]
    },
    {
     "name": "stdout",
     "output_type": "stream",
     "text": [
      "   Fold 6 labels:\n",
      "   air_conditioner:\t100\n",
      "   car_horn:\t28\n",
      "   children_playing:\t92\n",
      "   dog_bark:\t92\n",
      "   drilling:\t100\n",
      "   engine_idling:\t107\n",
      "   gun_shot:\t46\n",
      "   jackhammer:\t68\n",
      "   siren:\t74\n",
      "   street_music:\t100\n",
      "FOLD 7\n"
     ]
    },
    {
     "name": "stderr",
     "output_type": "stream",
     "text": [
      "\n",
      "  4%|▍         | 32/807 [00:00<00:04, 156.88it/s]\u001b[A\n",
      "  6%|▌         | 49/807 [00:00<00:04, 159.64it/s]\u001b[A\n",
      "  8%|▊         | 62/807 [00:00<00:05, 147.43it/s]\u001b[A\n",
      "  9%|▉         | 75/807 [00:00<00:05, 139.70it/s]\u001b[A\n",
      " 12%|█▏        | 95/807 [00:00<00:04, 152.14it/s]\u001b[A\n",
      " 14%|█▍        | 116/807 [00:00<00:04, 165.79it/s]\u001b[A\n",
      " 16%|█▋        | 132/807 [00:00<00:04, 149.78it/s]\u001b[A\n",
      " 18%|█▊        | 147/807 [00:00<00:04, 141.45it/s]\u001b[A\n",
      " 20%|██        | 164/807 [00:01<00:04, 148.06it/s]\u001b[A\n",
      " 22%|██▏       | 179/807 [00:01<00:04, 147.12it/s]\u001b[A\n",
      " 24%|██▍       | 197/807 [00:01<00:03, 154.19it/s]\u001b[A\n",
      " 27%|██▋       | 217/807 [00:01<00:03, 164.07it/s]\u001b[A\n",
      " 29%|██▉       | 234/807 [00:01<00:03, 150.50it/s]\u001b[A\n",
      " 31%|███       | 250/807 [00:01<00:03, 143.15it/s]\u001b[A\n",
      " 33%|███▎      | 265/807 [00:01<00:03, 144.65it/s]\u001b[A\n",
      " 35%|███▌      | 284/807 [00:01<00:03, 151.97it/s]\u001b[A\n",
      " 37%|███▋      | 300/807 [00:01<00:03, 150.23it/s]\u001b[A\n",
      " 39%|███▉      | 318/807 [00:02<00:03, 157.32it/s]\u001b[A\n",
      " 41%|████▏     | 334/807 [00:02<00:03, 153.84it/s]\u001b[A\n",
      " 44%|████▎     | 352/807 [00:02<00:02, 159.33it/s]\u001b[A\n",
      " 46%|████▌     | 369/807 [00:02<00:02, 158.27it/s]\u001b[A\n",
      " 48%|████▊     | 385/807 [00:02<00:02, 143.88it/s]\u001b[A\n",
      " 50%|████▉     | 400/807 [00:02<00:02, 141.03it/s]\u001b[A\n",
      " 52%|█████▏    | 416/807 [00:02<00:02, 143.33it/s]\u001b[A\n",
      " 53%|█████▎    | 431/807 [00:02<00:02, 127.88it/s]\u001b[A\n",
      " 55%|█████▌    | 445/807 [00:02<00:02, 126.87it/s]\u001b[A\n",
      " 57%|█████▋    | 458/807 [00:03<00:02, 122.62it/s]\u001b[A\n",
      " 59%|█████▊    | 474/807 [00:03<00:02, 131.21it/s]\u001b[A\n",
      " 60%|██████    | 488/807 [00:03<00:02, 129.78it/s]\u001b[A\n",
      " 63%|██████▎   | 511/807 [00:03<00:01, 148.62it/s]\u001b[A\n",
      " 65%|██████▌   | 527/807 [00:03<00:01, 146.89it/s]\u001b[A\n",
      " 67%|██████▋   | 544/807 [00:03<00:01, 150.28it/s]\u001b[A\n",
      " 70%|██████▉   | 561/807 [00:03<00:01, 152.64it/s]\u001b[A\n",
      " 71%|███████▏  | 577/807 [00:03<00:01, 144.73it/s]\u001b[A\n",
      " 73%|███████▎  | 592/807 [00:03<00:01, 144.21it/s]\u001b[A\n",
      " 75%|███████▌  | 607/807 [00:04<00:01, 143.37it/s]\u001b[A\n",
      " 78%|███████▊  | 628/807 [00:04<00:01, 157.25it/s]\u001b[A\n",
      " 80%|███████▉  | 645/807 [00:04<00:01, 155.86it/s]\u001b[A\n",
      " 82%|████████▏ | 661/807 [00:04<00:00, 153.68it/s]\u001b[A\n",
      " 84%|████████▍ | 677/807 [00:04<00:00, 146.22it/s]\u001b[A\n",
      " 86%|████████▌ | 695/807 [00:04<00:00, 153.58it/s]\u001b[A\n",
      " 88%|████████▊ | 711/807 [00:04<00:00, 143.87it/s]\u001b[A\n",
      " 90%|████████▉ | 726/807 [00:04<00:00, 142.69it/s]\u001b[A\n",
      " 92%|█████████▏| 744/807 [00:04<00:00, 148.93it/s]\u001b[A\n",
      " 94%|█████████▍| 760/807 [00:05<00:00, 146.27it/s]\u001b[A\n",
      " 97%|█████████▋| 779/807 [00:05<00:00, 155.56it/s]\u001b[A\n",
      " 99%|█████████▉| 800/807 [00:05<00:00, 167.19it/s]\u001b[A\n",
      "100%|██████████| 807/807 [00:05<00:00, 151.21it/s]\u001b[A\n",
      "  0%|          | 0/732 [00:00<?, ?it/s]\u001b[A\n",
      "  3%|▎         | 21/732 [00:00<00:03, 201.78it/s]\u001b[A"
     ]
    },
    {
     "name": "stdout",
     "output_type": "stream",
     "text": [
      "   Fold 7 labels:\n",
      "   air_conditioner:\t100\n",
      "   car_horn:\t28\n",
      "   children_playing:\t100\n",
      "   dog_bark:\t93\n",
      "   drilling:\t82\n",
      "   engine_idling:\t100\n",
      "   gun_shot:\t51\n",
      "   jackhammer:\t76\n",
      "   siren:\t77\n",
      "   street_music:\t100\n",
      "FOLD 8\n"
     ]
    },
    {
     "name": "stderr",
     "output_type": "stream",
     "text": [
      "\n",
      "  5%|▍         | 36/732 [00:00<00:03, 182.04it/s]\u001b[A\n",
      "  7%|▋         | 54/732 [00:00<00:03, 178.82it/s]\u001b[A\n",
      " 10%|█         | 74/732 [00:00<00:03, 182.50it/s]\u001b[A\n",
      " 13%|█▎        | 95/732 [00:00<00:03, 188.69it/s]\u001b[A\n",
      " 15%|█▌        | 112/732 [00:00<00:03, 181.37it/s]\u001b[A\n",
      " 18%|█▊        | 130/732 [00:00<00:03, 179.33it/s]\u001b[A\n",
      " 20%|██        | 147/732 [00:00<00:03, 175.05it/s]\u001b[A\n",
      " 23%|██▎       | 167/732 [00:00<00:03, 179.01it/s]\u001b[A\n",
      " 25%|██▌       | 185/732 [00:01<00:03, 146.33it/s]\u001b[A\n",
      " 27%|██▋       | 201/732 [00:01<00:04, 116.46it/s]\u001b[A\n",
      " 30%|██▉       | 219/732 [00:01<00:03, 129.52it/s]\u001b[A\n",
      " 32%|███▏      | 237/732 [00:01<00:03, 141.06it/s]\u001b[A\n",
      " 35%|███▌      | 257/732 [00:01<00:03, 154.74it/s]\u001b[A\n",
      " 38%|███▊      | 278/732 [00:01<00:02, 160.35it/s]\u001b[A\n",
      " 40%|████      | 295/732 [00:01<00:02, 148.31it/s]\u001b[A\n",
      " 44%|████▎     | 319/732 [00:01<00:02, 167.40it/s]\u001b[A\n",
      " 46%|████▋     | 339/732 [00:02<00:02, 175.60it/s]\u001b[A\n",
      " 49%|████▉     | 358/732 [00:02<00:02, 169.97it/s]\u001b[A\n",
      " 51%|█████▏    | 376/732 [00:02<00:02, 166.36it/s]\u001b[A\n",
      " 54%|█████▍    | 395/732 [00:02<00:01, 171.50it/s]\u001b[A\n",
      " 57%|█████▋    | 414/732 [00:02<00:01, 176.03it/s]\u001b[A\n",
      " 59%|█████▉    | 434/732 [00:02<00:01, 181.08it/s]\u001b[A\n",
      " 62%|██████▏   | 453/732 [00:02<00:01, 174.83it/s]\u001b[A\n",
      " 64%|██████▍   | 471/732 [00:02<00:01, 175.28it/s]\u001b[A\n",
      " 67%|██████▋   | 490/732 [00:02<00:01, 177.94it/s]\u001b[A\n",
      " 70%|██████▉   | 511/732 [00:03<00:01, 183.79it/s]\u001b[A\n",
      " 73%|███████▎  | 531/732 [00:03<00:01, 187.71it/s]\u001b[A\n",
      " 75%|███████▌  | 550/732 [00:03<00:00, 188.05it/s]\u001b[A\n",
      " 78%|███████▊  | 569/732 [00:03<00:00, 187.44it/s]\u001b[A\n",
      " 80%|████████  | 589/732 [00:03<00:00, 188.80it/s]\u001b[A\n",
      " 83%|████████▎ | 608/732 [00:03<00:00, 182.88it/s]\u001b[A\n",
      " 86%|████████▌ | 630/732 [00:03<00:00, 191.01it/s]\u001b[A\n",
      " 89%|████████▉ | 650/732 [00:03<00:00, 193.38it/s]\u001b[A\n",
      " 92%|█████████▏| 670/732 [00:03<00:00, 194.24it/s]\u001b[A\n",
      " 94%|█████████▍| 690/732 [00:03<00:00, 189.16it/s]\u001b[A\n",
      " 97%|█████████▋| 711/732 [00:04<00:00, 194.70it/s]\u001b[A\n",
      "100%|█████████▉| 731/732 [00:04<00:00, 177.30it/s]\u001b[A\n",
      "100%|██████████| 732/732 [00:04<00:00, 173.30it/s]\u001b[A\n",
      "  0%|          | 0/779 [00:00<?, ?it/s]\u001b[A\n",
      "  2%|▏         | 13/779 [00:00<00:05, 128.22it/s]\u001b[A"
     ]
    },
    {
     "name": "stdout",
     "output_type": "stream",
     "text": [
      "   Fold 8 labels:\n",
      "   air_conditioner:\t100\n",
      "   car_horn:\t30\n",
      "   children_playing:\t100\n",
      "   dog_bark:\t100\n",
      "   drilling:\t83\n",
      "   engine_idling:\t38\n",
      "   gun_shot:\t30\n",
      "   jackhammer:\t78\n",
      "   siren:\t80\n",
      "   street_music:\t93\n",
      "FOLD 9\n"
     ]
    },
    {
     "name": "stderr",
     "output_type": "stream",
     "text": [
      "\n",
      "  4%|▎         | 28/779 [00:00<00:05, 133.76it/s]\u001b[A\n",
      "  6%|▌         | 43/779 [00:00<00:05, 138.17it/s]\u001b[A\n",
      "  7%|▋         | 56/779 [00:00<00:05, 127.71it/s]\u001b[A\n",
      "  8%|▊         | 66/779 [00:00<00:06, 111.41it/s]\u001b[A\n",
      " 11%|█▏        | 88/779 [00:00<00:05, 130.00it/s]\u001b[A\n",
      " 14%|█▎        | 107/779 [00:00<00:04, 143.55it/s]\u001b[A\n",
      " 16%|█▌        | 125/779 [00:00<00:04, 151.80it/s]\u001b[A\n",
      " 19%|█▊        | 145/779 [00:00<00:03, 162.36it/s]\u001b[A\n",
      " 21%|██        | 163/779 [00:01<00:03, 166.52it/s]\u001b[A\n",
      " 23%|██▎       | 182/779 [00:01<00:03, 170.92it/s]\u001b[A\n",
      " 26%|██▌       | 202/779 [00:01<00:03, 177.27it/s]\u001b[A\n",
      " 28%|██▊       | 220/779 [00:01<00:03, 174.06it/s]\u001b[A\n",
      " 31%|███       | 238/779 [00:01<00:03, 167.72it/s]\u001b[A\n",
      " 33%|███▎      | 255/779 [00:01<00:03, 167.12it/s]\u001b[A\n",
      " 35%|███▍      | 272/779 [00:01<00:03, 167.67it/s]\u001b[A\n",
      " 37%|███▋      | 289/779 [00:01<00:03, 160.89it/s]\u001b[A\n",
      " 39%|███▉      | 306/779 [00:01<00:03, 151.08it/s]\u001b[A\n",
      " 41%|████▏     | 322/779 [00:02<00:03, 150.80it/s]\u001b[A\n",
      " 43%|████▎     | 338/779 [00:02<00:03, 143.93it/s]\u001b[A\n",
      " 45%|████▌     | 354/779 [00:02<00:02, 148.38it/s]\u001b[A\n",
      " 47%|████▋     | 370/779 [00:02<00:02, 149.89it/s]\u001b[A\n",
      " 50%|████▉     | 388/779 [00:02<00:02, 156.80it/s]\u001b[A\n",
      " 52%|█████▏    | 405/779 [00:02<00:02, 157.81it/s]\u001b[A\n",
      " 54%|█████▍    | 421/779 [00:02<00:02, 158.42it/s]\u001b[A\n",
      " 56%|█████▋    | 439/779 [00:02<00:02, 163.59it/s]\u001b[A\n",
      " 59%|█████▊    | 456/779 [00:02<00:02, 125.29it/s]\u001b[A\n",
      " 61%|██████    | 475/779 [00:03<00:02, 139.25it/s]\u001b[A\n",
      " 64%|██████▎   | 495/779 [00:03<00:01, 152.37it/s]\u001b[A\n",
      " 66%|██████▌   | 515/779 [00:03<00:01, 163.74it/s]\u001b[A\n",
      " 69%|██████▉   | 537/779 [00:03<00:01, 174.83it/s]\u001b[A\n",
      " 71%|███████▏  | 556/779 [00:03<00:01, 145.34it/s]\u001b[A\n",
      " 74%|███████▍  | 575/779 [00:03<00:01, 155.63it/s]\u001b[A\n",
      " 76%|███████▋  | 595/779 [00:03<00:01, 166.01it/s]\u001b[A\n",
      " 79%|███████▊  | 613/779 [00:03<00:01, 161.95it/s]\u001b[A\n",
      " 81%|████████  | 631/779 [00:04<00:00, 165.47it/s]\u001b[A\n",
      " 83%|████████▎ | 649/779 [00:04<00:00, 168.71it/s]\u001b[A\n",
      " 86%|████████▌ | 667/779 [00:04<00:00, 168.30it/s]\u001b[A\n",
      " 88%|████████▊ | 685/779 [00:04<00:00, 169.36it/s]\u001b[A\n",
      " 90%|█████████ | 703/779 [00:04<00:00, 167.77it/s]\u001b[A\n",
      " 93%|█████████▎| 721/779 [00:04<00:00, 168.35it/s]\u001b[A\n",
      " 95%|█████████▍| 738/779 [00:04<00:00, 164.08it/s]\u001b[A\n",
      " 97%|█████████▋| 756/779 [00:04<00:00, 168.51it/s]\u001b[A\n",
      " 99%|█████████▉| 773/779 [00:04<00:00, 166.61it/s]\u001b[A\n",
      "100%|██████████| 779/779 [00:04<00:00, 159.33it/s]\u001b[A\n",
      "  0%|          | 0/765 [00:00<?, ?it/s]\u001b[A\n",
      "  2%|▏         | 18/765 [00:00<00:04, 171.09it/s]\u001b[A"
     ]
    },
    {
     "name": "stdout",
     "output_type": "stream",
     "text": [
      "   Fold 9 labels:\n",
      "   air_conditioner:\t100\n",
      "   car_horn:\t32\n",
      "   children_playing:\t100\n",
      "   dog_bark:\t99\n",
      "   drilling:\t84\n",
      "   engine_idling:\t89\n",
      "   gun_shot:\t31\n",
      "   jackhammer:\t68\n",
      "   siren:\t82\n",
      "   street_music:\t94\n",
      "FOLD 10\n"
     ]
    },
    {
     "name": "stderr",
     "output_type": "stream",
     "text": [
      "\n",
      "  5%|▍         | 37/765 [00:00<00:04, 173.45it/s]\u001b[A\n",
      "  7%|▋         | 52/765 [00:00<00:04, 163.93it/s]\u001b[A\n",
      "  9%|▉         | 71/765 [00:00<00:04, 169.09it/s]\u001b[A\n",
      " 12%|█▏        | 92/765 [00:00<00:03, 177.51it/s]\u001b[A\n",
      " 15%|█▍        | 112/765 [00:00<00:03, 183.51it/s]\u001b[A\n",
      " 17%|█▋        | 132/765 [00:00<00:03, 182.64it/s]\u001b[A\n",
      " 19%|█▉        | 149/765 [00:00<00:03, 175.88it/s]\u001b[A\n",
      " 22%|██▏       | 167/765 [00:00<00:03, 176.83it/s]\u001b[A\n",
      " 24%|██▍       | 185/765 [00:01<00:03, 175.61it/s]\u001b[A\n",
      " 27%|██▋       | 203/765 [00:01<00:04, 138.07it/s]\u001b[A\n",
      " 29%|██▉       | 222/765 [00:01<00:03, 148.96it/s]\u001b[A\n",
      " 32%|███▏      | 242/765 [00:01<00:03, 148.66it/s]\u001b[A\n",
      " 34%|███▎      | 258/765 [00:01<00:03, 144.28it/s]\u001b[A\n",
      " 37%|███▋      | 281/765 [00:01<00:02, 161.38it/s]\u001b[A\n",
      " 39%|███▉      | 299/765 [00:01<00:02, 156.58it/s]\u001b[A\n",
      " 41%|████▏     | 316/765 [00:01<00:03, 148.57it/s]\u001b[A\n",
      " 43%|████▎     | 332/765 [00:02<00:02, 145.06it/s]\u001b[A\n",
      " 46%|████▌     | 350/765 [00:02<00:02, 153.43it/s]\u001b[A\n",
      " 48%|████▊     | 366/765 [00:02<00:02, 155.20it/s]\u001b[A\n",
      " 50%|█████     | 385/765 [00:02<00:02, 163.01it/s]\u001b[A\n",
      " 53%|█████▎    | 402/765 [00:02<00:02, 164.00it/s]\u001b[A\n",
      " 55%|█████▍    | 419/765 [00:02<00:02, 158.87it/s]\u001b[A\n",
      " 57%|█████▋    | 438/765 [00:02<00:01, 165.79it/s]\u001b[A\n",
      " 59%|█████▉    | 455/765 [00:02<00:01, 163.30it/s]\u001b[A\n",
      " 62%|██████▏   | 473/765 [00:02<00:01, 165.86it/s]\u001b[A\n",
      " 64%|██████▍   | 490/765 [00:03<00:01, 154.12it/s]\u001b[A\n",
      " 66%|██████▌   | 506/765 [00:03<00:01, 148.03it/s]\u001b[A\n",
      " 68%|██████▊   | 522/765 [00:03<00:01, 150.54it/s]\u001b[A\n",
      " 70%|███████   | 538/765 [00:03<00:01, 146.66it/s]\u001b[A\n",
      " 72%|███████▏  | 554/765 [00:03<00:01, 149.59it/s]\u001b[A\n",
      " 75%|███████▌  | 574/765 [00:03<00:01, 161.03it/s]\u001b[A\n",
      " 77%|███████▋  | 591/765 [00:03<00:01, 162.82it/s]\u001b[A\n",
      " 79%|███████▉  | 608/765 [00:03<00:00, 159.81it/s]\u001b[A\n",
      " 82%|████████▏ | 625/765 [00:03<00:00, 153.25it/s]\u001b[A\n",
      " 84%|████████▍ | 643/765 [00:04<00:00, 159.13it/s]\u001b[A\n",
      " 86%|████████▋ | 660/765 [00:04<00:00, 155.57it/s]\u001b[A\n",
      " 88%|████████▊ | 676/765 [00:04<00:00, 154.38it/s]\u001b[A\n",
      " 91%|█████████ | 694/765 [00:04<00:00, 160.30it/s]\u001b[A\n",
      " 93%|█████████▎| 714/765 [00:04<00:00, 170.16it/s]\u001b[A\n",
      " 96%|█████████▌| 732/765 [00:04<00:00, 169.15it/s]\u001b[A\n",
      " 98%|█████████▊| 750/765 [00:04<00:00, 111.00it/s]\u001b[A\n",
      "100%|██████████| 765/765 [00:04<00:00, 155.69it/s]\u001b[A"
     ]
    },
    {
     "name": "stdout",
     "output_type": "stream",
     "text": [
      "   Fold 10 labels:\n",
      "   air_conditioner:\t100\n",
      "   car_horn:\t33\n",
      "   children_playing:\t100\n",
      "   dog_bark:\t92\n",
      "   drilling:\t100\n",
      "   engine_idling:\t93\n",
      "   gun_shot:\t32\n",
      "   jackhammer:\t32\n",
      "   siren:\t83\n",
      "   street_music:\t100\n",
      "\n",
      "\n",
      "OVERALL labels:\n",
      "air_conditioner:\t900\n",
      "car_horn:\t391\n",
      "children_playing:\t884\n",
      "dog_bark:\t861\n",
      "drilling:\t812\n",
      "engine_idling:\t840\n",
      "gun_shot:\t339\n",
      "jackhammer:\t801\n",
      "siren:\t843\n",
      "street_music:\t870\n"
     ]
    }
   ],
   "source": [
    "folds = [2, 3, 4, 5, 6, 7, 8, 9, 10]\n",
    "splitname = 'train_10'\n",
    "\n",
    "soundbankfolder = '/Users/anaemendezmendez/Documents/NYU_PHD/UrbanSound8K/soundbanks/'\n",
    "soundbankfolder = os.path.join(soundbankfolder, splitname)\n",
    "\n",
    "label_count = {}\n",
    "for label in label_list:\n",
    "    label_count[label] = 0\n",
    "\n",
    "for fold in folds:\n",
    "    \n",
    "    print('FOLD {:d}'.format(fold))\n",
    "    audiofolder = '/Users/anaemendezmendez/Documents/NYU_PHD/UrbanSound8K/audio/fold{:d}/'.format(fold)\n",
    "    audiofiles = glob.glob(os.path.join(audiofolder, '*.wav'))\n",
    "    \n",
    "    fold_label_count = {}\n",
    "    for label in label_list:\n",
    "        fold_label_count[label] = 0\n",
    "    \n",
    "    for af in tqdm(audiofiles):\n",
    "        # print(os.path.basename(af))\n",
    "        label = metadata.loc[metadata.slice_file_name == os.path.basename(af), 'class'].values[0]\n",
    "        label_count[label] += 1\n",
    "        fold_label_count[label] += 1\n",
    "        destfolder = os.path.join(soundbankfolder, 'foreground', label)\n",
    "        if not os.path.isdir(destfolder):\n",
    "            os.mkdir(destfolder)\n",
    "        destfile = os.path.join(destfolder, os.path.basename(af))\n",
    "        shutil.copyfile(af, destfile)\n",
    "        \n",
    "    # Print fold report\n",
    "    print('   Fold {:d} labels:'.format(fold))\n",
    "    for label in label_list:\n",
    "        print('   {:s}:\\t{:d}'.format(label, fold_label_count[label]))\n",
    "        \n",
    "# Print overall report\n",
    "print('\\n\\nOVERALL labels:')\n",
    "for label in label_list:\n",
    "    print('{:s}:\\t{:d}'.format(label, label_count[label]))"
   ]
  },
  {
   "cell_type": "markdown",
   "metadata": {},
   "source": [
    "## Create soundbank for TEST_10 (folds 1)"
   ]
  },
  {
   "cell_type": "code",
   "execution_count": 24,
   "metadata": {
    "scrolled": true
   },
   "outputs": [
    {
     "name": "stderr",
     "output_type": "stream",
     "text": [
      "\n",
      "  0%|          | 0/766 [00:00<?, ?it/s]\u001b[A\n",
      "  1%|▏         | 11/766 [00:00<00:07, 95.98it/s]\u001b[A"
     ]
    },
    {
     "name": "stdout",
     "output_type": "stream",
     "text": [
      "FOLD 1\n"
     ]
    },
    {
     "name": "stderr",
     "output_type": "stream",
     "text": [
      "\n",
      "  3%|▎         | 23/766 [00:00<00:07, 101.32it/s]\u001b[A\n",
      "  6%|▌         | 44/766 [00:00<00:06, 119.26it/s]\u001b[A\n",
      "  8%|▊         | 63/766 [00:00<00:05, 132.49it/s]\u001b[A\n",
      " 11%|█         | 82/766 [00:00<00:04, 144.22it/s]\u001b[A\n",
      " 13%|█▎        | 99/766 [00:00<00:04, 150.54it/s]\u001b[A\n",
      " 15%|█▌        | 117/766 [00:00<00:04, 156.77it/s]\u001b[A\n",
      " 17%|█▋        | 134/766 [00:00<00:03, 159.63it/s]\u001b[A\n",
      " 20%|█▉        | 152/766 [00:00<00:03, 163.80it/s]\u001b[A\n",
      " 22%|██▏       | 169/766 [00:01<00:03, 162.70it/s]\u001b[A\n",
      " 24%|██▍       | 186/766 [00:01<00:03, 155.32it/s]\u001b[A\n",
      " 26%|██▋       | 202/766 [00:01<00:03, 155.21it/s]\u001b[A\n",
      " 28%|██▊       | 218/766 [00:01<00:03, 153.78it/s]\u001b[A\n",
      " 31%|███       | 235/766 [00:01<00:03, 156.79it/s]\u001b[A\n",
      " 33%|███▎      | 254/766 [00:01<00:03, 163.97it/s]\u001b[A\n",
      " 36%|███▌      | 273/766 [00:01<00:02, 168.52it/s]\u001b[A\n",
      " 38%|███▊      | 290/766 [00:01<00:02, 161.81it/s]\u001b[A\n",
      " 40%|████      | 310/766 [00:01<00:02, 169.74it/s]\u001b[A\n",
      " 43%|████▎     | 328/766 [00:02<00:02, 170.61it/s]\u001b[A\n",
      " 45%|████▌     | 346/766 [00:02<00:02, 166.80it/s]\u001b[A\n",
      " 47%|████▋     | 363/766 [00:02<00:02, 165.18it/s]\u001b[A\n",
      " 50%|████▉     | 380/766 [00:02<00:02, 137.68it/s]\u001b[A\n",
      " 52%|█████▏    | 395/766 [00:02<00:02, 135.91it/s]\u001b[A\n",
      " 54%|█████▎    | 411/766 [00:02<00:02, 141.79it/s]\u001b[A\n",
      " 56%|█████▌    | 429/766 [00:02<00:02, 151.09it/s]\u001b[A\n",
      " 58%|█████▊    | 445/766 [00:02<00:02, 131.69it/s]\u001b[A\n",
      " 60%|█████▉    | 459/766 [00:02<00:02, 133.83it/s]\u001b[A\n",
      " 62%|██████▏   | 476/766 [00:03<00:02, 141.91it/s]\u001b[A\n",
      " 64%|██████▍   | 491/766 [00:03<00:02, 129.90it/s]\u001b[A\n",
      " 66%|██████▌   | 505/766 [00:03<00:02, 118.95it/s]\u001b[A\n",
      " 68%|██████▊   | 518/766 [00:03<00:02, 96.42it/s] \u001b[A\n",
      " 70%|██████▉   | 534/766 [00:03<00:02, 109.04it/s]\u001b[A\n",
      " 71%|███████▏  | 547/766 [00:03<00:01, 113.00it/s]\u001b[A\n",
      " 74%|███████▍  | 566/766 [00:03<00:01, 127.89it/s]\u001b[A\n",
      " 76%|███████▌  | 581/766 [00:03<00:01, 123.55it/s]\u001b[A\n",
      " 78%|███████▊  | 598/766 [00:04<00:01, 134.44it/s]\u001b[A\n",
      " 80%|████████  | 613/766 [00:04<00:01, 134.84it/s]\u001b[A\n",
      " 82%|████████▏ | 629/766 [00:04<00:00, 140.01it/s]\u001b[A\n",
      " 84%|████████▍ | 644/766 [00:04<00:00, 138.37it/s]\u001b[A\n",
      " 86%|████████▋ | 662/766 [00:04<00:00, 147.50it/s]\u001b[A\n",
      " 89%|████████▊ | 679/766 [00:04<00:00, 148.68it/s]\u001b[A\n",
      " 91%|█████████ | 695/766 [00:04<00:00, 143.11it/s]\u001b[A\n",
      " 93%|█████████▎| 710/766 [00:04<00:00, 142.71it/s]\u001b[A\n",
      " 95%|█████████▍| 725/766 [00:04<00:00, 140.10it/s]\u001b[A\n",
      " 97%|█████████▋| 740/766 [00:05<00:00, 139.06it/s]\u001b[A\n",
      " 99%|█████████▉| 759/766 [00:05<00:00, 150.21it/s]\u001b[A\n",
      "100%|██████████| 766/766 [00:05<00:00, 146.44it/s]\u001b[A"
     ]
    },
    {
     "name": "stdout",
     "output_type": "stream",
     "text": [
      "   Fold 1 labels:\n",
      "   air_conditioner:\t100\n",
      "   car_horn:\t36\n",
      "   children_playing:\t100\n",
      "   dog_bark:\t89\n",
      "   drilling:\t100\n",
      "   engine_idling:\t86\n",
      "   gun_shot:\t35\n",
      "   jackhammer:\t41\n",
      "   siren:\t86\n",
      "   street_music:\t93\n",
      "\n",
      "\n",
      "OVERALL labels:\n",
      "air_conditioner:\t100\n",
      "car_horn:\t36\n",
      "children_playing:\t100\n",
      "dog_bark:\t89\n",
      "drilling:\t100\n",
      "engine_idling:\t86\n",
      "gun_shot:\t35\n",
      "jackhammer:\t41\n",
      "siren:\t86\n",
      "street_music:\t93\n"
     ]
    }
   ],
   "source": [
    "folds = [1]\n",
    "splitname = 'test_10'\n",
    "\n",
    "soundbankfolder = '/Users/anaemendezmendez/Documents/NYU_PHD/UrbanSound8K/soundbanks/'\n",
    "soundbankfolder = os.path.join(soundbankfolder, splitname)\n",
    "\n",
    "label_count = {}\n",
    "for label in label_list:\n",
    "    label_count[label] = 0\n",
    "\n",
    "for fold in folds:\n",
    "    \n",
    "    print('FOLD {:d}'.format(fold))\n",
    "    audiofolder = '/Users/anaemendezmendez/Documents/NYU_PHD/UrbanSound8K/audio/fold{:d}/'.format(fold)\n",
    "    audiofiles = glob.glob(os.path.join(audiofolder, '*.wav'))\n",
    "    \n",
    "    fold_label_count = {}\n",
    "    for label in label_list:\n",
    "        fold_label_count[label] = 0\n",
    "    \n",
    "    for af in tqdm(audiofiles):\n",
    "        # print(os.path.basename(af))\n",
    "        label = metadata.loc[metadata.slice_file_name == os.path.basename(af), 'class'].values[0]\n",
    "        label_count[label] += 1\n",
    "        fold_label_count[label] += 1\n",
    "        destfolder = os.path.join(soundbankfolder, 'foreground', label)\n",
    "        if not os.path.isdir(destfolder):\n",
    "            os.mkdir(destfolder)\n",
    "        destfile = os.path.join(destfolder, os.path.basename(af))\n",
    "        shutil.copyfile(af, destfile)\n",
    "        \n",
    "    # Print fold report\n",
    "    print('   Fold {:d} labels:'.format(fold))\n",
    "    for label in label_list:\n",
    "        print('   {:s}:\\t{:d}'.format(label, fold_label_count[label]))\n",
    "        \n",
    "# Print overall report\n",
    "print('\\n\\nOVERALL labels:')\n",
    "for label in label_list:\n",
    "    print('{:s}:\\t{:d}'.format(label, label_count[label]))"
   ]
  },
  {
   "cell_type": "code",
   "execution_count": null,
   "metadata": {},
   "outputs": [],
   "source": []
  },
  {
   "cell_type": "code",
   "execution_count": null,
   "metadata": {},
   "outputs": [],
   "source": []
  },
  {
   "cell_type": "code",
   "execution_count": null,
   "metadata": {},
   "outputs": [],
   "source": []
  },
  {
   "cell_type": "code",
   "execution_count": null,
   "metadata": {},
   "outputs": [],
   "source": []
  },
  {
   "cell_type": "code",
   "execution_count": null,
   "metadata": {},
   "outputs": [],
   "source": []
  },
  {
   "cell_type": "code",
   "execution_count": null,
   "metadata": {},
   "outputs": [],
   "source": []
  },
  {
   "cell_type": "code",
   "execution_count": null,
   "metadata": {},
   "outputs": [],
   "source": []
  },
  {
   "cell_type": "code",
   "execution_count": null,
   "metadata": {},
   "outputs": [],
   "source": []
  },
  {
   "cell_type": "code",
   "execution_count": null,
   "metadata": {},
   "outputs": [],
   "source": []
  },
  {
   "cell_type": "code",
   "execution_count": null,
   "metadata": {},
   "outputs": [],
   "source": []
  },
  {
   "cell_type": "code",
   "execution_count": null,
   "metadata": {},
   "outputs": [],
   "source": []
  },
  {
   "cell_type": "code",
   "execution_count": null,
   "metadata": {},
   "outputs": [],
   "source": []
  },
  {
   "cell_type": "code",
   "execution_count": null,
   "metadata": {},
   "outputs": [],
   "source": []
  },
  {
   "cell_type": "code",
   "execution_count": null,
   "metadata": {},
   "outputs": [],
   "source": []
  },
  {
   "cell_type": "code",
   "execution_count": null,
   "metadata": {},
   "outputs": [],
   "source": []
  },
  {
   "cell_type": "code",
   "execution_count": null,
   "metadata": {},
   "outputs": [],
   "source": []
  },
  {
   "cell_type": "code",
   "execution_count": null,
   "metadata": {},
   "outputs": [],
   "source": []
  },
  {
   "cell_type": "code",
   "execution_count": null,
   "metadata": {},
   "outputs": [],
   "source": []
  },
  {
   "cell_type": "code",
   "execution_count": null,
   "metadata": {},
   "outputs": [],
   "source": []
  },
  {
   "cell_type": "code",
   "execution_count": null,
   "metadata": {},
   "outputs": [],
   "source": []
  },
  {
   "cell_type": "code",
   "execution_count": null,
   "metadata": {},
   "outputs": [],
   "source": []
  },
  {
   "cell_type": "code",
   "execution_count": 18,
   "metadata": {},
   "outputs": [],
   "source": [
    "noisefile = '/Users/anaemendezmendez/Downloads/3941__noisecollector__brown-noise.wav'\n",
    "soundbankfolder = '/Users/anaemendezmendez/Documents/NYU_PHD/UrbanSound8K/soundbanks/'\n",
    "\n",
    "for split in ['train', 'validate', 'test']:\n",
    "    \n",
    "    destfolder = os.path.join(soundbankfolder, split, 'background', 'noise')\n",
    "    if not os.path.isdir(destfolder):\n",
    "        os.mkdir(destfolder)\n",
    "        \n",
    "    destfile = os.path.join(destfolder, os.path.basename(noisefile))\n",
    "    shutil.copyfile(noisefile, destfile)"
   ]
  },
  {
   "cell_type": "code",
   "execution_count": null,
   "metadata": {},
   "outputs": [],
   "source": []
  },
  {
   "cell_type": "code",
   "execution_count": null,
   "metadata": {},
   "outputs": [],
   "source": []
  }
 ],
 "metadata": {
  "kernelspec": {
   "display_name": "Python 3",
   "language": "python",
   "name": "python3"
  },
  "language_info": {
   "codemirror_mode": {
    "name": "ipython",
    "version": 3
   },
   "file_extension": ".py",
   "mimetype": "text/x-python",
   "name": "python",
   "nbconvert_exporter": "python",
   "pygments_lexer": "ipython3",
   "version": "3.7.3"
  }
 },
 "nbformat": 4,
 "nbformat_minor": 2
}
