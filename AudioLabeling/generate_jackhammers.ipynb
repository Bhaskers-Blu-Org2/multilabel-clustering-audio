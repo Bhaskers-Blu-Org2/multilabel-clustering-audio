{
 "cells": [
  {
   "cell_type": "code",
   "execution_count": 1,
   "metadata": {},
   "outputs": [],
   "source": [
    "import numpy as np\n",
    "np.random.seed(123)\n",
    "import scaper\n",
    "import os"
   ]
  },
  {
   "cell_type": "code",
   "execution_count": 7,
   "metadata": {},
   "outputs": [],
   "source": [
    "# SCAPER SETTINGS\n",
    "fg_folder = \"/Volumes/Ana Elisa/Ana Elisa's MacBook Pro/Documents/NYU_PHD/UrbanSound8/soundbanks/test_1/foreground_jack/\"\n",
    "bg_folder = \"/Volumes/Ana Elisa/Ana Elisa's MacBook Pro/Documents/NYU_PHD/UrbanSound8/soundbanks/test_1/background/\"\n",
    "\n",
    "n_soundscapes = 10\n",
    "ref_db = -50\n",
    "duration = 5.0 \n",
    "\n",
    "min_events = 1\n",
    "max_events = 1\n",
    "\n",
    "event_time_dist = 'uniform'\n",
    "event_time_min = 0.0\n",
    "event_time_max = 0.0\n",
    "\n",
    "source_time_dist = 'const'\n",
    "source_time = 0.0\n",
    "\n",
    "event_duration_dist = 'uniform'\n",
    "event_duration_min = 5.0\n",
    "event_duration_max = 5.0\n",
    "\n",
    "snr_dist = 'uniform'\n",
    "snr_min = 6\n",
    "snr_max = 30\n",
    "\n",
    "pitch_dist = 'uniform'\n",
    "pitch_min = -3.0\n",
    "pitch_max = 3.0\n",
    "\n",
    "time_stretch_dist = 'uniform'\n",
    "time_stretch_min = 0.8\n",
    "time_stretch_max = 1.2\n",
    "\n",
    "\n",
    "# FILE SETTINGS\n",
    "outfolder = os.path.join(\"/Volumes/Ana Elisa/Ana Elisa's MacBook Pro/Documents/NYU_PHD/UrbanSound8/soundscapes/test_1/\", 'jackhammer')\n",
    "if not os.path.isdir(outfolder):\n",
    "    os.mkdir(outfolder)"
   ]
  },
  {
   "cell_type": "code",
   "execution_count": 8,
   "metadata": {},
   "outputs": [
    {
     "name": "stdout",
     "output_type": "stream",
     "text": [
      "Generating soundscape: 1/10\n"
     ]
    },
    {
     "name": "stderr",
     "output_type": "stream",
     "text": [
      "/anaconda2/envs/scaper/lib/python3.6/site-packages/scaper/core.py:1170: ScaperWarning: jackhammer event duration (5.00) is greater that source duration (1.80), changing to 1.80\n",
      "  ScaperWarning)\n"
     ]
    },
    {
     "name": "stdout",
     "output_type": "stream",
     "text": [
      "Generating soundscape: 2/10\n"
     ]
    },
    {
     "name": "stderr",
     "output_type": "stream",
     "text": [
      "/anaconda2/envs/scaper/lib/python3.6/site-packages/scaper/core.py:1170: ScaperWarning: jackhammer event duration (5.00) is greater that source duration (4.00), changing to 4.00\n",
      "  ScaperWarning)\n"
     ]
    },
    {
     "name": "stdout",
     "output_type": "stream",
     "text": [
      "Generating soundscape: 3/10\n"
     ]
    },
    {
     "name": "stderr",
     "output_type": "stream",
     "text": [
      "/anaconda2/envs/scaper/lib/python3.6/site-packages/scaper/core.py:1170: ScaperWarning: jackhammer event duration (5.00) is greater that source duration (2.65), changing to 2.65\n",
      "  ScaperWarning)\n"
     ]
    },
    {
     "name": "stdout",
     "output_type": "stream",
     "text": [
      "Generating soundscape: 4/10\n"
     ]
    },
    {
     "name": "stderr",
     "output_type": "stream",
     "text": [
      "/anaconda2/envs/scaper/lib/python3.6/site-packages/scaper/core.py:1170: ScaperWarning: jackhammer event duration (5.00) is greater that source duration (1.80), changing to 1.80\n",
      "  ScaperWarning)\n"
     ]
    },
    {
     "name": "stdout",
     "output_type": "stream",
     "text": [
      "Generating soundscape: 5/10\n"
     ]
    },
    {
     "name": "stderr",
     "output_type": "stream",
     "text": [
      "/anaconda2/envs/scaper/lib/python3.6/site-packages/scaper/core.py:1170: ScaperWarning: jackhammer event duration (5.00) is greater that source duration (4.00), changing to 4.00\n",
      "  ScaperWarning)\n"
     ]
    },
    {
     "name": "stdout",
     "output_type": "stream",
     "text": [
      "Generating soundscape: 6/10\n"
     ]
    },
    {
     "name": "stderr",
     "output_type": "stream",
     "text": [
      "/anaconda2/envs/scaper/lib/python3.6/site-packages/scaper/core.py:1170: ScaperWarning: jackhammer event duration (5.00) is greater that source duration (2.65), changing to 2.65\n",
      "  ScaperWarning)\n"
     ]
    },
    {
     "name": "stdout",
     "output_type": "stream",
     "text": [
      "Generating soundscape: 7/10\n"
     ]
    },
    {
     "name": "stderr",
     "output_type": "stream",
     "text": [
      "/anaconda2/envs/scaper/lib/python3.6/site-packages/scaper/core.py:1170: ScaperWarning: jackhammer event duration (5.00) is greater that source duration (1.80), changing to 1.80\n",
      "  ScaperWarning)\n"
     ]
    },
    {
     "name": "stdout",
     "output_type": "stream",
     "text": [
      "Generating soundscape: 8/10\n"
     ]
    },
    {
     "name": "stderr",
     "output_type": "stream",
     "text": [
      "/anaconda2/envs/scaper/lib/python3.6/site-packages/scaper/core.py:1170: ScaperWarning: jackhammer event duration (5.00) is greater that source duration (4.00), changing to 4.00\n",
      "  ScaperWarning)\n"
     ]
    },
    {
     "name": "stdout",
     "output_type": "stream",
     "text": [
      "Generating soundscape: 9/10\n"
     ]
    },
    {
     "name": "stderr",
     "output_type": "stream",
     "text": [
      "/anaconda2/envs/scaper/lib/python3.6/site-packages/scaper/core.py:1170: ScaperWarning: jackhammer event duration (5.00) is greater that source duration (3.30), changing to 3.30\n",
      "  ScaperWarning)\n"
     ]
    },
    {
     "name": "stdout",
     "output_type": "stream",
     "text": [
      "Generating soundscape: 10/10\n"
     ]
    },
    {
     "name": "stderr",
     "output_type": "stream",
     "text": [
      "/anaconda2/envs/scaper/lib/python3.6/site-packages/scaper/core.py:1170: ScaperWarning: jackhammer event duration (5.00) is greater that source duration (4.00), changing to 4.00\n",
      "  ScaperWarning)\n"
     ]
    }
   ],
   "source": [
    "# Generate 10 soundscapes using a UNIFORM distribution of start times\n",
    "\n",
    "for n in range(n_soundscapes):\n",
    "    \n",
    "    print('Generating soundscape: {:d}/{:d}'.format(n+1, n_soundscapes))\n",
    "    \n",
    "    # create a scaper\n",
    "    sc = scaper.Scaper(duration, fg_folder, bg_folder)\n",
    "    sc.protected_labels = []\n",
    "    sc.ref_db = ref_db\n",
    "    \n",
    "    # add background\n",
    "    sc.add_background(label=('const', 'noise'), \n",
    "                      source_file=('choose', []), \n",
    "                      source_time=('const', 0))\n",
    "\n",
    "    # add random foreground events\n",
    "    n_events = np.random.randint(min_events, max_events+1)\n",
    "    for _ in range(n_events):\n",
    "        sc.add_event(label=('choose', []), \n",
    "                     source_file=('choose', []), \n",
    "                     source_time=(source_time_dist, source_time), \n",
    "                     event_time=(event_time_dist, event_time_min, event_time_max), \n",
    "                     event_duration=(event_duration_dist, event_duration_min, event_duration_max), \n",
    "                     snr=(snr_dist, snr_min, snr_max),\n",
    "                     pitch_shift=(pitch_dist, pitch_min, pitch_max),\n",
    "                     time_stretch=(time_stretch_dist, time_stretch_min, time_stretch_max))\n",
    "    \n",
    "    # generate\n",
    "    audiofile = os.path.join(outfolder, \"soundscape_test_1_uniform{:d}.wav\".format(n))\n",
    "    jamsfile = os.path.join(outfolder, \"soundscape_test_1_uniform{:d}.jams\".format(n))\n",
    "    txtfile = os.path.join(outfolder, \"soundscape_test_1_uniform{:d}.txt\".format(n))\n",
    "    \n",
    "    sc.generate(audiofile, jamsfile,\n",
    "                allow_repeated_label=True,\n",
    "                allow_repeated_source=False,\n",
    "                reverb=0.1,\n",
    "                disable_sox_warnings=True,\n",
    "                no_audio=False,\n",
    "                txt_path=txtfile)"
   ]
  },
  {
   "cell_type": "code",
   "execution_count": null,
   "metadata": {},
   "outputs": [],
   "source": []
  }
 ],
 "metadata": {
  "kernelspec": {
   "display_name": "Python 3",
   "language": "python",
   "name": "python3"
  },
  "language_info": {
   "codemirror_mode": {
    "name": "ipython",
    "version": 3
   },
   "file_extension": ".py",
   "mimetype": "text/x-python",
   "name": "python",
   "nbconvert_exporter": "python",
   "pygments_lexer": "ipython3",
   "version": "3.7.3"
  }
 },
 "nbformat": 4,
 "nbformat_minor": 2
}
