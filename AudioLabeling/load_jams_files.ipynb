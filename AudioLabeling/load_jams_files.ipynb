{
 "cells": [
  {
   "cell_type": "code",
   "execution_count": 1,
   "metadata": {},
   "outputs": [],
   "source": [
    "import jams\n",
    "import numpy as np\n",
    "import scipy\n",
    "import h5py\n",
    "#import sklearn\n",
    "#import librosa\n",
    "import os\n",
    "import glob\n",
    "#import matplotlib.pyplot as plt\n",
    "#import sklearn.neural_network\n",
    "#import sklearn.ensemble\n",
    "import pickle"
   ]
  },
  {
   "cell_type": "code",
   "execution_count": 9,
   "metadata": {},
   "outputs": [],
   "source": [
    "#input_directory='/Users/anaemendezmendez/Documents/NYU_PHD/cscw paper/extracted_features'\n",
    "jams_train_directory = \"/home/t-anmend/UrbanSound8K/soundscapes/train_12000/2_5/uniform\"\n",
    "#jams_test_directory=\"/Volumes/Ana Elisa/Ana Elisa's MacBook Pro/Documents/NYU_PHD/UrbanSound8/soundscapes/test_1/uniform\"\n",
    "#jams_validate_directory='/Users/anaemendezmendez/Documents/NYU_PHD/UrbanSound8K/soundscapes/validate/uniform'\n",
    "jams_train=[]\n",
    "#jams_test=[]\n",
    "#jams_validate=[]\n",
    "\n",
    "jams_train_path = []\n",
    "#jams_test_path = []\n",
    "#jams_validate_path = []\n",
    "\n",
    "#h5_test = h5py.File(os.path.join(input_directory, 'test_features.h5'),'r')\n",
    "#h5_train = h5py.File(os.path.join(input_directory, 'train_features.h5'),'r')\n",
    "#h5_validate = h5py.File(os.path.join(input_directory, 'validate_features.h5'),'r')\n",
    "\n",
    "\n",
    "train_paths = sorted(glob.glob(os.path.join(jams_train_directory, '*.jams')))\n",
    "for i in range(len(train_paths)):\n",
    "    jams_train.append(jams.load(train_paths[i]))\n",
    "    jams_train_path.append(train_paths[i])\n",
    "#test_paths = sorted(glob.glob(os.path.join(jams_test_directory, '*.jams')))\n",
    "#for i in range(len(test_paths)):\n",
    "    #jams_test.append(jams.load(test_paths[i]))\n",
    "    #jams_test_path.append(test_paths[i])\n",
    "#validate_paths = sorted(glob.glob(os.path.join(jams_validate_directory, '*.jams')))\n",
    "#for i in range(len(validate_paths)):\n",
    "    #jams_validate.append(jams.load(validate_paths[i]))\n",
    "    #jams_validate_path.append(validate_paths[i])"
   ]
  },
  {
   "cell_type": "code",
   "execution_count": 10,
   "metadata": {
    "scrolled": true
   },
   "outputs": [
    {
     "name": "stdout",
     "output_type": "stream",
     "text": [
      "12000\n"
     ]
    }
   ],
   "source": [
    "print (len(jams_train))\n",
    "#print (len(jams_test))\n",
    "#print (len(jams_validate))"
   ]
  },
  {
   "cell_type": "code",
   "execution_count": 11,
   "metadata": {},
   "outputs": [
    {
     "name": "stdout",
     "output_type": "stream",
     "text": [
      "12000\n"
     ]
    }
   ],
   "source": [
    "print (len(jams_train_path))\n",
    "#print (len(jams_test_path))\n",
    "#print (len(jams_validate_path))"
   ]
  },
  {
   "cell_type": "code",
   "execution_count": 12,
   "metadata": {},
   "outputs": [
    {
     "data": {
      "text/plain": [
       "'/home/t-anmend/UrbanSound8K/soundscapes/train_12000/2_5/uniform/soundscape_train_1_uniform0.jams'"
      ]
     },
     "execution_count": 12,
     "metadata": {},
     "output_type": "execute_result"
    }
   ],
   "source": [
    "jams_train_path[0]"
   ]
  },
  {
   "cell_type": "code",
   "execution_count": 13,
   "metadata": {},
   "outputs": [
    {
     "name": "stdout",
     "output_type": "stream",
     "text": [
      "12000\n"
     ]
    }
   ],
   "source": [
    "train_labels = []\n",
    "train_paths_wav = []\n",
    "#jack_pos_train = []\n",
    "\n",
    "for j in range(len(jams_train)):\n",
    "\n",
    "    labels = []\n",
    "    for i in range(1, len(jams_train[j]['annotations'][0]['data'])):\n",
    "        labels.append(jams_train[j]['annotations'][0]['data'][i][2]['label'])\n",
    "    \n",
    "    #train_labels.append(labels)\n",
    "    train_paths_wav.append([os.path.join(os.path.splitext(jams_train_path[j])[0] + '.wav'), labels])\n",
    "\n",
    "print(len(train_paths_wav))\n",
    "        "
   ]
  },
  {
   "cell_type": "code",
   "execution_count": 14,
   "metadata": {},
   "outputs": [
    {
     "data": {
      "text/plain": [
       "['/home/t-anmend/UrbanSound8K/soundscapes/train_12000/2_5/uniform/soundscape_train_1_uniform1898.wav',\n",
       " ['jackhammer', 'drilling', 'engine_idling', 'dog_bark', 'jackhammer']]"
      ]
     },
     "execution_count": 14,
     "metadata": {},
     "output_type": "execute_result"
    }
   ],
   "source": [
    "train_paths_wav[2999]"
   ]
  },
  {
   "cell_type": "code",
   "execution_count": 15,
   "metadata": {},
   "outputs": [],
   "source": [
    "with open(os.path.join(\"/home/t-anmend/UrbanSound8K/soundscapes/train_12000/2_5/\"+'train_paths_labels12000.txt'),'wb') as f:\n",
    "    pickle.dump(train_paths_wav, f)"
   ]
  },
  {
   "cell_type": "code",
   "execution_count": null,
   "metadata": {},
   "outputs": [],
   "source": []
  },
  {
   "cell_type": "markdown",
   "metadata": {},
   "source": [
    "# Load files"
   ]
  },
  {
   "cell_type": "code",
   "execution_count": 171,
   "metadata": {},
   "outputs": [],
   "source": [
    "with open(os.path.join(\"/Volumes/Ana Elisa/Ana Elisa's MacBook Pro/Documents/NYU_PHD/UrbanSound8/soundscapes/train_1/\"+'neg_train.txt'),'rb') as f:\n",
    "    mylist = pickle.load(f)\n",
    "    "
   ]
  },
  {
   "cell_type": "code",
   "execution_count": 197,
   "metadata": {},
   "outputs": [
    {
     "data": {
      "text/plain": [
       "0"
      ]
     },
     "execution_count": 197,
     "metadata": {},
     "output_type": "execute_result"
    }
   ],
   "source": [
    "mylist[0][1]"
   ]
  },
  {
   "cell_type": "code",
   "execution_count": 198,
   "metadata": {},
   "outputs": [
    {
     "data": {
      "text/plain": [
       "['',\n",
       " 'Volumes',\n",
       " 'Ana Elisa',\n",
       " \"Ana Elisa's MacBook Pro\",\n",
       " 'Documents',\n",
       " 'NYU_PHD',\n",
       " 'UrbanSound8',\n",
       " 'soundscapes',\n",
       " 'train_1',\n",
       " 'uniform',\n",
       " 'soundscape_train_1_uniform1.wav']"
      ]
     },
     "execution_count": 198,
     "metadata": {},
     "output_type": "execute_result"
    }
   ],
   "source": [
    "mylist[0][0].split('/')"
   ]
  },
  {
   "cell_type": "code",
   "execution_count": 186,
   "metadata": {},
   "outputs": [],
   "source": [
    "h5_train = h5py.File(os.path.join(\"/Volumes/Ana Elisa/Ana Elisa's MacBook Pro/Documents/NYU_PHD/UrbanSound8/soundscapes/train_1/\"+'neg_train_features.h5'),'r')"
   ]
  },
  {
   "cell_type": "code",
   "execution_count": 187,
   "metadata": {},
   "outputs": [
    {
     "data": {
      "text/plain": [
       "<HDF5 file \"neg_train_features.h5\" (mode r)>"
      ]
     },
     "execution_count": 187,
     "metadata": {},
     "output_type": "execute_result"
    }
   ],
   "source": [
    "h5_train"
   ]
  },
  {
   "cell_type": "code",
   "execution_count": 191,
   "metadata": {},
   "outputs": [],
   "source": [
    "d_train = list(h5_train.values())[0]"
   ]
  },
  {
   "cell_type": "code",
   "execution_count": 192,
   "metadata": {},
   "outputs": [
    {
     "data": {
      "text/plain": [
       "<HDF5 dataset \"features\": shape (1631,), type \"|V12192\">"
      ]
     },
     "execution_count": 192,
     "metadata": {},
     "output_type": "execute_result"
    }
   ],
   "source": [
    "d_train"
   ]
  },
  {
   "cell_type": "code",
   "execution_count": 193,
   "metadata": {},
   "outputs": [
    {
     "data": {
      "text/plain": [
       "(1631,)"
      ]
     },
     "execution_count": 193,
     "metadata": {},
     "output_type": "execute_result"
    }
   ],
   "source": [
    "d_train.shape"
   ]
  },
  {
   "cell_type": "code",
   "execution_count": 196,
   "metadata": {},
   "outputs": [
    {
     "data": {
      "text/plain": [
       "(19, 128)"
      ]
     },
     "execution_count": 196,
     "metadata": {},
     "output_type": "execute_result"
    }
   ],
   "source": [
    "d_train[0]['features_z'].shape"
   ]
  },
  {
   "cell_type": "code",
   "execution_count": null,
   "metadata": {},
   "outputs": [],
   "source": []
  }
 ],
 "metadata": {
  "kernelspec": {
   "display_name": "Python 3",
   "language": "python",
   "name": "python3"
  },
  "language_info": {
   "codemirror_mode": {
    "name": "ipython",
    "version": 3
   },
   "file_extension": ".py",
   "mimetype": "text/x-python",
   "name": "python",
   "nbconvert_exporter": "python",
   "pygments_lexer": "ipython3",
   "version": "3.7.3"
  }
 },
 "nbformat": 4,
 "nbformat_minor": 2
}
