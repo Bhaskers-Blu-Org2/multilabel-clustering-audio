{
 "cells": [
  {
   "cell_type": "code",
   "execution_count": 5,
   "metadata": {},
   "outputs": [],
   "source": [
    "import jams\n",
    "import numpy as np\n",
    "import scipy\n",
    "import h5py\n",
    "#import sklearn\n",
    "#import librosa\n",
    "import os\n",
    "import glob\n",
    "#import matplotlib.pyplot as plt\n",
    "#import sklearn.neural_network\n",
    "#import sklearn.ensemble\n",
    "import pickle\n",
    "import random"
   ]
  },
  {
   "cell_type": "markdown",
   "metadata": {},
   "source": [
    "## Get length of files"
   ]
  },
  {
   "cell_type": "code",
   "execution_count": 2,
   "metadata": {},
   "outputs": [
    {
     "name": "stdout",
     "output_type": "stream",
     "text": [
      "940\n",
      "957\n",
      "963\n",
      "963\n",
      "937\n",
      "955\n",
      "970\n",
      "944\n",
      "909\n",
      "942\n"
     ]
    }
   ],
   "source": [
    "for i in range(1,11):\n",
    "    with open(os.path.join(\"/Volumes/Ana Elisa/Ana Elisa's MacBook Pro/Documents/NYU_PHD/UrbanSound8/soundscapes/train_\" + str(i) + \"/\"+'pos_train.txt'),'rb') as f:\n",
    "        mylist = pickle.load(f)\n",
    "        print(len(mylist))\n",
    "        \n",
    "        \n",
    "        \n",
    "        \n",
    "        \n",
    "        "
   ]
  },
  {
   "cell_type": "code",
   "execution_count": 3,
   "metadata": {},
   "outputs": [
    {
     "name": "stdout",
     "output_type": "stream",
     "text": [
      "317\n",
      "322\n",
      "326\n",
      "314\n",
      "296\n",
      "303\n",
      "327\n",
      "305\n",
      "323\n",
      "290\n"
     ]
    }
   ],
   "source": [
    "for i in range(1,11):\n",
    "    with open(os.path.join(\"/Volumes/Ana Elisa/Ana Elisa's MacBook Pro/Documents/NYU_PHD/UrbanSound8/soundscapes/test_\" + str(i) + \"/\"+'pos_test.txt'),'rb') as f:\n",
    "        mylist = pickle.load(f)\n",
    "        print(len(mylist))\n",
    "        \n",
    "        \n",
    "        \n",
    "        "
   ]
  },
  {
   "cell_type": "markdown",
   "metadata": {},
   "source": [
    "## Select random files"
   ]
  },
  {
   "cell_type": "code",
   "execution_count": 25,
   "metadata": {},
   "outputs": [],
   "source": [
    "random.seed(123)"
   ]
  },
  {
   "cell_type": "code",
   "execution_count": 26,
   "metadata": {},
   "outputs": [
    {
     "name": "stdout",
     "output_type": "stream",
     "text": [
      "940\n",
      "957\n",
      "963\n",
      "963\n",
      "937\n",
      "955\n",
      "970\n",
      "944\n",
      "909\n",
      "942\n"
     ]
    }
   ],
   "source": [
    "numbers_train_pos = {}\n",
    "for i in range(1,11):\n",
    "    with open(os.path.join(\"/Volumes/Ana Elisa/Ana Elisa's MacBook Pro/Documents/NYU_PHD/UrbanSound8/soundscapes/train_\" + str(i) + \"/\"+'pos_train.txt'),'rb') as f:\n",
    "        mylist = pickle.load(f)\n",
    "        print(len(mylist))\n",
    "        numbers_train_pos[i] = random.sample(list(np.arange(len(mylist))), 900)\n",
    "        \n",
    "        \n",
    "        \n",
    "        \n"
   ]
  },
  {
   "cell_type": "code",
   "execution_count": 28,
   "metadata": {},
   "outputs": [
    {
     "name": "stdout",
     "output_type": "stream",
     "text": [
      "1631\n",
      "1658\n",
      "1604\n",
      "1584\n",
      "1638\n",
      "1620\n",
      "1616\n",
      "1620\n",
      "1656\n",
      "1671\n"
     ]
    }
   ],
   "source": [
    "numbers_train_neg = {}\n",
    "for i in range(1,11):\n",
    "    with open(os.path.join(\"/Volumes/Ana Elisa/Ana Elisa's MacBook Pro/Documents/NYU_PHD/UrbanSound8/soundscapes/train_\" + str(i) + \"/\"+'neg_train.txt'),'rb') as f:\n",
    "        mylist = pickle.load(f)\n",
    "        print(len(mylist))\n",
    "        numbers_train_neg[i] = random.sample(list(np.arange(len(mylist))), 900)\n",
    "        \n",
    "        \n",
    "        \n",
    "        \n",
    "        "
   ]
  },
  {
   "cell_type": "code",
   "execution_count": 30,
   "metadata": {},
   "outputs": [
    {
     "name": "stdout",
     "output_type": "stream",
     "text": [
      "317\n",
      "322\n",
      "326\n",
      "314\n",
      "296\n",
      "303\n",
      "327\n",
      "305\n",
      "323\n",
      "290\n"
     ]
    }
   ],
   "source": [
    "numbers_test_pos = {}\n",
    "for i in range(1,11):\n",
    "    with open(os.path.join(\"/Volumes/Ana Elisa/Ana Elisa's MacBook Pro/Documents/NYU_PHD/UrbanSound8/soundscapes/test_\" + str(i) + \"/\"+'pos_test.txt'),'rb') as f:\n",
    "        mylist = pickle.load(f)\n",
    "        print(len(mylist))\n",
    "        numbers_test_pos[i] = random.sample(list(np.arange(len(mylist))), 290)\n",
    "        \n",
    "        \n",
    "        "
   ]
  },
  {
   "cell_type": "code",
   "execution_count": 31,
   "metadata": {},
   "outputs": [
    {
     "name": "stdout",
     "output_type": "stream",
     "text": [
      "547\n",
      "524\n",
      "531\n",
      "545\n",
      "552\n",
      "546\n",
      "542\n",
      "536\n",
      "554\n",
      "574\n"
     ]
    }
   ],
   "source": [
    "numbers_test_neg = {}\n",
    "for i in range(1,11):\n",
    "    with open(os.path.join(\"/Volumes/Ana Elisa/Ana Elisa's MacBook Pro/Documents/NYU_PHD/UrbanSound8/soundscapes/test_\" + str(i) + \"/\"+'neg_test.txt'),'rb') as f:\n",
    "        mylist = pickle.load(f)\n",
    "        print(len(mylist))\n",
    "        numbers_test_neg[i] = random.sample(list(np.arange(len(mylist))), 290)\n",
    "        \n",
    "        "
   ]
  },
  {
   "cell_type": "code",
   "execution_count": 32,
   "metadata": {},
   "outputs": [
    {
     "data": {
      "text/plain": [
       "290"
      ]
     },
     "execution_count": 32,
     "metadata": {},
     "output_type": "execute_result"
    }
   ],
   "source": [
    "len(numbers_test_neg[1])"
   ]
  },
  {
   "cell_type": "markdown",
   "metadata": {},
   "source": [
    "## Get features files for training with ground truth and file path"
   ]
  },
  {
   "cell_type": "code",
   "execution_count": 70,
   "metadata": {},
   "outputs": [],
   "source": [
    "features_i_neg_train = {}\n",
    "\n",
    "for i in range(1,11):\n",
    "    features = []\n",
    "    for j in range(len(numbers_train_neg[i])):\n",
    "        row_list = []\n",
    "        h5_train = h5py.File(os.path.join(\"/Volumes/Ana Elisa/Ana Elisa's MacBook Pro/Documents/NYU_PHD/UrbanSound8/soundscapes/train_\" + str(i) + \"/\" + 'neg_train_features.h5'),'r')\n",
    "        d_train = list(h5_train.values())[0]\n",
    "        row_list.append(d_train[numbers_train_neg[i][j]-1]['features_z'])\n",
    "        \n",
    "        with open(os.path.join(\"/Volumes/Ana Elisa/Ana Elisa's MacBook Pro/Documents/NYU_PHD/UrbanSound8/soundscapes/train_\" + str(i) + \"/\"+'neg_train.txt'),'rb') as f:\n",
    "            mylist = pickle.load(f)\n",
    "        \n",
    "        row_list.append(mylist[j][1])\n",
    "        row_list.append(str(i) + \"/\" + mylist[j][0].split('/')[10])\n",
    "        \n",
    "        features.append(row_list)\n",
    "    \n",
    "    features_i_neg_train[i] = features\n",
    "\n",
    "\n",
    "\n",
    "\n",
    "\n",
    "\n",
    "\n",
    "\n"
   ]
  },
  {
   "cell_type": "code",
   "execution_count": 74,
   "metadata": {},
   "outputs": [],
   "source": [
    "for i in range(1,11):\n",
    "    with open(os.path.join(\"/Volumes/Ana Elisa/Ana Elisa's MacBook Pro/Documents/NYU_PHD/UrbanSound8/soundscapes/train_\" + str(i) + \"/\"+'neg_train_sel_features.txt'),'wb') as f:\n",
    "        pickle.dump(features_i_neg_train[i], f)\n",
    "        \n",
    "        \n",
    "        \n",
    "        "
   ]
  },
  {
   "cell_type": "code",
   "execution_count": 85,
   "metadata": {},
   "outputs": [],
   "source": [
    "features_i_pos_train = {}\n",
    "\n",
    "for i in range(1,11):\n",
    "    features = []\n",
    "    for j in range(len(numbers_train_pos[i])):\n",
    "        row_list = []\n",
    "        h5_train = h5py.File(os.path.join(\"/Volumes/Ana Elisa/Ana Elisa's MacBook Pro/Documents/NYU_PHD/UrbanSound8/soundscapes/train_\" + str(i) + \"/\" + 'pos_train_features.h5'),'r')\n",
    "        d_train = list(h5_train.values())[0]\n",
    "        row_list.append(d_train[numbers_train_pos[i][j]-1]['features_z'])\n",
    "        \n",
    "        with open(os.path.join(\"/Volumes/Ana Elisa/Ana Elisa's MacBook Pro/Documents/NYU_PHD/UrbanSound8/soundscapes/train_\" + str(i) + \"/\"+'pos_train.txt'),'rb') as f:\n",
    "            mylist = pickle.load(f)\n",
    "        \n",
    "        row_list.append(mylist[j][1])\n",
    "        row_list.append(str(i) + \"/\" + mylist[j][0].split('/')[10])\n",
    "        \n",
    "        features.append(row_list)\n",
    "    \n",
    "    features_i_pos_train[i] = features\n",
    "\n",
    "\n",
    "\n"
   ]
  },
  {
   "cell_type": "code",
   "execution_count": 86,
   "metadata": {},
   "outputs": [],
   "source": [
    "for i in range(1,11):\n",
    "    with open(os.path.join(\"/Volumes/Ana Elisa/Ana Elisa's MacBook Pro/Documents/NYU_PHD/UrbanSound8/soundscapes/train_\" + str(i) + \"/\"+'pos_train_sel_features.txt'),'wb') as f:\n",
    "        pickle.dump(features_i_pos_train[i], f)\n",
    "        \n",
    "        "
   ]
  },
  {
   "cell_type": "markdown",
   "metadata": {},
   "source": [
    "## Get features files for testing with ground truth and file path"
   ]
  },
  {
   "cell_type": "code",
   "execution_count": 99,
   "metadata": {},
   "outputs": [],
   "source": [
    "features_i_neg_test = {}\n",
    "\n",
    "for i in range(1,11):\n",
    "    features = []\n",
    "    for j in range(len(numbers_test_neg[i])):\n",
    "        row_list = []\n",
    "        h5_test = h5py.File(os.path.join(\"/Volumes/Ana Elisa/Ana Elisa's MacBook Pro/Documents/NYU_PHD/UrbanSound8/soundscapes/test_\" + str(i) + \"/\" + 'neg_test_features.h5'),'r')\n",
    "        d_test = list(h5_test.values())[0]\n",
    "        row_list.append(d_test[numbers_test_neg[i][j]-1]['features_z'])\n",
    "        \n",
    "        with open(os.path.join(\"/Volumes/Ana Elisa/Ana Elisa's MacBook Pro/Documents/NYU_PHD/UrbanSound8/soundscapes/test_\" + str(i) + \"/\"+'neg_test.txt'),'rb') as f:\n",
    "            mylist = pickle.load(f)\n",
    "        \n",
    "        row_list.append(mylist[j][1])\n",
    "        row_list.append(str(i) + \"/\" + mylist[j][0].split('/')[10])\n",
    "        \n",
    "        features.append(row_list)\n",
    "    \n",
    "    features_i_neg_test[i] = features\n",
    "\n",
    "\n",
    "\n",
    "\n",
    "\n",
    "\n",
    "\n",
    "\n"
   ]
  },
  {
   "cell_type": "code",
   "execution_count": 100,
   "metadata": {},
   "outputs": [],
   "source": [
    "for i in range(1,11):\n",
    "    with open(os.path.join(\"/Volumes/Ana Elisa/Ana Elisa's MacBook Pro/Documents/NYU_PHD/UrbanSound8/soundscapes/test_\" + str(i) + \"/\"+'neg_test_sel_features.txt'),'wb') as f:\n",
    "        pickle.dump(features_i_neg_test[i], f)\n",
    "        \n",
    "        \n",
    "        \n",
    "        "
   ]
  },
  {
   "cell_type": "code",
   "execution_count": 101,
   "metadata": {},
   "outputs": [],
   "source": [
    "features_i_pos_test = {}\n",
    "\n",
    "for i in range(1,11):\n",
    "    features = []\n",
    "    for j in range(len(numbers_test_pos[i])):\n",
    "        row_list = []\n",
    "        h5_test = h5py.File(os.path.join(\"/Volumes/Ana Elisa/Ana Elisa's MacBook Pro/Documents/NYU_PHD/UrbanSound8/soundscapes/test_\" + str(i) + \"/\" + 'pos_test_features.h5'),'r')\n",
    "        d_test = list(h5_train.values())[0]\n",
    "        row_list.append(d_train[numbers_test_pos[i][j]-1]['features_z'])\n",
    "        \n",
    "        with open(os.path.join(\"/Volumes/Ana Elisa/Ana Elisa's MacBook Pro/Documents/NYU_PHD/UrbanSound8/soundscapes/test_\" + str(i) + \"/\"+'pos_test.txt'),'rb') as f:\n",
    "            mylist = pickle.load(f)\n",
    "        \n",
    "        row_list.append(mylist[j][1])\n",
    "        row_list.append(str(i) + \"/\" + mylist[j][0].split('/')[10])\n",
    "        \n",
    "        features.append(row_list)\n",
    "    \n",
    "    features_i_pos_test[i] = features\n",
    "\n",
    "\n",
    "\n"
   ]
  },
  {
   "cell_type": "code",
   "execution_count": 107,
   "metadata": {},
   "outputs": [],
   "source": [
    "for i in range(1,11):\n",
    "    with open(os.path.join(\"/Volumes/Ana Elisa/Ana Elisa's MacBook Pro/Documents/NYU_PHD/UrbanSound8/soundscapes/test_\" + str(i) + \"/\"+'pos_test_sel_features.txt'),'wb') as f:\n",
    "        pickle.dump(features_i_pos_test[i], f)\n",
    "        \n",
    "        "
   ]
  },
  {
   "cell_type": "code",
   "execution_count": null,
   "metadata": {},
   "outputs": [],
   "source": []
  },
  {
   "cell_type": "code",
   "execution_count": null,
   "metadata": {},
   "outputs": [],
   "source": []
  },
  {
   "cell_type": "code",
   "execution_count": null,
   "metadata": {},
   "outputs": [],
   "source": []
  },
  {
   "cell_type": "code",
   "execution_count": null,
   "metadata": {},
   "outputs": [],
   "source": []
  },
  {
   "cell_type": "code",
   "execution_count": null,
   "metadata": {},
   "outputs": [],
   "source": []
  },
  {
   "cell_type": "code",
   "execution_count": null,
   "metadata": {},
   "outputs": [],
   "source": []
  },
  {
   "cell_type": "code",
   "execution_count": 64,
   "metadata": {},
   "outputs": [
    {
     "data": {
      "text/plain": [
       "False"
      ]
     },
     "execution_count": 64,
     "metadata": {},
     "output_type": "execute_result"
    }
   ],
   "source": [
    "np.array_equal(features_i_neg_train[9][1], features_i_neg_train[6][1])"
   ]
  },
  {
   "cell_type": "code",
   "execution_count": 73,
   "metadata": {},
   "outputs": [
    {
     "data": {
      "text/plain": [
       "[array([[153,   7, 164, ...,   0,   8, 255],\n",
       "        [153,   9, 163, ...,   0,  49, 255],\n",
       "        [153,   6, 164, ...,   0,   9, 255],\n",
       "        ...,\n",
       "        [158,  35, 162, ...,   0,  43, 255],\n",
       "        [151,  29, 148, ...,   0, 128, 255],\n",
       "        [152,  23, 164, ...,   0, 113, 255]], dtype=uint8),\n",
       " 0,\n",
       " '3/soundscape_train_3_uniform1001.wav']"
      ]
     },
     "execution_count": 73,
     "metadata": {},
     "output_type": "execute_result"
    }
   ],
   "source": [
    "features_i_neg_train[3][3]"
   ]
  },
  {
   "cell_type": "code",
   "execution_count": 114,
   "metadata": {},
   "outputs": [],
   "source": [
    "with open(os.path.join(\"/Volumes/Ana Elisa/Ana Elisa's MacBook Pro/Documents/NYU_PHD/UrbanSound8/soundscapes/test_\" + str(5) + \"/\"+'pos_test_sel_features.txt'),'rb') as f:\n",
    "        read_file = pickle.load(f)\n",
    "        \n",
    "        \n",
    "        "
   ]
  },
  {
   "cell_type": "code",
   "execution_count": 118,
   "metadata": {},
   "outputs": [
    {
     "data": {
      "text/plain": [
       "'5/soundscape_test_5_uniform0.wav'"
      ]
     },
     "execution_count": 118,
     "metadata": {},
     "output_type": "execute_result"
    }
   ],
   "source": [
    "read_file[0][2]"
   ]
  },
  {
   "cell_type": "code",
   "execution_count": null,
   "metadata": {},
   "outputs": [],
   "source": []
  }
 ],
 "metadata": {
  "kernelspec": {
   "display_name": "Python 3",
   "language": "python",
   "name": "python3"
  },
  "language_info": {
   "codemirror_mode": {
    "name": "ipython",
    "version": 3
   },
   "file_extension": ".py",
   "mimetype": "text/x-python",
   "name": "python",
   "nbconvert_exporter": "python",
   "pygments_lexer": "ipython3",
   "version": "3.7.3"
  }
 },
 "nbformat": 4,
 "nbformat_minor": 2
}
